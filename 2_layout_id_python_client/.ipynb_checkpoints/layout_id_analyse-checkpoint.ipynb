{
 "cells": [
  {
   "cell_type": "markdown",
   "id": "2cde8c3b-78b4-4ac9-9b4b-06d01c1b2a73",
   "metadata": {},
   "source": [
    "# Analysis of Layout ID"
   ]
  },
  {
   "cell_type": "markdown",
   "id": "33c8cb17-e8f9-40da-a6a6-4facfe6d7bc7",
   "metadata": {},
   "source": [
    "## Relevant documents"
   ]
  },
  {
   "cell_type": "markdown",
   "id": "d4b1fbd9-6220-4d26-a9a2-ee428b1187f8",
   "metadata": {},
   "source": [
    "- (Python Client Repo)[https://github.com/Green-Fusion/energy-management-backend/tree/main/python_client]\n",
    "- (Klemmenbelegung)[https://docs.google.com/spreadsheets/d/1nkdkx2rI6nVKgoKBgkCUtfwEwuv8kptrRUXcXtfv0NM/edit?gid=247168398#gid=247168398]\n",
    "- (Hypothesis for Klemmenbelegung)[https://docs.google.com/spreadsheets/d/1TSTxMCgEvuoayzOfx1MUqlV0tiqsVTBRN8aldlnFXxA/edit?gid=0#gid=0]"
   ]
  },
  {
   "cell_type": "code",
   "execution_count": 1,
   "id": "7a18f22c-fe80-4183-a62e-e2d68a0c4f1a",
   "metadata": {},
   "outputs": [],
   "source": [
    "#imports\n",
    "from energy_management_client import BackendPythonClient\n",
    "import pandas as pd\n",
    "import json"
   ]
  },
  {
   "cell_type": "code",
   "execution_count": 2,
   "id": "77d42218-f9bc-4732-a9bb-184ee7b2b8b6",
   "metadata": {},
   "outputs": [],
   "source": [
    "# pythpon client auth & login\n",
    "# init the client\n",
    "client = BackendPythonClient(\n",
    "    backend_endpoint=\"https://dev.green-fusion.de/services/energy-management-backend/v1/api\",\n",
    ")\n",
    "#login\n",
    "client.login(\n",
    "    auth_endpoint=\"https://auth.green-fusion.de\",\n",
    "    realm=\"development\",\n",
    "    client_id=\"backend_python_client\", # backend_python_client, datascience_development_api\n",
    "    grant_type=\"device_code\", #\"client_credentials\",  # or \"password\", \"device_code\"\n",
    ")"
   ]
  },
  {
   "cell_type": "code",
   "execution_count": 3,
   "id": "09bd7f04-af21-4a64-95e9-9153e71db328",
   "metadata": {},
   "outputs": [],
   "source": [
    "# functions\n",
    "def get_buildings(client, customers):\n",
    "    try:\n",
    "        buildings = []\n",
    "        for c in customers:\n",
    "            client.configure(customer_id=c.id)# Access dict key 'id'\n",
    "            c_buildings = client.buildings.get_buildings() # c_buildings is expected as {\"buildings\": [ {...}, ... ]}\n",
    "            buildings.extend(c_buildings)\n",
    "\n",
    "        return buildings\n",
    "        \n",
    "    except Exception as e:\n",
    "        print(\"API Call Failed:\", e)\n",
    "\n",
    "# Get customers list (list of dicts)\n",
    "customers = client.customers.get_list_of_customers()\n",
    "# Get all buildings for all customers\n",
    "buildings = client.buildings.get_buildings()"
   ]
  },
  {
   "cell_type": "code",
   "execution_count": 16,
   "id": "80427005-1e7b-4a91-8cf0-267fb8ea63c4",
   "metadata": {},
   "outputs": [
    {
     "data": {
      "text/plain": [
       "BuildingsResponseDto(buildings=[BuildingDto(building_id=41, customer_id=35, address='test 1144', city='-', atvise_display_name=None, base=None, heating_type='Hybrid', heating_surface=None, access_key='&atvise_key=91e70eae-b284-4fd4-b124-72b76d4f71ed&atvise_token=c1be3026-22ba-4851-b9fa-c5214b3a79f1', modular_system=None, nickname=None, postal_code='1', gui_name='[GF INTERN]', coordinates=['-1', '-1'], customer_alias=None, gfid='OPS-23220'), BuildingDto(building_id=42, customer_id=35, address='test 1144', city='-', atvise_display_name=None, base=None, heating_type='Hybrid', heating_surface=None, access_key='&atvise_key=91e70eae-b284-4fd4-b124-72b76d4f71ed&atvise_token=c1be3026-22ba-4851-b9fa-c5214b3a79f1', modular_system=None, nickname=None, postal_code='1', gui_name='[GF INTERN]', coordinates=['-1', '-1'], customer_alias=None, gfid='OPS-23221'), BuildingDto(building_id=43, customer_id=35, address='test 1144', city='-', atvise_display_name=None, base=None, heating_type='Hybrid', heating_surface=None, access_key='&atvise_key=91e70eae-b284-4fd4-b124-72b76d4f71ed&atvise_token=c1be3026-22ba-4851-b9fa-c5214b3a79f1', modular_system=None, nickname=None, postal_code='1', gui_name='[GF INTERN]', coordinates=['-1', '-1'], customer_alias=None, gfid='ABC'), BuildingDto(building_id=393, customer_id=35, address='Pedros Insys <hr>', city=None, atvise_display_name=None, base=None, heating_type=None, heating_surface=12500, access_key='&atvise_key=91e70eae-b284-4fd4-b124-72b76d4f71ed&atvise_token=c1be3026-22ba-4851-b9fa-c5214b3a79f1', modular_system=None, nickname=None, postal_code=None, gui_name='[GF INTERN]', coordinates=['1', '2'], customer_alias=None, gfid=None), BuildingDto(building_id=417, customer_id=35, address='Teststraße 42', city='Felipe', atvise_display_name=None, base=None, heating_type=None, heating_surface=42, access_key='&atvise_key=91e70eae-b284-4fd4-b124-72b76d4f71ed&atvise_token=c1be3026-22ba-4851-b9fa-c5214b3a79f1', modular_system='{\"name\":\"modular-system-entry\",\"id\":\"modular-system--Mergelstrasse-2a\",\"version\":\"v1\",\"buildingID\":417,\"published\":true,\"hasSectorCoupling\":false,\"layoutID\":\"heat-pump:1--right-down-pipes:1--heat-pump:2--buffer-tank:1--heating-circuit:1\",\"subSystems\":[{\"id\":\"right-down-pipes:1\",\"name\":\"right-down-pipes\",\"hydraulicLocationIndex\":1,\"connections\":[],\"parameters\":{},\"navigation\":{}},{\"id\":\"heat-pump:1\",\"name\":\"heat-pump\",\"hydraulicLocationIndex\":1,\"parameters\":{\"subSystemType\":\"gas\"},\"connections\":[],\"navigation\":{\"forward\":{\"name\":\"heat-pump\",\"hydraulicLocationIndex\":2}}},{\"id\":\"heat-pump:2\",\"name\":\"heat-pump\",\"hydraulicLocationIndex\":2,\"connections\":[{\"to\":{\"id\":\"heating-circuit:1\",\"subSystem\":{\"name\":\"heating-circuit\",\"hydraulicLocationIndex\":1,\"side\":\"bottom\"},\"direction\":\"right\"},\"status\":\"hot\"},{\"from\":{\"id\":\"heating-circuit:1\",\"subSystem\":{\"name\":\"heating-circuit\",\"hydraulicLocationIndex\":1,\"side\":\"bottom\"},\"direction\":\"right\"},\"status\":\"cold\"}],\"parameters\":{},\"navigation\":{\"back\":{\"name\":\"heat-pump\",\"hydraulicLocationIndex\":1},\"forward\":{\"name\":\"heating-circuit\",\"hydraulicLocationIndex\":1}}},{\"id\":\"heating-circuit:1\",\"name\":\"heating-circuit\",\"hydraulicLocationIndex\":1,\"connections\":[{\"from\":{\"id\":\"heat-pump:2\",\"subSystem\":{\"name\":\"heat-pump\",\"hydraulicLocationIndex\":2,\"side\":\"right\"},\"direction\":\"bottom\"},\"status\":\"hot\"},{\"to\":{\"id\":\"heat-pump:2\",\"subSystem\":{\"name\":\"heat-pump\",\"hydraulicLocationIndex\":2,\"side\":\"right\"},\"direction\":\"bottom\"},\"status\":\"cold\"}],\"parameters\":{},\"navigation\":{\"back\":{\"name\":\"heat-pump\",\"hydraulicLocationIndex\":2}}},{\"id\":\"buffer-tank:1\",\"name\":\"buffer-tank\",\"hydraulicLocationIndex\":1,\"connections\":[],\"parameters\":{},\"navigation\":{}}]}', nickname=None, postal_code='12345', gui_name='[GF INTERN]', coordinates=['53', '14'], customer_alias=None, gfid=None), BuildingDto(building_id=737, customer_id=35, address='Teststrasse 0124', city='Fabian', atvise_display_name=None, base=None, heating_type='Fernwärme', heating_surface=42, access_key='&atvise_key=91e70eae-b284-4fd4-b124-72b76d4f71ed&atvise_token=c1be3026-22ba-4851-b9fa-c5214b3a79f1', modular_system='{\"name\":\"modular-system-entry\",\"id\":\"modular-systen--233a19cc-3b0e-4f5a-8058-04582ed9fc79\",\"version\":\"v1\",\"buildingID\":737,\"published\":false,\"layoutID\":\"district-heating:1--top-right-pipes:1--heat-exchanger:1--heating-circuit:1--top-right-pipes:2--heat-exchanger:2--heating-circuit:2--warm-water:1\",\"subSystems\":[{\"id\":\"heating-circuit:1\",\"name\":\"heating-circuit\",\"hydraulicLocationIndex\":1,\"connections\":[{\"from\":{\"id\":\"auxiliary-pipes:1\",\"subSystem\":{\"name\":\"top-right-pipes\",\"hydraulicLocationIndex\":1,\"side\":\"right\"},\"direction\":\"bottom\"},\"status\":\"hot\"},{\"to\":{\"id\":\"auxiliary-pipes:1\",\"subSystem\":{\"name\":\"top-right-pipes\",\"hydraulicLocationIndex\":1,\"side\":\"right\"},\"direction\":\"bottom\"},\"status\":\"cold\"}],\"navigation\":{\"back\":{\"name\":\"district-heating\",\"hydraulicLocationIndex\":1},\"forward\":{\"name\":\"heating-circuit\",\"hydraulicLocationIndex\":2}}},{\"id\":\"heating-circuit:2\",\"name\":\"heating-circuit\",\"hydraulicLocationIndex\":2,\"connections\":[{\"from\":{\"id\":\"auxiliary-pipes:4\",\"subSystem\":{\"name\":\"top-right-pipes\",\"hydraulicLocationIndex\":2,\"side\":\"right\"},\"direction\":\"bottom\"},\"status\":\"hot\"},{\"to\":{\"id\":\"auxiliary-pipes:4\",\"subSystem\":{\"name\":\"top-right-pipes\",\"hydraulicLocationIndex\":2,\"side\":\"right\"},\"direction\":\"bottom\"},\"status\":\"cold\"}],\"navigation\":{\"back\":{\"name\":\"heating-circuit\",\"hydraulicLocationIndex\":1},\"forward\":{\"name\":\"warm-water\",\"hydraulicLocationIndex\":1}}},{\"id\":\"district-heating:1\",\"name\":\"district-heating\",\"hydraulicLocationIndex\":null,\"connections\":[{\"to\":{\"id\":\"warm-water:1\",\"subSystem\":{\"name\":\"warm-water\",\"hydraulicLocationIndex\":1,\"side\":\"bottom\"},\"direction\":\"right\"},\"status\":\"hot\"},{\"from\":{\"id\":\"warm-water:1\",\"subSystem\":{\"name\":\"warm-water\",\"hydraulicLocationIndex\":1,\"side\":\"bottom\"},\"direction\":\"right\"},\"status\":\"cold\"}],\"navigation\":{\"forward\":{\"name\":\"heating-circuit\",\"hydraulicLocationIndex\":1}}},{\"id\":\"warm-water:1\",\"name\":\"warm-water\",\"hydraulicLocationIndex\":1,\"connections\":[{\"from\":{\"id\":\"district-heating:1\",\"subSystem\":{\"name\":\"district-heating\",\"hydraulicLocationIndex\":null,\"side\":\"right\"},\"direction\":\"left\"},\"status\":\"hot\"},{\"to\":{\"id\":\"district-heating:1\",\"subSystem\":{\"name\":\"district-heating\",\"hydraulicLocationIndex\":null,\"side\":\"right\"},\"direction\":\"left\"},\"status\":\"cold\"}],\"navigation\":{\"back\":{\"name\":\"heating-circuit\",\"hydraulicLocationIndex\":2}}},{\"id\":\"axuiliary-pipes:1\",\"name\":\"top-right-pipes\",\"hydraulicLocationIndex\":1,\"connections\":[{\"to\":{\"id\":\"auxiliary-pipes:2\",\"subSystem\":{\"name\":\"empty-pipes\",\"hydraulicLocationIndex\":1,\"side\":\"right\"},\"direction\":\"left\"},\"status\":\"cold\"},{\"from\":{\"id\":\"auxiliary-pipes:2\",\"subSystem\":{\"name\":\"empty-pipes\",\"hydraulicLocationIndex\":1,\"side\":\"right\"},\"direction\":\"left\"},\"status\":\"hot\"},{\"to\":{\"id\":\"heating-circuit:1\",\"subSystem\":{\"name\":\"heating-circuit\",\"hydraulicLocationIndex\":1,\"side\":\"bottom\"},\"direction\":\"right\"},\"status\":\"hot\"},{\"from\":{\"id\":\"heating-circuit:1\",\"subSystem\":{\"name\":\"heating-circuit\",\"hydraulicLocationIndex\":1,\"side\":\"bottom\"},\"direction\":\"right\"},\"status\":\"cold\"}]},{\"id\":\"axuiliary-pipes:3\",\"name\":\"top-right-pipes\",\"hydraulicLocationIndex\":2,\"connections\":[{\"to\":{\"id\":\"auxiliary-pipes:3\",\"subSystem\":{\"name\":\"empty-pipes\",\"hydraulicLocationIndex\":2,\"side\":\"right\"},\"direction\":\"left\"},\"status\":\"cold\"},{\"from\":{\"id\":\"auxiliary-pipes:3\",\"subSystem\":{\"name\":\"empty-pipes\",\"hydraulicLocationIndex\":2,\"side\":\"right\"},\"direction\":\"left\"},\"status\":\"hot\"},{\"to\":{\"id\":\"heating-circuit:2\",\"subSystem\":{\"name\":\"heating-circuit\",\"hydraulicLocationIndex\":2,\"side\":\"bottom\"},\"direction\":\"right\"},\"status\":\"hot\"},{\"from\":{\"id\":\"heating-circuit:2\",\"subSystem\":{\"name\":\"heating-circuit\",\"hydraulicLocationIndex\":2,\"side\":\"bottom\"},\"direction\":\"right\"},\"status\":\"cold\"}]},{\"id\":\"axuiliary-pipes:4\",\"name\":\"empty-pipes\",\"hydraulicLocationIndex\":2,\"connections\":[{\"from\":{\"id\":\"auxiliary-pipes:1\",\"subSystem\":{\"name\":\"top-right-pipes\",\"hydraulicLocationIndex\":2,\"side\":\"left\"},\"direction\":\"right\"},\"status\":\"hot\"}]},{\"id\":\"axuiliary-pipes:2\",\"name\":\"empty-pipes\",\"hydraulicLocationIndex\":1,\"connections\":[{\"from\":{\"id\":\"auxiliary-pipes:1\",\"subSystem\":{\"name\":\"top-right-pipes\",\"hydraulicLocationIndex\":1,\"side\":\"left\"},\"direction\":\"right\"},\"status\":\"hot\"}]},{\"id\":\"heat-exchanger:1\",\"name\":\"heat-exchanger\",\"hydraulicLocationIndex\":1,\"connections\":[]},{\"id\":\"heat-exchanger:2\",\"name\":\"heat-exchanger\",\"hydraulicLocationIndex\":2,\"connections\":[]}]}', nickname=None, postal_code='12345', gui_name='[GF INTERN]', coordinates=['52.5', '13.5'], customer_alias=None, gfid=None), BuildingDto(building_id=1468, customer_id=35, address='Mendel 5 Dummy für Sophies Master Thesis', city=None, atvise_display_name=None, base=None, heating_type=None, heating_surface=None, access_key='&atvise_key=91e70eae-b284-4fd4-b124-72b76d4f71ed&atvise_token=c1be3026-22ba-4851-b9fa-c5214b3a79f1', modular_system=None, nickname=None, postal_code=None, gui_name='[GF INTERN]', coordinates=['1', '2'], customer_alias=None, gfid=None), BuildingDto(building_id=1470, customer_id=35, address='Ekkis rut-testdev', city=None, atvise_display_name=None, base=None, heating_type=None, heating_surface=None, access_key='&atvise_key=91e70eae-b284-4fd4-b124-72b76d4f71ed&atvise_token=c1be3026-22ba-4851-b9fa-c5214b3a79f1', modular_system=None, nickname=None, postal_code=None, gui_name='[GF INTERN]', coordinates=['1', '2'], customer_alias=None, gfid=None), BuildingDto(building_id=1659, customer_id=35, address='Martin - Kemeterstraße 51, Olching', city=None, atvise_display_name=None, base=None, heating_type=None, heating_surface=None, access_key='&atvise_key=91e70eae-b284-4fd4-b124-72b76d4f71ed&atvise_token=c1be3026-22ba-4851-b9fa-c5214b3a79f1', modular_system=None, nickname=None, postal_code=None, gui_name='[GF INTERN]', coordinates=['', ''], customer_alias=None, gfid=None), BuildingDto(building_id=1782, customer_id=35, address='Office Playground', city=None, atvise_display_name=None, base=None, heating_type=None, heating_surface=None, access_key='&atvise_key=91e70eae-b284-4fd4-b124-72b76d4f71ed&atvise_token=c1be3026-22ba-4851-b9fa-c5214b3a79f1', modular_system=None, nickname=None, postal_code=None, gui_name='[GF INTERN]', coordinates=['', ''], customer_alias=None, gfid=None), BuildingDto(building_id=2220, customer_id=35, address='test', city=None, atvise_display_name=None, base=None, heating_type=None, heating_surface=None, access_key='&atvise_key=91e70eae-b284-4fd4-b124-72b76d4f71ed&atvise_token=c1be3026-22ba-4851-b9fa-c5214b3a79f1', modular_system=None, nickname=None, postal_code=None, gui_name='[GF INTERN]', coordinates=['', ''], customer_alias=None, gfid='GFP-27079'), BuildingDto(building_id=2224, customer_id=35, address='teststraße', city=None, atvise_display_name=None, base=None, heating_type='Heizöl', heating_surface=42, access_key='&atvise_key=91e70eae-b284-4fd4-b124-72b76d4f71ed&atvise_token=c1be3026-22ba-4851-b9fa-c5214b3a79f1', modular_system=None, nickname=None, postal_code=None, gui_name='[GF INTERN]', coordinates=['', ''], customer_alias=None, gfid=None), BuildingDto(building_id=2283, customer_id=35, address='test', city='stadt', atvise_display_name=None, base=None, heating_type=None, heating_surface=None, access_key='&atvise_key=91e70eae-b284-4fd4-b124-72b76d4f71ed&atvise_token=c1be3026-22ba-4851-b9fa-c5214b3a79f1', modular_system=None, nickname=None, postal_code='123', gui_name='[GF INTERN]', coordinates=['', ''], customer_alias=None, gfid='GFP-27690'), BuildingDto(building_id=2320, customer_id=35, address='straße', city=None, atvise_display_name=None, base=None, heating_type=None, heating_surface=None, access_key='&atvise_key=91e70eae-b284-4fd4-b124-72b76d4f71ed&atvise_token=c1be3026-22ba-4851-b9fa-c5214b3a79f1', modular_system=None, nickname=None, postal_code=None, gui_name='[GF INTERN]', coordinates=['', ''], customer_alias=None, gfid=None)])"
      ]
     },
     "execution_count": 16,
     "metadata": {},
     "output_type": "execute_result"
    }
   ],
   "source": [
    "#buildings"
   ]
  },
  {
   "cell_type": "code",
   "execution_count": 5,
   "id": "d28c777a-4238-44fa-b15f-7d332207fbae",
   "metadata": {},
   "outputs": [
    {
     "name": "stdout",
     "output_type": "stream",
     "text": [
      "   building_id                                     modular_system\n",
      "0           41                                               None\n",
      "1           42                                               None\n",
      "2           43                                               None\n",
      "3          393                                               None\n",
      "4          417  {'name': 'modular-system-entry', 'id': 'modula...\n"
     ]
    }
   ],
   "source": [
    "building_list = buildings.buildings  # get the list of BuildingDto objects\n",
    "\n",
    "data = []\n",
    "for b in building_list:\n",
    "    building_id = b.building_id\n",
    "    modular_system_str = b.modular_system\n",
    "    if modular_system_str is not None:\n",
    "        try:\n",
    "            modular_system = json.loads(modular_system_str)\n",
    "        except json.JSONDecodeError:\n",
    "            modular_system = None\n",
    "    else:\n",
    "        modular_system = None\n",
    "    \n",
    "    data.append({\n",
    "        \"building_id\": building_id,\n",
    "        \"modular_system\": modular_system\n",
    "    })\n",
    "\n",
    "df = pd.DataFrame(data)\n"
   ]
  },
  {
   "cell_type": "code",
   "execution_count": 14,
   "id": "a5fa3b2f-3547-482d-9fdf-72145b4da5f3",
   "metadata": {},
   "outputs": [
    {
     "data": {
      "text/plain": [
       "index                                                             4\n",
       "building_id                                                     417\n",
       "modular_system    {'name': 'modular-system-entry', 'id': 'modula...\n",
       "Name: 4, dtype: object"
      ]
     },
     "execution_count": 14,
     "metadata": {},
     "output_type": "execute_result"
    }
   ],
   "source": [
    "df.iloc[4]"
   ]
  },
  {
   "cell_type": "code",
   "execution_count": 15,
   "id": "bb3c286b-abcf-4439-a3ce-de640a2b74d2",
   "metadata": {},
   "outputs": [
    {
     "data": {
      "text/plain": [
       "{'name': 'modular-system-entry',\n",
       " 'id': 'modular-system--Mergelstrasse-2a',\n",
       " 'version': 'v1',\n",
       " 'buildingID': 417,\n",
       " 'published': True,\n",
       " 'hasSectorCoupling': False,\n",
       " 'layoutID': 'heat-pump:1--right-down-pipes:1--heat-pump:2--buffer-tank:1--heating-circuit:1',\n",
       " 'subSystems': [{'id': 'right-down-pipes:1',\n",
       "   'name': 'right-down-pipes',\n",
       "   'hydraulicLocationIndex': 1,\n",
       "   'connections': [],\n",
       "   'parameters': {},\n",
       "   'navigation': {}},\n",
       "  {'id': 'heat-pump:1',\n",
       "   'name': 'heat-pump',\n",
       "   'hydraulicLocationIndex': 1,\n",
       "   'parameters': {'subSystemType': 'gas'},\n",
       "   'connections': [],\n",
       "   'navigation': {'forward': {'name': 'heat-pump',\n",
       "     'hydraulicLocationIndex': 2}}},\n",
       "  {'id': 'heat-pump:2',\n",
       "   'name': 'heat-pump',\n",
       "   'hydraulicLocationIndex': 2,\n",
       "   'connections': [{'to': {'id': 'heating-circuit:1',\n",
       "      'subSystem': {'name': 'heating-circuit',\n",
       "       'hydraulicLocationIndex': 1,\n",
       "       'side': 'bottom'},\n",
       "      'direction': 'right'},\n",
       "     'status': 'hot'},\n",
       "    {'from': {'id': 'heating-circuit:1',\n",
       "      'subSystem': {'name': 'heating-circuit',\n",
       "       'hydraulicLocationIndex': 1,\n",
       "       'side': 'bottom'},\n",
       "      'direction': 'right'},\n",
       "     'status': 'cold'}],\n",
       "   'parameters': {},\n",
       "   'navigation': {'back': {'name': 'heat-pump', 'hydraulicLocationIndex': 1},\n",
       "    'forward': {'name': 'heating-circuit', 'hydraulicLocationIndex': 1}}},\n",
       "  {'id': 'heating-circuit:1',\n",
       "   'name': 'heating-circuit',\n",
       "   'hydraulicLocationIndex': 1,\n",
       "   'connections': [{'from': {'id': 'heat-pump:2',\n",
       "      'subSystem': {'name': 'heat-pump',\n",
       "       'hydraulicLocationIndex': 2,\n",
       "       'side': 'right'},\n",
       "      'direction': 'bottom'},\n",
       "     'status': 'hot'},\n",
       "    {'to': {'id': 'heat-pump:2',\n",
       "      'subSystem': {'name': 'heat-pump',\n",
       "       'hydraulicLocationIndex': 2,\n",
       "       'side': 'right'},\n",
       "      'direction': 'bottom'},\n",
       "     'status': 'cold'}],\n",
       "   'parameters': {},\n",
       "   'navigation': {'back': {'name': 'heat-pump', 'hydraulicLocationIndex': 2}}},\n",
       "  {'id': 'buffer-tank:1',\n",
       "   'name': 'buffer-tank',\n",
       "   'hydraulicLocationIndex': 1,\n",
       "   'connections': [],\n",
       "   'parameters': {},\n",
       "   'navigation': {}}]}"
      ]
     },
     "execution_count": 15,
     "metadata": {},
     "output_type": "execute_result"
    }
   ],
   "source": [
    "df.iloc[4].modular_system "
   ]
  },
  {
   "cell_type": "code",
   "execution_count": null,
   "id": "ae8dfdf6-d7d9-4d0a-ba1d-53e2cf3bf1fd",
   "metadata": {},
   "outputs": [],
   "source": [
    "def get_buildings_df(client, customers):\n",
    "    try:\n",
    "        data = []\n",
    "        for c in customers:\n",
    "            customer_id = c['id']\n",
    "            customer_name = c.get('name', None)  # safely get name\n",
    "            client.configure(customer_id=customer_id)\n",
    "            c_buildings = client.buildings.get_buildings()\n",
    "            building_list = getattr(c_buildings, 'buildings', [])\n",
    "            \n",
    "            for b in building_list:\n",
    "                building_id = getattr(b, 'building_id', None)\n",
    "                modular_system_str = getattr(b, 'modular_system', None)\n",
    "                address = getattr(b, 'address', None)\n",
    "                \n",
    "                modular_system = None\n",
    "                if modular_system_str:\n",
    "                    try:\n",
    "                        modular_system = json.loads(modular_system_str)\n",
    "                    except json.JSONDecodeError:\n",
    "                        modular_system = None\n",
    "                \n",
    "                data.append({\n",
    "                    \"customer_id\": customer_id,\n",
    "                    \"customer_name\": customer_name,\n",
    "                    \"building_id\": building_id,\n",
    "                    \"address\": address,\n",
    "                    \"modular_system\": modular_system\n",
    "                })\n",
    "\n",
    "        return pd.DataFrame(data)\n",
    "    \n",
    "    except Exception as e:\n",
    "        print(\"API Call Failed:\", e)\n",
    "        return pd.DataFrame()  # return empty df on failure\n",
    "\n",
    "# Example usage:\n",
    "customers = client.customers.get_list_of_customers()\n",
    "df = get_buildings_df(client, customers)\n",
    "print(df.head())"
   ]
  }
 ],
 "metadata": {
  "kernelspec": {
   "display_name": "Python 3 (ipykernel)",
   "language": "python",
   "name": "python3"
  },
  "language_info": {
   "codemirror_mode": {
    "name": "ipython",
    "version": 3
   },
   "file_extension": ".py",
   "mimetype": "text/x-python",
   "name": "python",
   "nbconvert_exporter": "python",
   "pygments_lexer": "ipython3",
   "version": "3.12.10"
  }
 },
 "nbformat": 4,
 "nbformat_minor": 5
}
