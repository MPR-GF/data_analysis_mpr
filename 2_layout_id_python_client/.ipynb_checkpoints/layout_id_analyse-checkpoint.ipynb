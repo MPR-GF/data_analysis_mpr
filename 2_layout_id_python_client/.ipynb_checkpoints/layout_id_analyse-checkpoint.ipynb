{
 "cells": [
  {
   "cell_type": "markdown",
   "id": "2cde8c3b-78b4-4ac9-9b4b-06d01c1b2a73",
   "metadata": {},
   "source": [
    "# Analysis of Layout ID"
   ]
  },
  {
   "cell_type": "markdown",
   "id": "33c8cb17-e8f9-40da-a6a6-4facfe6d7bc7",
   "metadata": {},
   "source": [
    "## Relevant documents"
   ]
  },
  {
   "cell_type": "markdown",
   "id": "d4b1fbd9-6220-4d26-a9a2-ee428b1187f8",
   "metadata": {},
   "source": [
    "- (Python Client Repo)[https://github.com/Green-Fusion/energy-management-backend/tree/main/python_client]\n",
    "- (Klemmenbelegung)[https://docs.google.com/spreadsheets/d/1nkdkx2rI6nVKgoKBgkCUtfwEwuv8kptrRUXcXtfv0NM/edit?gid=247168398#gid=247168398]\n",
    "- (Hypothesis for Klemmenbelegung)[https://docs.google.com/spreadsheets/d/1TSTxMCgEvuoayzOfx1MUqlV0tiqsVTBRN8aldlnFXxA/edit?gid=0#gid=0]"
   ]
  },
  {
   "cell_type": "code",
   "execution_count": null,
   "id": "7a18f22c-fe80-4183-a62e-e2d68a0c4f1a",
   "metadata": {},
   "outputs": [],
   "source": [
    "from energy_management_client import BackendPythonClient"
   ]
  },
  {
   "cell_type": "code",
   "execution_count": null,
   "id": "09bd7f04-af21-4a64-95e9-9153e71db328",
   "metadata": {},
   "outputs": [],
   "source": [
    "def get_buildings(client, customers):\n",
    "    try:\n",
    "        buildings = []\n",
    "        for c in customers:\n",
    "            client.configure(customer_id=c.id)\n",
    "            c_buildings = client.buildings.get_buildings()\n",
    "            buildings.extend(c_buildings)\n",
    "\n",
    "        return buildings\n",
    "    except Exception as e:\n",
    "        print(\"API Call Failed:\", e)\n",
    "\n",
    "\n"
   ]
  },
  {
   "cell_type": "code",
   "execution_count": null,
   "id": "d28c777a-4238-44fa-b15f-7d332207fbae",
   "metadata": {},
   "outputs": [],
   "source": [
    "if __name__ == \"__main__\":\n",
    "    # init the client\n",
    "    client = BackendPythonClient(\n",
    "        backend_endpoint=\"https://dev.green-fusion.de/services/energy-management-backend/v1/api\",\n",
    "    )\n",
    "\n",
    "    client.login(\n",
    "        auth_endpoint=\"https://auth.green-fusion.de\",\n",
    "        realm=\"development\",\n",
    "        client_id=\"backend_python_client\", # backend_python_client, datascience_development_api\n",
    "        grant_type=\"device_code\", #\"client_credentials\",  # or \"password\", \"device_code\"\n",
    "    )\n",
    "\n",
    "    customers = client.customers.get_list_of_customers()\n",
    "    buildings = client.buildings.get_buildings()\n",
    "    print(buildings)"
   ]
  },
  {
   "cell_type": "code",
   "execution_count": null,
   "id": "c2806de9-f141-4be6-a941-96465df2b26f",
   "metadata": {},
   "outputs": [],
   "source": []
  }
 ],
 "metadata": {
  "kernelspec": {
   "display_name": "Python 3 (ipykernel)",
   "language": "python",
   "name": "python3"
  },
  "language_info": {
   "codemirror_mode": {
    "name": "ipython",
    "version": 3
   },
   "file_extension": ".py",
   "mimetype": "text/x-python",
   "name": "python",
   "nbconvert_exporter": "python",
   "pygments_lexer": "ipython3",
   "version": "3.12.10"
  }
 },
 "nbformat": 4,
 "nbformat_minor": 5
}
