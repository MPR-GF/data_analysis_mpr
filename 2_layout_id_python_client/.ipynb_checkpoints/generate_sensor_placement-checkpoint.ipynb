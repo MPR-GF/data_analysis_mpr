{
 "cells": [
  {
   "cell_type": "markdown",
   "id": "2375d081-6d36-4c5e-9ae8-9979300e12a3",
   "metadata": {},
   "source": [
    "# Sensor placement"
   ]
  },
  {
   "cell_type": "markdown",
   "id": "87b3f868-8662-4222-870d-5bbef0106367",
   "metadata": {},
   "source": [
    "## imports"
   ]
  },
  {
   "cell_type": "code",
   "execution_count": 25,
   "id": "a59fa91e-25fa-401d-ba38-9f2b0884c3f7",
   "metadata": {},
   "outputs": [],
   "source": [
    "#imports\n",
    "import pandas as pd\n",
    "import re\n",
    "import os"
   ]
  },
  {
   "cell_type": "code",
   "execution_count": 26,
   "id": "6bd92872-e227-47c0-bf52-2e7bd8f4511f",
   "metadata": {},
   "outputs": [
    {
     "data": {
      "text/html": [
       "<div>\n",
       "<style scoped>\n",
       "    .dataframe tbody tr th:only-of-type {\n",
       "        vertical-align: middle;\n",
       "    }\n",
       "\n",
       "    .dataframe tbody tr th {\n",
       "        vertical-align: top;\n",
       "    }\n",
       "\n",
       "    .dataframe thead th {\n",
       "        text-align: right;\n",
       "    }\n",
       "</style>\n",
       "<table border=\"1\" class=\"dataframe\">\n",
       "  <thead>\n",
       "    <tr style=\"text-align: right;\">\n",
       "      <th></th>\n",
       "      <th>new_layoutID</th>\n",
       "      <th>Occurrence</th>\n",
       "      <th>KBn</th>\n",
       "      <th>buildingIDs</th>\n",
       "      <th>LayoutID</th>\n",
       "    </tr>\n",
       "  </thead>\n",
       "  <tbody>\n",
       "    <tr>\n",
       "      <th>0</th>\n",
       "      <td>gas:1--heating-circuit_mix+ctl:1--warm-water_i...</td>\n",
       "      <td>128</td>\n",
       "      <td>KB1</td>\n",
       "      <td>[768, 769, 770, 778, 787, 1924, 1926, 1927, 46...</td>\n",
       "      <td>{'gas:1--heating-circuit:1--warm-water:1'}</td>\n",
       "    </tr>\n",
       "    <tr>\n",
       "      <th>1</th>\n",
       "      <td>gas:1--heating-circuit_mix+ctl:1</td>\n",
       "      <td>77</td>\n",
       "      <td>KB3</td>\n",
       "      <td>[758, 759, 499, 1525, 1649, 1654, 1657, 1791, ...</td>\n",
       "      <td>{'gas:1--heating-circuit:1'}</td>\n",
       "    </tr>\n",
       "    <tr>\n",
       "      <th>2</th>\n",
       "      <td>gas:1--heat-exchanger:1--heating-circuit_mix+c...</td>\n",
       "      <td>46</td>\n",
       "      <td>KB4</td>\n",
       "      <td>[1925, 1931, 1781, 1509, 1526, 1527, 1531, 153...</td>\n",
       "      <td>{'gas:1--heat-exchanger:1--heating-circuit:1--...</td>\n",
       "    </tr>\n",
       "    <tr>\n",
       "      <th>3</th>\n",
       "      <td>local-heating-station_noHX+ctlprim+ctlsec:1--h...</td>\n",
       "      <td>43</td>\n",
       "      <td>KB5</td>\n",
       "      <td>[509, 790, 1005, 1628, 1629, 1630, 1631, 672, ...</td>\n",
       "      <td>{'local-heating-station:1--heating-circuit:1--...</td>\n",
       "    </tr>\n",
       "    <tr>\n",
       "      <th>4</th>\n",
       "      <td>gas:1--heat-exchanger:1--heating-circuit_mix+c...</td>\n",
       "      <td>40</td>\n",
       "      <td>KB6</td>\n",
       "      <td>[1524, 1795, 1560, 1638, 1639, 604, 617, 623, ...</td>\n",
       "      <td>{'gas:1--heat-exchanger:1--heating-circuit:1'}</td>\n",
       "    </tr>\n",
       "  </tbody>\n",
       "</table>\n",
       "</div>"
      ],
      "text/plain": [
       "                                        new_layoutID  Occurrence  KBn  \\\n",
       "0  gas:1--heating-circuit_mix+ctl:1--warm-water_i...         128  KB1   \n",
       "1                   gas:1--heating-circuit_mix+ctl:1          77  KB3   \n",
       "2  gas:1--heat-exchanger:1--heating-circuit_mix+c...          46  KB4   \n",
       "3  local-heating-station_noHX+ctlprim+ctlsec:1--h...          43  KB5   \n",
       "4  gas:1--heat-exchanger:1--heating-circuit_mix+c...          40  KB6   \n",
       "\n",
       "                                         buildingIDs  \\\n",
       "0  [768, 769, 770, 778, 787, 1924, 1926, 1927, 46...   \n",
       "1  [758, 759, 499, 1525, 1649, 1654, 1657, 1791, ...   \n",
       "2  [1925, 1931, 1781, 1509, 1526, 1527, 1531, 153...   \n",
       "3  [509, 790, 1005, 1628, 1629, 1630, 1631, 672, ...   \n",
       "4  [1524, 1795, 1560, 1638, 1639, 604, 617, 623, ...   \n",
       "\n",
       "                                            LayoutID  \n",
       "0         {'gas:1--heating-circuit:1--warm-water:1'}  \n",
       "1                       {'gas:1--heating-circuit:1'}  \n",
       "2  {'gas:1--heat-exchanger:1--heating-circuit:1--...  \n",
       "3  {'local-heating-station:1--heating-circuit:1--...  \n",
       "4     {'gas:1--heat-exchanger:1--heating-circuit:1'}  "
      ]
     },
     "execution_count": 26,
     "metadata": {},
     "output_type": "execute_result"
    }
   ],
   "source": [
    "#build df from database exctracted data\n",
    "filename='new_LayoutID_occurence_2025-07-14.csv'\n",
    "filepath = os.path.join('OUTs', filename)\n",
    "df = pd.read_csv(filepath)\n",
    "#inspest column\n",
    "df.head()"
   ]
  },
  {
   "cell_type": "markdown",
   "id": "d86e9881-6bbd-4208-b7ba-3c87b7534c30",
   "metadata": {},
   "source": [
    "## detection of Invalid LayoutIDs"
   ]
  },
  {
   "cell_type": "code",
   "execution_count": 27,
   "id": "b6651778-efd3-4a95-8499-82e9d157e9e1",
   "metadata": {},
   "outputs": [
    {
     "name": "stdout",
     "output_type": "stream",
     "text": [
      "Row 295 - Invalid part: heat-exchanger:1-heating-circuit:1\n"
     ]
    }
   ],
   "source": [
    "# gind invalid LayoutIDs -> clean row 158\n",
    "def find_invalid_parts(layout_column):\n",
    "    for i, layout in enumerate(layout_column):\n",
    "        for part in layout.split('--'):\n",
    "            if len(part.split(':')) != 2:\n",
    "                print(f\"Row {i} - Invalid part: {part}\")\n",
    "find_invalid_parts(df['LayoutID'])"
   ]
  },
  {
   "cell_type": "code",
   "execution_count": 28,
   "id": "f7cb69a2-2002-4a79-8693-d9295f6c8d6b",
   "metadata": {},
   "outputs": [],
   "source": [
    "# Sample: df['LayoutID_Tops'] = your actual column\n",
    "def extract_words(layout_str):\n",
    "    # Split by '--', then split each part by ':'\n",
    "    parts = layout_str.split('--')\n",
    "    words = []\n",
    "    for part in parts:\n",
    "        words.extend(part.split(':'))\n",
    "    return words\n",
    "\n",
    "# Apply and flatten the list\n",
    "all_words = df['new_layoutID'].dropna().apply(extract_words).explode()\n",
    "\n",
    "# Get unique values\n",
    "unique_words = all_words.unique().tolist()\n",
    "\n",
    "# Optional: sort alphabetically or numerically\n",
    "unique_words.sort()\n",
    "\n",
    "#get rid of pipes and numbers\n",
    "cleaned_words = [\n",
    "    word for word in unique_words\n",
    "    if not word.isdigit() and\n",
    "    'pipe' not in word.lower() and\n",
    "    'valve' not in word.lower()\n",
    "]"
   ]
  },
  {
   "cell_type": "code",
   "execution_count": 29,
   "id": "4ed81c78-5021-4067-a9b6-720ecfb85d0e",
   "metadata": {},
   "outputs": [
    {
     "data": {
      "text/plain": [
       "['1-heating-circuit',\n",
       " 'buffer-tank',\n",
       " 'chp',\n",
       " 'district-heating_HX+ctl',\n",
       " 'district-heating_HX+unctl',\n",
       " 'district-heating_noHX+ctl',\n",
       " 'district-heating_noHX+unctl',\n",
       " 'gas',\n",
       " 'global-separation-circuit',\n",
       " 'heat-exchanger',\n",
       " 'heat-pump',\n",
       " 'heating-circuit_mix+ctl',\n",
       " 'heating-circuit_mix+unctl',\n",
       " 'heating-circuit_unmix+ctl',\n",
       " 'heating-circuit_unmix+unctl',\n",
       " 'hydraulic-separator',\n",
       " 'local-heating-station_HX+ctlprim+ctlsec',\n",
       " 'local-heating-station_noHX+ctlprim+ctlsec',\n",
       " 'solar-thermal',\n",
       " 'warm-water_external',\n",
       " 'warm-water_internal']"
      ]
     },
     "execution_count": 29,
     "metadata": {},
     "output_type": "execute_result"
    }
   ],
   "source": [
    "cleaned_words"
   ]
  },
  {
   "cell_type": "markdown",
   "id": "a06a4e1d-c95c-4d85-95d2-b44131194edb",
   "metadata": {},
   "source": [
    "##  Matching acronym"
   ]
  },
  {
   "cell_type": "code",
   "execution_count": 6,
   "id": "302a3ac6-8f9b-4e30-b830-d85fab406ef3",
   "metadata": {},
   "outputs": [],
   "source": [
    "sensor_rules_indexed = {\n",
    "    'buffer-tank': ['t_buffer(n)_tank_1'],\n",
    "    'chp': ['t_chp(n)_flow', 't_chp(n)_return'],\n",
    "    'district-heating': ['t_dh_primflow', 't_dh_primreturn'],\n",
    "    'gas': ['t_b(n)_flow', 't_b(n)_flow'],\n",
    "    'heating-circuit': ['t_hc(n)_flow', 't_hc(n)_return'],\n",
    "    'heat-pump': ['t_hp(n)_primflow', 't_hp(n)_primreturn', 't_hp(n)_secflow', 't_hp(n)_secreturn'],\n",
    "    'local-heating-station': ['t_lh(n)_subsflow', 't_lh(n)_subsreturn'],\n",
    "    'solar-thermal': ['t_st(n)_flow', 't_st(n)_return'],\n",
    "    'warm-water': ['t_hw(n)_return', 't_hw(n)_tank', 't_hw(n)_pwh', 't_hw(n)_circ']\n",
    "}"
   ]
  },
  {
   "cell_type": "markdown",
   "id": "4c359316-8490-48e9-a962-2c141f418e22",
   "metadata": {},
   "source": [
    "## generate sensor placement"
   ]
  },
  {
   "cell_type": "code",
   "execution_count": 7,
   "id": "a9263e44-1c18-4d62-9b05-7735dc671217",
   "metadata": {},
   "outputs": [],
   "source": [
    "def generate_sensor_placement(layout):\n",
    "    if pd.isna(layout):\n",
    "        return ''\n",
    "        \n",
    "    parts = layout.split('--')\n",
    "    sensor_list = []\n",
    "    idx = 1  # global sensor index in parentheses\n",
    "\n",
    "    for part in parts:\n",
    "        # Validate part has exactly one colon (system_type:index)\n",
    "        if part.count(':') != 1:\n",
    "            return \"wrong LayoutID format\"\n",
    "\n",
    "        try:\n",
    "            system_type, system_index = part.split(':')\n",
    "        except ValueError:\n",
    "            return \"wrong LayoutID format\"\n",
    "\n",
    "        # Check if index is an integer\n",
    "        try:\n",
    "            i = int(system_index)\n",
    "        except ValueError:\n",
    "            return \"wrong Layout ID format\"\n",
    "\n",
    "        if system_type in sensor_rules_indexed:\n",
    "            sensors = sensor_rules_indexed[system_type]\n",
    "            for label in sensors:\n",
    "                label_with_hli = re.sub(r'\\(n\\)', f'(hli={i})', label)\n",
    "                sensor_list.append(f\"({idx}: {label_with_hli})\")\n",
    "                idx += 1\n",
    "\n",
    "    return ','.join(sensor_list)\n",
    "    \n",
    "df['sensor_placement'] = df['LayoutID'].apply(generate_sensor_placement)\n",
    "df['sensor_count'] = df['sensor_placement'].str.count(r'\\(\\d+:')  # counts sensor entries"
   ]
  },
  {
   "cell_type": "code",
   "execution_count": 8,
   "id": "2ab6c865-b836-4ecf-b3bf-adae9e8df84e",
   "metadata": {},
   "outputs": [
    {
     "data": {
      "text/html": [
       "<div>\n",
       "<style scoped>\n",
       "    .dataframe tbody tr th:only-of-type {\n",
       "        vertical-align: middle;\n",
       "    }\n",
       "\n",
       "    .dataframe tbody tr th {\n",
       "        vertical-align: top;\n",
       "    }\n",
       "\n",
       "    .dataframe thead th {\n",
       "        text-align: right;\n",
       "    }\n",
       "</style>\n",
       "<table border=\"1\" class=\"dataframe\">\n",
       "  <thead>\n",
       "    <tr style=\"text-align: right;\">\n",
       "      <th></th>\n",
       "      <th>LayoutID</th>\n",
       "      <th>Occurrence</th>\n",
       "      <th>buildingIDs</th>\n",
       "      <th>KBn</th>\n",
       "      <th>sensor_placement</th>\n",
       "      <th>sensor_count</th>\n",
       "    </tr>\n",
       "  </thead>\n",
       "  <tbody>\n",
       "    <tr>\n",
       "      <th>156</th>\n",
       "      <td>district-heating:1--down-right-pipes:1--heat-e...</td>\n",
       "      <td>1</td>\n",
       "      <td>[1879]</td>\n",
       "      <td>157</td>\n",
       "      <td>(1: t_dh_primflow),(2: t_dh_primreturn),(3: t_...</td>\n",
       "      <td>10</td>\n",
       "    </tr>\n",
       "    <tr>\n",
       "      <th>157</th>\n",
       "      <td>district-heating:1--buffer-tank:1--heating-cir...</td>\n",
       "      <td>1</td>\n",
       "      <td>[711]</td>\n",
       "      <td>158</td>\n",
       "      <td>(1: t_dh_primflow),(2: t_dh_primreturn),(3: t_...</td>\n",
       "      <td>9</td>\n",
       "    </tr>\n",
       "    <tr>\n",
       "      <th>158</th>\n",
       "      <td>district-heating:1--buffer-tank:1--heating-cir...</td>\n",
       "      <td>1</td>\n",
       "      <td>[335]</td>\n",
       "      <td>159</td>\n",
       "      <td>(1: t_dh_primflow),(2: t_dh_primreturn),(3: t_...</td>\n",
       "      <td>7</td>\n",
       "    </tr>\n",
       "    <tr>\n",
       "      <th>159</th>\n",
       "      <td>district-heating:1--heat-exchanger:1-heating-c...</td>\n",
       "      <td>1</td>\n",
       "      <td>[1801]</td>\n",
       "      <td>160</td>\n",
       "      <td>wrong LayoutID format</td>\n",
       "      <td>0</td>\n",
       "    </tr>\n",
       "    <tr>\n",
       "      <th>160</th>\n",
       "      <td>district-heating:1--heating-circuit:1--heating...</td>\n",
       "      <td>1</td>\n",
       "      <td>[629]</td>\n",
       "      <td>161</td>\n",
       "      <td>(1: t_dh_primflow),(2: t_dh_primreturn),(3: t_...</td>\n",
       "      <td>20</td>\n",
       "    </tr>\n",
       "  </tbody>\n",
       "</table>\n",
       "</div>"
      ],
      "text/plain": [
       "                                              LayoutID  Occurrence  \\\n",
       "156  district-heating:1--down-right-pipes:1--heat-e...           1   \n",
       "157  district-heating:1--buffer-tank:1--heating-cir...           1   \n",
       "158  district-heating:1--buffer-tank:1--heating-cir...           1   \n",
       "159  district-heating:1--heat-exchanger:1-heating-c...           1   \n",
       "160  district-heating:1--heating-circuit:1--heating...           1   \n",
       "\n",
       "    buildingIDs  KBn                                   sensor_placement  \\\n",
       "156      [1879]  157  (1: t_dh_primflow),(2: t_dh_primreturn),(3: t_...   \n",
       "157       [711]  158  (1: t_dh_primflow),(2: t_dh_primreturn),(3: t_...   \n",
       "158       [335]  159  (1: t_dh_primflow),(2: t_dh_primreturn),(3: t_...   \n",
       "159      [1801]  160                              wrong LayoutID format   \n",
       "160       [629]  161  (1: t_dh_primflow),(2: t_dh_primreturn),(3: t_...   \n",
       "\n",
       "     sensor_count  \n",
       "156            10  \n",
       "157             9  \n",
       "158             7  \n",
       "159             0  \n",
       "160            20  "
      ]
     },
     "execution_count": 8,
     "metadata": {},
     "output_type": "execute_result"
    }
   ],
   "source": [
    "df.iloc[156:161]"
   ]
  },
  {
   "cell_type": "markdown",
   "id": "449f2da8-d951-4eef-8764-294b27d48083",
   "metadata": {},
   "source": [
    "## Exports"
   ]
  },
  {
   "cell_type": "code",
   "execution_count": 9,
   "id": "b263a4bf-0afa-4a32-8ad1-3bd2abd2d357",
   "metadata": {},
   "outputs": [],
   "source": [
    "#export\n",
    "if True:\n",
    "    df.to_csv('sensor_placement_for_BKn.csv', index=False)"
   ]
  },
  {
   "cell_type": "code",
   "execution_count": null,
   "id": "d6f3fa36-56cb-4521-baa1-e67c6962c836",
   "metadata": {},
   "outputs": [],
   "source": []
  },
  {
   "cell_type": "code",
   "execution_count": 10,
   "id": "ef4b6518-5ca9-4f0a-ae57-1f51e18ce634",
   "metadata": {},
   "outputs": [
    {
     "data": {
      "text/plain": [
       "'district-heating:1--buffer-tank:1--heating-circuit:1--heating-circuit:2'"
      ]
     },
     "execution_count": 10,
     "metadata": {},
     "output_type": "execute_result"
    }
   ],
   "source": [
    "df['LayoutID'].iloc[158]"
   ]
  },
  {
   "cell_type": "code",
   "execution_count": null,
   "id": "0c228443-2943-4327-82a9-c58d81fd6e25",
   "metadata": {},
   "outputs": [],
   "source": []
  }
 ],
 "metadata": {
  "kernelspec": {
   "display_name": "Python 3 (ipykernel)",
   "language": "python",
   "name": "python3"
  },
  "language_info": {
   "codemirror_mode": {
    "name": "ipython",
    "version": 3
   },
   "file_extension": ".py",
   "mimetype": "text/x-python",
   "name": "python",
   "nbconvert_exporter": "python",
   "pygments_lexer": "ipython3",
   "version": "3.12.10"
  }
 },
 "nbformat": 4,
 "nbformat_minor": 5
}
