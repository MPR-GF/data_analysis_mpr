{
 "cells": [
  {
   "cell_type": "markdown",
   "id": "2375d081-6d36-4c5e-9ae8-9979300e12a3",
   "metadata": {},
   "source": [
    "# Sensor placement"
   ]
  },
  {
   "cell_type": "markdown",
   "id": "87b3f868-8662-4222-870d-5bbef0106367",
   "metadata": {},
   "source": [
    "## imports"
   ]
  },
  {
   "cell_type": "code",
   "execution_count": 1,
   "id": "a59fa91e-25fa-401d-ba38-9f2b0884c3f7",
   "metadata": {},
   "outputs": [],
   "source": [
    "#imports\n",
    "import pandas as pd\n",
    "import re"
   ]
  },
  {
   "cell_type": "code",
   "execution_count": 2,
   "id": "6bd92872-e227-47c0-bf52-2e7bd8f4511f",
   "metadata": {},
   "outputs": [
    {
     "data": {
      "text/html": [
       "<div>\n",
       "<style scoped>\n",
       "    .dataframe tbody tr th:only-of-type {\n",
       "        vertical-align: middle;\n",
       "    }\n",
       "\n",
       "    .dataframe tbody tr th {\n",
       "        vertical-align: top;\n",
       "    }\n",
       "\n",
       "    .dataframe thead th {\n",
       "        text-align: right;\n",
       "    }\n",
       "</style>\n",
       "<table border=\"1\" class=\"dataframe\">\n",
       "  <thead>\n",
       "    <tr style=\"text-align: right;\">\n",
       "      <th></th>\n",
       "      <th>LayoutID</th>\n",
       "      <th>Occurrence</th>\n",
       "      <th>buildingIDs</th>\n",
       "      <th>KBn</th>\n",
       "    </tr>\n",
       "  </thead>\n",
       "  <tbody>\n",
       "    <tr>\n",
       "      <th>0</th>\n",
       "      <td>gas:1--heating-circuit:1--warm-water:1</td>\n",
       "      <td>119</td>\n",
       "      <td>[768, 769, 770, 778, 787, 1924, 1926, 1927, 46...</td>\n",
       "      <td>1</td>\n",
       "    </tr>\n",
       "    <tr>\n",
       "      <th>1</th>\n",
       "      <td>district-heating:1--heating-circuit:1--warm-wa...</td>\n",
       "      <td>82</td>\n",
       "      <td>[774, 1909, 1910, 1911, 1912, 1913, 1314, 1315...</td>\n",
       "      <td>2</td>\n",
       "    </tr>\n",
       "    <tr>\n",
       "      <th>2</th>\n",
       "      <td>gas:1--heating-circuit:1</td>\n",
       "      <td>71</td>\n",
       "      <td>[758, 759, 499, 1525, 1649, 1654, 1657, 1791, ...</td>\n",
       "      <td>3</td>\n",
       "    </tr>\n",
       "    <tr>\n",
       "      <th>3</th>\n",
       "      <td>gas:1--heat-exchanger:1--heating-circuit:1--wa...</td>\n",
       "      <td>46</td>\n",
       "      <td>[1925, 1931, 1781, 1509, 1526, 1527, 1531, 153...</td>\n",
       "      <td>4</td>\n",
       "    </tr>\n",
       "    <tr>\n",
       "      <th>4</th>\n",
       "      <td>local-heating-station:1--heating-circuit:1--wa...</td>\n",
       "      <td>41</td>\n",
       "      <td>[509, 790, 1005, 1628, 1629, 1630, 1631, 672, ...</td>\n",
       "      <td>5</td>\n",
       "    </tr>\n",
       "  </tbody>\n",
       "</table>\n",
       "</div>"
      ],
      "text/plain": [
       "                                            LayoutID  Occurrence  \\\n",
       "0             gas:1--heating-circuit:1--warm-water:1         119   \n",
       "1  district-heating:1--heating-circuit:1--warm-wa...          82   \n",
       "2                           gas:1--heating-circuit:1          71   \n",
       "3  gas:1--heat-exchanger:1--heating-circuit:1--wa...          46   \n",
       "4  local-heating-station:1--heating-circuit:1--wa...          41   \n",
       "\n",
       "                                         buildingIDs  KBn  \n",
       "0  [768, 769, 770, 778, 787, 1924, 1926, 1927, 46...    1  \n",
       "1  [774, 1909, 1910, 1911, 1912, 1913, 1314, 1315...    2  \n",
       "2  [758, 759, 499, 1525, 1649, 1654, 1657, 1791, ...    3  \n",
       "3  [1925, 1931, 1781, 1509, 1526, 1527, 1531, 153...    4  \n",
       "4  [509, 790, 1005, 1628, 1629, 1630, 1631, 672, ...    5  "
      ]
     },
     "execution_count": 2,
     "metadata": {},
     "output_type": "execute_result"
    }
   ],
   "source": [
    "#build df from database exctracted data\n",
    "df = pd.read_csv('LayoutID_occurence.csv')\n",
    "#inspest column\n",
    "df.head()"
   ]
  },
  {
   "cell_type": "markdown",
   "id": "fd948d85-733a-4e2d-bc06-0f5d29aa2e3c",
   "metadata": {},
   "source": [
    "## extract Words to build the sensor_rules_indexed"
   ]
  },
  {
   "cell_type": "code",
   "execution_count": 3,
   "id": "57505a0d-d6b5-4c89-938b-4e22a9c0b9ef",
   "metadata": {},
   "outputs": [],
   "source": [
    "# Sample: df['LayoutID_Tops'] = your actual column\n",
    "def extract_words(layout_str):\n",
    "    # Split by '--', then split each part by ':'\n",
    "    parts = layout_str.split('--')\n",
    "    words = []\n",
    "    for part in parts:\n",
    "        words.extend(part.split(':'))\n",
    "    return words\n",
    "\n",
    "# Apply and flatten the list\n",
    "all_words = df['LayoutID'].dropna().apply(extract_words).explode()\n",
    "\n",
    "# Get unique values\n",
    "unique_words = all_words.unique().tolist()\n",
    "\n",
    "# Optional: sort alphabetically or numerically\n",
    "unique_words.sort()\n",
    "\n",
    "#get rid of pipes and numbers\n",
    "cleaned_words = [\n",
    "    word for word in unique_words\n",
    "    if not word.isdigit() and\n",
    "    'pipe' not in word.lower() and\n",
    "    'valve' not in word.lower()\n",
    "]"
   ]
  },
  {
   "cell_type": "code",
   "execution_count": 4,
   "id": "30a32571-1dc9-45b1-8df2-b0c17ecb3010",
   "metadata": {},
   "outputs": [
    {
     "data": {
      "text/plain": [
       "['1-heating-circuit',\n",
       " 'buffer-tank',\n",
       " 'chp',\n",
       " 'district-heating',\n",
       " 'gas',\n",
       " 'global-separation-circuit',\n",
       " 'heat-exchanger',\n",
       " 'heat-pump',\n",
       " 'heating-circuit',\n",
       " 'hydraulic-separator',\n",
       " 'local-heating-station',\n",
       " 'solar-thermal',\n",
       " 'warm-water']"
      ]
     },
     "execution_count": 4,
     "metadata": {},
     "output_type": "execute_result"
    }
   ],
   "source": [
    "cleaned_words"
   ]
  },
  {
   "cell_type": "markdown",
   "id": "d86e9881-6bbd-4208-b7ba-3c87b7534c30",
   "metadata": {},
   "source": [
    "## clean if need be"
   ]
  },
  {
   "cell_type": "code",
   "execution_count": 5,
   "id": "b6651778-efd3-4a95-8499-82e9d157e9e1",
   "metadata": {},
   "outputs": [],
   "source": [
    "# gind invalid LayoutIDs -> clean row 158\n",
    "def find_invalid_parts(layout_column):\n",
    "    for i, layout in enumerate(layout_column):\n",
    "        if i == 158:\n",
    "            layout = layout.replace('heat-exchanger:1-heating-circuit:1', 'heat-exchanger:1--heating-circuit:1')\n",
    "            df.at[i, 'LayoutID'] = layout  # update corrected layout back in DataFrame\n",
    "        for part in layout.split('--'):\n",
    "            if len(part.split(':')) != 2:\n",
    "                print(f\"Row {i} - Invalid part: {part}\")\n",
    "find_invalid_parts(df['LayoutID'])"
   ]
  },
  {
   "cell_type": "markdown",
   "id": "a06a4e1d-c95c-4d85-95d2-b44131194edb",
   "metadata": {},
   "source": [
    "##  Matching acronym"
   ]
  },
  {
   "cell_type": "code",
   "execution_count": 6,
   "id": "302a3ac6-8f9b-4e30-b830-d85fab406ef3",
   "metadata": {},
   "outputs": [],
   "source": [
    "sensor_rules_indexed = {\n",
    "    'buffer-tank': ['t_buffer(n)_tank_1'],\n",
    "    'chp': ['t_chp(n)_flow', 't_chp(n)_return'],\n",
    "    'district-heating': ['t_dh_primflow', 't_dh_primreturn'],\n",
    "    'gas': ['t_b(n)_flow', 't_b(n)_flow'],\n",
    "    'heating-circuit': ['t_hc(n)_flow', 't_hc(n)_return'],\n",
    "    'heat-pump': ['t_hp(n)_primflow', 't_hp(n)_primreturn', 't_hp(n)_secflow', 't_hp(n)_secreturn'],\n",
    "    'local-heating-station': ['t_lh(n)_subsflow', 't_lh(n)_subsreturn'],\n",
    "    'solar-thermal': ['t_st(n)_flow', 't_st(n)_return'],\n",
    "    'warm-water': ['t_hw(n)_return', 't_hw(n)_tank', 't_hw(n)_pwh', 't_hw(n)_circ']\n",
    "}"
   ]
  },
  {
   "cell_type": "markdown",
   "id": "4c359316-8490-48e9-a962-2c141f418e22",
   "metadata": {},
   "source": [
    "## generate sensor placement"
   ]
  },
  {
   "cell_type": "code",
   "execution_count": 7,
   "id": "a9263e44-1c18-4d62-9b05-7735dc671217",
   "metadata": {},
   "outputs": [],
   "source": [
    "def generate_sensor_placement(layout):\n",
    "    if pd.isna(layout):\n",
    "        return ''\n",
    "        \n",
    "    parts = layout.split('--')\n",
    "    sensor_list = []\n",
    "    idx = 1  # global sensor index in parentheses\n",
    "\n",
    "    for part in parts:\n",
    "        if ':' not in part:\n",
    "            continue  # skip malformed parts\n",
    "\n",
    "        try:\n",
    "            system_type, system_index = part.split(':')\n",
    "        except ValueError:\n",
    "            continue  # malformed part (e.g., multiple colons)\n",
    "\n",
    "        try:\n",
    "            i = int(system_index)\n",
    "        except ValueError:\n",
    "            continue  # skip if index is not a number\n",
    "\n",
    "        if system_type in sensor_rules_indexed:\n",
    "            sensors = sensor_rules_indexed[system_type]\n",
    "            for label in sensors:\n",
    "                # Replace (n) with actual index (hli = i)\n",
    "                label_with_hli = re.sub(r'\\(n\\)', f'(hli={i})', label)\n",
    "                sensor_list.append(f\"({idx}: {label_with_hli})\")\n",
    "                idx += 1\n",
    "    return ','.join(sensor_list)\n",
    "    \n",
    "df['sensor_placement'] = df['LayoutID'].apply(generate_sensor_placement)\n",
    "df['sensor_count'] = df['sensor_placement'].str.count(r'\\(\\d+:')  # counts sensor entries"
   ]
  },
  {
   "cell_type": "code",
   "execution_count": 8,
   "id": "2ab6c865-b836-4ecf-b3bf-adae9e8df84e",
   "metadata": {},
   "outputs": [
    {
     "data": {
      "text/html": [
       "<div>\n",
       "<style scoped>\n",
       "    .dataframe tbody tr th:only-of-type {\n",
       "        vertical-align: middle;\n",
       "    }\n",
       "\n",
       "    .dataframe tbody tr th {\n",
       "        vertical-align: top;\n",
       "    }\n",
       "\n",
       "    .dataframe thead th {\n",
       "        text-align: right;\n",
       "    }\n",
       "</style>\n",
       "<table border=\"1\" class=\"dataframe\">\n",
       "  <thead>\n",
       "    <tr style=\"text-align: right;\">\n",
       "      <th></th>\n",
       "      <th>LayoutID</th>\n",
       "      <th>Occurrence</th>\n",
       "      <th>buildingIDs</th>\n",
       "      <th>KBn</th>\n",
       "      <th>sensor_placement</th>\n",
       "      <th>sensor_count</th>\n",
       "    </tr>\n",
       "  </thead>\n",
       "  <tbody>\n",
       "    <tr>\n",
       "      <th>0</th>\n",
       "      <td>gas:1--heating-circuit:1--warm-water:1</td>\n",
       "      <td>119</td>\n",
       "      <td>[768, 769, 770, 778, 787, 1924, 1926, 1927, 46...</td>\n",
       "      <td>1</td>\n",
       "      <td>None</td>\n",
       "      <td>None</td>\n",
       "    </tr>\n",
       "    <tr>\n",
       "      <th>1</th>\n",
       "      <td>district-heating:1--heating-circuit:1--warm-wa...</td>\n",
       "      <td>82</td>\n",
       "      <td>[774, 1909, 1910, 1911, 1912, 1913, 1314, 1315...</td>\n",
       "      <td>2</td>\n",
       "      <td>None</td>\n",
       "      <td>None</td>\n",
       "    </tr>\n",
       "    <tr>\n",
       "      <th>2</th>\n",
       "      <td>gas:1--heating-circuit:1</td>\n",
       "      <td>71</td>\n",
       "      <td>[758, 759, 499, 1525, 1649, 1654, 1657, 1791, ...</td>\n",
       "      <td>3</td>\n",
       "      <td>None</td>\n",
       "      <td>None</td>\n",
       "    </tr>\n",
       "    <tr>\n",
       "      <th>3</th>\n",
       "      <td>gas:1--heat-exchanger:1--heating-circuit:1--wa...</td>\n",
       "      <td>46</td>\n",
       "      <td>[1925, 1931, 1781, 1509, 1526, 1527, 1531, 153...</td>\n",
       "      <td>4</td>\n",
       "      <td>None</td>\n",
       "      <td>None</td>\n",
       "    </tr>\n",
       "    <tr>\n",
       "      <th>4</th>\n",
       "      <td>local-heating-station:1--heating-circuit:1--wa...</td>\n",
       "      <td>41</td>\n",
       "      <td>[509, 790, 1005, 1628, 1629, 1630, 1631, 672, ...</td>\n",
       "      <td>5</td>\n",
       "      <td>None</td>\n",
       "      <td>None</td>\n",
       "    </tr>\n",
       "  </tbody>\n",
       "</table>\n",
       "</div>"
      ],
      "text/plain": [
       "                                            LayoutID  Occurrence  \\\n",
       "0             gas:1--heating-circuit:1--warm-water:1         119   \n",
       "1  district-heating:1--heating-circuit:1--warm-wa...          82   \n",
       "2                           gas:1--heating-circuit:1          71   \n",
       "3  gas:1--heat-exchanger:1--heating-circuit:1--wa...          46   \n",
       "4  local-heating-station:1--heating-circuit:1--wa...          41   \n",
       "\n",
       "                                         buildingIDs  KBn sensor_placement  \\\n",
       "0  [768, 769, 770, 778, 787, 1924, 1926, 1927, 46...    1             None   \n",
       "1  [774, 1909, 1910, 1911, 1912, 1913, 1314, 1315...    2             None   \n",
       "2  [758, 759, 499, 1525, 1649, 1654, 1657, 1791, ...    3             None   \n",
       "3  [1925, 1931, 1781, 1509, 1526, 1527, 1531, 153...    4             None   \n",
       "4  [509, 790, 1005, 1628, 1629, 1630, 1631, 672, ...    5             None   \n",
       "\n",
       "  sensor_count  \n",
       "0         None  \n",
       "1         None  \n",
       "2         None  \n",
       "3         None  \n",
       "4         None  "
      ]
     },
     "execution_count": 8,
     "metadata": {},
     "output_type": "execute_result"
    }
   ],
   "source": [
    "df.head()"
   ]
  },
  {
   "cell_type": "markdown",
   "id": "449f2da8-d951-4eef-8764-294b27d48083",
   "metadata": {},
   "source": [
    "## Exports"
   ]
  },
  {
   "cell_type": "code",
   "execution_count": 9,
   "id": "b263a4bf-0afa-4a32-8ad1-3bd2abd2d357",
   "metadata": {},
   "outputs": [],
   "source": [
    "#export\n",
    "if True:\n",
    "    df.to_csv('sensor_placement_for_BKn.csv', index=False)"
   ]
  },
  {
   "cell_type": "code",
   "execution_count": null,
   "id": "d6f3fa36-56cb-4521-baa1-e67c6962c836",
   "metadata": {},
   "outputs": [],
   "source": []
  },
  {
   "cell_type": "code",
   "execution_count": null,
   "id": "ef4b6518-5ca9-4f0a-ae57-1f51e18ce634",
   "metadata": {},
   "outputs": [],
   "source": []
  }
 ],
 "metadata": {
  "kernelspec": {
   "display_name": "Python 3 (ipykernel)",
   "language": "python",
   "name": "python3"
  },
  "language_info": {
   "codemirror_mode": {
    "name": "ipython",
    "version": 3
   },
   "file_extension": ".py",
   "mimetype": "text/x-python",
   "name": "python",
   "nbconvert_exporter": "python",
   "pygments_lexer": "ipython3",
   "version": "3.12.10"
  }
 },
 "nbformat": 4,
 "nbformat_minor": 5
}
