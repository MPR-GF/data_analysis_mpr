{
 "cells": [
  {
   "cell_type": "markdown",
   "id": "6eda667b-a21f-4b11-b993-98b83d7a625d",
   "metadata": {},
   "source": [
    "# Import data"
   ]
  },
  {
   "cell_type": "code",
   "execution_count": 1,
   "id": "8e9c09b1-6d04-4353-b2a7-a78819af1c44",
   "metadata": {},
   "outputs": [],
   "source": [
    "#imports\n",
    "import os\n",
    "import pandas as pd\n",
    "import json\n",
    "import ast\n",
    "import re\n",
    "from pprint import pprint\n",
    "import numpy as np"
   ]
  },
  {
   "cell_type": "code",
   "execution_count": 2,
   "id": "0bf30229-6b5a-41cf-b334-5f6f2f6146f5",
   "metadata": {},
   "outputs": [],
   "source": [
    "#build df from database exctracted data\n",
    "filename='Buildings_infos_2025-07-30.csv'\n",
    "extraced_date=filename[-14:-4]\n",
    "filepath = os.path.join('INs', filename)\n",
    "df = pd.read_csv(filepath, \n",
    "    converters={\n",
    "        'sub_components': ast.literal_eval,\n",
    "        'sensors': ast.literal_eval,\n",
    "        #'missing_WW_sensors': ast.literal_eval\n",
    "    }\n",
    ")"
   ]
  },
  {
   "cell_type": "code",
   "execution_count": 3,
   "id": "e8f8959a-e698-4481-a57c-fe4d54ecbd6f",
   "metadata": {},
   "outputs": [
    {
     "data": {
      "text/plain": [
       "Index(['building_id', 'customerID', 'customer_name', 'address', 'postal_code',\n",
       "       'city', 'device_type', 'device_id', 'LayoutID', 'sub_components',\n",
       "       'modular_system', 't_sensor_count', 'sensors', 'missing_WW_sensors',\n",
       "       'gfid'],\n",
       "      dtype='object')"
      ]
     },
     "execution_count": 3,
     "metadata": {},
     "output_type": "execute_result"
    }
   ],
   "source": [
    "#inspest column\n",
    "df.columns"
   ]
  },
  {
   "cell_type": "markdown",
   "id": "2b1ce8cb-689d-479f-88df-a44b6ac4ba1d",
   "metadata": {},
   "source": [
    "# DF infos"
   ]
  },
  {
   "cell_type": "code",
   "execution_count": 4,
   "id": "d552ffa3-8ac1-483d-a28c-ff001933ef66",
   "metadata": {},
   "outputs": [],
   "source": [
    "#filter out uncesseray infos\n",
    "df=df[['building_id','customerID','address','device_type','device_id','sensors', 'sub_components','missing_WW_sensors','gfid']]"
   ]
  },
  {
   "cell_type": "code",
   "execution_count": 5,
   "id": "47fec5a5-e706-4a1f-9c41-16870dde9a90",
   "metadata": {},
   "outputs": [],
   "source": [
    "#df.head()"
   ]
  },
  {
   "cell_type": "code",
   "execution_count": 6,
   "id": "f4857c61-ca7f-4f1a-9a17-0d37968b50fa",
   "metadata": {},
   "outputs": [
    {
     "data": {
      "text/plain": [
       "building_id           2209\n",
       "customerID            2209\n",
       "address               2209\n",
       "device_type           1120\n",
       "device_id             1120\n",
       "sensors               2209\n",
       "sub_components        2209\n",
       "missing_WW_sensors     457\n",
       "gfid                  1749\n",
       "dtype: int64"
      ]
     },
     "execution_count": 6,
     "metadata": {},
     "output_type": "execute_result"
    }
   ],
   "source": [
    "df.count()"
   ]
  },
  {
   "cell_type": "markdown",
   "id": "6de83f97-ac62-4b6d-9737-2aac2e852c07",
   "metadata": {},
   "source": [
    "## Display one building Detail"
   ]
  },
  {
   "cell_type": "code",
   "execution_count": 7,
   "id": "4b291659-a017-4a89-90a2-df2a7cacba9c",
   "metadata": {},
   "outputs": [],
   "source": [
    "bid=420 "
   ]
  },
  {
   "cell_type": "code",
   "execution_count": 8,
   "id": "017b252d-ee4a-4bfa-b98e-e157c199239a",
   "metadata": {},
   "outputs": [
    {
     "data": {
      "text/plain": [
       "{'global(1)': 'id : 988 category : NOT_SPECIFIED type : GLOBAL sub_type : NOT_SPECIFIED',\n",
       " 'hp(n)(1)': 'id : 989 category : PRODUCER type : HEAT_PUMP sub_type : NOT_SPECIFIED',\n",
       " 'hc(n)(1)': 'id : 990 category : CONSUMER type : HEATING_CIRCUIT sub_type : NOT_SPECIFIED',\n",
       " 'hw(n)(1)': 'id : 991 category : CONSUMER type : WARM_WATER sub_type : FRESH_WATER_STATION'}"
      ]
     },
     "execution_count": 8,
     "metadata": {},
     "output_type": "execute_result"
    }
   ],
   "source": [
    "df.loc[df['building_id'] == bid, 'sub_components'].item()"
   ]
  },
  {
   "cell_type": "code",
   "execution_count": 9,
   "id": "fc407052-f40a-4fda-89cd-7bb8c23cb6f7",
   "metadata": {},
   "outputs": [
    {
     "data": {
      "text/plain": [
       "nan"
      ]
     },
     "execution_count": 9,
     "metadata": {},
     "output_type": "execute_result"
    }
   ],
   "source": [
    "df.loc[df['building_id'] == bid, 'missing_WW_sensors'].item()"
   ]
  },
  {
   "cell_type": "code",
   "execution_count": 10,
   "id": "96eeff52-2e2c-4308-b15f-0a7796446558",
   "metadata": {},
   "outputs": [
    {
     "data": {
      "text/plain": [
       "{'t_hp(n)_secflow(1)': 'id : 7728 gfid : 369 sub_system_id : 989 unit : °C source : GREENBOX_MQTT',\n",
       " 'e_g_bldg_y(None)': 'id : 19387 gfid : 460 sub_system_id : None unit : kWh source : MANUALLY_ENTERED',\n",
       " 't_g_out_api(1)': 'id : 7726 gfid : 434 sub_system_id : 988 unit : °C source : OPEN_WEATHER_API',\n",
       " 't_hp(n)_primflow(1)': 'id : 9510 gfid : 403 sub_system_id : 989 unit : °C source : GREENBOX_MQTT',\n",
       " 't_hp(n)_primreturn(1)': 'id : 9509 gfid : 408 sub_system_id : 989 unit : °C source : GREENBOX_MQTT',\n",
       " 't_hp(n)_secreturn(1)': 'id : 7732 gfid : 371 sub_system_id : 989 unit : °C source : GREENBOX_MQTT',\n",
       " 't_hw(n)_circ(1)': 'id : 7731 gfid : 118 sub_system_id : 991 unit : °C source : GREENBOX_MQTT',\n",
       " 't_hw(n)_pwh(1)': 'id : 7730 gfid : 119 sub_system_id : 991 unit : °C source : GREENBOX_MQTT',\n",
       " 't_hc(n)_flow(1)': 'id : 7733 gfid : 112 sub_system_id : 990 unit : °C source : GREENBOX_MQTT',\n",
       " 't_hw(n)_tank(1)': 'id : 7735 gfid : 124 sub_system_id : 991 unit : °C source : GREENBOX_MQTT',\n",
       " 't_hw(n)_return(1)': 'id : 7729 gfid : 123 sub_system_id : 991 unit : °C source : GREENBOX_MQTT',\n",
       " 't_hc(n)_return(1)': 'id : 7734 gfid : 117 sub_system_id : 990 unit : °C source : GREENBOX_MQTT',\n",
       " 's_hc(n)_heat(1)': 'id : 7727 gfid : 334 sub_system_id : 990 unit : None source : GREENBOX_MQTT'}"
      ]
     },
     "execution_count": 10,
     "metadata": {},
     "output_type": "execute_result"
    }
   ],
   "source": [
    "df.loc[df['building_id'] == bid, 'sensors'].item()"
   ]
  },
  {
   "cell_type": "code",
   "execution_count": 11,
   "id": "71902207-4ae8-4ac0-9301-e26d3dff4d7e",
   "metadata": {},
   "outputs": [
    {
     "data": {
      "text/html": [
       "<div>\n",
       "<style scoped>\n",
       "    .dataframe tbody tr th:only-of-type {\n",
       "        vertical-align: middle;\n",
       "    }\n",
       "\n",
       "    .dataframe tbody tr th {\n",
       "        vertical-align: top;\n",
       "    }\n",
       "\n",
       "    .dataframe thead th {\n",
       "        text-align: right;\n",
       "    }\n",
       "</style>\n",
       "<table border=\"1\" class=\"dataframe\">\n",
       "  <thead>\n",
       "    <tr style=\"text-align: right;\">\n",
       "      <th></th>\n",
       "      <th>device_id</th>\n",
       "      <th>customerID</th>\n",
       "      <th>address</th>\n",
       "      <th>gfid</th>\n",
       "    </tr>\n",
       "  </thead>\n",
       "  <tbody>\n",
       "    <tr>\n",
       "      <th>34</th>\n",
       "      <td>23321007</td>\n",
       "      <td>32</td>\n",
       "      <td>Rendsburger Str. 61</td>\n",
       "      <td>GFP-390</td>\n",
       "    </tr>\n",
       "  </tbody>\n",
       "</table>\n",
       "</div>"
      ],
      "text/plain": [
       "   device_id  customerID              address     gfid\n",
       "34  23321007          32  Rendsburger Str. 61  GFP-390"
      ]
     },
     "execution_count": 11,
     "metadata": {},
     "output_type": "execute_result"
    }
   ],
   "source": [
    "df.loc[df['building_id'] == bid, ['device_id','customerID','address','gfid']]"
   ]
  },
  {
   "cell_type": "markdown",
   "id": "c083a50e-bfb7-447f-8506-70af1903e8f0",
   "metadata": {},
   "source": [
    "## Get rid of nan device_type and nan LayoutID (API buildings ???) "
   ]
  },
  {
   "cell_type": "code",
   "execution_count": 12,
   "id": "0d285a10-a963-4ec4-94dc-d796a1bc60d6",
   "metadata": {},
   "outputs": [
    {
     "data": {
      "text/plain": [
       "{'ECR_LW300', 'RUT956', 'RevPiConnectSE', 'RevPiCore32SE', 'WAGOPFC200', nan}"
      ]
     },
     "execution_count": 12,
     "metadata": {},
     "output_type": "execute_result"
    }
   ],
   "source": [
    "type_of_devices=set()\n",
    "for dev_type in df['device_type']:\n",
    "    type_of_devices.add(dev_type)\n",
    "type_of_devices   "
   ]
  },
  {
   "cell_type": "code",
   "execution_count": 13,
   "id": "42d733d4-d563-406d-96c0-76082ca99caa",
   "metadata": {},
   "outputs": [],
   "source": [
    "#df = df.dropna(subset=['device_type'])"
   ]
  },
  {
   "cell_type": "code",
   "execution_count": 14,
   "id": "ba8e0a42-40e0-4507-bfe9-a94e79d2e8fd",
   "metadata": {},
   "outputs": [
    {
     "data": {
      "text/plain": [
       "building_id           2209\n",
       "customerID            2209\n",
       "address               2209\n",
       "device_type           1120\n",
       "device_id             1120\n",
       "sensors               2209\n",
       "sub_components        2209\n",
       "missing_WW_sensors     457\n",
       "gfid                  1749\n",
       "dtype: int64"
      ]
     },
     "execution_count": 14,
     "metadata": {},
     "output_type": "execute_result"
    }
   ],
   "source": [
    "df.count()"
   ]
  },
  {
   "cell_type": "markdown",
   "id": "0653e739-901d-4bc9-b98c-70e8d05d6886",
   "metadata": {},
   "source": [
    "# Find FWS"
   ]
  },
  {
   "cell_type": "code",
   "execution_count": 15,
   "id": "dd573793-5b8d-4ab7-a21f-c861a7da3dea",
   "metadata": {},
   "outputs": [],
   "source": [
    "def find_fws_ids(sub_components_dict):\n",
    "    \"\"\"\n",
    "    Searches a sub_components dictionary for all FRESH_WATER_STATIONs.\n",
    "    \n",
    "    Returns:\n",
    "        A list of all found component IDs. Returns an empty list if none are found.\n",
    "    \"\"\"\n",
    "    # Return an empty list if the input isn't a dictionary\n",
    "    if not isinstance(sub_components_dict, dict):\n",
    "        return []\n",
    "    \n",
    "    found_ids = [] # Initialize an empty list to store IDs\n",
    "    \n",
    "    # Iterate through all component strings\n",
    "    for component_string in sub_components_dict.values():\n",
    "        if 'sub_type : FRESH_WATER_STATION' in component_string:\n",
    "            try:\n",
    "                parts = component_string.split()\n",
    "                id_index = parts.index('id')\n",
    "                component_id = int(parts[id_index + 2])\n",
    "                # Add the found ID to the list instead of returning\n",
    "                found_ids.append(component_id)\n",
    "            except (ValueError, IndexError):\n",
    "                # Malformed string, skip to the next one\n",
    "                continue\n",
    "                \n",
    "    # After checking all components, return the list of found IDs\n",
    "    return found_ids"
   ]
  },
  {
   "cell_type": "code",
   "execution_count": 16,
   "id": "ec876c69-ad00-4345-8852-0b05e0f2d836",
   "metadata": {},
   "outputs": [],
   "source": [
    "# Apply the function to filter the DataFrame\n",
    "df['fws_ids'] = df['sub_components'].apply(find_fws_ids)"
   ]
  },
  {
   "cell_type": "code",
   "execution_count": 17,
   "id": "074ebf61-9300-49dd-9285-b24722d80cce",
   "metadata": {},
   "outputs": [
    {
     "data": {
      "text/plain": [
       "[991]"
      ]
     },
     "execution_count": 17,
     "metadata": {},
     "output_type": "execute_result"
    }
   ],
   "source": [
    "df.loc[df['building_id'] == bid, 'fws_ids'].item()"
   ]
  },
  {
   "cell_type": "code",
   "execution_count": 18,
   "id": "72d0bbd1-27d1-4a9c-ba41-61b1be033858",
   "metadata": {},
   "outputs": [
    {
     "name": "stdout",
     "output_type": "stream",
     "text": [
      "58 [781, 782, 784, 785, 420, 442, 538, 562, 566, 434, 545, 1569, 792, 793, 797, 798, 799, 800, 801, 2453, 1474, 1475, 1476, 1477, 1478, 1481, 654, 392, 1401, 1404, 1405, 525, 532, 626, 700, 701, 370, 1605, 1606, 473, 474, 475, 476, 1364, 1457, 1461, 1593, 2034, 2250, 469, 472, 2431, 2470, 2382, 2383, 477, 2463, 2483]\n"
     ]
    }
   ],
   "source": [
    "# Show the building_ids\n",
    "buildings_with_fws = df.loc[df['fws_ids'].str.len() > 0, 'building_id'].tolist()\n",
    "print(len(buildings_with_fws),buildings_with_fws)"
   ]
  },
  {
   "cell_type": "code",
   "execution_count": 19,
   "id": "82b3c6b2-58be-43a2-81e2-db23dc10cb06",
   "metadata": {},
   "outputs": [
    {
     "data": {
      "text/html": [
       "<div>\n",
       "<style scoped>\n",
       "    .dataframe tbody tr th:only-of-type {\n",
       "        vertical-align: middle;\n",
       "    }\n",
       "\n",
       "    .dataframe tbody tr th {\n",
       "        vertical-align: top;\n",
       "    }\n",
       "\n",
       "    .dataframe thead th {\n",
       "        text-align: right;\n",
       "    }\n",
       "</style>\n",
       "<table border=\"1\" class=\"dataframe\">\n",
       "  <thead>\n",
       "    <tr style=\"text-align: right;\">\n",
       "      <th></th>\n",
       "      <th>building_id</th>\n",
       "      <th>customerID</th>\n",
       "      <th>address</th>\n",
       "      <th>device_type</th>\n",
       "      <th>device_id</th>\n",
       "      <th>sensors</th>\n",
       "      <th>sub_components</th>\n",
       "      <th>missing_WW_sensors</th>\n",
       "      <th>gfid</th>\n",
       "      <th>fws_ids</th>\n",
       "    </tr>\n",
       "  </thead>\n",
       "  <tbody>\n",
       "    <tr>\n",
       "      <th>23</th>\n",
       "      <td>781</td>\n",
       "      <td>66</td>\n",
       "      <td>Jahnstraße 14</td>\n",
       "      <td>RUT956</td>\n",
       "      <td>2420017</td>\n",
       "      <td>{'None(1)': 'id : 28260 gfid : None sub_system...</td>\n",
       "      <td>{'global(1)': 'id : 2282 category : NOT_SPECIF...</td>\n",
       "      <td>{'missing_gfids': [124], 'ww_subsystem_ids': [...</td>\n",
       "      <td>GFP-13262</td>\n",
       "      <td>[2286]</td>\n",
       "    </tr>\n",
       "    <tr>\n",
       "      <th>24</th>\n",
       "      <td>782</td>\n",
       "      <td>66</td>\n",
       "      <td>Jahnstraße 30</td>\n",
       "      <td>RUT956</td>\n",
       "      <td>2420014</td>\n",
       "      <td>{'t_b(n)_flow(1)': 'id : 18129 gfid : 71 sub_s...</td>\n",
       "      <td>{'global(1)': 'id : 2288 category : NOT_SPECIF...</td>\n",
       "      <td>NaN</td>\n",
       "      <td>GFP-13285</td>\n",
       "      <td>[2292, 2293]</td>\n",
       "    </tr>\n",
       "    <tr>\n",
       "      <th>26</th>\n",
       "      <td>784</td>\n",
       "      <td>66</td>\n",
       "      <td>Jahnstraße 42</td>\n",
       "      <td>RUT956</td>\n",
       "      <td>2402007</td>\n",
       "      <td>{'None(1)': 'id : 18633 gfid : None sub_system...</td>\n",
       "      <td>{'global(1)': 'id : 2300 category : NOT_SPECIF...</td>\n",
       "      <td>NaN</td>\n",
       "      <td>GFP-13331</td>\n",
       "      <td>[2304]</td>\n",
       "    </tr>\n",
       "    <tr>\n",
       "      <th>27</th>\n",
       "      <td>785</td>\n",
       "      <td>66</td>\n",
       "      <td>Jahnstraße 46</td>\n",
       "      <td>RUT956</td>\n",
       "      <td>2403013</td>\n",
       "      <td>{'t_hw(n)_pwh(1)': 'id : 18118 gfid : 119 sub_...</td>\n",
       "      <td>{'global(1)': 'id : 2306 category : NOT_SPECIF...</td>\n",
       "      <td>NaN</td>\n",
       "      <td>GFP-13354</td>\n",
       "      <td>[2310, 2311]</td>\n",
       "    </tr>\n",
       "    <tr>\n",
       "      <th>34</th>\n",
       "      <td>420</td>\n",
       "      <td>32</td>\n",
       "      <td>Rendsburger Str. 61</td>\n",
       "      <td>ECR_LW300</td>\n",
       "      <td>23321007</td>\n",
       "      <td>{'t_hp(n)_secflow(1)': 'id : 7728 gfid : 369 s...</td>\n",
       "      <td>{'global(1)': 'id : 988 category : NOT_SPECIFI...</td>\n",
       "      <td>NaN</td>\n",
       "      <td>GFP-390</td>\n",
       "      <td>[991]</td>\n",
       "    </tr>\n",
       "  </tbody>\n",
       "</table>\n",
       "</div>"
      ],
      "text/plain": [
       "    building_id  customerID              address device_type device_id  \\\n",
       "23          781          66        Jahnstraße 14      RUT956   2420017   \n",
       "24          782          66        Jahnstraße 30      RUT956   2420014   \n",
       "26          784          66        Jahnstraße 42      RUT956   2402007   \n",
       "27          785          66        Jahnstraße 46      RUT956   2403013   \n",
       "34          420          32  Rendsburger Str. 61   ECR_LW300  23321007   \n",
       "\n",
       "                                              sensors  \\\n",
       "23  {'None(1)': 'id : 28260 gfid : None sub_system...   \n",
       "24  {'t_b(n)_flow(1)': 'id : 18129 gfid : 71 sub_s...   \n",
       "26  {'None(1)': 'id : 18633 gfid : None sub_system...   \n",
       "27  {'t_hw(n)_pwh(1)': 'id : 18118 gfid : 119 sub_...   \n",
       "34  {'t_hp(n)_secflow(1)': 'id : 7728 gfid : 369 s...   \n",
       "\n",
       "                                       sub_components  \\\n",
       "23  {'global(1)': 'id : 2282 category : NOT_SPECIF...   \n",
       "24  {'global(1)': 'id : 2288 category : NOT_SPECIF...   \n",
       "26  {'global(1)': 'id : 2300 category : NOT_SPECIF...   \n",
       "27  {'global(1)': 'id : 2306 category : NOT_SPECIF...   \n",
       "34  {'global(1)': 'id : 988 category : NOT_SPECIFI...   \n",
       "\n",
       "                                   missing_WW_sensors       gfid       fws_ids  \n",
       "23  {'missing_gfids': [124], 'ww_subsystem_ids': [...  GFP-13262        [2286]  \n",
       "24                                                NaN  GFP-13285  [2292, 2293]  \n",
       "26                                                NaN  GFP-13331        [2304]  \n",
       "27                                                NaN  GFP-13354  [2310, 2311]  \n",
       "34                                                NaN    GFP-390         [991]  "
      ]
     },
     "execution_count": 19,
     "metadata": {},
     "output_type": "execute_result"
    }
   ],
   "source": [
    "buildings_with_fws=df.loc[df['fws_ids'].str.len() > 0]\n",
    "buildings_with_fws.head()"
   ]
  },
  {
   "cell_type": "markdown",
   "id": "2421f265-5f32-41e7-bb72-c0daab405740",
   "metadata": {},
   "source": [
    "# Export"
   ]
  },
  {
   "cell_type": "code",
   "execution_count": 20,
   "id": "e908ac3d-1e0c-4d32-8921-ce63e2fda0fc",
   "metadata": {},
   "outputs": [],
   "source": [
    "if True:\n",
    "    filename1='Building_infos_'+extraced_date+'.csv'\n",
    "    filename2='Buildings_with_fws_'+extraced_date+'.csv'\n",
    "    filepath1 = os.path.join('OUTs', filename1)\n",
    "    filepath2 = os.path.join('OUTs', filename2)\n",
    "    df.to_csv(filepath1, index=False)\n",
    "    buildings_with_fws.to_csv(filepath2, index=False)\n"
   ]
  },
  {
   "cell_type": "code",
   "execution_count": null,
   "id": "e7b08b06-a70a-4b45-a738-b46ca49ca43e",
   "metadata": {},
   "outputs": [],
   "source": []
  }
 ],
 "metadata": {
  "kernelspec": {
   "display_name": "Python 3 (ipykernel)",
   "language": "python",
   "name": "python3"
  },
  "language_info": {
   "codemirror_mode": {
    "name": "ipython",
    "version": 3
   },
   "file_extension": ".py",
   "mimetype": "text/x-python",
   "name": "python",
   "nbconvert_exporter": "python",
   "pygments_lexer": "ipython3",
   "version": "3.12.10"
  }
 },
 "nbformat": 4,
 "nbformat_minor": 5
}
