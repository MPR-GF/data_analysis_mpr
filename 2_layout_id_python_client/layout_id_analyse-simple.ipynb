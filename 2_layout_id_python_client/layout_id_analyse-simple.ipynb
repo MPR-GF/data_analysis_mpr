{
 "cells": [
  {
   "cell_type": "markdown",
   "id": "2cde8c3b-78b4-4ac9-9b4b-06d01c1b2a73",
   "metadata": {},
   "source": [
    "# Analysis of Layout ID"
   ]
  },
  {
   "cell_type": "markdown",
   "id": "33c8cb17-e8f9-40da-a6a6-4facfe6d7bc7",
   "metadata": {},
   "source": [
    "## Relevant documents"
   ]
  },
  {
   "cell_type": "markdown",
   "id": "d4b1fbd9-6220-4d26-a9a2-ee428b1187f8",
   "metadata": {},
   "source": [
    "- (Python Client Repo)[https://github.com/Green-Fusion/energy-management-backend/tree/main/python_client]\n",
    "- (Klemmenbelegung)[https://docs.google.com/spreadsheets/d/1nkdkx2rI6nVKgoKBgkCUtfwEwuv8kptrRUXcXtfv0NM/edit?gid=247168398#gid=247168398]\n",
    "- (Hypothesis for Klemmenbelegung)[https://docs.google.com/spreadsheets/d/1TSTxMCgEvuoayzOfx1MUqlV0tiqsVTBRN8aldlnFXxA/edit?gid=0#gid=0]"
   ]
  },
  {
   "cell_type": "markdown",
   "id": "f8b846d2-e7da-4800-be67-141a134a2c72",
   "metadata": {},
   "source": [
    "# Import data"
   ]
  },
  {
   "cell_type": "code",
   "execution_count": 1,
   "id": "7a18f22c-fe80-4183-a62e-e2d68a0c4f1a",
   "metadata": {},
   "outputs": [],
   "source": [
    "#imports\n",
    "import os\n",
    "import pandas as pd\n",
    "import json\n",
    "import ast\n",
    "import re\n",
    "from pprint import pprint"
   ]
  },
  {
   "cell_type": "code",
   "execution_count": 2,
   "id": "5a298d11-feb5-432a-830d-a08517e405cc",
   "metadata": {},
   "outputs": [
    {
     "data": {
      "text/plain": [
       "Index(['building_id', 'customerID', 'customer_name', 'address', 'postal_code',\n",
       "       'city', 'device_type', 'device_id', 'LayoutID', 'sub_components',\n",
       "       'modular_system', 't_sensor_count', 'sensors', 'missing_WW_sensors',\n",
       "       'gfid'],\n",
       "      dtype='object')"
      ]
     },
     "execution_count": 2,
     "metadata": {},
     "output_type": "execute_result"
    }
   ],
   "source": [
    "#build df from database exctracted data\n",
    "filename='Buildings_infos_2025-08-19.csv'\n",
    "extraced_date=filename[-14:-4]\n",
    "filepath = os.path.join('INs', filename)\n",
    "df = pd.read_csv(filepath)\n",
    "#inspest column\n",
    "df.columns"
   ]
  },
  {
   "cell_type": "markdown",
   "id": "2f57c5c3-fde9-4ac1-a498-9ef3863d48e9",
   "metadata": {},
   "source": [
    "## filter out uncesseray infos"
   ]
  },
  {
   "cell_type": "code",
   "execution_count": 3,
   "id": "d5931114-43df-4e95-b629-f69ef665835c",
   "metadata": {},
   "outputs": [],
   "source": [
    "#filter out uncesseray infos\n",
    "df=df[['building_id','customerID','address','device_type','device_id','t_sensor_count', 'sub_components','LayoutID','modular_system']]"
   ]
  },
  {
   "cell_type": "code",
   "execution_count": 4,
   "id": "25ec359b-eab1-4c60-a515-61f9bfe17c7e",
   "metadata": {},
   "outputs": [],
   "source": [
    "#df.head()"
   ]
  },
  {
   "cell_type": "code",
   "execution_count": 5,
   "id": "3353a115-146e-4c9f-bb97-42a3e9a67ce0",
   "metadata": {},
   "outputs": [
    {
     "data": {
      "text/plain": [
       "building_id       2310\n",
       "customerID        2310\n",
       "address           2310\n",
       "device_type       1184\n",
       "device_id         1184\n",
       "t_sensor_count    2310\n",
       "sub_components    2310\n",
       "LayoutID          1187\n",
       "modular_system    2310\n",
       "dtype: int64"
      ]
     },
     "execution_count": 5,
     "metadata": {},
     "output_type": "execute_result"
    }
   ],
   "source": [
    "df.count()"
   ]
  },
  {
   "cell_type": "markdown",
   "id": "022c0edf-d69b-4aec-9382-f4ff7148689f",
   "metadata": {},
   "source": [
    "## Get rid of nan device_type and nan LayoutID (API buildings ???) "
   ]
  },
  {
   "cell_type": "code",
   "execution_count": 6,
   "id": "0568ceb6-ef75-420e-b807-10b86e35ad74",
   "metadata": {},
   "outputs": [
    {
     "data": {
      "text/plain": [
       "{'ECR_LW300', 'RUT956', 'RevPiConnectSE', 'RevPiCore32SE', 'WAGOPFC200', nan}"
      ]
     },
     "execution_count": 6,
     "metadata": {},
     "output_type": "execute_result"
    }
   ],
   "source": [
    "type_of_devices=set()\n",
    "for dev_type in df['device_type']:\n",
    "    type_of_devices.add(dev_type)\n",
    "type_of_devices   "
   ]
  },
  {
   "cell_type": "code",
   "execution_count": 7,
   "id": "a7eea4d8-54a1-4d31-8d54-3b1fdf54caf1",
   "metadata": {},
   "outputs": [],
   "source": [
    "df = df.dropna(subset=['device_type'])\n",
    "df = df.dropna(subset=['LayoutID'])"
   ]
  },
  {
   "cell_type": "code",
   "execution_count": 8,
   "id": "daf78f16-b108-45e5-9991-923777fae072",
   "metadata": {},
   "outputs": [
    {
     "data": {
      "text/plain": [
       "building_id       1055\n",
       "customerID        1055\n",
       "address           1055\n",
       "device_type       1055\n",
       "device_id         1055\n",
       "t_sensor_count    1055\n",
       "sub_components    1055\n",
       "LayoutID          1055\n",
       "modular_system    1055\n",
       "dtype: int64"
      ]
     },
     "execution_count": 8,
     "metadata": {},
     "output_type": "execute_result"
    }
   ],
   "source": [
    "df.count()"
   ]
  },
  {
   "cell_type": "markdown",
   "id": "7f91e005-e12d-4b9b-a67f-19628cc5dbf7",
   "metadata": {},
   "source": [
    "# Explore data "
   ]
  },
  {
   "cell_type": "markdown",
   "id": "6e3b2219-d662-4a0b-bb37-1ad504af9b6e",
   "metadata": {},
   "source": [
    "## Explore modular_system"
   ]
  },
  {
   "cell_type": "code",
   "execution_count": 9,
   "id": "16090310-ed64-43f3-933d-63b7fe24da6f",
   "metadata": {},
   "outputs": [
    {
     "name": "stdout",
     "output_type": "stream",
     "text": [
      "{'buildingID': 2165,\n",
      " 'id': 'modular-system----Stadtwerke--Essen--AG-----Am--Brauhaus--15--45359--Essen',\n",
      " 'layoutID': 'gas:1--heat-exchanger:1--heating-circuit:1--heating-circuit:2--heating-circuit:3--heating-circuit:4--heating-circuit:5--heating-circuit:6--heating-circuit:7',\n",
      " 'name': 'modular-system-entry',\n",
      " 'published': True,\n",
      " 'publishedAt': '2025-03-17T09:15:07.723Z',\n",
      " 'subSystems': [{'connections': [{'status': 'hot',\n",
      "                                  'to': {'direction': 'right',\n",
      "                                         'id': 'heating-circuit:7',\n",
      "                                         'subSystem': {'hydraulicLocationIndex': 7,\n",
      "                                                       'name': 'heating-circuit',\n",
      "                                                       'side': 'bottom'}}},\n",
      "                                 {'from': {'direction': 'right',\n",
      "                                           'id': 'heating-circuit:7',\n",
      "                                           'subSystem': {'hydraulicLocationIndex': 7,\n",
      "                                                         'name': 'heating-circuit',\n",
      "                                                         'side': 'bottom'}},\n",
      "                                  'status': 'cold'}],\n",
      "                 'hydraulicLocationIndex': 1,\n",
      "                 'id': 'gas:1',\n",
      "                 'name': 'gas',\n",
      "                 'navigation': {'forward': {'hydraulicLocationIndex': 1,\n",
      "                                            'name': 'heating-circuit'}},\n",
      "                 'parameters': {'subComponent': {'gas--dead-pump--1': {'hideDisplay': True,\n",
      "                                                                       'noConnections': True}}}},\n",
      "                {'connections': [],\n",
      "                 'hydraulicLocationIndex': 1,\n",
      "                 'id': 'heating-circuit:1',\n",
      "                 'label': 'Wohnzimmer Haus 15',\n",
      "                 'name': 'heating-circuit',\n",
      "                 'navigation': {'back': {'hydraulicLocationIndex': 1,\n",
      "                                         'name': 'gas'},\n",
      "                                'forward': {'hydraulicLocationIndex': 2,\n",
      "                                            'name': 'heating-circuit'}},\n",
      "                 'parameters': {'subComponent': {'heating-circuit--pump--1': {'hideDisplay': True,\n",
      "                                                                              'noConnections': True},\n",
      "                                                 'heating-circuit--valve--1': {'hideDisplay': True,\n",
      "                                                                               'noConnections': True}}}},\n",
      "                {'connections': [],\n",
      "                 'hydraulicLocationIndex': 2,\n",
      "                 'id': 'heating-circuit:2',\n",
      "                 'label': 'Küche Schlaf und Kinderzimmer Haus 15 Links',\n",
      "                 'name': 'heating-circuit',\n",
      "                 'navigation': {'back': {'hydraulicLocationIndex': 1,\n",
      "                                         'name': 'heating-circuit'},\n",
      "                                'forward': {'hydraulicLocationIndex': 3,\n",
      "                                            'name': 'heating-circuit'}},\n",
      "                 'parameters': {'subComponent': {'heating-circuit--pump--2': {'hideDisplay': True,\n",
      "                                                                              'noConnections': True},\n",
      "                                                 'heating-circuit--valve--2': {'hideDisplay': True,\n",
      "                                                                               'noConnections': True}}}},\n",
      "                {'connections': [],\n",
      "                 'hydraulicLocationIndex': 3,\n",
      "                 'id': 'heating-circuit:3',\n",
      "                 'label': 'Küche Schlaf und Kinderzimmer Haus 15 Rechts',\n",
      "                 'name': 'heating-circuit',\n",
      "                 'navigation': {'back': {'hydraulicLocationIndex': 2,\n",
      "                                         'name': 'heating-circuit'},\n",
      "                                'forward': {'hydraulicLocationIndex': 4,\n",
      "                                            'name': 'heating-circuit'}},\n",
      "                 'parameters': {'subComponent': {'heating-circuit--pump--3': {'hideDisplay': True,\n",
      "                                                                              'noConnections': True},\n",
      "                                                 'heating-circuit--valve--3': {'hideDisplay': True,\n",
      "                                                                               'noConnections': True}}}},\n",
      "                {'connections': [],\n",
      "                 'hydraulicLocationIndex': 4,\n",
      "                 'id': 'heating-circuit:4',\n",
      "                 'label': 'Schlafzimmer und Küche Haus 17',\n",
      "                 'name': 'heating-circuit',\n",
      "                 'navigation': {'back': {'hydraulicLocationIndex': 3,\n",
      "                                         'name': 'heating-circuit'},\n",
      "                                'forward': {'hydraulicLocationIndex': 5,\n",
      "                                            'name': 'heating-circuit'}},\n",
      "                 'parameters': {'subComponent': {'heating-circuit--pump--4': {'hideDisplay': True,\n",
      "                                                                              'noConnections': True},\n",
      "                                                 'heating-circuit--valve--4': {'hideDisplay': True,\n",
      "                                                                               'noConnections': True}}}},\n",
      "                {'connections': [],\n",
      "                 'hydraulicLocationIndex': 5,\n",
      "                 'id': 'heating-circuit:5',\n",
      "                 'label': '1/2 Wohnung Haus 17',\n",
      "                 'name': 'heating-circuit',\n",
      "                 'navigation': {'back': {'hydraulicLocationIndex': 4,\n",
      "                                         'name': 'heating-circuit'}},\n",
      "                 'parameters': {'subComponent': {'heating-circuit--pump--5': {'hideDisplay': True,\n",
      "                                                                              'noConnections': True},\n",
      "                                                 'heating-circuit--valve--5': {'hideDisplay': True,\n",
      "                                                                               'noConnections': True}}}},\n",
      "                {'connections': [],\n",
      "                 'hydraulicLocationIndex': 6,\n",
      "                 'id': 'heating-circuit:6',\n",
      "                 'label': 'Wohn und Kind Haus 17',\n",
      "                 'name': 'heating-circuit',\n",
      "                 'navigation': {'back': {'hydraulicLocationIndex': 5,\n",
      "                                         'name': 'heating-circuit'},\n",
      "                                'forward': {'hydraulicLocationIndex': 6,\n",
      "                                            'name': 'heating-circuit'}},\n",
      "                 'parameters': {'subComponent': {'heating-circuit--pump--6': {'hideDisplay': True,\n",
      "                                                                              'noConnections': True},\n",
      "                                                 'heating-circuit--valve--6': {'hideDisplay': True,\n",
      "                                                                               'noConnections': True}}}},\n",
      "                {'connections': [{'status': 'cold',\n",
      "                                  'to': {'direction': 'bottom',\n",
      "                                         'id': 'gas:1',\n",
      "                                         'subSystem': {'hydraulicLocationIndex': 1,\n",
      "                                                       'name': 'gas',\n",
      "                                                       'side': 'right'}}},\n",
      "                                 {'from': {'direction': 'bottom',\n",
      "                                           'id': 'gas:1',\n",
      "                                           'subSystem': {'hydraulicLocationIndex': 1,\n",
      "                                                         'name': 'gas',\n",
      "                                                         'side': 'right'}},\n",
      "                                  'status': 'cold'}],\n",
      "                 'hydraulicLocationIndex': 7,\n",
      "                 'id': 'heating-circuit:7',\n",
      "                 'label': 'Spitzboden Haus 15 + 17',\n",
      "                 'name': 'heating-circuit',\n",
      "                 'navigation': {'back': {'hydraulicLocationIndex': 6,\n",
      "                                         'name': 'heating-circuit'}},\n",
      "                 'parameters': {'subComponent': {'heating-circuit--pump--7': {'hideDisplay': True,\n",
      "                                                                              'noConnections': True},\n",
      "                                                 'heating-circuit--valve--7': {'hideDisplay': True,\n",
      "                                                                               'noConnections': True}}}},\n",
      "                {'connections': [],\n",
      "                 'hydraulicLocationIndex': 1,\n",
      "                 'id': 'heat-exchanger:1',\n",
      "                 'name': 'heat-exchanger',\n",
      "                 'navigation': {}}],\n",
      " 'version': 'v1'}\n"
     ]
    }
   ],
   "source": [
    "if True: #test single buildings\n",
    "    building_id = 2165#2389#1801#2317#1315#1593#1809 #1801 #\n",
    "    mod_sys = df.loc[df['building_id'] == building_id, 'modular_system'].iloc[0]\n",
    "    modular_system = ast.literal_eval(mod_sys)\n",
    "    #print(df.loc[df['building_id'] == building_id, 'LayoutID_Tops'].iloc[0])\n",
    "    pprint(modular_system)"
   ]
  },
  {
   "cell_type": "markdown",
   "id": "03749609-43d7-450a-9fdb-abdb877f5a60",
   "metadata": {},
   "source": [
    "## Get variantions sub components from sub_components"
   ]
  },
  {
   "cell_type": "code",
   "execution_count": 10,
   "id": "d89e1513-48c3-40b7-8cdb-d9442f1033f7",
   "metadata": {
    "scrolled": true
   },
   "outputs": [],
   "source": [
    "# Initialize a set to collect unique key-value variations\n",
    "unique_subcomponents = set()\n",
    "\n",
    "# Convert string to dict and process each component\n",
    "for comp_dict in df['sub_components'].apply(ast.literal_eval):\n",
    "    for k, v in comp_dict.items():\n",
    "        # Remove (n), (1), (2)... etc. from the key\n",
    "        key_cleaned = re.sub(r'\\(\\d+\\)', '', k)\n",
    "        variation = f\"{key_cleaned}: {v}\"\n",
    "        unique_subcomponents.add(variation)\n",
    "\n",
    "# Display results\n",
    "#for variation in sorted(unique_subcomponents):\n",
    "#    print(variation)"
   ]
  },
  {
   "cell_type": "markdown",
   "id": "934cb668-3068-4de3-8c2d-fcd6cb1ae840",
   "metadata": {},
   "source": [
    "## Get variations of sub components from LayoutID"
   ]
  },
  {
   "cell_type": "code",
   "execution_count": 11,
   "id": "2aa3d658-d242-49d0-94be-8695726ae240",
   "metadata": {},
   "outputs": [],
   "source": [
    "# Sample: df['LayoutID_Tops'] = your actual column\n",
    "def extract_words(layout_str):\n",
    "    # Split by '--', then split each part by ':'\n",
    "    parts = layout_str.split('--')\n",
    "    words = []\n",
    "    for part in parts:\n",
    "        words.extend(part.split(':'))\n",
    "    return words\n",
    "\n",
    "# Apply and flatten the list\n",
    "all_words = df['LayoutID'].dropna().apply(extract_words).explode()\n",
    "\n",
    "# Get unique values\n",
    "unique_words = all_words.unique().tolist()\n",
    "\n",
    "# Optional: sort alphabetically or numerically\n",
    "unique_words.sort()\n",
    "\n",
    "#get rid of pipes and numbers\n",
    "cleaned_words = [\n",
    "    word for word in unique_words\n",
    "    if not word.isdigit() and\n",
    "    'pipe' not in word.lower() and\n",
    "    'valve' not in word.lower()\n",
    "]"
   ]
  },
  {
   "cell_type": "code",
   "execution_count": 12,
   "id": "0248343f-056d-416b-a25c-640447c6b635",
   "metadata": {},
   "outputs": [
    {
     "data": {
      "text/plain": [
       "['1-heating-circuit',\n",
       " 'buffer-tank',\n",
       " 'chp',\n",
       " 'district-heating',\n",
       " 'gas',\n",
       " 'global-separation-circuit',\n",
       " 'heat-exchanger',\n",
       " 'heat-pump',\n",
       " 'heating-circuit',\n",
       " 'hydraulic-separator',\n",
       " 'local-heating-station',\n",
       " 'solar-thermal',\n",
       " 'warm-water']"
      ]
     },
     "execution_count": 12,
     "metadata": {},
     "output_type": "execute_result"
    }
   ],
   "source": [
    "cleaned_words"
   ]
  },
  {
   "cell_type": "markdown",
   "id": "35c435e3-58b5-4350-81e0-0db705a272f9",
   "metadata": {},
   "source": [
    "## Get Subcomponent variations from modular_system"
   ]
  },
  {
   "cell_type": "code",
   "execution_count": 13,
   "id": "3083b355-3b4c-4bee-98eb-9c26b10f9bc2",
   "metadata": {},
   "outputs": [],
   "source": [
    "def extract_unique_subcomponents(df, column='modular_system'):\n",
    "    subcomponent_set = set()\n",
    "\n",
    "    for entry in df[column]:\n",
    "        try:\n",
    "            # Safely convert string representation of dict to actual dict\n",
    "            data = ast.literal_eval(entry)\n",
    "        except Exception as e:\n",
    "            print(f\"Skipping invalid entry due to error: {e}\")\n",
    "            continue\n",
    "\n",
    "        sub_systems = data.get(\"subSystems\", [])\n",
    "        for subsystem in sub_systems:\n",
    "            parameters = subsystem.get(\"parameters\", {})\n",
    "            sub_components = parameters.get(\"subComponent\", {})\n",
    "            \n",
    "            if isinstance(sub_components, dict):\n",
    "                for key in sub_components.keys():\n",
    "                    # Remove trailing --<number>\n",
    "                    base_key = re.sub(r'--\\d+$', '', key)\n",
    "\n",
    "                    # Check prefix\n",
    "                    if base_key.startswith((\"district-heating--\", \"local-heating-station--\", \"heating-circuit--\",\"warm-water\")):\n",
    "                        subcomponent_set.add(base_key)\n",
    "\n",
    "    return sorted(subcomponent_set)"
   ]
  },
  {
   "cell_type": "code",
   "execution_count": 14,
   "id": "04dbfad4-056c-4fe1-a35d-ad01f4c3a340",
   "metadata": {},
   "outputs": [
    {
     "name": "stdout",
     "output_type": "stream",
     "text": [
      "district-heating--heat-exchanger\n",
      "district-heating--pump-sec\n",
      "district-heating--sec-flow-temp\n",
      "district-heating--valve\n",
      "heating-circuit--placeholder-cold-connection-node\n",
      "heating-circuit--pump\n",
      "heating-circuit--secondary-flow-temp\n",
      "heating-circuit--valve\n",
      "local-heating-station--heat-exchanger\n",
      "local-heating-station--pump-prim\n",
      "local-heating-station--pump-sec\n",
      "warm-water--flow-dead-pump\n"
     ]
    }
   ],
   "source": [
    "unique_subcomponents = extract_unique_subcomponents(df)\n",
    "for compo in unique_subcomponents:\n",
    "    print(compo)"
   ]
  },
  {
   "cell_type": "markdown",
   "id": "043f0e57-1b91-434e-a20f-93e361fadb7a",
   "metadata": {},
   "source": [
    "# Group by LayoutID"
   ]
  },
  {
   "cell_type": "code",
   "execution_count": 15,
   "id": "6b529cc8-abb1-4e9e-90bd-052a8f115171",
   "metadata": {},
   "outputs": [
    {
     "name": "stdout",
     "output_type": "stream",
     "text": [
      "Number of unique LayoutID values: 222\n"
     ]
    }
   ],
   "source": [
    "unique_count = df['LayoutID'].nunique()\n",
    "print(f\"Number of unique LayoutID values: {unique_count}\")"
   ]
  },
  {
   "cell_type": "code",
   "execution_count": 16,
   "id": "4adff9da-2125-48bb-9500-61bc6899da6c",
   "metadata": {},
   "outputs": [],
   "source": [
    "# Group by LayoutID\n",
    "grouped = df.groupby('LayoutID').agg(\n",
    "    Occurrence=('LayoutID', 'count'),\n",
    "    buildingIDs=('building_id', list),\n",
    "    sensor_count=('t_sensor_count', set)\n",
    ").reset_index()\n",
    "\n",
    "# Add a simple index column starting from 0\n",
    "grouped = grouped.sort_values(by='Occurrence', ascending=False).reset_index(drop=True)\n",
    "grouped['KBn']=grouped.index+1\n",
    "#grouped['KBn'] = grouped['KBn'].fillna(-1).astype(int)"
   ]
  },
  {
   "cell_type": "code",
   "execution_count": 17,
   "id": "6948da52-6313-445a-b6c0-8b356ed935f3",
   "metadata": {},
   "outputs": [
    {
     "data": {
      "text/html": [
       "<div>\n",
       "<style scoped>\n",
       "    .dataframe tbody tr th:only-of-type {\n",
       "        vertical-align: middle;\n",
       "    }\n",
       "\n",
       "    .dataframe tbody tr th {\n",
       "        vertical-align: top;\n",
       "    }\n",
       "\n",
       "    .dataframe thead th {\n",
       "        text-align: right;\n",
       "    }\n",
       "</style>\n",
       "<table border=\"1\" class=\"dataframe\">\n",
       "  <thead>\n",
       "    <tr style=\"text-align: right;\">\n",
       "      <th></th>\n",
       "      <th>LayoutID</th>\n",
       "      <th>Occurrence</th>\n",
       "      <th>buildingIDs</th>\n",
       "      <th>sensor_count</th>\n",
       "      <th>KBn</th>\n",
       "    </tr>\n",
       "  </thead>\n",
       "  <tbody>\n",
       "    <tr>\n",
       "      <th>0</th>\n",
       "      <td>gas:1--heating-circuit:1--warm-water:1</td>\n",
       "      <td>106</td>\n",
       "      <td>[768, 769, 770, 778, 787, 1924, 1926, 1927, 46...</td>\n",
       "      <td>{0, 3, 4, 6, 7, 8, 9}</td>\n",
       "      <td>1</td>\n",
       "    </tr>\n",
       "    <tr>\n",
       "      <th>1</th>\n",
       "      <td>district-heating:1--heating-circuit:1--warm-wa...</td>\n",
       "      <td>76</td>\n",
       "      <td>[774, 1909, 1910, 1911, 1912, 1913, 1314, 1315...</td>\n",
       "      <td>{5, 6, 7, 8, 9, 10, 11}</td>\n",
       "      <td>2</td>\n",
       "    </tr>\n",
       "    <tr>\n",
       "      <th>2</th>\n",
       "      <td>gas:1--heating-circuit:1</td>\n",
       "      <td>70</td>\n",
       "      <td>[758, 759, 499, 1525, 1649, 1654, 1657, 1791, ...</td>\n",
       "      <td>{2, 3, 4, 6, 8}</td>\n",
       "      <td>3</td>\n",
       "    </tr>\n",
       "    <tr>\n",
       "      <th>3</th>\n",
       "      <td>gas:1--heat-exchanger:1--heating-circuit:1--wa...</td>\n",
       "      <td>45</td>\n",
       "      <td>[1925, 1931, 1509, 1526, 1527, 1531, 1532, 153...</td>\n",
       "      <td>{8, 10, 5}</td>\n",
       "      <td>4</td>\n",
       "    </tr>\n",
       "    <tr>\n",
       "      <th>4</th>\n",
       "      <td>local-heating-station:1--heating-circuit:1--wa...</td>\n",
       "      <td>42</td>\n",
       "      <td>[509, 790, 1005, 1628, 1629, 1630, 1631, 1431,...</td>\n",
       "      <td>{8, 5, 6, 7}</td>\n",
       "      <td>5</td>\n",
       "    </tr>\n",
       "  </tbody>\n",
       "</table>\n",
       "</div>"
      ],
      "text/plain": [
       "                                            LayoutID  Occurrence  \\\n",
       "0             gas:1--heating-circuit:1--warm-water:1         106   \n",
       "1  district-heating:1--heating-circuit:1--warm-wa...          76   \n",
       "2                           gas:1--heating-circuit:1          70   \n",
       "3  gas:1--heat-exchanger:1--heating-circuit:1--wa...          45   \n",
       "4  local-heating-station:1--heating-circuit:1--wa...          42   \n",
       "\n",
       "                                         buildingIDs             sensor_count  \\\n",
       "0  [768, 769, 770, 778, 787, 1924, 1926, 1927, 46...    {0, 3, 4, 6, 7, 8, 9}   \n",
       "1  [774, 1909, 1910, 1911, 1912, 1913, 1314, 1315...  {5, 6, 7, 8, 9, 10, 11}   \n",
       "2  [758, 759, 499, 1525, 1649, 1654, 1657, 1791, ...          {2, 3, 4, 6, 8}   \n",
       "3  [1925, 1931, 1509, 1526, 1527, 1531, 1532, 153...               {8, 10, 5}   \n",
       "4  [509, 790, 1005, 1628, 1629, 1630, 1631, 1431,...             {8, 5, 6, 7}   \n",
       "\n",
       "   KBn  \n",
       "0    1  \n",
       "1    2  \n",
       "2    3  \n",
       "3    4  \n",
       "4    5  "
      ]
     },
     "execution_count": 17,
     "metadata": {},
     "output_type": "execute_result"
    }
   ],
   "source": [
    "# Show result\n",
    "grouped.head(5)"
   ]
  },
  {
   "cell_type": "code",
   "execution_count": 18,
   "id": "9a68707b-8107-40b9-a504-c04b7fdb221e",
   "metadata": {},
   "outputs": [
    {
     "name": "stdout",
     "output_type": "stream",
     "text": [
      "total LayoutID: 1055\n",
      "top 10 LayoutIDs count: 471\n",
      "top 20 LayoutIDs count: 603\n",
      "Coverage top 10 LayoutIDs:  44.6 %\n",
      "Coverage top 20 LayoutIDs:  57.2 %\n"
     ]
    }
   ],
   "source": [
    "# Sum the number of occurrences for top 10 and top 20\n",
    "top_10_sum = grouped.head(10)['Occurrence'].sum()\n",
    "top_20_sum = grouped.head(20)['Occurrence'].sum()\n",
    "print(f\"total LayoutID: {df.LayoutID.count()}\")\n",
    "print(f\"top 10 LayoutIDs count: {top_10_sum}\")\n",
    "print(f\"top 20 LayoutIDs count: {top_20_sum}\")\n",
    "\n",
    "print(f\"Coverage top 10 LayoutIDs: {100*top_10_sum/df.LayoutID.count(): .1f} %\")\n",
    "print(f\"Coverage top 20 LayoutIDs: {100*top_20_sum/df.LayoutID.count(): .1f} %\")"
   ]
  },
  {
   "cell_type": "markdown",
   "id": "ba95986c-9877-4ee3-8222-44f08970a0ef",
   "metadata": {},
   "source": [
    "# New Grouping"
   ]
  },
  {
   "cell_type": "markdown",
   "id": "405c5e7a-da30-4032-9bf8-afcc31dea167",
   "metadata": {},
   "source": [
    "## Add KBn"
   ]
  },
  {
   "cell_type": "code",
   "execution_count": 19,
   "id": "448a753f-01b1-44c0-b56c-b86c9500bbf2",
   "metadata": {},
   "outputs": [
    {
     "data": {
      "text/html": [
       "<div>\n",
       "<style scoped>\n",
       "    .dataframe tbody tr th:only-of-type {\n",
       "        vertical-align: middle;\n",
       "    }\n",
       "\n",
       "    .dataframe tbody tr th {\n",
       "        vertical-align: top;\n",
       "    }\n",
       "\n",
       "    .dataframe thead th {\n",
       "        text-align: right;\n",
       "    }\n",
       "</style>\n",
       "<table border=\"1\" class=\"dataframe\">\n",
       "  <thead>\n",
       "    <tr style=\"text-align: right;\">\n",
       "      <th></th>\n",
       "      <th>KBn</th>\n",
       "      <th>building_id</th>\n",
       "      <th>customerID</th>\n",
       "      <th>address</th>\n",
       "      <th>device_type</th>\n",
       "      <th>device_id</th>\n",
       "      <th>t_sensor_count</th>\n",
       "      <th>sub_components</th>\n",
       "      <th>LayoutID</th>\n",
       "      <th>modular_system</th>\n",
       "    </tr>\n",
       "  </thead>\n",
       "  <tbody>\n",
       "    <tr>\n",
       "      <th>0</th>\n",
       "      <td>43</td>\n",
       "      <td>756</td>\n",
       "      <td>66</td>\n",
       "      <td>Wolzogenstr.28</td>\n",
       "      <td>RUT956</td>\n",
       "      <td>2403001</td>\n",
       "      <td>8</td>\n",
       "      <td>{'global(1)': 'id : 2204 category : NOT_SPECIF...</td>\n",
       "      <td>gas:1--gas:2--heating-circuit:1--heating-circu...</td>\n",
       "      <td>{'name': 'modular-system-entry', 'id': 'modula...</td>\n",
       "    </tr>\n",
       "    <tr>\n",
       "      <th>1</th>\n",
       "      <td>33</td>\n",
       "      <td>757</td>\n",
       "      <td>66</td>\n",
       "      <td>Hagelberger Str. 26</td>\n",
       "      <td>RUT956</td>\n",
       "      <td>2406009</td>\n",
       "      <td>4</td>\n",
       "      <td>{'global(1)': 'id : 2209 category : NOT_SPECIF...</td>\n",
       "      <td>gas:1--gas:2--heating-circuit:1</td>\n",
       "      <td>{'name': 'modular-system-entry', 'id': 'modula...</td>\n",
       "    </tr>\n",
       "    <tr>\n",
       "      <th>2</th>\n",
       "      <td>3</td>\n",
       "      <td>758</td>\n",
       "      <td>66</td>\n",
       "      <td>Hochstr. 8</td>\n",
       "      <td>RUT956</td>\n",
       "      <td>2420012</td>\n",
       "      <td>6</td>\n",
       "      <td>{'global(1)': 'id : 2213 category : NOT_SPECIF...</td>\n",
       "      <td>gas:1--heating-circuit:1</td>\n",
       "      <td>{'name': 'modular-system-entry', 'id': 'modula...</td>\n",
       "    </tr>\n",
       "    <tr>\n",
       "      <th>3</th>\n",
       "      <td>3</td>\n",
       "      <td>759</td>\n",
       "      <td>66</td>\n",
       "      <td>Planufer 82a</td>\n",
       "      <td>RUT956</td>\n",
       "      <td>2403011</td>\n",
       "      <td>4</td>\n",
       "      <td>{'global(1)': 'id : 2216 category : NOT_SPECIF...</td>\n",
       "      <td>gas:1--heating-circuit:1</td>\n",
       "      <td>{'name': 'modular-system-entry', 'id': 'modula...</td>\n",
       "    </tr>\n",
       "    <tr>\n",
       "      <th>4</th>\n",
       "      <td>39</td>\n",
       "      <td>761</td>\n",
       "      <td>66</td>\n",
       "      <td>Gabainstr. 13</td>\n",
       "      <td>RUT956</td>\n",
       "      <td>2440001</td>\n",
       "      <td>8</td>\n",
       "      <td>{'global(1)': 'id : 2219 category : NOT_SPECIF...</td>\n",
       "      <td>gas:1--gas:2--global-separation-circuit:1--hea...</td>\n",
       "      <td>{'name': 'modular-system-entry', 'id': 'modula...</td>\n",
       "    </tr>\n",
       "  </tbody>\n",
       "</table>\n",
       "</div>"
      ],
      "text/plain": [
       "   KBn  building_id  customerID              address device_type device_id  \\\n",
       "0   43          756          66       Wolzogenstr.28      RUT956   2403001   \n",
       "1   33          757          66  Hagelberger Str. 26      RUT956   2406009   \n",
       "2    3          758          66           Hochstr. 8      RUT956   2420012   \n",
       "3    3          759          66         Planufer 82a      RUT956   2403011   \n",
       "4   39          761          66        Gabainstr. 13      RUT956   2440001   \n",
       "\n",
       "   t_sensor_count                                     sub_components  \\\n",
       "0               8  {'global(1)': 'id : 2204 category : NOT_SPECIF...   \n",
       "1               4  {'global(1)': 'id : 2209 category : NOT_SPECIF...   \n",
       "2               6  {'global(1)': 'id : 2213 category : NOT_SPECIF...   \n",
       "3               4  {'global(1)': 'id : 2216 category : NOT_SPECIF...   \n",
       "4               8  {'global(1)': 'id : 2219 category : NOT_SPECIF...   \n",
       "\n",
       "                                            LayoutID  \\\n",
       "0  gas:1--gas:2--heating-circuit:1--heating-circu...   \n",
       "1                    gas:1--gas:2--heating-circuit:1   \n",
       "2                           gas:1--heating-circuit:1   \n",
       "3                           gas:1--heating-circuit:1   \n",
       "4  gas:1--gas:2--global-separation-circuit:1--hea...   \n",
       "\n",
       "                                      modular_system  \n",
       "0  {'name': 'modular-system-entry', 'id': 'modula...  \n",
       "1  {'name': 'modular-system-entry', 'id': 'modula...  \n",
       "2  {'name': 'modular-system-entry', 'id': 'modula...  \n",
       "3  {'name': 'modular-system-entry', 'id': 'modula...  \n",
       "4  {'name': 'modular-system-entry', 'id': 'modula...  "
      ]
     },
     "execution_count": 19,
     "metadata": {},
     "output_type": "execute_result"
    }
   ],
   "source": [
    "# add KBns\n",
    "df = df.merge(grouped[['LayoutID', 'KBn']], on='LayoutID', how='left')\n",
    "cols = ['KBn'] + [col for col in df.columns if col != 'KBn']\n",
    "df = df[cols]\n",
    "df.head()"
   ]
  },
  {
   "cell_type": "markdown",
   "id": "33a4028a-346f-4096-acc7-93c0f604f70c",
   "metadata": {},
   "source": [
    "## Fix layout WW -> FWS"
   ]
  },
  {
   "cell_type": "markdown",
   "id": "28a27766-37e0-48ee-9081-140d3d4c298d",
   "metadata": {},
   "source": [
    "### Get FWS systems "
   ]
  },
  {
   "cell_type": "code",
   "execution_count": 20,
   "id": "88b25936-0bb1-4482-bce6-da8fc472f71f",
   "metadata": {},
   "outputs": [
    {
     "name": "stdout",
     "output_type": "stream",
     "text": [
      "51 [781, 782, 784, 785, 420, 442, 538, 562, 566, 434, 545, 1569, 792, 793, 797, 798, 799, 800, 801, 1474, 1475, 1476, 1477, 1478, 1481, 1401, 1405, 525, 532, 626, 700, 701, 370, 1605, 1606, 473, 474, 475, 1364, 1457, 1461, 2250, 469, 472, 2431, 654, 2463, 477, 2453, 2382, 2383]\n"
     ]
    }
   ],
   "source": [
    "# Ensure sub_components is a dictionary\n",
    "def has_fresh_water_station(comp_str):\n",
    "    try:\n",
    "        comp_dict = ast.literal_eval(comp_str)\n",
    "        return any(\"sub_type : FRESH_WATER_STATION\" in val for val in comp_dict.values())\n",
    "    except:\n",
    "        return False\n",
    "\n",
    "# Apply the function to filter the DataFrame\n",
    "df_fresh = df[df['sub_components'].apply(has_fresh_water_station)]\n",
    "\n",
    "# Show the building_ids\n",
    "list_fws=df_fresh['building_id'].tolist()\n",
    "print(len(list_fws),list_fws)"
   ]
  },
  {
   "cell_type": "code",
   "execution_count": 21,
   "id": "9e219d01-8b5e-4634-b8c2-d2bed397c6b5",
   "metadata": {},
   "outputs": [
    {
     "name": "stdout",
     "output_type": "stream",
     "text": [
      "{'global(1)': 'id : 827 category : NOT_SPECIFIED type : GLOBAL sub_type : NOT_SPECIFIED', 'hc(n)(1)': 'id : 828 category : CONSUMER type : HEATING_CIRCUIT sub_type : NOT_SPECIFIED', 'hw(n)(1)': 'id : 829 category : CONSUMER type : WARM_WATER sub_type : FRESH_WATER_STATION', 'hw(n)(2)': 'id : 830 category : CONSUMER type : WARM_WATER sub_type : FRESH_WATER_STATION'}\n"
     ]
    }
   ],
   "source": [
    "print(df.loc[df['building_id'] == 370, 'sub_components'].values[0])"
   ]
  },
  {
   "cell_type": "markdown",
   "id": "f7d750cf-a878-41db-a13e-2da951e19902",
   "metadata": {},
   "source": [
    "### Fix layout "
   ]
  },
  {
   "cell_type": "code",
   "execution_count": 22,
   "id": "5d48692b-4f52-4c07-b55d-132cfbc0f0e6",
   "metadata": {},
   "outputs": [],
   "source": [
    "def fix_func(row):\n",
    "    layout = row['LayoutID']\n",
    "    sub_components = row['sub_components']\n",
    "\n",
    "    if pd.isna(layout):\n",
    "        return layout\n",
    "\n",
    "    try:\n",
    "        comp_dict = ast.literal_eval(sub_components)\n",
    "    except Exception:\n",
    "        return layout\n",
    "\n",
    "    # Only modify if FRESH_WATER_STATION is present\n",
    "    if not any(\"sub_type : FRESH_WATER_STATION\" in val for val in comp_dict.values()):\n",
    "        return layout\n",
    "\n",
    "    # Replace warm-water:<n> with fresh-water-station:<n>\n",
    "    parts = layout.split(\"--\")\n",
    "    new_parts = []\n",
    "    for part in parts:\n",
    "        match = re.match(r'warm-water:(\\d+)', part)\n",
    "        if match:\n",
    "            new_parts.append(f\"fresh-water-station:{match.group(1)}\")\n",
    "        else:\n",
    "            new_parts.append(part)\n",
    "\n",
    "    return \"--\".join(new_parts)"
   ]
  },
  {
   "cell_type": "code",
   "execution_count": 23,
   "id": "3708aa7f-5ccd-46b5-8e34-e83289f4ee45",
   "metadata": {},
   "outputs": [],
   "source": [
    "df['LayoutID_Tops'] = df.apply(fix_func, axis=1)"
   ]
  },
  {
   "cell_type": "code",
   "execution_count": 24,
   "id": "487c1553-72cc-47ba-91d2-5d234e127ac5",
   "metadata": {},
   "outputs": [],
   "source": [
    "df_fws = df[df['building_id'].isin(list_fws)][['building_id','LayoutID_Tops','sub_components']].reset_index(drop=True)"
   ]
  },
  {
   "cell_type": "code",
   "execution_count": 25,
   "id": "2313b334-bbd4-4ab9-9101-b6281004646c",
   "metadata": {},
   "outputs": [
    {
     "name": "stdout",
     "output_type": "stream",
     "text": [
      "781 gas:1--solar-thermal:1--buffer-tank:1--heating-circuit:1--fresh-water-station:1\n",
      "782 gas:1--hydraulic-separator:1--heating-circuit:1--solar-thermal:1--buffer-tank:1--fresh-water-station:1\n",
      "784 gas:1--hydraulic-separator:1--heating-circuit:1--solar-thermal:1--buffer-tank:1--fresh-water-station:1\n",
      "785 gas:1--hydraulic-separator:1--heating-circuit:1--solar-thermal:1--buffer-tank:1--fresh-water-station:1\n",
      "420 heat-pump:1--down-right-pipes:1--buffer-tank:1--heating-circuit:1--down-left-pipes:1--fresh-water-station:1\n",
      "442 gas:1--empty-pipes:1--heat-exchanger:1--down-right-pipes:1--empty-pipes:2--buffer-tank:1--chp:1--heating-circuit:1--fresh-water-station:1\n",
      "538 gas:1--solar-thermal:1--buffer-tank:1--heating-circuit:1--heating-circuit:2--fresh-water-station:1\n",
      "562 gas:1--solar-thermal:1--buffer-tank:1--heating-circuit:1--heating-circuit:2--fresh-water-station:1\n",
      "566 gas:1--gas:2--fresh-water-station:1--buffer-tank:1--heating-circuit:1\n",
      "434 gas:1--gas:2--gas:3--heat-exchanger:1--heating-circuit:1--fresh-water-station:1\n",
      "545 gas:1--heat-exchanger:1--heating-circuit:1--heating-circuit:2--fresh-water-station:1\n",
      "1569 gas:1--solar-thermal:1--fresh-water-station:1--heating-circuit:1\n",
      "792 gas:1--heat-exchanger:1--heating-circuit:1--heating-circuit:2--fresh-water-station:1\n",
      "793 gas:1--heat-exchanger:1--heating-circuit:1--heating-circuit:2--fresh-water-station:1\n",
      "797 gas:1--gas:2--heat-exchanger:1--heating-circuit:1--fresh-water-station:1\n",
      "798 gas:1--gas:2--heat-exchanger:1--heating-circuit:1--heating-circuit:2--fresh-water-station:1\n",
      "799 gas:1--heat-exchanger:1--heating-circuit:1--fresh-water-station:1\n",
      "800 gas:1--gas:2--heat-exchanger:1--heating-circuit:1--heating-circuit:2--fresh-water-station:1\n",
      "801 gas:1--gas:2--heat-exchanger:1--heating-circuit:1--fresh-water-station:1\n",
      "1474 district-heating:1--heating-circuit:1--fresh-water-station:1--fresh-water-station:2\n",
      "1475 district-heating:1--heating-circuit:1--fresh-water-station:1--fresh-water-station:2\n",
      "1476 gas:1--heat-exchanger:1--solar-thermal:1--fresh-water-station:1--heating-circuit:1\n",
      "1477 gas:1--heat-exchanger:1--solar-thermal:1--fresh-water-station:1--heating-circuit:1\n",
      "1478 heat-pump:1--gas:1--down-right-pipes:1--buffer-tank:1--heating-circuit:1--down-left-pipes:1--fresh-water-station:1\n",
      "1481 gas:1--heat-exchanger:1--heating-circuit:1--heating-circuit:2--solar-thermal:1--buffer-tank:1--fresh-water-station:1\n",
      "1401 gas:1--heating-circuit:1--fresh-water-station:1\n",
      "1405 gas:1--solar-thermal:1--fresh-water-station:1--heating-circuit:1--heating-circuit:2\n",
      "525 district-heating:1--solar-thermal:1--buffer-tank:1--heating-circuit:1--heating-circuit:2--fresh-water-station:1\n",
      "532 gas:1--gas:2--gas:3--solar-thermal:1--buffer-tank:1--heating-circuit:1--heating-circuit:2--fresh-water-station:1\n",
      "626 district-heating:1--down-right-pipes:1--heat-exchanger:1--heating-circuit:1--heat-exchanger:2--down-left-pipes:1--fresh-water-station:1\n",
      "700 district-heating:1--down-right-pipes:1--heat-exchanger:1--heating-circuit:1--heat-exchanger:2--down-left-pipes:1--fresh-water-station:1\n",
      "701 district-heating:1--down-right-pipes:1--heat-exchanger:1--heating-circuit:1--heat-exchanger:2--down-left-pipes:1--fresh-water-station:1\n",
      "370 district-heating:1--heating-circuit:1--buffer-tank:1--fresh-water-station:1\n",
      "1605 district-heating:1--heating-circuit:1--fresh-water-station:1\n",
      "1606 district-heating:1--fresh-water-station:1--heating-circuit:1--heating-circuit:2\n",
      "473 heat-pump:1--gas:1--down-right-pipes:1--buffer-tank:1--heating-circuit:1--down-left-pipes:1--fresh-water-station:1\n",
      "474 heat-pump:1--gas:1--down-right-pipes:1--buffer-tank:1--heating-circuit:1--down-left-pipes:1--fresh-water-station:1\n",
      "475 district-heating:1--heating-circuit:1--heating-circuit:2--fresh-water-station:1--fresh-water-station:2\n",
      "1364 heat-pump:1--buffer-tank:1--right-down-pipes:1--gas:1--heating-circuit:1--heating-circuit:2--fresh-water-station:1\n",
      "1457 heat-pump:1--buffer-tank:1--heating-circuit:1--heating-circuit:2--heating-circuit:3--fresh-water-station:1\n",
      "1461 gas:1--heating-circuit:1--fresh-water-station:1\n",
      "2250 heat-pump:1--right-down-pipes:1--heat-pump:2--buffer-tank:1--gas:1--heating-circuit:1--heating-circuit:2--fresh-water-station:1\n",
      "469 gas:1--solar-thermal:1--fresh-water-station:1--heating-circuit:1\n",
      "472 gas:1--solar-thermal:1--fresh-water-station:1--heating-circuit:1\n",
      "2431 gas:1--heating-circuit:1--fresh-water-station:1\n",
      "654 heat-pump:1--right-down-pipes:1--heat-pump:2--right-down-pipes:2--heat-pump:3--heat-exchanger:1--buffer-tank:1--heating-circuit:1--fresh-water-station:1\n",
      "2463 gas:1--heating-circuit:1--heating-circuit:2--buffer-tank:1--heating-circuit:3--fresh-water-station:1\n",
      "477 gas:1--heating-circuit:1--fresh-water-station:1\n",
      "2453 heat-pump:1--buffer-tank:1--right-down-pipes:1--gas:1--heating-circuit:1--heating-circuit:2--fresh-water-station:1\n",
      "2382 district-heating:1--heating-circuit:1--fresh-water-station:1\n",
      "2383 gas:1--gas:2--heating-circuit:1--fresh-water-station:1\n"
     ]
    }
   ],
   "source": [
    "for idx, row in df_fws[['building_id', 'LayoutID_Tops', 'sub_components']].iterrows():\n",
    "    print(row['building_id'], row['LayoutID_Tops'])"
   ]
  },
  {
   "cell_type": "markdown",
   "id": "e4d3019c-2403-4cbc-a8d5-3a96246d0cbd",
   "metadata": {},
   "source": [
    "## get \"buffer-tank\" only onnected to FWS"
   ]
  },
  {
   "cell_type": "code",
   "execution_count": 26,
   "id": "c4ad17eb-7386-417d-87f3-1bde38016c15",
   "metadata": {},
   "outputs": [],
   "source": [
    "pattern = r'(?:solar-thermal:\\d+--buffer-tank:\\d+|buffer-tank:\\d+--solar-thermal:\\d+)'\n",
    "df_filtered = df_fws[~df_fws['LayoutID_Tops'].str.contains(pattern, regex=True)]"
   ]
  },
  {
   "cell_type": "code",
   "execution_count": 27,
   "id": "b0defd7f-5f32-4c91-b03a-31e6540d17de",
   "metadata": {},
   "outputs": [],
   "source": [
    "df_filtered = df[\n",
    "    df['LayoutID_Tops'].str.contains('buffer-tank') &\n",
    "    df['LayoutID_Tops'].str.contains('fresh-water-station') &\n",
    "    ~df['LayoutID_Tops'].str.contains('solar-thermal')\n",
    "]"
   ]
  },
  {
   "cell_type": "code",
   "execution_count": 28,
   "id": "4d6512c8-d8fa-47fa-9ac3-ee8c1158e0b5",
   "metadata": {},
   "outputs": [
    {
     "name": "stdout",
     "output_type": "stream",
     "text": [
      "420 heat-pump:1--down-right-pipes:1--buffer-tank:1--heating-circuit:1--down-left-pipes:1--fresh-water-station:1\n",
      "442 gas:1--empty-pipes:1--heat-exchanger:1--down-right-pipes:1--empty-pipes:2--buffer-tank:1--chp:1--heating-circuit:1--fresh-water-station:1\n",
      "566 gas:1--gas:2--fresh-water-station:1--buffer-tank:1--heating-circuit:1\n",
      "1478 heat-pump:1--gas:1--down-right-pipes:1--buffer-tank:1--heating-circuit:1--down-left-pipes:1--fresh-water-station:1\n",
      "370 district-heating:1--heating-circuit:1--buffer-tank:1--fresh-water-station:1\n",
      "473 heat-pump:1--gas:1--down-right-pipes:1--buffer-tank:1--heating-circuit:1--down-left-pipes:1--fresh-water-station:1\n",
      "474 heat-pump:1--gas:1--down-right-pipes:1--buffer-tank:1--heating-circuit:1--down-left-pipes:1--fresh-water-station:1\n",
      "1364 heat-pump:1--buffer-tank:1--right-down-pipes:1--gas:1--heating-circuit:1--heating-circuit:2--fresh-water-station:1\n",
      "1457 heat-pump:1--buffer-tank:1--heating-circuit:1--heating-circuit:2--heating-circuit:3--fresh-water-station:1\n",
      "2250 heat-pump:1--right-down-pipes:1--heat-pump:2--buffer-tank:1--gas:1--heating-circuit:1--heating-circuit:2--fresh-water-station:1\n",
      "654 heat-pump:1--right-down-pipes:1--heat-pump:2--right-down-pipes:2--heat-pump:3--heat-exchanger:1--buffer-tank:1--heating-circuit:1--fresh-water-station:1\n",
      "2463 gas:1--heating-circuit:1--heating-circuit:2--buffer-tank:1--heating-circuit:3--fresh-water-station:1\n",
      "2453 heat-pump:1--buffer-tank:1--right-down-pipes:1--gas:1--heating-circuit:1--heating-circuit:2--fresh-water-station:1\n"
     ]
    }
   ],
   "source": [
    "for idx, row in df_filtered[['building_id', 'LayoutID_Tops', 'sub_components']].iterrows():\n",
    "    print(row['building_id'], row['LayoutID_Tops'])"
   ]
  },
  {
   "cell_type": "markdown",
   "id": "93f00c67-11d9-44e9-9745-9c8dd447241e",
   "metadata": {},
   "source": [
    "### verify"
   ]
  },
  {
   "cell_type": "code",
   "execution_count": 29,
   "id": "caba31a5-efaa-489e-bf10-fa9eefb19eb0",
   "metadata": {},
   "outputs": [],
   "source": [
    "building_id= 765#1474 #765 #has no FWS"
   ]
  },
  {
   "cell_type": "code",
   "execution_count": 30,
   "id": "2d5648d0-a0c2-484e-bae5-436cd49408c5",
   "metadata": {},
   "outputs": [
    {
     "data": {
      "text/plain": [
       "\"{'global(1)': 'id : 2224 category : NOT_SPECIFIED type : GLOBAL sub_type : NOT_SPECIFIED', 'dh(1)': 'id : 2225 category : PRODUCER type : DISTRICT_HEATING sub_type : NOT_SPECIFIED', 'hc(n)(1)': 'id : 2226 category : CONSUMER type : HEATING_CIRCUIT sub_type : NOT_SPECIFIED', 'hw(n)(1)': 'id : 2227 category : CONSUMER type : WARM_WATER sub_type : STORAGE_TANK', 'hw(n)(2)': 'id : 2228 category : CONSUMER type : WARM_WATER sub_type : STORAGE_TANK'}\""
      ]
     },
     "execution_count": 30,
     "metadata": {},
     "output_type": "execute_result"
    }
   ],
   "source": [
    "df.loc[df['building_id'] == building_id, 'sub_components'].values[0]"
   ]
  },
  {
   "cell_type": "code",
   "execution_count": 31,
   "id": "65ad170b-120e-4572-aee0-70cfc6477325",
   "metadata": {},
   "outputs": [
    {
     "data": {
      "text/plain": [
       "'district-heating:1--down-right-pipes:1--heat-exchanger:1--heating-circuit:1--down-left-pipes:1--warm-water:1--down-left-pipes:2--warm-water:2'"
      ]
     },
     "execution_count": 31,
     "metadata": {},
     "output_type": "execute_result"
    }
   ],
   "source": [
    "df.loc[df['building_id'] == building_id, 'LayoutID_Tops'].values[0]"
   ]
  },
  {
   "cell_type": "markdown",
   "id": "4faf41d9-d4d5-4c2f-8bee-72bb15ea0c48",
   "metadata": {},
   "source": [
    "## Combine HX with warmwater"
   ]
  },
  {
   "cell_type": "code",
   "execution_count": 32,
   "id": "4d4c3057-0c31-4f79-a2cf-2baa32900842",
   "metadata": {},
   "outputs": [],
   "source": [
    "def combine_HX_WW(layout):\n",
    "    if pd.isna(layout):\n",
    "        return layout\n",
    "\n",
    "    parts = layout.split('--')\n",
    "    new_parts = []\n",
    "    skip_next = False\n",
    "\n",
    "    for i in range(len(parts)):\n",
    "        if skip_next:\n",
    "            skip_next = False\n",
    "            continue\n",
    "\n",
    "        part = parts[i]\n",
    "\n",
    "        if re.match(r'heat-exchanger:\\d+', part):\n",
    "            if i + 1 < len(parts) and re.match(r'warm-water:(\\d+)', parts[i + 1]):\n",
    "                match = re.match(r'warm-water:(\\d+)', parts[i + 1])\n",
    "                new_parts.append(f\"warm-water_external:{match.group(1)}\")\n",
    "                skip_next = True\n",
    "            else:\n",
    "                # If no warm-water next, keep heat-exchanger\n",
    "                new_parts.append(part)\n",
    "        else:\n",
    "            new_parts.append(part)\n",
    "\n",
    "    return '--'.join(new_parts)"
   ]
  },
  {
   "cell_type": "code",
   "execution_count": 33,
   "id": "54f687cc-300e-4af4-b519-32994c34d715",
   "metadata": {},
   "outputs": [],
   "source": [
    "#appy combine_HX\n",
    "df['LayoutID_Tops2'] = df['LayoutID_Tops'].apply(combine_HX_WW)\n",
    "df['LayoutID_Tops'] = df['LayoutID_Tops'].apply(combine_HX_WW)\n"
   ]
  },
  {
   "cell_type": "markdown",
   "id": "6ba57531-c229-4f27-b81e-257cb4c43f21",
   "metadata": {},
   "source": [
    "### verify"
   ]
  },
  {
   "cell_type": "code",
   "execution_count": 34,
   "id": "3c3749ef-f328-4c4b-a96b-a9bb82893d6b",
   "metadata": {},
   "outputs": [
    {
     "name": "stdout",
     "output_type": "stream",
     "text": [
      "0 []\n"
     ]
    }
   ],
   "source": [
    "# Find rows where Rule 1 actually modified the layout\n",
    "df_changed_by_combine_HX_WW = df[df['LayoutID_Tops'] != df['LayoutID_Tops2']].reset_index(drop=True)\n",
    "print(len(list(df_changed_by_combine_HX_WW['building_id'])),list(df_changed_by_combine_HX_WW['building_id']))\n",
    "#df_changed_by_combine_HX_WW[['building_id','LayoutID','LayoutID_Tops']]"
   ]
  },
  {
   "cell_type": "code",
   "execution_count": 35,
   "id": "6ad71209-4bb3-4029-a666-701f4f3d3a87",
   "metadata": {},
   "outputs": [
    {
     "data": {
      "text/plain": [
       "Index(['KBn', 'building_id', 'customerID', 'address', 'device_type',\n",
       "       'device_id', 't_sensor_count', 'sub_components', 'LayoutID',\n",
       "       'modular_system', 'LayoutID_Tops', 'LayoutID_Tops2'],\n",
       "      dtype='object')"
      ]
     },
     "execution_count": 35,
     "metadata": {},
     "output_type": "execute_result"
    }
   ],
   "source": [
    "df_changed_by_combine_HX_WW.columns"
   ]
  },
  {
   "cell_type": "code",
   "execution_count": 36,
   "id": "1013fcba-599a-48a0-bbf6-6ae6dda7a38c",
   "metadata": {},
   "outputs": [],
   "source": [
    "#### export\n",
    "if True:\n",
    "    df_changed_by_combine_HX_WW=df_changed_by_combine_HX_WW[['building_id', 'customerID', 'address', \n",
    "       'device_id', 'LayoutID','LayoutID_Tops2']]\n",
    "    filename='warm-water_external_'+extraced_date+'.csv'\n",
    "    filepath = os.path.join('OUTs', filename)\n",
    "    df_changed_by_combine_HX_WW.to_csv(filepath, index=False)\n",
    "   "
   ]
  },
  {
   "cell_type": "code",
   "execution_count": 37,
   "id": "669826b1-2fad-42df-989e-87d05ed57dcf",
   "metadata": {},
   "outputs": [],
   "source": [
    "df=df.drop('LayoutID_Tops2',axis=1)"
   ]
  },
  {
   "cell_type": "code",
   "execution_count": 38,
   "id": "385bb08d-d0f1-4435-bcb3-b2837352561d",
   "metadata": {},
   "outputs": [
    {
     "data": {
      "text/plain": [
       "Index(['KBn', 'building_id', 'customerID', 'address', 'device_type',\n",
       "       'device_id', 't_sensor_count', 'sub_components', 'LayoutID',\n",
       "       'modular_system', 'LayoutID_Tops'],\n",
       "      dtype='object')"
      ]
     },
     "execution_count": 38,
     "metadata": {},
     "output_type": "execute_result"
    }
   ],
   "source": [
    "df.columns"
   ]
  },
  {
   "cell_type": "markdown",
   "id": "7f54340d-6bed-4352-bb8e-719564908342",
   "metadata": {},
   "source": [
    "### Remove HX and Sperators"
   ]
  },
  {
   "cell_type": "code",
   "execution_count": 39,
   "id": "b7eba138-20b5-4420-b985-ad1e4075b123",
   "metadata": {},
   "outputs": [],
   "source": [
    "def remove_HXnsep (layout):\n",
    "    if pd.isna(layout):\n",
    "        return layout\n",
    "\n",
    "    parts = layout.split('--')\n",
    "    filtered_parts = []\n",
    "\n",
    "    for part in parts:\n",
    "        if re.match(r'global-separation-circuit:\\d+', part):\n",
    "            continue\n",
    "        elif re.match(r'hydraulic-separator:\\d+', part):\n",
    "            continue\n",
    "        elif re.match(r'heat-exchanger:\\d+', part):\n",
    "            continue\n",
    "        else:\n",
    "            filtered_parts.append(part)\n",
    "\n",
    "    return '--'.join(filtered_parts)"
   ]
  },
  {
   "cell_type": "code",
   "execution_count": 40,
   "id": "dbbbfb05-5978-46c3-b827-2656cb7a4aaf",
   "metadata": {},
   "outputs": [],
   "source": [
    "df['LayoutID_Tops'] = df['LayoutID_Tops'].apply(remove_HXnsep)"
   ]
  },
  {
   "cell_type": "markdown",
   "id": "c2e7c300-78db-457d-ae45-67daf8b0b38a",
   "metadata": {},
   "source": [
    "### verify"
   ]
  },
  {
   "cell_type": "code",
   "execution_count": 41,
   "id": "701a6ce2-b801-4694-b7a5-a4b79c18ac1a",
   "metadata": {},
   "outputs": [
    {
     "name": "stdout",
     "output_type": "stream",
     "text": [
      "436 [761, 765, 773, 780, 781, 782, 784, 785, 788, 304, 371, 418, 419, 420, 421, 442, 495, 1925, 1928, 1929, 1931, 478, 505, 507, 510, 1006, 2149, 348, 1509, 1520, 1523, 1524, 1526, 1527, 1528, 1529, 1530, 1531, 1532, 1533, 1534, 1535, 1536, 1539, 1541, 1542, 1543, 1545, 1547, 1548, 1549, 1773, 1775, 1777, 1778, 1779, 1780, 1781, 1795, 1797, 2167, 2168, 538, 562, 566, 568, 571, 574, 575, 738, 739, 598, 601, 602, 603, 437, 326, 333, 427, 430, 431, 434, 452, 453, 454, 455, 456, 457, 545, 548, 549, 550, 552, 554, 1484, 1485, 1487, 1489, 1493, 1494, 1497, 1501, 1503, 1560, 1561, 1562, 1563, 1564, 1566, 1567, 1568, 1569, 5, 2468, 387, 388, 390, 569, 641, 1638, 1639, 438, 414, 440, 570, 2980, 792, 793, 794, 797, 798, 799, 800, 801, 1336, 1506, 1381, 1387, 1393, 1612, 1613, 480, 481, 482, 483, 484, 485, 486, 487, 488, 489, 604, 613, 616, 617, 621, 623, 624, 341, 342, 343, 2244, 1474, 1475, 1476, 1477, 1478, 1481, 1753, 742, 743, 578, 579, 580, 583, 329, 330, 331, 1449, 1450, 1452, 1454, 1408, 1411, 1412, 1416, 1417, 1418, 1419, 1420, 1421, 1422, 1434, 324, 789, 351, 1401, 1405, 709, 514, 515, 516, 520, 521, 525, 527, 528, 529, 530, 531, 532, 626, 627, 700, 701, 1828, 1473, 336, 337, 370, 1339, 1340, 1341, 1343, 1344, 1347, 1348, 1351, 1357, 1358, 1359, 555, 558, 1602, 1603, 1604, 1605, 1606, 1610, 1611, 2183, 2488, 702, 706, 707, 473, 474, 475, 1364, 1457, 1461, 1370, 1371, 1947, 1832, 1833, 1835, 1836, 1838, 1840, 1841, 1842, 1843, 1845, 1818, 1820, 1822, 1823, 1825, 1826, 1908, 1867, 1892, 1880, 1882, 1883, 1884, 1887, 1889, 1804, 1806, 1807, 2005, 2006, 2010, 1783, 1785, 1786, 1787, 2241, 2285, 2287, 1857, 1858, 1860, 1864, 2165, 2166, 2250, 2482, 1951, 1952, 1878, 1879, 465, 466, 468, 469, 471, 472, 708, 713, 714, 728, 730, 731, 734, 736, 2227, 2230, 2231, 2314, 2318, 2426, 2431, 2253, 2254, 2255, 2256, 2257, 2258, 2343, 2344, 2345, 2347, 2297, 2338, 2403, 2404, 2405, 643, 644, 645, 646, 648, 649, 650, 651, 652, 653, 654, 655, 656, 657, 658, 659, 666, 668, 673, 675, 678, 680, 681, 683, 684, 686, 687, 689, 691, 693, 694, 696, 1662, 1664, 1665, 1666, 1667, 1669, 1670, 1671, 1674, 1678, 1679, 1681, 1682, 1683, 1687, 1689, 1692, 1694, 1701, 1702, 1705, 1706, 1708, 1711, 1715, 1716, 1717, 1720, 1722, 1723, 2463, 449, 451, 458, 477, 539, 541, 542, 2497, 2433, 2434, 2438, 2440, 2441, 2299, 2301, 2453, 2454, 2455, 1738, 1739, 1742, 1744, 1745, 1747, 1801, 2377, 2378, 2379, 2380, 2382, 2383, 2389, 2391]\n"
     ]
    },
    {
     "data": {
      "text/html": [
       "<div>\n",
       "<style scoped>\n",
       "    .dataframe tbody tr th:only-of-type {\n",
       "        vertical-align: middle;\n",
       "    }\n",
       "\n",
       "    .dataframe tbody tr th {\n",
       "        vertical-align: top;\n",
       "    }\n",
       "\n",
       "    .dataframe thead th {\n",
       "        text-align: right;\n",
       "    }\n",
       "</style>\n",
       "<table border=\"1\" class=\"dataframe\">\n",
       "  <thead>\n",
       "    <tr style=\"text-align: right;\">\n",
       "      <th></th>\n",
       "      <th>building_id</th>\n",
       "      <th>LayoutID</th>\n",
       "      <th>LayoutID_Tops</th>\n",
       "    </tr>\n",
       "  </thead>\n",
       "  <tbody>\n",
       "    <tr>\n",
       "      <th>0</th>\n",
       "      <td>761</td>\n",
       "      <td>gas:1--gas:2--global-separation-circuit:1--hea...</td>\n",
       "      <td>gas:1--gas:2--heating-circuit:1--heating-circu...</td>\n",
       "    </tr>\n",
       "    <tr>\n",
       "      <th>1</th>\n",
       "      <td>765</td>\n",
       "      <td>district-heating:1--down-right-pipes:1--heat-e...</td>\n",
       "      <td>district-heating:1--down-right-pipes:1--heatin...</td>\n",
       "    </tr>\n",
       "    <tr>\n",
       "      <th>2</th>\n",
       "      <td>773</td>\n",
       "      <td>gas:1--gas:2--global-separation-circuit:1--hea...</td>\n",
       "      <td>gas:1--gas:2--heating-circuit:1</td>\n",
       "    </tr>\n",
       "    <tr>\n",
       "      <th>3</th>\n",
       "      <td>780</td>\n",
       "      <td>gas:1--gas:2--gas:3--gas:4--gas:5--gas:6--glob...</td>\n",
       "      <td>gas:1--gas:2--gas:3--gas:4--gas:5--gas:6--heat...</td>\n",
       "    </tr>\n",
       "    <tr>\n",
       "      <th>4</th>\n",
       "      <td>781</td>\n",
       "      <td>gas:1--solar-thermal:1--buffer-tank:1--heating...</td>\n",
       "      <td>gas:1--solar-thermal:1--buffer-tank:1--heating...</td>\n",
       "    </tr>\n",
       "  </tbody>\n",
       "</table>\n",
       "</div>"
      ],
      "text/plain": [
       "   building_id                                           LayoutID  \\\n",
       "0          761  gas:1--gas:2--global-separation-circuit:1--hea...   \n",
       "1          765  district-heating:1--down-right-pipes:1--heat-e...   \n",
       "2          773  gas:1--gas:2--global-separation-circuit:1--hea...   \n",
       "3          780  gas:1--gas:2--gas:3--gas:4--gas:5--gas:6--glob...   \n",
       "4          781  gas:1--solar-thermal:1--buffer-tank:1--heating...   \n",
       "\n",
       "                                       LayoutID_Tops  \n",
       "0  gas:1--gas:2--heating-circuit:1--heating-circu...  \n",
       "1  district-heating:1--down-right-pipes:1--heatin...  \n",
       "2                    gas:1--gas:2--heating-circuit:1  \n",
       "3  gas:1--gas:2--gas:3--gas:4--gas:5--gas:6--heat...  \n",
       "4  gas:1--solar-thermal:1--buffer-tank:1--heating...  "
      ]
     },
     "execution_count": 41,
     "metadata": {},
     "output_type": "execute_result"
    }
   ],
   "source": [
    "# Find rows where Rule 1 actually modified the layout\n",
    "df_changed_by_remove_HXnsep = df[df['LayoutID'] != df['LayoutID_Tops']].reset_index(drop=True)\n",
    "print(len(list(df_changed_by_remove_HXnsep['building_id'])),list(df_changed_by_remove_HXnsep['building_id']))\n",
    "df_changed_by_remove_HXnsep[['building_id','LayoutID','LayoutID_Tops']].head()"
   ]
  },
  {
   "cell_type": "markdown",
   "id": "9e9c7d77-ef68-44d6-8f44-d90e4be27e93",
   "metadata": {},
   "source": [
    "## get new sensor count"
   ]
  },
  {
   "cell_type": "code",
   "execution_count": 42,
   "id": "178b2867-ed1f-4f7d-872a-dd3fc69932e1",
   "metadata": {},
   "outputs": [],
   "source": [
    "sensor_count_subsystem={'buffer-tank': 1,\n",
    " 'chp': 2,\n",
    " 'district-heating': 2,\n",
    " 'gas': 2,\n",
    " 'heat-pump': 4,\n",
    " 'heating-circuit': 2,\n",
    " 'local-heating-station': 2,\n",
    " 'solar-thermal': 2,\n",
    " 'fresh-water-station': 3,\n",
    " 'warm-water': 4}\n",
    "\n",
    "def calculate_sensor_count(layout):\n",
    "    if pd.isna(layout):\n",
    "        return 0\n",
    "\n",
    "    total = 0\n",
    "    parts = layout.split('--')\n",
    "    for part in parts:\n",
    "        subsystem = part.split(':')[0]\n",
    "        # Remove suffixes like _mixed_ctrl or _external if present\n",
    "        subsystem_clean = subsystem.split('_')[0]\n",
    "        count = sensor_count_subsystem.get(subsystem_clean, 0)\n",
    "        total += count\n",
    "    return total"
   ]
  },
  {
   "cell_type": "code",
   "execution_count": 43,
   "id": "c8f4b561-422f-42e4-b19a-6c990e51f753",
   "metadata": {},
   "outputs": [],
   "source": [
    "# Apply the function\n",
    "df['new_sensor_count'] = df['LayoutID_Tops'].apply(calculate_sensor_count)\n",
    "df['count_diff'] = df['t_sensor_count']-df['new_sensor_count']"
   ]
  },
  {
   "cell_type": "markdown",
   "id": "4a3cb8ae-3493-4ef2-a7ea-09ad6e09108b",
   "metadata": {},
   "source": [
    "## sensor cout diff for modified LayoutID"
   ]
  },
  {
   "cell_type": "code",
   "execution_count": 44,
   "id": "84a7b1e1-04b5-4f6a-8b66-d613f1950405",
   "metadata": {},
   "outputs": [
    {
     "name": "stdout",
     "output_type": "stream",
     "text": [
      "85 [2431, 1605, 2338, 623, 689, 2166, 1529, 1528, 1723, 743, 645, 653, 483, 568, 736, 701, 1343, 1348, 1351, 714, 621, 1612, 1742, 2241, 761, 684, 575, 430, 603, 598, 473, 474, 1474, 681, 1543, 1418, 1419, 1417, 2468, 2299, 495, 788, 1705, 1889, 613, 527, 1006, 505, 5, 549, 550, 686, 675, 1843, 1339, 658, 709, 1412, 1411, 1836, 1835, 574, 532, 780, 602, 548, 342, 1857, 1422, 1602, 329, 738, 348, 1371, 1520, 2165, 1858, 343, 571, 673, 1568, 1336, 641, 654, 2167]\n"
     ]
    }
   ],
   "source": [
    "# mismatch_df\n",
    "df_modified = df[df['LayoutID'] != df['LayoutID_Tops']].reset_index(drop=True)\n",
    "mismatch_df = df_modified.loc[df_modified['t_sensor_count'] < df_modified['new_sensor_count']].reset_index()\n",
    "mismatch_df=mismatch_df[['building_id', 'KBn', 't_sensor_count', 'new_sensor_count','count_diff']].sort_values(by='KBn', ascending=True)\n",
    "print(len(list(mismatch_df['building_id'])),list(mismatch_df['building_id']))"
   ]
  },
  {
   "cell_type": "markdown",
   "id": "01ac3703-8cf9-48b9-bc36-e2f4e5c370e3",
   "metadata": {},
   "source": [
    "## group by LayoutID_Tops"
   ]
  },
  {
   "cell_type": "code",
   "execution_count": 45,
   "id": "4358c8ec-3d43-48f2-a5a8-8da15bd95885",
   "metadata": {},
   "outputs": [
    {
     "name": "stdout",
     "output_type": "stream",
     "text": [
      "Number of unique LayoutID values: 204\n"
     ]
    }
   ],
   "source": [
    "unique_count = df['LayoutID_Tops'].nunique()\n",
    "print(f\"Number of unique LayoutID values: {unique_count}\")"
   ]
  },
  {
   "cell_type": "code",
   "execution_count": 46,
   "id": "02f1e23a-044a-4d4e-af3d-35a54a94faae",
   "metadata": {},
   "outputs": [],
   "source": [
    "from collections import Counter\n",
    "\n",
    "def most_common(series):\n",
    "    if series.empty:\n",
    "        return None\n",
    "    return Counter(series).most_common(1)[0][0]\n",
    "\n",
    "# Group by LayoutID_Tops with additional 'most_common_sensor_count'\n",
    "grouped_new_std = df.groupby('LayoutID_Tops').agg(\n",
    "    Occurrence=('LayoutID_Tops', 'count'),\n",
    "    buildingIDs=('building_id', list),\n",
    "    sensor_count_set=('t_sensor_count', set),\n",
    "    new_sensor_count=('new_sensor_count', set),\n",
    "    Variations=('LayoutID', set),\n",
    "    Variations_KBn=('KBn', set),\n",
    "    most_common_count=('t_sensor_count', most_common)\n",
    ").reset_index()\n",
    "\n",
    "# Sort by Occurrence\n",
    "grouped_new_std = grouped_new_std.sort_values(by='Occurrence', ascending=False).reset_index(drop=True)\n",
    "\n",
    "# Reorder columns\n",
    "grouped_new_std = grouped_new_std[\n",
    "    ['LayoutID_Tops', 'Occurrence', 'most_common_count',\n",
    "     'new_sensor_count',  'Variations_KBn', 'buildingIDs', 'Variations', 'sensor_count_set']\n",
    "]\n",
    "\n",
    "# Format Variations_KBn nicely\n",
    "grouped_new_std['Variations_KBn'] = grouped_new_std['Variations_KBn'].apply(\n",
    "    lambda s: ', '.join(f\"KB{int(x)}\" for x in sorted(s))\n",
    ")"
   ]
  },
  {
   "cell_type": "code",
   "execution_count": 47,
   "id": "f2069029-23b9-4501-b73f-65e55fcfceee",
   "metadata": {},
   "outputs": [
    {
     "data": {
      "text/html": [
       "<div>\n",
       "<style scoped>\n",
       "    .dataframe tbody tr th:only-of-type {\n",
       "        vertical-align: middle;\n",
       "    }\n",
       "\n",
       "    .dataframe tbody tr th {\n",
       "        vertical-align: top;\n",
       "    }\n",
       "\n",
       "    .dataframe thead th {\n",
       "        text-align: right;\n",
       "    }\n",
       "</style>\n",
       "<table border=\"1\" class=\"dataframe\">\n",
       "  <thead>\n",
       "    <tr style=\"text-align: right;\">\n",
       "      <th></th>\n",
       "      <th>LayoutID_Tops</th>\n",
       "      <th>Occurrence</th>\n",
       "      <th>most_common_count</th>\n",
       "      <th>new_sensor_count</th>\n",
       "      <th>Variations_KBn</th>\n",
       "      <th>buildingIDs</th>\n",
       "      <th>Variations</th>\n",
       "      <th>sensor_count_set</th>\n",
       "    </tr>\n",
       "  </thead>\n",
       "  <tbody>\n",
       "    <tr>\n",
       "      <th>0</th>\n",
       "      <td>gas:1--heating-circuit:1--warm-water:1</td>\n",
       "      <td>159</td>\n",
       "      <td>8</td>\n",
       "      <td>{8}</td>\n",
       "      <td>KB1, KB4, KB14</td>\n",
       "      <td>[768, 769, 770, 778, 787, 304, 1924, 1925, 192...</td>\n",
       "      <td>{gas:1--heat-exchanger:1--heating-circuit:1--w...</td>\n",
       "      <td>{0, 3, 5, 6, 7, 8, 9, 10, 11, 14, 24}</td>\n",
       "    </tr>\n",
       "    <tr>\n",
       "      <th>1</th>\n",
       "      <td>gas:1--heating-circuit:1</td>\n",
       "      <td>122</td>\n",
       "      <td>4</td>\n",
       "      <td>{4}</td>\n",
       "      <td>KB3, KB6, KB15</td>\n",
       "      <td>[758, 759, 499, 507, 1524, 1525, 1649, 1654, 1...</td>\n",
       "      <td>{gas:1--global-separation-circuit:1--heating-c...</td>\n",
       "      <td>{2, 3, 4, 5, 6, 8}</td>\n",
       "    </tr>\n",
       "    <tr>\n",
       "      <th>2</th>\n",
       "      <td>district-heating:1--heating-circuit:1--warm-wa...</td>\n",
       "      <td>74</td>\n",
       "      <td>8</td>\n",
       "      <td>{8}</td>\n",
       "      <td>KB2</td>\n",
       "      <td>[774, 1909, 1910, 1911, 1912, 1913, 1314, 1315...</td>\n",
       "      <td>{district-heating:1--heating-circuit:1--warm-w...</td>\n",
       "      <td>{5, 6, 7, 8, 9, 10, 11}</td>\n",
       "    </tr>\n",
       "    <tr>\n",
       "      <th>3</th>\n",
       "      <td>local-heating-station:1--heating-circuit:1--wa...</td>\n",
       "      <td>42</td>\n",
       "      <td>8</td>\n",
       "      <td>{8}</td>\n",
       "      <td>KB5</td>\n",
       "      <td>[509, 790, 1005, 1628, 1629, 1630, 1631, 1431,...</td>\n",
       "      <td>{local-heating-station:1--heating-circuit:1--w...</td>\n",
       "      <td>{8, 5, 6, 7}</td>\n",
       "    </tr>\n",
       "    <tr>\n",
       "      <th>4</th>\n",
       "      <td>gas:1--gas:2--heating-circuit:1--warm-water:1</td>\n",
       "      <td>38</td>\n",
       "      <td>10</td>\n",
       "      <td>{10}</td>\n",
       "      <td>KB7, KB19, KB55</td>\n",
       "      <td>[478, 510, 1528, 1529, 1530, 1539, 1773, 1777,...</td>\n",
       "      <td>{gas:1--gas:2--heating-circuit:1--warm-water:1...</td>\n",
       "      <td>{8, 9, 10, 11, 12, 13}</td>\n",
       "    </tr>\n",
       "    <tr>\n",
       "      <th>5</th>\n",
       "      <td>gas:1--heating-circuit:1--heating-circuit:2--w...</td>\n",
       "      <td>35</td>\n",
       "      <td>10</td>\n",
       "      <td>{10}</td>\n",
       "      <td>KB8, KB24, KB54, KB187</td>\n",
       "      <td>[1511, 1515, 1516, 1517, 1518, 1523, 1537, 154...</td>\n",
       "      <td>{gas:1--global-separation-circuit:1--heating-c...</td>\n",
       "      <td>{8, 9, 10, 11, 12, 14}</td>\n",
       "    </tr>\n",
       "    <tr>\n",
       "      <th>6</th>\n",
       "      <td>gas:1--gas:2--heating-circuit:1</td>\n",
       "      <td>32</td>\n",
       "      <td>6</td>\n",
       "      <td>{6}</td>\n",
       "      <td>KB12, KB28, KB33, KB184</td>\n",
       "      <td>[757, 773, 429, 1506, 745, 529, 530, 531, 1348...</td>\n",
       "      <td>{gas:1--gas:2--heat-exchanger:1--heating-circu...</td>\n",
       "      <td>{4, 5, 6, 7}</td>\n",
       "    </tr>\n",
       "    <tr>\n",
       "      <th>7</th>\n",
       "      <td>gas:1--gas:2--heating-circuit:1--heating-circu...</td>\n",
       "      <td>23</td>\n",
       "      <td>12</td>\n",
       "      <td>{12}</td>\n",
       "      <td>KB23, KB27, KB36</td>\n",
       "      <td>[1928, 1930, 506, 333, 388, 1641, 414, 1449, 1...</td>\n",
       "      <td>{gas:1--gas:2--global-separation-circuit:1--he...</td>\n",
       "      <td>{11, 12, 13, 14, 15, 16, 22}</td>\n",
       "    </tr>\n",
       "    <tr>\n",
       "      <th>8</th>\n",
       "      <td>district-heating:1--heating-circuit:1--heating...</td>\n",
       "      <td>23</td>\n",
       "      <td>10</td>\n",
       "      <td>{10}</td>\n",
       "      <td>KB9</td>\n",
       "      <td>[600, 1488, 1724, 2981, 796, 1772, 1385, 1386,...</td>\n",
       "      <td>{district-heating:1--heating-circuit:1--heatin...</td>\n",
       "      <td>{8, 9, 10, 12, 13}</td>\n",
       "    </tr>\n",
       "    <tr>\n",
       "      <th>9</th>\n",
       "      <td>district-heating:1--heating-circuit:1</td>\n",
       "      <td>21</td>\n",
       "      <td>4</td>\n",
       "      <td>{4}</td>\n",
       "      <td>KB10</td>\n",
       "      <td>[762, 766, 777, 712, 450, 389, 391, 1725, 1726...</td>\n",
       "      <td>{district-heating:1--heating-circuit:1}</td>\n",
       "      <td>{3, 4, 5, 6, 7, 14}</td>\n",
       "    </tr>\n",
       "    <tr>\n",
       "      <th>10</th>\n",
       "      <td>gas:1--heating-circuit:1--heating-circuit:2</td>\n",
       "      <td>20</td>\n",
       "      <td>6</td>\n",
       "      <td>{6}</td>\n",
       "      <td>KB18, KB40, KB53</td>\n",
       "      <td>[776, 500, 1790, 598, 603, 1408, 1414, 516, 14...</td>\n",
       "      <td>{gas:1--heat-exchanger:1--heating-circuit:1--h...</td>\n",
       "      <td>{2, 4, 5, 6, 7}</td>\n",
       "    </tr>\n",
       "    <tr>\n",
       "      <th>11</th>\n",
       "      <td>gas:1--heating-circuit:1--heating-circuit:2--h...</td>\n",
       "      <td>18</td>\n",
       "      <td>8</td>\n",
       "      <td>{8}</td>\n",
       "      <td>KB25, KB35, KB75, KB190</td>\n",
       "      <td>[779, 1545, 613, 621, 324, 1830, 336, 1338, 13...</td>\n",
       "      <td>{gas:1--heating-circuit:1--heating-circuit:2--...</td>\n",
       "      <td>{33, 5, 6, 8, 9}</td>\n",
       "    </tr>\n",
       "    <tr>\n",
       "      <th>12</th>\n",
       "      <td>gas:1--gas:2--heating-circuit:1--heating-circu...</td>\n",
       "      <td>18</td>\n",
       "      <td>8</td>\n",
       "      <td>{8}</td>\n",
       "      <td>KB34, KB38, KB43</td>\n",
       "      <td>[756, 437, 1507, 519, 1828, 1831, 1344, 706, 1...</td>\n",
       "      <td>{gas:1--gas:2--global-separation-circuit:1--he...</td>\n",
       "      <td>{8, 25, 6, 7}</td>\n",
       "    </tr>\n",
       "    <tr>\n",
       "      <th>13</th>\n",
       "      <td>heat-pump:1--buffer-tank:1--heating-circuit:1</td>\n",
       "      <td>18</td>\n",
       "      <td>12</td>\n",
       "      <td>{7}</td>\n",
       "      <td>KB11</td>\n",
       "      <td>[546, 1854, 1855, 1901, 1902, 1903, 1904, 1905...</td>\n",
       "      <td>{heat-pump:1--buffer-tank:1--heating-circuit:1}</td>\n",
       "      <td>{4, 5, 7, 10, 12, 14}</td>\n",
       "    </tr>\n",
       "    <tr>\n",
       "      <th>14</th>\n",
       "      <td>district-heating:1--heating-circuit:1--heating...</td>\n",
       "      <td>15</td>\n",
       "      <td>6</td>\n",
       "      <td>{6}</td>\n",
       "      <td>KB13</td>\n",
       "      <td>[2508, 1429, 576, 524, 2807, 2808, 1472, 459, ...</td>\n",
       "      <td>{district-heating:1--heating-circuit:1--heatin...</td>\n",
       "      <td>{4, 5, 6, 7, 8}</td>\n",
       "    </tr>\n",
       "    <tr>\n",
       "      <th>15</th>\n",
       "      <td>gas:1--empty-pipes:1--down-right-pipes:1--four...</td>\n",
       "      <td>12</td>\n",
       "      <td>8</td>\n",
       "      <td>{8}</td>\n",
       "      <td>KB17</td>\n",
       "      <td>[1521, 1522, 352, 1555, 1645, 1646, 1647, 1648...</td>\n",
       "      <td>{gas:1--empty-pipes:1--down-right-pipes:1--fou...</td>\n",
       "      <td>{8, 7}</td>\n",
       "    </tr>\n",
       "    <tr>\n",
       "      <th>16</th>\n",
       "      <td>gas:1--heating-circuit:1--heating-circuit:2--h...</td>\n",
       "      <td>12</td>\n",
       "      <td>12</td>\n",
       "      <td>{12}</td>\n",
       "      <td>KB20, KB170</td>\n",
       "      <td>[347, 1651, 1655, 432, 1893, 1895, 1735, 1736,...</td>\n",
       "      <td>{gas:1--heating-circuit:1--heating-circuit:2--...</td>\n",
       "      <td>{8, 9, 10, 11, 12, 13}</td>\n",
       "    </tr>\n",
       "    <tr>\n",
       "      <th>17</th>\n",
       "      <td>heat-pump:1--right-down-pipes:1--heat-pump:2--...</td>\n",
       "      <td>12</td>\n",
       "      <td>12</td>\n",
       "      <td>{11}</td>\n",
       "      <td>KB16</td>\n",
       "      <td>[567, 1849, 1850, 1851, 1852, 1853, 2261, 596,...</td>\n",
       "      <td>{heat-pump:1--right-down-pipes:1--heat-pump:2-...</td>\n",
       "      <td>{6, 7, 11, 12, 14, 18}</td>\n",
       "    </tr>\n",
       "    <tr>\n",
       "      <th>18</th>\n",
       "      <td>gas:1--warm-water:1--heating-circuit:1</td>\n",
       "      <td>11</td>\n",
       "      <td>8</td>\n",
       "      <td>{8}</td>\n",
       "      <td>KB21</td>\n",
       "      <td>[568, 1566, 480, 481, 482, 483, 487, 488, 489,...</td>\n",
       "      <td>{gas:1--warm-water:1--heat-exchanger:1--heatin...</td>\n",
       "      <td>{8, 6, 7}</td>\n",
       "    </tr>\n",
       "    <tr>\n",
       "      <th>19</th>\n",
       "      <td>gas:1--gas:2--heating-circuit:1--heating-circu...</td>\n",
       "      <td>11</td>\n",
       "      <td>8</td>\n",
       "      <td>{10}</td>\n",
       "      <td>KB39, KB62, KB78</td>\n",
       "      <td>[761, 575, 430, 438, 1813, 1829, 1883, 2286, 2...</td>\n",
       "      <td>{gas:1--gas:2--heat-exchanger:1--heating-circu...</td>\n",
       "      <td>{8, 9, 10, 12}</td>\n",
       "    </tr>\n",
       "  </tbody>\n",
       "</table>\n",
       "</div>"
      ],
      "text/plain": [
       "                                        LayoutID_Tops  Occurrence  \\\n",
       "0              gas:1--heating-circuit:1--warm-water:1         159   \n",
       "1                            gas:1--heating-circuit:1         122   \n",
       "2   district-heating:1--heating-circuit:1--warm-wa...          74   \n",
       "3   local-heating-station:1--heating-circuit:1--wa...          42   \n",
       "4       gas:1--gas:2--heating-circuit:1--warm-water:1          38   \n",
       "5   gas:1--heating-circuit:1--heating-circuit:2--w...          35   \n",
       "6                     gas:1--gas:2--heating-circuit:1          32   \n",
       "7   gas:1--gas:2--heating-circuit:1--heating-circu...          23   \n",
       "8   district-heating:1--heating-circuit:1--heating...          23   \n",
       "9               district-heating:1--heating-circuit:1          21   \n",
       "10        gas:1--heating-circuit:1--heating-circuit:2          20   \n",
       "11  gas:1--heating-circuit:1--heating-circuit:2--h...          18   \n",
       "12  gas:1--gas:2--heating-circuit:1--heating-circu...          18   \n",
       "13      heat-pump:1--buffer-tank:1--heating-circuit:1          18   \n",
       "14  district-heating:1--heating-circuit:1--heating...          15   \n",
       "15  gas:1--empty-pipes:1--down-right-pipes:1--four...          12   \n",
       "16  gas:1--heating-circuit:1--heating-circuit:2--h...          12   \n",
       "17  heat-pump:1--right-down-pipes:1--heat-pump:2--...          12   \n",
       "18             gas:1--warm-water:1--heating-circuit:1          11   \n",
       "19  gas:1--gas:2--heating-circuit:1--heating-circu...          11   \n",
       "\n",
       "    most_common_count new_sensor_count           Variations_KBn  \\\n",
       "0                   8              {8}           KB1, KB4, KB14   \n",
       "1                   4              {4}           KB3, KB6, KB15   \n",
       "2                   8              {8}                      KB2   \n",
       "3                   8              {8}                      KB5   \n",
       "4                  10             {10}          KB7, KB19, KB55   \n",
       "5                  10             {10}   KB8, KB24, KB54, KB187   \n",
       "6                   6              {6}  KB12, KB28, KB33, KB184   \n",
       "7                  12             {12}         KB23, KB27, KB36   \n",
       "8                  10             {10}                      KB9   \n",
       "9                   4              {4}                     KB10   \n",
       "10                  6              {6}         KB18, KB40, KB53   \n",
       "11                  8              {8}  KB25, KB35, KB75, KB190   \n",
       "12                  8              {8}         KB34, KB38, KB43   \n",
       "13                 12              {7}                     KB11   \n",
       "14                  6              {6}                     KB13   \n",
       "15                  8              {8}                     KB17   \n",
       "16                 12             {12}              KB20, KB170   \n",
       "17                 12             {11}                     KB16   \n",
       "18                  8              {8}                     KB21   \n",
       "19                  8             {10}         KB39, KB62, KB78   \n",
       "\n",
       "                                          buildingIDs  \\\n",
       "0   [768, 769, 770, 778, 787, 304, 1924, 1925, 192...   \n",
       "1   [758, 759, 499, 507, 1524, 1525, 1649, 1654, 1...   \n",
       "2   [774, 1909, 1910, 1911, 1912, 1913, 1314, 1315...   \n",
       "3   [509, 790, 1005, 1628, 1629, 1630, 1631, 1431,...   \n",
       "4   [478, 510, 1528, 1529, 1530, 1539, 1773, 1777,...   \n",
       "5   [1511, 1515, 1516, 1517, 1518, 1523, 1537, 154...   \n",
       "6   [757, 773, 429, 1506, 745, 529, 530, 531, 1348...   \n",
       "7   [1928, 1930, 506, 333, 388, 1641, 414, 1449, 1...   \n",
       "8   [600, 1488, 1724, 2981, 796, 1772, 1385, 1386,...   \n",
       "9   [762, 766, 777, 712, 450, 389, 391, 1725, 1726...   \n",
       "10  [776, 500, 1790, 598, 603, 1408, 1414, 516, 14...   \n",
       "11  [779, 1545, 613, 621, 324, 1830, 336, 1338, 13...   \n",
       "12  [756, 437, 1507, 519, 1828, 1831, 1344, 706, 1...   \n",
       "13  [546, 1854, 1855, 1901, 1902, 1903, 1904, 1905...   \n",
       "14  [2508, 1429, 576, 524, 2807, 2808, 1472, 459, ...   \n",
       "15  [1521, 1522, 352, 1555, 1645, 1646, 1647, 1648...   \n",
       "16  [347, 1651, 1655, 432, 1893, 1895, 1735, 1736,...   \n",
       "17  [567, 1849, 1850, 1851, 1852, 1853, 2261, 596,...   \n",
       "18  [568, 1566, 480, 481, 482, 483, 487, 488, 489,...   \n",
       "19  [761, 575, 430, 438, 1813, 1829, 1883, 2286, 2...   \n",
       "\n",
       "                                           Variations  \\\n",
       "0   {gas:1--heat-exchanger:1--heating-circuit:1--w...   \n",
       "1   {gas:1--global-separation-circuit:1--heating-c...   \n",
       "2   {district-heating:1--heating-circuit:1--warm-w...   \n",
       "3   {local-heating-station:1--heating-circuit:1--w...   \n",
       "4   {gas:1--gas:2--heating-circuit:1--warm-water:1...   \n",
       "5   {gas:1--global-separation-circuit:1--heating-c...   \n",
       "6   {gas:1--gas:2--heat-exchanger:1--heating-circu...   \n",
       "7   {gas:1--gas:2--global-separation-circuit:1--he...   \n",
       "8   {district-heating:1--heating-circuit:1--heatin...   \n",
       "9             {district-heating:1--heating-circuit:1}   \n",
       "10  {gas:1--heat-exchanger:1--heating-circuit:1--h...   \n",
       "11  {gas:1--heating-circuit:1--heating-circuit:2--...   \n",
       "12  {gas:1--gas:2--global-separation-circuit:1--he...   \n",
       "13    {heat-pump:1--buffer-tank:1--heating-circuit:1}   \n",
       "14  {district-heating:1--heating-circuit:1--heatin...   \n",
       "15  {gas:1--empty-pipes:1--down-right-pipes:1--fou...   \n",
       "16  {gas:1--heating-circuit:1--heating-circuit:2--...   \n",
       "17  {heat-pump:1--right-down-pipes:1--heat-pump:2-...   \n",
       "18  {gas:1--warm-water:1--heat-exchanger:1--heatin...   \n",
       "19  {gas:1--gas:2--heat-exchanger:1--heating-circu...   \n",
       "\n",
       "                         sensor_count_set  \n",
       "0   {0, 3, 5, 6, 7, 8, 9, 10, 11, 14, 24}  \n",
       "1                      {2, 3, 4, 5, 6, 8}  \n",
       "2                 {5, 6, 7, 8, 9, 10, 11}  \n",
       "3                            {8, 5, 6, 7}  \n",
       "4                  {8, 9, 10, 11, 12, 13}  \n",
       "5                  {8, 9, 10, 11, 12, 14}  \n",
       "6                            {4, 5, 6, 7}  \n",
       "7            {11, 12, 13, 14, 15, 16, 22}  \n",
       "8                      {8, 9, 10, 12, 13}  \n",
       "9                     {3, 4, 5, 6, 7, 14}  \n",
       "10                        {2, 4, 5, 6, 7}  \n",
       "11                       {33, 5, 6, 8, 9}  \n",
       "12                          {8, 25, 6, 7}  \n",
       "13                  {4, 5, 7, 10, 12, 14}  \n",
       "14                        {4, 5, 6, 7, 8}  \n",
       "15                                 {8, 7}  \n",
       "16                 {8, 9, 10, 11, 12, 13}  \n",
       "17                 {6, 7, 11, 12, 14, 18}  \n",
       "18                              {8, 6, 7}  \n",
       "19                         {8, 9, 10, 12}  "
      ]
     },
     "execution_count": 47,
     "metadata": {},
     "output_type": "execute_result"
    }
   ],
   "source": [
    "grouped_new_std[['LayoutID_Tops', 'Occurrence', 'most_common_count','new_sensor_count', 'Variations_KBn', 'buildingIDs', 'Variations','sensor_count_set']].head(20)"
   ]
  },
  {
   "cell_type": "code",
   "execution_count": 48,
   "id": "378b479c-6477-4bab-bf0f-23c5759aad39",
   "metadata": {},
   "outputs": [
    {
     "name": "stdout",
     "output_type": "stream",
     "text": [
      "total LayoutID: 1055\n",
      "top 10 LayoutIDs count: 569\n",
      "top 20 LayoutIDs count: 716\n",
      "Coverage top 10 LayoutIDs:  53.9 %\n",
      "Coverage top 20 LayoutIDs:  67.9 %\n"
     ]
    }
   ],
   "source": [
    "# Sum the number of occurrences for top 10 and top 20\n",
    "top_10_sum = grouped_new_std.head(10)['Occurrence'].sum()\n",
    "top_20_sum = grouped_new_std.head(20)['Occurrence'].sum()\n",
    "print(f\"total LayoutID: {df.LayoutID.count()}\")\n",
    "print(f\"top 10 LayoutIDs count: {top_10_sum}\")\n",
    "print(f\"top 20 LayoutIDs count: {top_20_sum}\")\n",
    "\n",
    "print(f\"Coverage top 10 LayoutIDs: {100*top_10_sum/df.LayoutID.count(): .1f} %\")\n",
    "print(f\"Coverage top 20 LayoutIDs: {100*top_20_sum/df.LayoutID.count(): .1f} %\")"
   ]
  },
  {
   "cell_type": "code",
   "execution_count": 49,
   "id": "06572099-5190-49ad-8fd7-653024bb44af",
   "metadata": {},
   "outputs": [],
   "source": [
    "#buildings_with_unmixed_unctrl = df[df['new_LayoutID'].str.contains('heating-circuit_unmixed_unctrl', na=False)]\n",
    "\n",
    "# Display the result\n",
    "#print(buildings_with_unmixed_unctrl[['buildingID', 'new_LayoutID']])"
   ]
  },
  {
   "cell_type": "markdown",
   "id": "6a00243f-4223-466c-a063-346f5d1bbc2c",
   "metadata": {},
   "source": [
    "## exctract infos from modular system "
   ]
  },
  {
   "cell_type": "code",
   "execution_count": 50,
   "id": "de0e3f41-6537-49ea-83ce-db067cdb6414",
   "metadata": {},
   "outputs": [],
   "source": [
    "df['sub_components_ops']=df['sub_components'].apply(ast.literal_eval)"
   ]
  },
  {
   "cell_type": "code",
   "execution_count": 51,
   "id": "6e40cb4c-e455-43c2-93ea-bf3409626c22",
   "metadata": {},
   "outputs": [],
   "source": [
    "def update_sub_components_ops(modular_system, sub_components_ops):\n",
    "    # Your original function here (update sub_components_ops based on modular_system)\n",
    "    pumps_per_index = set()\n",
    "    valves_per_index = set()\n",
    "\n",
    "    for subsystem in modular_system.get('subSystems', []):\n",
    "        name = subsystem.get('name', '').lower()\n",
    "        if name != 'heating-circuit':\n",
    "            continue\n",
    "        sub_components = subsystem.get('parameters', {}).get('subComponent', {})\n",
    "        index = subsystem.get('hydraulicLocationIndex')\n",
    "        if not index:\n",
    "            continue\n",
    "\n",
    "        for key in sub_components:\n",
    "            if f'pump--{index}' in key:\n",
    "                pumps_per_index.add(index)\n",
    "            if f'valve--{index}' in key:\n",
    "                valves_per_index.add(index)\n",
    "\n",
    "    # Update the sub_components_ops dict\n",
    "    new_sub_components_ops = sub_components_ops.copy()\n",
    "    for key in list(new_sub_components_ops.keys()):\n",
    "        if key.startswith('hc(n)'):\n",
    "            # Extract the index number inside parentheses\n",
    "            import re\n",
    "            match = re.search(r'hc\\(n\\)\\((\\d+)\\)', key)\n",
    "            if match:\n",
    "                idx = int(match.group(1))\n",
    "                has_pump = idx in pumps_per_index\n",
    "                has_valve = idx in valves_per_index\n",
    "\n",
    "                if has_pump and has_valve:\n",
    "                    sub_type = \"unmixed_uncontrolled\"\n",
    "                elif has_pump:\n",
    "                    sub_type = \"mixed_uncontrolled\"\n",
    "                elif has_valve:\n",
    "                    sub_type = \"unmixed_controlled\"\n",
    "                else:\n",
    "                    sub_type = \"mixed_controlled\"\n",
    "\n",
    "                # Replace sub_type value in string\n",
    "                old_val = new_sub_components_ops[key]\n",
    "                new_val = re.sub(r'sub_type\\s*:\\s*\\S+', f'sub_type : {sub_type}', old_val)\n",
    "                new_sub_components_ops[key] = new_val\n",
    "\n",
    "    return new_sub_components_ops\n",
    "\n",
    "\n",
    "def update_sub_components_ops_safe(modular_system, sub_components_ops):\n",
    "    import json\n",
    "    if isinstance(modular_system, str):\n",
    "        try:\n",
    "            modular_system = json.loads(modular_system)  # try parse as JSON\n",
    "        except json.JSONDecodeError:\n",
    "            # fallback: try eval or ast.literal_eval to parse Python dict string\n",
    "            import ast\n",
    "            modular_system = ast.literal_eval(modular_system)\n",
    "    return update_sub_components_ops(modular_system, sub_components_ops)\n",
    "\n",
    "\n",
    "# Then apply to your DataFrame:\n",
    "df['sub_components_ops'] = df.apply(\n",
    "    lambda row: update_sub_components_ops_safe(row['modular_system'], row['sub_components_ops']),\n",
    "    axis=1\n",
    ")"
   ]
  },
  {
   "cell_type": "markdown",
   "id": "2577a8db-25bd-4979-9a35-08458242f15b",
   "metadata": {},
   "source": [
    "# examin a building"
   ]
  },
  {
   "cell_type": "code",
   "execution_count": 52,
   "id": "b81fc556-150b-4f58-bd5a-a245e34edc74",
   "metadata": {},
   "outputs": [],
   "source": [
    "building_id= 2165#765#2165#1474 #765 #has no FWS"
   ]
  },
  {
   "cell_type": "code",
   "execution_count": 53,
   "id": "948a2db0-54fa-45df-9a0a-42a870add43c",
   "metadata": {},
   "outputs": [
    {
     "name": "stdout",
     "output_type": "stream",
     "text": [
      "{'global(1)': 'id : 101919 category : NOT_SPECIFIED type : GLOBAL sub_type : NOT_SPECIFIED', 'b(n)(1)': 'id : 219468 category : PRODUCER type : BOILER sub_type : NOT_SPECIFIED', 'hc(n)(1)': 'id : 219469 category : CONSUMER type : HEATING_CIRCUIT sub_type : NOT_SPECIFIED', 'hc(n)(2)': 'id : 219470 category : CONSUMER type : HEATING_CIRCUIT sub_type : NOT_SPECIFIED', 'hc(n)(3)': 'id : 219471 category : CONSUMER type : HEATING_CIRCUIT sub_type : NOT_SPECIFIED', 'hc(n)(4)': 'id : 219472 category : CONSUMER type : HEATING_CIRCUIT sub_type : NOT_SPECIFIED', 'hc(n)(5)': 'id : 219473 category : CONSUMER type : HEATING_CIRCUIT sub_type : NOT_SPECIFIED'}\n"
     ]
    }
   ],
   "source": [
    "print(df.loc[df['building_id'] == building_id, 'sub_components'].values[0])"
   ]
  },
  {
   "cell_type": "code",
   "execution_count": 54,
   "id": "b83a2358-5a89-422b-8de9-00b3b636c9ac",
   "metadata": {},
   "outputs": [
    {
     "data": {
      "text/plain": [
       "{'global(1)': 'id : 101919 category : NOT_SPECIFIED type : GLOBAL sub_type : NOT_SPECIFIED',\n",
       " 'b(n)(1)': 'id : 219468 category : PRODUCER type : BOILER sub_type : NOT_SPECIFIED',\n",
       " 'hc(n)(1)': 'id : 219469 category : CONSUMER type : HEATING_CIRCUIT sub_type : unmixed_uncontrolled',\n",
       " 'hc(n)(2)': 'id : 219470 category : CONSUMER type : HEATING_CIRCUIT sub_type : unmixed_uncontrolled',\n",
       " 'hc(n)(3)': 'id : 219471 category : CONSUMER type : HEATING_CIRCUIT sub_type : unmixed_uncontrolled',\n",
       " 'hc(n)(4)': 'id : 219472 category : CONSUMER type : HEATING_CIRCUIT sub_type : unmixed_uncontrolled',\n",
       " 'hc(n)(5)': 'id : 219473 category : CONSUMER type : HEATING_CIRCUIT sub_type : unmixed_uncontrolled'}"
      ]
     },
     "execution_count": 54,
     "metadata": {},
     "output_type": "execute_result"
    }
   ],
   "source": [
    "df.loc[df['building_id'] == building_id, 'sub_components_ops'].values[0]"
   ]
  },
  {
   "cell_type": "code",
   "execution_count": 55,
   "id": "0bd936b0-a2d1-451a-8baa-fea9122f5644",
   "metadata": {},
   "outputs": [
    {
     "data": {
      "text/plain": [
       "'gas:1--heat-exchanger:1--heating-circuit:1--heating-circuit:2--heating-circuit:3--heating-circuit:4--heating-circuit:5--heating-circuit:6--heating-circuit:7'"
      ]
     },
     "execution_count": 55,
     "metadata": {},
     "output_type": "execute_result"
    }
   ],
   "source": [
    "df.loc[df['building_id'] == building_id, 'LayoutID'].values[0]"
   ]
  },
  {
   "cell_type": "code",
   "execution_count": 56,
   "id": "8512669c-b10c-4103-9d35-d554a200291d",
   "metadata": {},
   "outputs": [
    {
     "data": {
      "text/plain": [
       "'gas:1--heating-circuit:1--heating-circuit:2--heating-circuit:3--heating-circuit:4--heating-circuit:5--heating-circuit:6--heating-circuit:7'"
      ]
     },
     "execution_count": 56,
     "metadata": {},
     "output_type": "execute_result"
    }
   ],
   "source": [
    "df.loc[df['building_id'] == building_id, 'LayoutID_Tops'].values[0]"
   ]
  },
  {
   "cell_type": "code",
   "execution_count": 57,
   "id": "9585577e-461a-4899-9453-a9ffb2a02d0b",
   "metadata": {},
   "outputs": [
    {
     "name": "stdout",
     "output_type": "stream",
     "text": [
      "{'buildingID': 2165,\n",
      " 'id': 'modular-system----Stadtwerke--Essen--AG-----Am--Brauhaus--15--45359--Essen',\n",
      " 'layoutID': 'gas:1--heat-exchanger:1--heating-circuit:1--heating-circuit:2--heating-circuit:3--heating-circuit:4--heating-circuit:5--heating-circuit:6--heating-circuit:7',\n",
      " 'name': 'modular-system-entry',\n",
      " 'published': True,\n",
      " 'publishedAt': '2025-03-17T09:15:07.723Z',\n",
      " 'subSystems': [{'connections': [{'status': 'hot',\n",
      "                                  'to': {'direction': 'right',\n",
      "                                         'id': 'heating-circuit:7',\n",
      "                                         'subSystem': {'hydraulicLocationIndex': 7,\n",
      "                                                       'name': 'heating-circuit',\n",
      "                                                       'side': 'bottom'}}},\n",
      "                                 {'from': {'direction': 'right',\n",
      "                                           'id': 'heating-circuit:7',\n",
      "                                           'subSystem': {'hydraulicLocationIndex': 7,\n",
      "                                                         'name': 'heating-circuit',\n",
      "                                                         'side': 'bottom'}},\n",
      "                                  'status': 'cold'}],\n",
      "                 'hydraulicLocationIndex': 1,\n",
      "                 'id': 'gas:1',\n",
      "                 'name': 'gas',\n",
      "                 'navigation': {'forward': {'hydraulicLocationIndex': 1,\n",
      "                                            'name': 'heating-circuit'}},\n",
      "                 'parameters': {'subComponent': {'gas--dead-pump--1': {'hideDisplay': True,\n",
      "                                                                       'noConnections': True}}}},\n",
      "                {'connections': [],\n",
      "                 'hydraulicLocationIndex': 1,\n",
      "                 'id': 'heating-circuit:1',\n",
      "                 'label': 'Wohnzimmer Haus 15',\n",
      "                 'name': 'heating-circuit',\n",
      "                 'navigation': {'back': {'hydraulicLocationIndex': 1,\n",
      "                                         'name': 'gas'},\n",
      "                                'forward': {'hydraulicLocationIndex': 2,\n",
      "                                            'name': 'heating-circuit'}},\n",
      "                 'parameters': {'subComponent': {'heating-circuit--pump--1': {'hideDisplay': True,\n",
      "                                                                              'noConnections': True},\n",
      "                                                 'heating-circuit--valve--1': {'hideDisplay': True,\n",
      "                                                                               'noConnections': True}}}},\n",
      "                {'connections': [],\n",
      "                 'hydraulicLocationIndex': 2,\n",
      "                 'id': 'heating-circuit:2',\n",
      "                 'label': 'Küche Schlaf und Kinderzimmer Haus 15 Links',\n",
      "                 'name': 'heating-circuit',\n",
      "                 'navigation': {'back': {'hydraulicLocationIndex': 1,\n",
      "                                         'name': 'heating-circuit'},\n",
      "                                'forward': {'hydraulicLocationIndex': 3,\n",
      "                                            'name': 'heating-circuit'}},\n",
      "                 'parameters': {'subComponent': {'heating-circuit--pump--2': {'hideDisplay': True,\n",
      "                                                                              'noConnections': True},\n",
      "                                                 'heating-circuit--valve--2': {'hideDisplay': True,\n",
      "                                                                               'noConnections': True}}}},\n",
      "                {'connections': [],\n",
      "                 'hydraulicLocationIndex': 3,\n",
      "                 'id': 'heating-circuit:3',\n",
      "                 'label': 'Küche Schlaf und Kinderzimmer Haus 15 Rechts',\n",
      "                 'name': 'heating-circuit',\n",
      "                 'navigation': {'back': {'hydraulicLocationIndex': 2,\n",
      "                                         'name': 'heating-circuit'},\n",
      "                                'forward': {'hydraulicLocationIndex': 4,\n",
      "                                            'name': 'heating-circuit'}},\n",
      "                 'parameters': {'subComponent': {'heating-circuit--pump--3': {'hideDisplay': True,\n",
      "                                                                              'noConnections': True},\n",
      "                                                 'heating-circuit--valve--3': {'hideDisplay': True,\n",
      "                                                                               'noConnections': True}}}},\n",
      "                {'connections': [],\n",
      "                 'hydraulicLocationIndex': 4,\n",
      "                 'id': 'heating-circuit:4',\n",
      "                 'label': 'Schlafzimmer und Küche Haus 17',\n",
      "                 'name': 'heating-circuit',\n",
      "                 'navigation': {'back': {'hydraulicLocationIndex': 3,\n",
      "                                         'name': 'heating-circuit'},\n",
      "                                'forward': {'hydraulicLocationIndex': 5,\n",
      "                                            'name': 'heating-circuit'}},\n",
      "                 'parameters': {'subComponent': {'heating-circuit--pump--4': {'hideDisplay': True,\n",
      "                                                                              'noConnections': True},\n",
      "                                                 'heating-circuit--valve--4': {'hideDisplay': True,\n",
      "                                                                               'noConnections': True}}}},\n",
      "                {'connections': [],\n",
      "                 'hydraulicLocationIndex': 5,\n",
      "                 'id': 'heating-circuit:5',\n",
      "                 'label': '1/2 Wohnung Haus 17',\n",
      "                 'name': 'heating-circuit',\n",
      "                 'navigation': {'back': {'hydraulicLocationIndex': 4,\n",
      "                                         'name': 'heating-circuit'}},\n",
      "                 'parameters': {'subComponent': {'heating-circuit--pump--5': {'hideDisplay': True,\n",
      "                                                                              'noConnections': True},\n",
      "                                                 'heating-circuit--valve--5': {'hideDisplay': True,\n",
      "                                                                               'noConnections': True}}}},\n",
      "                {'connections': [],\n",
      "                 'hydraulicLocationIndex': 6,\n",
      "                 'id': 'heating-circuit:6',\n",
      "                 'label': 'Wohn und Kind Haus 17',\n",
      "                 'name': 'heating-circuit',\n",
      "                 'navigation': {'back': {'hydraulicLocationIndex': 5,\n",
      "                                         'name': 'heating-circuit'},\n",
      "                                'forward': {'hydraulicLocationIndex': 6,\n",
      "                                            'name': 'heating-circuit'}},\n",
      "                 'parameters': {'subComponent': {'heating-circuit--pump--6': {'hideDisplay': True,\n",
      "                                                                              'noConnections': True},\n",
      "                                                 'heating-circuit--valve--6': {'hideDisplay': True,\n",
      "                                                                               'noConnections': True}}}},\n",
      "                {'connections': [{'status': 'cold',\n",
      "                                  'to': {'direction': 'bottom',\n",
      "                                         'id': 'gas:1',\n",
      "                                         'subSystem': {'hydraulicLocationIndex': 1,\n",
      "                                                       'name': 'gas',\n",
      "                                                       'side': 'right'}}},\n",
      "                                 {'from': {'direction': 'bottom',\n",
      "                                           'id': 'gas:1',\n",
      "                                           'subSystem': {'hydraulicLocationIndex': 1,\n",
      "                                                         'name': 'gas',\n",
      "                                                         'side': 'right'}},\n",
      "                                  'status': 'cold'}],\n",
      "                 'hydraulicLocationIndex': 7,\n",
      "                 'id': 'heating-circuit:7',\n",
      "                 'label': 'Spitzboden Haus 15 + 17',\n",
      "                 'name': 'heating-circuit',\n",
      "                 'navigation': {'back': {'hydraulicLocationIndex': 6,\n",
      "                                         'name': 'heating-circuit'}},\n",
      "                 'parameters': {'subComponent': {'heating-circuit--pump--7': {'hideDisplay': True,\n",
      "                                                                              'noConnections': True},\n",
      "                                                 'heating-circuit--valve--7': {'hideDisplay': True,\n",
      "                                                                               'noConnections': True}}}},\n",
      "                {'connections': [],\n",
      "                 'hydraulicLocationIndex': 1,\n",
      "                 'id': 'heat-exchanger:1',\n",
      "                 'name': 'heat-exchanger',\n",
      "                 'navigation': {}}],\n",
      " 'version': 'v1'}\n"
     ]
    }
   ],
   "source": [
    "if True: #test single buildings\n",
    "    building_id = building_id#2389#1801#2317#1315#1593#1809 #1801 #\n",
    "    mod_sys = df.loc[df['building_id'] == building_id, 'modular_system'].iloc[0]\n",
    "    modular_system = ast.literal_eval(mod_sys)\n",
    "    #print(df.loc[df['building_id'] == building_id, 'LayoutID_Tops'].iloc[0])\n",
    "    pprint(modular_system)"
   ]
  },
  {
   "cell_type": "markdown",
   "id": "8f76d9ce-b340-4ad3-8266-c1fa8f1f2e33",
   "metadata": {},
   "source": [
    "# exports"
   ]
  },
  {
   "cell_type": "code",
   "execution_count": 58,
   "id": "7a526bd3-ef40-4f0e-90ca-5cfac1852064",
   "metadata": {},
   "outputs": [],
   "source": [
    "if True:\n",
    "    filename1='Building_ID_VS_LayoutID_'+extraced_date+'.csv'\n",
    "    filename2='LayoutID_occurence_'+extraced_date+'.csv'\n",
    "    filename3='LayoutID_occurence_new_std_'+extraced_date+'.csv'\n",
    "    filename4='mismatch_df_'+extraced_date+'.csv'\n",
    "    filepath1 = os.path.join('OUTs', filename1)\n",
    "    filepath2 = os.path.join('OUTs', filename2)\n",
    "    filepath3 = os.path.join('OUTs', filename3)\n",
    "    filepath4 = os.path.join('OUTs', filename4)\n",
    "    df.to_csv(filepath1, index=False)\n",
    "    grouped.to_csv(filepath2, index=False)\n",
    "    grouped_new_std.to_csv(filepath3, index=False)\n",
    "    mismatch_df.to_csv(filepath4, index=False)"
   ]
  },
  {
   "cell_type": "code",
   "execution_count": null,
   "id": "19a0360a-3012-4ee5-ae72-cb48d41160b0",
   "metadata": {},
   "outputs": [],
   "source": []
  },
  {
   "cell_type": "code",
   "execution_count": null,
   "id": "2d3b1269-fb02-45c4-9c91-4047e02e00fc",
   "metadata": {},
   "outputs": [],
   "source": []
  },
  {
   "cell_type": "code",
   "execution_count": null,
   "id": "eb058dd6-939b-40ac-8658-3c8cbffc3475",
   "metadata": {},
   "outputs": [],
   "source": []
  }
 ],
 "metadata": {
  "kernelspec": {
   "display_name": "Python 3 (ipykernel)",
   "language": "python",
   "name": "python3"
  },
  "language_info": {
   "codemirror_mode": {
    "name": "ipython",
    "version": 3
   },
   "file_extension": ".py",
   "mimetype": "text/x-python",
   "name": "python",
   "nbconvert_exporter": "python",
   "pygments_lexer": "ipython3",
   "version": "3.12.10"
  }
 },
 "nbformat": 4,
 "nbformat_minor": 5
}
