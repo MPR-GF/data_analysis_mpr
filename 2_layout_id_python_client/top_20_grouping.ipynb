{
 "cells": [
  {
   "cell_type": "code",
   "execution_count": 1,
   "id": "a59fa91e-25fa-401d-ba38-9f2b0884c3f7",
   "metadata": {},
   "outputs": [],
   "source": [
    "#imports\n",
    "import pandas as pd"
   ]
  },
  {
   "cell_type": "code",
   "execution_count": 2,
   "id": "6bd92872-e227-47c0-bf52-2e7bd8f4511f",
   "metadata": {},
   "outputs": [],
   "source": [
    "#build df from database exctracted data\n",
    "df = pd.read_csv('LayoutID_occurence_new_std.csv')\n",
    "#inspest column\n",
    "df=df.head(20)"
   ]
  },
  {
   "cell_type": "code",
   "execution_count": 3,
   "id": "b9508ea3-341d-4068-b8bc-666022c7fd3a",
   "metadata": {},
   "outputs": [],
   "source": [
    "sensor_rules_indexed = {\n",
    "    'gas': ['t_b{i}_flow', 't_b{i}_flow'],\n",
    "    'heating-circuit': [' t_hc{i}_flow', ' t_hc{i}_return'],\n",
    "    'warm-water': [' t_hw{i}_return', 't_hw{i}_tank', 't_hw{i}_pwh', ' t_hw{i}_circ'],\n",
    "    'heat-pump': ['t_hp{i}_primflow', 't_hp{i}_primreturn', 't_hp{i}_secflow', 't_hp{i}_secreturn'], \t\n",
    "    'buffer-tank': ['t_buffer{i}_tank_1\t'],\n",
    "    'district-heating': ['t_dh_primflow', 't_dh_primreturn'],\n",
    "    'local-heating-station': ['t_lh{i}_subsflow', 't_lh{i}_subsreturn'] \n",
    "}\n",
    "def generate_sensor_placement(layout):\n",
    "    if pd.isna(layout):\n",
    "        return ''\n",
    "        \n",
    "    parts = layout.split('--')\n",
    "    sensor_list = []\n",
    "    idx = 1  # global sensor index in parentheses\n",
    "\n",
    "    for part in parts:\n",
    "        if ':' not in part:\n",
    "            continue  # skip malformed parts\n",
    "\n",
    "        system_type, system_index = part.split(':')\n",
    "        try:\n",
    "            i = int(system_index)\n",
    "        except ValueError:\n",
    "            continue  # skip if index is not a number\n",
    "\n",
    "        if system_type in sensor_rules_indexed:\n",
    "            sensors = sensor_rules_indexed[system_type]\n",
    "            for label in sensors:\n",
    "                named_label = label.replace('{i}', str(i))\n",
    "                sensor_list.append(f\"({idx}: {named_label})\")\n",
    "                idx += 1\n",
    "\n",
    "    return ','.join(sensor_list)\n",
    "\n",
    "df['sensor_placement'] = df['LayoutID_Tops'].apply(generate_sensor_placement)\n",
    "df['sensor_count'] = df['sensor_placement'].str.count(r'\\(\\d+:')  # counts sensor entries"
   ]
  },
  {
   "cell_type": "code",
   "execution_count": 4,
   "id": "07eb201c-541c-47a2-a172-e7934abad395",
   "metadata": {},
   "outputs": [
    {
     "data": {
      "text/html": [
       "<div>\n",
       "<style scoped>\n",
       "    .dataframe tbody tr th:only-of-type {\n",
       "        vertical-align: middle;\n",
       "    }\n",
       "\n",
       "    .dataframe tbody tr th {\n",
       "        vertical-align: top;\n",
       "    }\n",
       "\n",
       "    .dataframe thead th {\n",
       "        text-align: right;\n",
       "    }\n",
       "</style>\n",
       "<table border=\"1\" class=\"dataframe\">\n",
       "  <thead>\n",
       "    <tr style=\"text-align: right;\">\n",
       "      <th></th>\n",
       "      <th>LayoutID_Tops</th>\n",
       "      <th>Occurrence</th>\n",
       "      <th>Variations_KBn</th>\n",
       "      <th>buildingIDs</th>\n",
       "      <th>Variations</th>\n",
       "      <th>sensor_placement</th>\n",
       "      <th>sensor_count</th>\n",
       "    </tr>\n",
       "  </thead>\n",
       "  <tbody>\n",
       "    <tr>\n",
       "      <th>0</th>\n",
       "      <td>gas:1--heating-circuit:1--warm-water:1</td>\n",
       "      <td>185</td>\n",
       "      <td>KB1, KB4, KB16, KB30</td>\n",
       "      <td>[768, 769, 770, 778, 787, 304, 1924, 1925, 192...</td>\n",
       "      <td>{'gas:1--heating-circuit:1--heat-exchanger:1--...</td>\n",
       "      <td>(1: t_b1_flow),(2: t_b1_flow),(3:  t_hc1_flow)...</td>\n",
       "      <td>8</td>\n",
       "    </tr>\n",
       "    <tr>\n",
       "      <th>1</th>\n",
       "      <td>gas:1--heating-circuit:1</td>\n",
       "      <td>125</td>\n",
       "      <td>KB3, KB6, KB14</td>\n",
       "      <td>[758, 759, 499, 507, 1524, 1525, 1649, 1654, 1...</td>\n",
       "      <td>{'gas:1--heat-exchanger:1--heating-circuit:1',...</td>\n",
       "      <td>(1: t_b1_flow),(2: t_b1_flow),(3:  t_hc1_flow)...</td>\n",
       "      <td>4</td>\n",
       "    </tr>\n",
       "  </tbody>\n",
       "</table>\n",
       "</div>"
      ],
      "text/plain": [
       "                            LayoutID_Tops  Occurrence        Variations_KBn  \\\n",
       "0  gas:1--heating-circuit:1--warm-water:1         185  KB1, KB4, KB16, KB30   \n",
       "1                gas:1--heating-circuit:1         125        KB3, KB6, KB14   \n",
       "\n",
       "                                         buildingIDs  \\\n",
       "0  [768, 769, 770, 778, 787, 304, 1924, 1925, 192...   \n",
       "1  [758, 759, 499, 507, 1524, 1525, 1649, 1654, 1...   \n",
       "\n",
       "                                          Variations  \\\n",
       "0  {'gas:1--heating-circuit:1--heat-exchanger:1--...   \n",
       "1  {'gas:1--heat-exchanger:1--heating-circuit:1',...   \n",
       "\n",
       "                                    sensor_placement  sensor_count  \n",
       "0  (1: t_b1_flow),(2: t_b1_flow),(3:  t_hc1_flow)...             8  \n",
       "1  (1: t_b1_flow),(2: t_b1_flow),(3:  t_hc1_flow)...             4  "
      ]
     },
     "execution_count": 4,
     "metadata": {},
     "output_type": "execute_result"
    }
   ],
   "source": [
    "df.head(2)"
   ]
  },
  {
   "cell_type": "code",
   "execution_count": 5,
   "id": "b263a4bf-0afa-4a32-8ad1-3bd2abd2d357",
   "metadata": {},
   "outputs": [],
   "source": [
    "#export\n",
    "if True:\n",
    "    df.to_csv('top_20_grouping.csv', index=False)"
   ]
  },
  {
   "cell_type": "code",
   "execution_count": 6,
   "id": "d411dd8e-61b6-4025-830c-cabd50c18d02",
   "metadata": {},
   "outputs": [],
   "source": [
    "#df"
   ]
  },
  {
   "cell_type": "code",
   "execution_count": null,
   "id": "74f4fc70-de5d-47a4-8123-833a47c451e3",
   "metadata": {},
   "outputs": [],
   "source": []
  }
 ],
 "metadata": {
  "kernelspec": {
   "display_name": "Python 3 (ipykernel)",
   "language": "python",
   "name": "python3"
  },
  "language_info": {
   "codemirror_mode": {
    "name": "ipython",
    "version": 3
   },
   "file_extension": ".py",
   "mimetype": "text/x-python",
   "name": "python",
   "nbconvert_exporter": "python",
   "pygments_lexer": "ipython3",
   "version": "3.12.10"
  }
 },
 "nbformat": 4,
 "nbformat_minor": 5
}
