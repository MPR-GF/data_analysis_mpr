{
 "cells": [
  {
   "cell_type": "markdown",
   "id": "2cde8c3b-78b4-4ac9-9b4b-06d01c1b2a73",
   "metadata": {},
   "source": [
    "# Analysis of Layout ID"
   ]
  },
  {
   "cell_type": "markdown",
   "id": "33c8cb17-e8f9-40da-a6a6-4facfe6d7bc7",
   "metadata": {},
   "source": [
    "## Relevant documents"
   ]
  },
  {
   "cell_type": "markdown",
   "id": "d4b1fbd9-6220-4d26-a9a2-ee428b1187f8",
   "metadata": {},
   "source": [
    "- (Python Client Repo)[https://github.com/Green-Fusion/energy-management-backend/tree/main/python_client]\n",
    "- (Klemmenbelegung)[https://docs.google.com/spreadsheets/d/1nkdkx2rI6nVKgoKBgkCUtfwEwuv8kptrRUXcXtfv0NM/edit?gid=247168398#gid=247168398]\n",
    "- (Hypothesis for Klemmenbelegung)[https://docs.google.com/spreadsheets/d/1TSTxMCgEvuoayzOfx1MUqlV0tiqsVTBRN8aldlnFXxA/edit?gid=0#gid=0]"
   ]
  },
  {
   "cell_type": "code",
   "execution_count": 1,
   "id": "7a18f22c-fe80-4183-a62e-e2d68a0c4f1a",
   "metadata": {},
   "outputs": [],
   "source": [
    "#imports\n",
    "from energy_management_client import BackendPythonClient\n",
    "import pandas as pd\n",
    "import json"
   ]
  },
  {
   "cell_type": "code",
   "execution_count": 2,
   "id": "77d42218-f9bc-4732-a9bb-184ee7b2b8b6",
   "metadata": {},
   "outputs": [],
   "source": [
    "# pythpon client auth & login\n",
    "# init the client\n",
    "client = BackendPythonClient(\n",
    "    backend_endpoint=\"https://dev.green-fusion.de/services/energy-management-backend/v1/api\",\n",
    ")\n",
    "#login\n",
    "client.login(\n",
    "    auth_endpoint=\"https://auth.green-fusion.de\",\n",
    "    realm=\"development\",\n",
    "    client_id=\"backend_python_client\", # backend_python_client, datascience_development_api\n",
    "    grant_type=\"device_code\", #\"client_credentials\",  # or \"password\", \"device_code\"\n",
    ")"
   ]
  },
  {
   "cell_type": "code",
   "execution_count": 4,
   "id": "bb118e22-71b5-4df4-9002-94bbadf3d056",
   "metadata": {},
   "outputs": [],
   "source": [
    "def get_buildings_df(client, customers):\n",
    "    try:\n",
    "        data = []\n",
    "        for c in customers:\n",
    "            customer_id = c.id\n",
    "            customer_name = getattr(c, 'name', None)\n",
    "            client.configure(customer_id=customer_id)\n",
    "            c_buildings = client.buildings.get_buildings()\n",
    "            building_list = getattr(c_buildings, 'buildings', [])\n",
    "            \n",
    "            for b in building_list:\n",
    "                building_id = getattr(b, 'building_id', None)\n",
    "                modular_system_str = getattr(b, 'modular_system', None)\n",
    "                address = getattr(b, 'address', None)\n",
    "                \n",
    "                modular_system = None\n",
    "                layout_id = None\n",
    "                \n",
    "                if modular_system_str:\n",
    "                    try:\n",
    "                        modular_system = json.loads(modular_system_str)\n",
    "                        # Extract layoutID if exists\n",
    "                        layout_id = modular_system.get('layoutID', None)\n",
    "                    except json.JSONDecodeError:\n",
    "                        modular_system = None\n",
    "                \n",
    "                data.append({\n",
    "                    #\"customer_id\": customer_id,\n",
    "                    \"customer_name\": customer_name,\n",
    "                    \"building_id\": building_id,\n",
    "                    \"address\": address,\n",
    "                    \"modular_system\": modular_system,\n",
    "                    \"layout_id\": layout_id\n",
    "                })\n",
    "\n",
    "        return pd.DataFrame(data)\n",
    "    \n",
    "    except Exception as e:\n",
    "        print(\"API Call Failed:\", e)\n",
    "        return pd.DataFrame()"
   ]
  },
  {
   "cell_type": "code",
   "execution_count": 5,
   "id": "40aeed91-efa6-449b-81f1-0f52a2897222",
   "metadata": {},
   "outputs": [],
   "source": [
    "# Get customers list (list of dicts)\n",
    "customers = client.customers.get_list_of_customers()\n",
    "#build df\n",
    "df = get_buildings_df(client, customers)\n"
   ]
  },
  {
   "cell_type": "code",
   "execution_count": 6,
   "id": "5a298d11-feb5-432a-830d-a08517e405cc",
   "metadata": {
    "scrolled": true
   },
   "outputs": [
    {
     "data": {
      "text/html": [
       "<div>\n",
       "<style scoped>\n",
       "    .dataframe tbody tr th:only-of-type {\n",
       "        vertical-align: middle;\n",
       "    }\n",
       "\n",
       "    .dataframe tbody tr th {\n",
       "        vertical-align: top;\n",
       "    }\n",
       "\n",
       "    .dataframe thead th {\n",
       "        text-align: right;\n",
       "    }\n",
       "</style>\n",
       "<table border=\"1\" class=\"dataframe\">\n",
       "  <thead>\n",
       "    <tr style=\"text-align: right;\">\n",
       "      <th></th>\n",
       "      <th>customer_name</th>\n",
       "      <th>building_id</th>\n",
       "      <th>address</th>\n",
       "      <th>modular_system</th>\n",
       "      <th>layout_id</th>\n",
       "    </tr>\n",
       "  </thead>\n",
       "  <tbody>\n",
       "    <tr>\n",
       "      <th>0</th>\n",
       "      <td>Stadtwerke Troisdorf</td>\n",
       "      <td>571</td>\n",
       "      <td>Asselbachstr. 40</td>\n",
       "      <td>{'name': 'modular-system-entry', 'id': 'modula...</td>\n",
       "      <td>gas:1--gas:2--global-separation-circuit:1--hea...</td>\n",
       "    </tr>\n",
       "    <tr>\n",
       "      <th>1</th>\n",
       "      <td>Stadtwerke Troisdorf</td>\n",
       "      <td>574</td>\n",
       "      <td>Lütticher Str. 12</td>\n",
       "      <td>{'publishedAt': '2024-06-04T07:43:15.376Z', 'n...</td>\n",
       "      <td>gas:1--gas:2--global-separation-circuit:1--hea...</td>\n",
       "    </tr>\n",
       "    <tr>\n",
       "      <th>2</th>\n",
       "      <td>Stadtwerke Troisdorf</td>\n",
       "      <td>575</td>\n",
       "      <td>Rathausallee 10</td>\n",
       "      <td>{'name': 'modular-system-entry', 'id': 'modula...</td>\n",
       "      <td>gas:1--gas:2--global-separation-circuit:1--hea...</td>\n",
       "    </tr>\n",
       "    <tr>\n",
       "      <th>3</th>\n",
       "      <td>Stadtwerke Troisdorf</td>\n",
       "      <td>738</td>\n",
       "      <td>Lohmarer Str. 33</td>\n",
       "      <td>{'name': 'modular-system-entry', 'id': 'modula...</td>\n",
       "      <td>gas:1--gas:2--chp:1--buffer-tank:1--global-sep...</td>\n",
       "    </tr>\n",
       "    <tr>\n",
       "      <th>4</th>\n",
       "      <td>Stadtwerke Troisdorf</td>\n",
       "      <td>739</td>\n",
       "      <td>Zum Altenforst 10</td>\n",
       "      <td>{'name': 'modular-system-entry', 'id': 'modula...</td>\n",
       "      <td>gas:1--gas:2--chp:1--buffer-tank:1--global-sep...</td>\n",
       "    </tr>\n",
       "    <tr>\n",
       "      <th>5</th>\n",
       "      <td>LÜBECKER BAUVEREIN</td>\n",
       "      <td>643</td>\n",
       "      <td>Lützowstraße 30-46</td>\n",
       "      <td>None</td>\n",
       "      <td>None</td>\n",
       "    </tr>\n",
       "    <tr>\n",
       "      <th>6</th>\n",
       "      <td>LÜBECKER BAUVEREIN</td>\n",
       "      <td>644</td>\n",
       "      <td>Ratzeburger Allee 76-84</td>\n",
       "      <td>None</td>\n",
       "      <td>None</td>\n",
       "    </tr>\n",
       "    <tr>\n",
       "      <th>7</th>\n",
       "      <td>LÜBECKER BAUVEREIN</td>\n",
       "      <td>645</td>\n",
       "      <td>Tannenbergstr. 6-12</td>\n",
       "      <td>None</td>\n",
       "      <td>None</td>\n",
       "    </tr>\n",
       "    <tr>\n",
       "      <th>8</th>\n",
       "      <td>LÜBECKER BAUVEREIN</td>\n",
       "      <td>646</td>\n",
       "      <td>Andersenring 28</td>\n",
       "      <td>None</td>\n",
       "      <td>None</td>\n",
       "    </tr>\n",
       "    <tr>\n",
       "      <th>9</th>\n",
       "      <td>LÜBECKER BAUVEREIN</td>\n",
       "      <td>647</td>\n",
       "      <td>Brolingstr. 16, Geverdestr. 58, Ludwigstr. 63/65</td>\n",
       "      <td>None</td>\n",
       "      <td>None</td>\n",
       "    </tr>\n",
       "  </tbody>\n",
       "</table>\n",
       "</div>"
      ],
      "text/plain": [
       "          customer_name  building_id  \\\n",
       "0  Stadtwerke Troisdorf          571   \n",
       "1  Stadtwerke Troisdorf          574   \n",
       "2  Stadtwerke Troisdorf          575   \n",
       "3  Stadtwerke Troisdorf          738   \n",
       "4  Stadtwerke Troisdorf          739   \n",
       "5    LÜBECKER BAUVEREIN          643   \n",
       "6    LÜBECKER BAUVEREIN          644   \n",
       "7    LÜBECKER BAUVEREIN          645   \n",
       "8    LÜBECKER BAUVEREIN          646   \n",
       "9    LÜBECKER BAUVEREIN          647   \n",
       "\n",
       "                                            address  \\\n",
       "0                                  Asselbachstr. 40   \n",
       "1                                 Lütticher Str. 12   \n",
       "2                                   Rathausallee 10   \n",
       "3                                  Lohmarer Str. 33   \n",
       "4                                 Zum Altenforst 10   \n",
       "5                                Lützowstraße 30-46   \n",
       "6                           Ratzeburger Allee 76-84   \n",
       "7                               Tannenbergstr. 6-12   \n",
       "8                                   Andersenring 28   \n",
       "9  Brolingstr. 16, Geverdestr. 58, Ludwigstr. 63/65   \n",
       "\n",
       "                                      modular_system  \\\n",
       "0  {'name': 'modular-system-entry', 'id': 'modula...   \n",
       "1  {'publishedAt': '2024-06-04T07:43:15.376Z', 'n...   \n",
       "2  {'name': 'modular-system-entry', 'id': 'modula...   \n",
       "3  {'name': 'modular-system-entry', 'id': 'modula...   \n",
       "4  {'name': 'modular-system-entry', 'id': 'modula...   \n",
       "5                                               None   \n",
       "6                                               None   \n",
       "7                                               None   \n",
       "8                                               None   \n",
       "9                                               None   \n",
       "\n",
       "                                           layout_id  \n",
       "0  gas:1--gas:2--global-separation-circuit:1--hea...  \n",
       "1  gas:1--gas:2--global-separation-circuit:1--hea...  \n",
       "2  gas:1--gas:2--global-separation-circuit:1--hea...  \n",
       "3  gas:1--gas:2--chp:1--buffer-tank:1--global-sep...  \n",
       "4  gas:1--gas:2--chp:1--buffer-tank:1--global-sep...  \n",
       "5                                               None  \n",
       "6                                               None  \n",
       "7                                               None  \n",
       "8                                               None  \n",
       "9                                               None  "
      ]
     },
     "execution_count": 6,
     "metadata": {},
     "output_type": "execute_result"
    }
   ],
   "source": [
    "df.head(10)"
   ]
  },
  {
   "cell_type": "code",
   "execution_count": 8,
   "id": "d5931114-43df-4e95-b629-f69ef665835c",
   "metadata": {},
   "outputs": [
    {
     "data": {
      "text/html": [
       "<div>\n",
       "<style scoped>\n",
       "    .dataframe tbody tr th:only-of-type {\n",
       "        vertical-align: middle;\n",
       "    }\n",
       "\n",
       "    .dataframe tbody tr th {\n",
       "        vertical-align: top;\n",
       "    }\n",
       "\n",
       "    .dataframe thead th {\n",
       "        text-align: right;\n",
       "    }\n",
       "</style>\n",
       "<table border=\"1\" class=\"dataframe\">\n",
       "  <thead>\n",
       "    <tr style=\"text-align: right;\">\n",
       "      <th></th>\n",
       "      <th>building_id</th>\n",
       "    </tr>\n",
       "  </thead>\n",
       "  <tbody>\n",
       "    <tr>\n",
       "      <th>count</th>\n",
       "      <td>1699.000000</td>\n",
       "    </tr>\n",
       "    <tr>\n",
       "      <th>mean</th>\n",
       "      <td>1175.504414</td>\n",
       "    </tr>\n",
       "    <tr>\n",
       "      <th>std</th>\n",
       "      <td>675.796589</td>\n",
       "    </tr>\n",
       "    <tr>\n",
       "      <th>min</th>\n",
       "      <td>1.000000</td>\n",
       "    </tr>\n",
       "    <tr>\n",
       "      <th>25%</th>\n",
       "      <td>560.500000</td>\n",
       "    </tr>\n",
       "    <tr>\n",
       "      <th>50%</th>\n",
       "      <td>1319.000000</td>\n",
       "    </tr>\n",
       "    <tr>\n",
       "      <th>75%</th>\n",
       "      <td>1773.500000</td>\n",
       "    </tr>\n",
       "    <tr>\n",
       "      <th>max</th>\n",
       "      <td>2320.000000</td>\n",
       "    </tr>\n",
       "  </tbody>\n",
       "</table>\n",
       "</div>"
      ],
      "text/plain": [
       "       building_id\n",
       "count  1699.000000\n",
       "mean   1175.504414\n",
       "std     675.796589\n",
       "min       1.000000\n",
       "25%     560.500000\n",
       "50%    1319.000000\n",
       "75%    1773.500000\n",
       "max    2320.000000"
      ]
     },
     "execution_count": 8,
     "metadata": {},
     "output_type": "execute_result"
    }
   ],
   "source": [
    "df.describe()"
   ]
  },
  {
   "cell_type": "markdown",
   "id": "043f0e57-1b91-434e-a20f-93e361fadb7a",
   "metadata": {},
   "source": [
    "# export df"
   ]
  },
  {
   "cell_type": "code",
   "execution_count": null,
   "id": "6b529cc8-abb1-4e9e-90bd-052a8f115171",
   "metadata": {},
   "outputs": [],
   "source": [
    "if True:\n",
    "    df.drop(columns=['modular_system'])"
   ]
  },
  {
   "cell_type": "markdown",
   "id": "8f76d9ce-b340-4ad3-8266-c1fa8f1f2e33",
   "metadata": {},
   "source": [
    "# Analyse"
   ]
  },
  {
   "cell_type": "code",
   "execution_count": 9,
   "id": "5bf97fb1-08af-480c-9cbe-cda207e9db2f",
   "metadata": {},
   "outputs": [
    {
     "data": {
      "text/plain": [
       "customer_name     1699\n",
       "building_id       1699\n",
       "address           1699\n",
       "modular_system     439\n",
       "layout_id          439\n",
       "dtype: int64"
      ]
     },
     "execution_count": 9,
     "metadata": {},
     "output_type": "execute_result"
    }
   ],
   "source": [
    "df.count()"
   ]
  },
  {
   "cell_type": "code",
   "execution_count": null,
   "id": "7a526bd3-ef40-4f0e-90ca-5cfac1852064",
   "metadata": {},
   "outputs": [],
   "source": []
  }
 ],
 "metadata": {
  "kernelspec": {
   "display_name": "Python 3 (ipykernel)",
   "language": "python",
   "name": "python3"
  },
  "language_info": {
   "codemirror_mode": {
    "name": "ipython",
    "version": 3
   },
   "file_extension": ".py",
   "mimetype": "text/x-python",
   "name": "python",
   "nbconvert_exporter": "python",
   "pygments_lexer": "ipython3",
   "version": "3.12.10"
  }
 },
 "nbformat": 4,
 "nbformat_minor": 5
}
