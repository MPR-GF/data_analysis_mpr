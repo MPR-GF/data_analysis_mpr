{
 "cells": [
  {
   "cell_type": "markdown",
   "id": "2cde8c3b-78b4-4ac9-9b4b-06d01c1b2a73",
   "metadata": {},
   "source": [
    "# Analysis of Layout ID"
   ]
  },
  {
   "cell_type": "markdown",
   "id": "33c8cb17-e8f9-40da-a6a6-4facfe6d7bc7",
   "metadata": {},
   "source": [
    "## Relevant documents"
   ]
  },
  {
   "cell_type": "markdown",
   "id": "d4b1fbd9-6220-4d26-a9a2-ee428b1187f8",
   "metadata": {},
   "source": [
    "- (Python Client Repo)[https://github.com/Green-Fusion/energy-management-backend/tree/main/python_client]\n",
    "- (Klemmenbelegung)[https://docs.google.com/spreadsheets/d/1nkdkx2rI6nVKgoKBgkCUtfwEwuv8kptrRUXcXtfv0NM/edit?gid=247168398#gid=247168398]\n",
    "- (Hypothesis for Klemmenbelegung)[https://docs.google.com/spreadsheets/d/1TSTxMCgEvuoayzOfx1MUqlV0tiqsVTBRN8aldlnFXxA/edit?gid=0#gid=0]"
   ]
  },
  {
   "cell_type": "markdown",
   "id": "f8b846d2-e7da-4800-be67-141a134a2c72",
   "metadata": {},
   "source": [
    "# import data"
   ]
  },
  {
   "cell_type": "code",
   "execution_count": 1,
   "id": "7a18f22c-fe80-4183-a62e-e2d68a0c4f1a",
   "metadata": {},
   "outputs": [],
   "source": [
    "#imports\n",
    "import pandas as pd\n"
   ]
  },
  {
   "cell_type": "code",
   "execution_count": 4,
   "id": "5a298d11-feb5-432a-830d-a08517e405cc",
   "metadata": {
    "scrolled": true
   },
   "outputs": [
    {
     "data": {
      "text/plain": [
       "Index(['building_id', 'customer_name', 'address', 'postal_code', 'city',\n",
       "       'heatingType', 'heatingSurface', 'coordinates', 'gfid', 'LayoutID',\n",
       "       'device_type', 'device_id'],\n",
       "      dtype='object')"
      ]
     },
     "execution_count": 4,
     "metadata": {},
     "output_type": "execute_result"
    }
   ],
   "source": [
    "#build df from database exctracted data\n",
    "df = pd.read_csv('data_from_db_2025-07-02.csv')\n",
    "#inspest column\n",
    "df.columns"
   ]
  },
  {
   "cell_type": "code",
   "execution_count": 5,
   "id": "d5931114-43df-4e95-b629-f69ef665835c",
   "metadata": {},
   "outputs": [],
   "source": [
    "#filter out uncesseray infos\n",
    "df=df[['building_id','device_type', 'customer_name','address','LayoutID']]"
   ]
  },
  {
   "cell_type": "code",
   "execution_count": 6,
   "id": "25ec359b-eab1-4c60-a515-61f9bfe17c7e",
   "metadata": {},
   "outputs": [
    {
     "data": {
      "text/html": [
       "<div>\n",
       "<style scoped>\n",
       "    .dataframe tbody tr th:only-of-type {\n",
       "        vertical-align: middle;\n",
       "    }\n",
       "\n",
       "    .dataframe tbody tr th {\n",
       "        vertical-align: top;\n",
       "    }\n",
       "\n",
       "    .dataframe thead th {\n",
       "        text-align: right;\n",
       "    }\n",
       "</style>\n",
       "<table border=\"1\" class=\"dataframe\">\n",
       "  <thead>\n",
       "    <tr style=\"text-align: right;\">\n",
       "      <th></th>\n",
       "      <th>building_id</th>\n",
       "      <th>device_type</th>\n",
       "      <th>customer_name</th>\n",
       "      <th>address</th>\n",
       "      <th>LayoutID</th>\n",
       "    </tr>\n",
       "  </thead>\n",
       "  <tbody>\n",
       "    <tr>\n",
       "      <th>0</th>\n",
       "      <td>756</td>\n",
       "      <td>RUT956</td>\n",
       "      <td>HwS</td>\n",
       "      <td>Wolzogenstr.28</td>\n",
       "      <td>gas:1--gas:2--heating-circuit:1--heating-circu...</td>\n",
       "    </tr>\n",
       "    <tr>\n",
       "      <th>1</th>\n",
       "      <td>757</td>\n",
       "      <td>RUT956</td>\n",
       "      <td>HwS</td>\n",
       "      <td>Hagelberger Str. 26</td>\n",
       "      <td>gas:1--gas:2--heating-circuit:1</td>\n",
       "    </tr>\n",
       "    <tr>\n",
       "      <th>2</th>\n",
       "      <td>758</td>\n",
       "      <td>RUT956</td>\n",
       "      <td>HwS</td>\n",
       "      <td>Hochstr. 8</td>\n",
       "      <td>gas:1--heating-circuit:1</td>\n",
       "    </tr>\n",
       "    <tr>\n",
       "      <th>3</th>\n",
       "      <td>759</td>\n",
       "      <td>RUT956</td>\n",
       "      <td>HwS</td>\n",
       "      <td>Planufer 82a</td>\n",
       "      <td>gas:1--heating-circuit:1</td>\n",
       "    </tr>\n",
       "    <tr>\n",
       "      <th>4</th>\n",
       "      <td>761</td>\n",
       "      <td>RUT956</td>\n",
       "      <td>HwS</td>\n",
       "      <td>Gabainstr. 13</td>\n",
       "      <td>gas:1--gas:2--global-separation-circuit:1--hea...</td>\n",
       "    </tr>\n",
       "  </tbody>\n",
       "</table>\n",
       "</div>"
      ],
      "text/plain": [
       "   building_id device_type customer_name              address  \\\n",
       "0          756      RUT956           HwS       Wolzogenstr.28   \n",
       "1          757      RUT956           HwS  Hagelberger Str. 26   \n",
       "2          758      RUT956           HwS           Hochstr. 8   \n",
       "3          759      RUT956           HwS         Planufer 82a   \n",
       "4          761      RUT956           HwS        Gabainstr. 13   \n",
       "\n",
       "                                            LayoutID  \n",
       "0  gas:1--gas:2--heating-circuit:1--heating-circu...  \n",
       "1                    gas:1--gas:2--heating-circuit:1  \n",
       "2                           gas:1--heating-circuit:1  \n",
       "3                           gas:1--heating-circuit:1  \n",
       "4  gas:1--gas:2--global-separation-circuit:1--hea...  "
      ]
     },
     "execution_count": 6,
     "metadata": {},
     "output_type": "execute_result"
    }
   ],
   "source": [
    "df.head()"
   ]
  },
  {
   "cell_type": "code",
   "execution_count": 7,
   "id": "3353a115-146e-4c9f-bb97-42a3e9a67ce0",
   "metadata": {},
   "outputs": [
    {
     "data": {
      "text/plain": [
       "building_id      1893\n",
       "device_type      1051\n",
       "customer_name    1893\n",
       "address          1893\n",
       "LayoutID         1096\n",
       "dtype: int64"
      ]
     },
     "execution_count": 7,
     "metadata": {},
     "output_type": "execute_result"
    }
   ],
   "source": [
    "df.count()"
   ]
  },
  {
   "cell_type": "markdown",
   "id": "043f0e57-1b91-434e-a20f-93e361fadb7a",
   "metadata": {},
   "source": [
    "# Group by LayoutID"
   ]
  },
  {
   "cell_type": "code",
   "execution_count": null,
   "id": "164caa58-e9e4-4d2c-b04a-1952946b40c9",
   "metadata": {},
   "outputs": [],
   "source": [
    "#consider only count"
   ]
  },
  {
   "cell_type": "code",
   "execution_count": 9,
   "id": "6b529cc8-abb1-4e9e-90bd-052a8f115171",
   "metadata": {},
   "outputs": [
    {
     "name": "stdout",
     "output_type": "stream",
     "text": [
      "Number of unique LayoutID values: 233\n"
     ]
    }
   ],
   "source": [
    "unique_count = df['LayoutID'].nunique()\n",
    "print(f\"Number of unique LayoutID values: {unique_count}\")"
   ]
  },
  {
   "cell_type": "code",
   "execution_count": 10,
   "id": "4adff9da-2125-48bb-9500-61bc6899da6c",
   "metadata": {},
   "outputs": [],
   "source": [
    "# Group by LayoutID\n",
    "grouped = df.groupby('LayoutID').agg(\n",
    "    Occurrence=('LayoutID', 'count'),\n",
    "    buildingIDs=('building_id', list)\n",
    ").reset_index()\n",
    "\n",
    "# Add a simple index column starting from 0\n",
    "grouped = grouped.sort_values(by='Occurrence', ascending=False).reset_index(drop=True)\n"
   ]
  },
  {
   "cell_type": "code",
   "execution_count": 11,
   "id": "6948da52-6313-445a-b6c0-8b356ed935f3",
   "metadata": {},
   "outputs": [
    {
     "data": {
      "text/html": [
       "<div>\n",
       "<style scoped>\n",
       "    .dataframe tbody tr th:only-of-type {\n",
       "        vertical-align: middle;\n",
       "    }\n",
       "\n",
       "    .dataframe tbody tr th {\n",
       "        vertical-align: top;\n",
       "    }\n",
       "\n",
       "    .dataframe thead th {\n",
       "        text-align: right;\n",
       "    }\n",
       "</style>\n",
       "<table border=\"1\" class=\"dataframe\">\n",
       "  <thead>\n",
       "    <tr style=\"text-align: right;\">\n",
       "      <th></th>\n",
       "      <th>LayoutID</th>\n",
       "      <th>Occurrence</th>\n",
       "      <th>buildingIDs</th>\n",
       "    </tr>\n",
       "  </thead>\n",
       "  <tbody>\n",
       "    <tr>\n",
       "      <th>0</th>\n",
       "      <td>gas:1--heating-circuit:1--warm-water:1</td>\n",
       "      <td>119</td>\n",
       "      <td>[768, 769, 770, 778, 787, 1924, 1926, 1927, 46...</td>\n",
       "    </tr>\n",
       "    <tr>\n",
       "      <th>1</th>\n",
       "      <td>district-heating:1--heating-circuit:1--warm-wa...</td>\n",
       "      <td>82</td>\n",
       "      <td>[774, 1909, 1910, 1911, 1912, 1913, 1314, 1315...</td>\n",
       "    </tr>\n",
       "    <tr>\n",
       "      <th>2</th>\n",
       "      <td>gas:1--heating-circuit:1</td>\n",
       "      <td>71</td>\n",
       "      <td>[758, 759, 499, 1525, 1649, 1654, 1657, 1791, ...</td>\n",
       "    </tr>\n",
       "    <tr>\n",
       "      <th>3</th>\n",
       "      <td>gas:1--heat-exchanger:1--heating-circuit:1--wa...</td>\n",
       "      <td>46</td>\n",
       "      <td>[1925, 1931, 1781, 1509, 1526, 1527, 1531, 153...</td>\n",
       "    </tr>\n",
       "    <tr>\n",
       "      <th>4</th>\n",
       "      <td>local-heating-station:1--heating-circuit:1--wa...</td>\n",
       "      <td>41</td>\n",
       "      <td>[509, 790, 1005, 1628, 1629, 1630, 1631, 672, ...</td>\n",
       "    </tr>\n",
       "    <tr>\n",
       "      <th>5</th>\n",
       "      <td>gas:1--heat-exchanger:1--heating-circuit:1</td>\n",
       "      <td>39</td>\n",
       "      <td>[1524, 1795, 1560, 1638, 1639, 604, 617, 623, ...</td>\n",
       "    </tr>\n",
       "    <tr>\n",
       "      <th>6</th>\n",
       "      <td>gas:1--heating-circuit:1--heating-circuit:2--w...</td>\n",
       "      <td>34</td>\n",
       "      <td>[2219, 1511, 1515, 1516, 1517, 1518, 1537, 179...</td>\n",
       "    </tr>\n",
       "    <tr>\n",
       "      <th>7</th>\n",
       "      <td>gas:1--gas:2--heat-exchanger:1--heating-circui...</td>\n",
       "      <td>25</td>\n",
       "      <td>[510, 1773, 1777, 1778, 1528, 1529, 1530, 1539...</td>\n",
       "    </tr>\n",
       "    <tr>\n",
       "      <th>8</th>\n",
       "      <td>district-heating:1--heating-circuit:1</td>\n",
       "      <td>22</td>\n",
       "      <td>[762, 766, 777, 712, 450, 389, 391, 1725, 1726...</td>\n",
       "    </tr>\n",
       "    <tr>\n",
       "      <th>9</th>\n",
       "      <td>district-heating:1--heating-circuit:1--heating...</td>\n",
       "      <td>22</td>\n",
       "      <td>[600, 1488, 1724, 796, 1772, 1385, 1386, 1389,...</td>\n",
       "    </tr>\n",
       "    <tr>\n",
       "      <th>10</th>\n",
       "      <td>heat-pump:1--buffer-tank:1--heating-circuit:1</td>\n",
       "      <td>17</td>\n",
       "      <td>[546, 1854, 1855, 1901, 1902, 1903, 1904, 1905...</td>\n",
       "    </tr>\n",
       "    <tr>\n",
       "      <th>11</th>\n",
       "      <td>gas:1--gas:2--heat-exchanger:1--heating-circuit:1</td>\n",
       "      <td>15</td>\n",
       "      <td>[1506, 668, 680, 696, 1585, 1826, 1908, 730, 1...</td>\n",
       "    </tr>\n",
       "    <tr>\n",
       "      <th>12</th>\n",
       "      <td>gas:1--empty-pipes:1--down-right-pipes:1--four...</td>\n",
       "      <td>15</td>\n",
       "      <td>[1521, 1522, 352, 1579, 1591, 2102, 2103, 1555...</td>\n",
       "    </tr>\n",
       "    <tr>\n",
       "      <th>13</th>\n",
       "      <td>gas:1--global-separation-circuit:1--heating-ci...</td>\n",
       "      <td>15</td>\n",
       "      <td>[507, 1797, 601, 1497, 1501, 1503, 616, 520, 1...</td>\n",
       "    </tr>\n",
       "    <tr>\n",
       "      <th>14</th>\n",
       "      <td>heat-pump:1--right-down-pipes:1--heat-pump:2--...</td>\n",
       "      <td>12</td>\n",
       "      <td>[567, 1849, 1850, 1851, 1852, 1853, 2261, 596,...</td>\n",
       "    </tr>\n",
       "    <tr>\n",
       "      <th>15</th>\n",
       "      <td>gas:1--global-separation-circuit:1--heating-ci...</td>\n",
       "      <td>12</td>\n",
       "      <td>[304, 552, 1484, 1489, 1494, 650, 558, 1832, 1...</td>\n",
       "    </tr>\n",
       "    <tr>\n",
       "      <th>16</th>\n",
       "      <td>gas:1--warm-water:1--heat-exchanger:1--heating...</td>\n",
       "      <td>11</td>\n",
       "      <td>[568, 1566, 480, 481, 482, 483, 487, 488, 489,...</td>\n",
       "    </tr>\n",
       "    <tr>\n",
       "      <th>17</th>\n",
       "      <td>district-heating:1--heating-circuit:1--heating...</td>\n",
       "      <td>11</td>\n",
       "      <td>[1429, 576, 524, 1472, 459, 1589, 1812, 1733, ...</td>\n",
       "    </tr>\n",
       "    <tr>\n",
       "      <th>18</th>\n",
       "      <td>gas:1--gas:2--global-separation-circuit:1--hea...</td>\n",
       "      <td>11</td>\n",
       "      <td>[478, 427, 645, 653, 743, 521, 1603, 1604, 183...</td>\n",
       "    </tr>\n",
       "    <tr>\n",
       "      <th>19</th>\n",
       "      <td>gas:1--heating-circuit:1--heating-circuit:2</td>\n",
       "      <td>11</td>\n",
       "      <td>[776, 500, 1790, 1414, 1462, 2117, 2131, 1846,...</td>\n",
       "    </tr>\n",
       "  </tbody>\n",
       "</table>\n",
       "</div>"
      ],
      "text/plain": [
       "                                             LayoutID  Occurrence  \\\n",
       "0              gas:1--heating-circuit:1--warm-water:1         119   \n",
       "1   district-heating:1--heating-circuit:1--warm-wa...          82   \n",
       "2                            gas:1--heating-circuit:1          71   \n",
       "3   gas:1--heat-exchanger:1--heating-circuit:1--wa...          46   \n",
       "4   local-heating-station:1--heating-circuit:1--wa...          41   \n",
       "5          gas:1--heat-exchanger:1--heating-circuit:1          39   \n",
       "6   gas:1--heating-circuit:1--heating-circuit:2--w...          34   \n",
       "7   gas:1--gas:2--heat-exchanger:1--heating-circui...          25   \n",
       "8               district-heating:1--heating-circuit:1          22   \n",
       "9   district-heating:1--heating-circuit:1--heating...          22   \n",
       "10      heat-pump:1--buffer-tank:1--heating-circuit:1          17   \n",
       "11  gas:1--gas:2--heat-exchanger:1--heating-circuit:1          15   \n",
       "12  gas:1--empty-pipes:1--down-right-pipes:1--four...          15   \n",
       "13  gas:1--global-separation-circuit:1--heating-ci...          15   \n",
       "14  heat-pump:1--right-down-pipes:1--heat-pump:2--...          12   \n",
       "15  gas:1--global-separation-circuit:1--heating-ci...          12   \n",
       "16  gas:1--warm-water:1--heat-exchanger:1--heating...          11   \n",
       "17  district-heating:1--heating-circuit:1--heating...          11   \n",
       "18  gas:1--gas:2--global-separation-circuit:1--hea...          11   \n",
       "19        gas:1--heating-circuit:1--heating-circuit:2          11   \n",
       "\n",
       "                                          buildingIDs  \n",
       "0   [768, 769, 770, 778, 787, 1924, 1926, 1927, 46...  \n",
       "1   [774, 1909, 1910, 1911, 1912, 1913, 1314, 1315...  \n",
       "2   [758, 759, 499, 1525, 1649, 1654, 1657, 1791, ...  \n",
       "3   [1925, 1931, 1781, 1509, 1526, 1527, 1531, 153...  \n",
       "4   [509, 790, 1005, 1628, 1629, 1630, 1631, 672, ...  \n",
       "5   [1524, 1795, 1560, 1638, 1639, 604, 617, 623, ...  \n",
       "6   [2219, 1511, 1515, 1516, 1517, 1518, 1537, 179...  \n",
       "7   [510, 1773, 1777, 1778, 1528, 1529, 1530, 1539...  \n",
       "8   [762, 766, 777, 712, 450, 389, 391, 1725, 1726...  \n",
       "9   [600, 1488, 1724, 796, 1772, 1385, 1386, 1389,...  \n",
       "10  [546, 1854, 1855, 1901, 1902, 1903, 1904, 1905...  \n",
       "11  [1506, 668, 680, 696, 1585, 1826, 1908, 730, 1...  \n",
       "12  [1521, 1522, 352, 1579, 1591, 2102, 2103, 1555...  \n",
       "13  [507, 1797, 601, 1497, 1501, 1503, 616, 520, 1...  \n",
       "14  [567, 1849, 1850, 1851, 1852, 1853, 2261, 596,...  \n",
       "15  [304, 552, 1484, 1489, 1494, 650, 558, 1832, 1...  \n",
       "16  [568, 1566, 480, 481, 482, 483, 487, 488, 489,...  \n",
       "17  [1429, 576, 524, 1472, 459, 1589, 1812, 1733, ...  \n",
       "18  [478, 427, 645, 653, 743, 521, 1603, 1604, 183...  \n",
       "19  [776, 500, 1790, 1414, 1462, 2117, 2131, 1846,...  "
      ]
     },
     "execution_count": 11,
     "metadata": {},
     "output_type": "execute_result"
    }
   ],
   "source": [
    "# Show result\n",
    "grouped.head(20)"
   ]
  },
  {
   "cell_type": "code",
   "execution_count": 18,
   "id": "9a68707b-8107-40b9-a504-c04b7fdb221e",
   "metadata": {},
   "outputs": [
    {
     "name": "stdout",
     "output_type": "stream",
     "text": [
      "total LayoutID: 1096\n",
      "top 10 LayoutIDs count: 501\n",
      "top 20 LayoutIDs count: 631\n",
      "Coverage top 10 LayoutIDs:  45.7 %\n",
      "Coverage top 20 LayoutIDs:  57.6 %\n"
     ]
    }
   ],
   "source": [
    "# Sum the number of occurrences for top 10 and top 20\n",
    "top_10_sum = grouped.head(10)['Occurrence'].sum()\n",
    "top_20_sum = grouped.head(20)['Occurrence'].sum()\n",
    "print(f\"total LayoutID: {df.LayoutID.count()}\")\n",
    "print(f\"top 10 LayoutIDs count: {top_10_sum}\")\n",
    "print(f\"top 20 LayoutIDs count: {top_20_sum}\")\n",
    "\n",
    "print(f\"Coverage top 10 LayoutIDs: {100*top_10_sum/df.LayoutID.count(): .1f} %\")\n",
    "print(f\"Coverage top 20 LayoutIDs: {100*top_20_sum/df.LayoutID.count(): .1f} %\")"
   ]
  },
  {
   "cell_type": "markdown",
   "id": "8f76d9ce-b340-4ad3-8266-c1fa8f1f2e33",
   "metadata": {},
   "source": [
    "# exports"
   ]
  },
  {
   "cell_type": "code",
   "execution_count": 19,
   "id": "5bf97fb1-08af-480c-9cbe-cda207e9db2f",
   "metadata": {},
   "outputs": [],
   "source": [
    "if True:\n",
    "    df.to_csv('Building_ID_VS_LayoutID.csv', index=False)\n",
    "    grouped.to_csv('LayoutID_occurence.csv', index=False)"
   ]
  },
  {
   "cell_type": "code",
   "execution_count": null,
   "id": "7a526bd3-ef40-4f0e-90ca-5cfac1852064",
   "metadata": {},
   "outputs": [],
   "source": []
  }
 ],
 "metadata": {
  "kernelspec": {
   "display_name": "Python 3 (ipykernel)",
   "language": "python",
   "name": "python3"
  },
  "language_info": {
   "codemirror_mode": {
    "name": "ipython",
    "version": 3
   },
   "file_extension": ".py",
   "mimetype": "text/x-python",
   "name": "python",
   "nbconvert_exporter": "python",
   "pygments_lexer": "ipython3",
   "version": "3.12.10"
  }
 },
 "nbformat": 4,
 "nbformat_minor": 5
}
