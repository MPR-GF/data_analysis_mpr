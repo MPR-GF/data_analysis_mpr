{
 "cells": [
  {
   "cell_type": "markdown",
   "id": "2cde8c3b-78b4-4ac9-9b4b-06d01c1b2a73",
   "metadata": {},
   "source": [
    "# Analysis of Layout ID"
   ]
  },
  {
   "cell_type": "markdown",
   "id": "33c8cb17-e8f9-40da-a6a6-4facfe6d7bc7",
   "metadata": {},
   "source": [
    "## Relevant documents"
   ]
  },
  {
   "cell_type": "markdown",
   "id": "d4b1fbd9-6220-4d26-a9a2-ee428b1187f8",
   "metadata": {},
   "source": [
    "- (Python Client Repo)[https://github.com/Green-Fusion/energy-management-backend/tree/main/python_client]\n",
    "- (Klemmenbelegung)[https://docs.google.com/spreadsheets/d/1nkdkx2rI6nVKgoKBgkCUtfwEwuv8kptrRUXcXtfv0NM/edit?gid=247168398#gid=247168398]\n",
    "- (Hypothesis for Klemmenbelegung)[https://docs.google.com/spreadsheets/d/1TSTxMCgEvuoayzOfx1MUqlV0tiqsVTBRN8aldlnFXxA/edit?gid=0#gid=0]"
   ]
  },
  {
   "cell_type": "markdown",
   "id": "f8b846d2-e7da-4800-be67-141a134a2c72",
   "metadata": {},
   "source": [
    "# import data"
   ]
  },
  {
   "cell_type": "code",
   "execution_count": 1,
   "id": "7a18f22c-fe80-4183-a62e-e2d68a0c4f1a",
   "metadata": {},
   "outputs": [],
   "source": [
    "#imports\n",
    "import pandas as pd\n"
   ]
  },
  {
   "cell_type": "code",
   "execution_count": 2,
   "id": "5a298d11-feb5-432a-830d-a08517e405cc",
   "metadata": {
    "scrolled": true
   },
   "outputs": [
    {
     "data": {
      "text/plain": [
       "Index(['building_id', 'customerID', 'address', 'postal_code', 'city',\n",
       "       'atvise_display_name', 'base', 'heatingType', 'heatingSurface',\n",
       "       'nickname', 'gui_name', 'coordinates', 'CustomerAlias', 'gfid',\n",
       "       'LayoutID'],\n",
       "      dtype='object')"
      ]
     },
     "execution_count": 2,
     "metadata": {},
     "output_type": "execute_result"
    }
   ],
   "source": [
    "#build df from database exctracted data\n",
    "df = pd.read_csv('data_from_db.csv')\n",
    "#inspest column\n",
    "df.columns"
   ]
  },
  {
   "cell_type": "code",
   "execution_count": 3,
   "id": "d5931114-43df-4e95-b629-f69ef665835c",
   "metadata": {},
   "outputs": [],
   "source": [
    "#filter out uncesseray infos\n",
    "df=df[['building_id', 'gfid','LayoutID']]"
   ]
  },
  {
   "cell_type": "code",
   "execution_count": 4,
   "id": "25ec359b-eab1-4c60-a515-61f9bfe17c7e",
   "metadata": {},
   "outputs": [
    {
     "data": {
      "text/html": [
       "<div>\n",
       "<style scoped>\n",
       "    .dataframe tbody tr th:only-of-type {\n",
       "        vertical-align: middle;\n",
       "    }\n",
       "\n",
       "    .dataframe tbody tr th {\n",
       "        vertical-align: top;\n",
       "    }\n",
       "\n",
       "    .dataframe thead th {\n",
       "        text-align: right;\n",
       "    }\n",
       "</style>\n",
       "<table border=\"1\" class=\"dataframe\">\n",
       "  <thead>\n",
       "    <tr style=\"text-align: right;\">\n",
       "      <th></th>\n",
       "      <th>building_id</th>\n",
       "      <th>gfid</th>\n",
       "      <th>LayoutID</th>\n",
       "    </tr>\n",
       "  </thead>\n",
       "  <tbody>\n",
       "    <tr>\n",
       "      <th>0</th>\n",
       "      <td>571</td>\n",
       "      <td>GFP-7066</td>\n",
       "      <td>gas:1--gas:2--global-separation-circuit:1--hea...</td>\n",
       "    </tr>\n",
       "    <tr>\n",
       "      <th>1</th>\n",
       "      <td>574</td>\n",
       "      <td>GFP-7141</td>\n",
       "      <td>gas:1--gas:2--global-separation-circuit:1--hea...</td>\n",
       "    </tr>\n",
       "    <tr>\n",
       "      <th>2</th>\n",
       "      <td>575</td>\n",
       "      <td>GFP-7166</td>\n",
       "      <td>gas:1--gas:2--global-separation-circuit:1--hea...</td>\n",
       "    </tr>\n",
       "    <tr>\n",
       "      <th>3</th>\n",
       "      <td>738</td>\n",
       "      <td>GFP-12968</td>\n",
       "      <td>gas:1--gas:2--chp:1--buffer-tank:1--global-sep...</td>\n",
       "    </tr>\n",
       "    <tr>\n",
       "      <th>4</th>\n",
       "      <td>739</td>\n",
       "      <td>GFP-12991</td>\n",
       "      <td>gas:1--gas:2--chp:1--buffer-tank:1--global-sep...</td>\n",
       "    </tr>\n",
       "  </tbody>\n",
       "</table>\n",
       "</div>"
      ],
      "text/plain": [
       "   building_id       gfid                                           LayoutID\n",
       "0          571   GFP-7066  gas:1--gas:2--global-separation-circuit:1--hea...\n",
       "1          574   GFP-7141  gas:1--gas:2--global-separation-circuit:1--hea...\n",
       "2          575   GFP-7166  gas:1--gas:2--global-separation-circuit:1--hea...\n",
       "3          738  GFP-12968  gas:1--gas:2--chp:1--buffer-tank:1--global-sep...\n",
       "4          739  GFP-12991  gas:1--gas:2--chp:1--buffer-tank:1--global-sep..."
      ]
     },
     "execution_count": 4,
     "metadata": {},
     "output_type": "execute_result"
    }
   ],
   "source": [
    "df.head()"
   ]
  },
  {
   "cell_type": "code",
   "execution_count": 5,
   "id": "3353a115-146e-4c9f-bb97-42a3e9a67ce0",
   "metadata": {},
   "outputs": [
    {
     "data": {
      "text/plain": [
       "building_id    1699\n",
       "gfid           1135\n",
       "LayoutID        439\n",
       "dtype: int64"
      ]
     },
     "execution_count": 5,
     "metadata": {},
     "output_type": "execute_result"
    }
   ],
   "source": [
    "df.count()"
   ]
  },
  {
   "cell_type": "code",
   "execution_count": 6,
   "id": "60ebc90f-a19c-418c-aeeb-99e9dbeef395",
   "metadata": {},
   "outputs": [
    {
     "data": {
      "text/plain": [
       "numpy.int64"
      ]
     },
     "execution_count": 6,
     "metadata": {},
     "output_type": "execute_result"
    }
   ],
   "source": [
    "type(df.LayoutID.count())"
   ]
  },
  {
   "cell_type": "markdown",
   "id": "043f0e57-1b91-434e-a20f-93e361fadb7a",
   "metadata": {},
   "source": [
    "# Group by LayoutID"
   ]
  },
  {
   "cell_type": "code",
   "execution_count": 7,
   "id": "6b529cc8-abb1-4e9e-90bd-052a8f115171",
   "metadata": {},
   "outputs": [
    {
     "name": "stdout",
     "output_type": "stream",
     "text": [
      "Number of unique LayoutID values: 153\n"
     ]
    }
   ],
   "source": [
    "unique_count = df['LayoutID'].nunique()\n",
    "print(f\"Number of unique LayoutID values: {unique_count}\")"
   ]
  },
  {
   "cell_type": "code",
   "execution_count": 8,
   "id": "4adff9da-2125-48bb-9500-61bc6899da6c",
   "metadata": {},
   "outputs": [],
   "source": [
    "# Group by LayoutID\n",
    "grouped = df.groupby('LayoutID').agg(\n",
    "    Occurrence=('LayoutID', 'count'),\n",
    "    buildingIDs=('building_id', list)\n",
    ").reset_index()\n",
    "\n",
    "# Add a simple index column starting from 0\n",
    "grouped = grouped.sort_values(by='Occurrence', ascending=False).reset_index(drop=True)\n"
   ]
  },
  {
   "cell_type": "code",
   "execution_count": 9,
   "id": "6948da52-6313-445a-b6c0-8b356ed935f3",
   "metadata": {},
   "outputs": [
    {
     "data": {
      "text/html": [
       "<div>\n",
       "<style scoped>\n",
       "    .dataframe tbody tr th:only-of-type {\n",
       "        vertical-align: middle;\n",
       "    }\n",
       "\n",
       "    .dataframe tbody tr th {\n",
       "        vertical-align: top;\n",
       "    }\n",
       "\n",
       "    .dataframe thead th {\n",
       "        text-align: right;\n",
       "    }\n",
       "</style>\n",
       "<table border=\"1\" class=\"dataframe\">\n",
       "  <thead>\n",
       "    <tr style=\"text-align: right;\">\n",
       "      <th></th>\n",
       "      <th>LayoutID</th>\n",
       "      <th>Occurrence</th>\n",
       "      <th>buildingIDs</th>\n",
       "    </tr>\n",
       "  </thead>\n",
       "  <tbody>\n",
       "    <tr>\n",
       "      <th>0</th>\n",
       "      <td>gas:1--heating-circuit:1--warm-water:1</td>\n",
       "      <td>38</td>\n",
       "      <td>[463, 508, 512, 1461, 1467, 768, 769, 770, 778...</td>\n",
       "    </tr>\n",
       "    <tr>\n",
       "      <th>1</th>\n",
       "      <td>district-heating:1--heating-circuit:1--warm-wa...</td>\n",
       "      <td>36</td>\n",
       "      <td>[509, 790, 1005, 1314, 1315, 1316, 1317, 1318,...</td>\n",
       "    </tr>\n",
       "    <tr>\n",
       "      <th>2</th>\n",
       "      <td>gas:1--heating-circuit:1</td>\n",
       "      <td>24</td>\n",
       "      <td>[758, 759, 599, 1486, 1345, 1354, 439, 1373, 1...</td>\n",
       "    </tr>\n",
       "    <tr>\n",
       "      <th>3</th>\n",
       "      <td>district-heating:1--heating-circuit:1</td>\n",
       "      <td>16</td>\n",
       "      <td>[712, 762, 766, 450, 327, 389, 391, 353, 517, ...</td>\n",
       "    </tr>\n",
       "    <tr>\n",
       "      <th>4</th>\n",
       "      <td>gas:1--heat-exchanger:1--heating-circuit:1--wa...</td>\n",
       "      <td>13</td>\n",
       "      <td>[666, 799, 555, 541, 542, 579, 330, 331, 1454,...</td>\n",
       "    </tr>\n",
       "    <tr>\n",
       "      <th>5</th>\n",
       "      <td>district-heating:1--heating-circuit:1--heating...</td>\n",
       "      <td>11</td>\n",
       "      <td>[460, 461, 462, 556, 557, 1455, 1456, 600, 148...</td>\n",
       "    </tr>\n",
       "    <tr>\n",
       "      <th>6</th>\n",
       "      <td>gas:1--heating-circuit:1--heating-circuit:2--w...</td>\n",
       "      <td>10</td>\n",
       "      <td>[433, 547, 1490, 1450, 464, 1552, 1570, 1578, ...</td>\n",
       "    </tr>\n",
       "    <tr>\n",
       "      <th>7</th>\n",
       "      <td>district-heating:1--heating-circuit:1--heating...</td>\n",
       "      <td>9</td>\n",
       "      <td>[459, 444, 524, 1429, 576, 1472, 1589, 2236, 2...</td>\n",
       "    </tr>\n",
       "    <tr>\n",
       "      <th>8</th>\n",
       "      <td>gas:1--warm-water:1--heat-exchanger:1--heating...</td>\n",
       "      <td>9</td>\n",
       "      <td>[1566, 480, 481, 482, 483, 487, 488, 489, 1452]</td>\n",
       "    </tr>\n",
       "    <tr>\n",
       "      <th>9</th>\n",
       "      <td>gas:1--heat-exchanger:1--heating-circuit:1</td>\n",
       "      <td>9</td>\n",
       "      <td>[1560, 351, 337, 1377, 707, 514, 515, 617, 458]</td>\n",
       "    </tr>\n",
       "    <tr>\n",
       "      <th>10</th>\n",
       "      <td>gas:1--global-separation-circuit:1--heating-ci...</td>\n",
       "      <td>8</td>\n",
       "      <td>[601, 1501, 1340, 1347, 1357, 1358, 520, 710]</td>\n",
       "    </tr>\n",
       "    <tr>\n",
       "      <th>11</th>\n",
       "      <td>district-heating:1--down-right-pipes:1--heat-e...</td>\n",
       "      <td>8</td>\n",
       "      <td>[371, 421, 570, 626, 627, 700, 701, 580]</td>\n",
       "    </tr>\n",
       "    <tr>\n",
       "      <th>12</th>\n",
       "      <td>gas:1--empty-pipes:1--down-right-pipes:1--four...</td>\n",
       "      <td>6</td>\n",
       "      <td>[352, 1521, 1522, 1555, 1579, 1591]</td>\n",
       "    </tr>\n",
       "    <tr>\n",
       "      <th>13</th>\n",
       "      <td>gas:1--gas:2--heat-exchanger:1--heating-circui...</td>\n",
       "      <td>6</td>\n",
       "      <td>[657, 797, 801, 1528, 1529, 1530]</td>\n",
       "    </tr>\n",
       "    <tr>\n",
       "      <th>14</th>\n",
       "      <td>gas:1--gas:2--global-separation-circuit:1--hea...</td>\n",
       "      <td>6</td>\n",
       "      <td>[333, 388, 414, 636, 449, 1449]</td>\n",
       "    </tr>\n",
       "    <tr>\n",
       "      <th>15</th>\n",
       "      <td>gas:1--heat-exchanger:1--heating-circuit:1--he...</td>\n",
       "      <td>6</td>\n",
       "      <td>[792, 793, 794, 545, 1523, 465]</td>\n",
       "    </tr>\n",
       "    <tr>\n",
       "      <th>16</th>\n",
       "      <td>gas:1--heating-circuit:1--heat-exchanger:1--wa...</td>\n",
       "      <td>6</td>\n",
       "      <td>[452, 453, 454, 457, 468, 2071]</td>\n",
       "    </tr>\n",
       "    <tr>\n",
       "      <th>17</th>\n",
       "      <td>local-heating-station:1--heating-circuit:1</td>\n",
       "      <td>6</td>\n",
       "      <td>[1632, 1633, 1634, 1635, 1636, 1637]</td>\n",
       "    </tr>\n",
       "    <tr>\n",
       "      <th>18</th>\n",
       "      <td>heat-pump:1--buffer-tank:1--heating-circuit:1</td>\n",
       "      <td>5</td>\n",
       "      <td>[546, 2259, 2003, 2004, 2239]</td>\n",
       "    </tr>\n",
       "    <tr>\n",
       "      <th>19</th>\n",
       "      <td>gas:1--gas:2--heating-circuit:1--heating-circu...</td>\n",
       "      <td>4</td>\n",
       "      <td>[669, 426, 533, 1425]</td>\n",
       "    </tr>\n",
       "  </tbody>\n",
       "</table>\n",
       "</div>"
      ],
      "text/plain": [
       "                                             LayoutID  Occurrence  \\\n",
       "0              gas:1--heating-circuit:1--warm-water:1          38   \n",
       "1   district-heating:1--heating-circuit:1--warm-wa...          36   \n",
       "2                            gas:1--heating-circuit:1          24   \n",
       "3               district-heating:1--heating-circuit:1          16   \n",
       "4   gas:1--heat-exchanger:1--heating-circuit:1--wa...          13   \n",
       "5   district-heating:1--heating-circuit:1--heating...          11   \n",
       "6   gas:1--heating-circuit:1--heating-circuit:2--w...          10   \n",
       "7   district-heating:1--heating-circuit:1--heating...           9   \n",
       "8   gas:1--warm-water:1--heat-exchanger:1--heating...           9   \n",
       "9          gas:1--heat-exchanger:1--heating-circuit:1           9   \n",
       "10  gas:1--global-separation-circuit:1--heating-ci...           8   \n",
       "11  district-heating:1--down-right-pipes:1--heat-e...           8   \n",
       "12  gas:1--empty-pipes:1--down-right-pipes:1--four...           6   \n",
       "13  gas:1--gas:2--heat-exchanger:1--heating-circui...           6   \n",
       "14  gas:1--gas:2--global-separation-circuit:1--hea...           6   \n",
       "15  gas:1--heat-exchanger:1--heating-circuit:1--he...           6   \n",
       "16  gas:1--heating-circuit:1--heat-exchanger:1--wa...           6   \n",
       "17         local-heating-station:1--heating-circuit:1           6   \n",
       "18      heat-pump:1--buffer-tank:1--heating-circuit:1           5   \n",
       "19  gas:1--gas:2--heating-circuit:1--heating-circu...           4   \n",
       "\n",
       "                                          buildingIDs  \n",
       "0   [463, 508, 512, 1461, 1467, 768, 769, 770, 778...  \n",
       "1   [509, 790, 1005, 1314, 1315, 1316, 1317, 1318,...  \n",
       "2   [758, 759, 599, 1486, 1345, 1354, 439, 1373, 1...  \n",
       "3   [712, 762, 766, 450, 327, 389, 391, 353, 517, ...  \n",
       "4   [666, 799, 555, 541, 542, 579, 330, 331, 1454,...  \n",
       "5   [460, 461, 462, 556, 557, 1455, 1456, 600, 148...  \n",
       "6   [433, 547, 1490, 1450, 464, 1552, 1570, 1578, ...  \n",
       "7   [459, 444, 524, 1429, 576, 1472, 1589, 2236, 2...  \n",
       "8     [1566, 480, 481, 482, 483, 487, 488, 489, 1452]  \n",
       "9     [1560, 351, 337, 1377, 707, 514, 515, 617, 458]  \n",
       "10      [601, 1501, 1340, 1347, 1357, 1358, 520, 710]  \n",
       "11           [371, 421, 570, 626, 627, 700, 701, 580]  \n",
       "12                [352, 1521, 1522, 1555, 1579, 1591]  \n",
       "13                  [657, 797, 801, 1528, 1529, 1530]  \n",
       "14                    [333, 388, 414, 636, 449, 1449]  \n",
       "15                    [792, 793, 794, 545, 1523, 465]  \n",
       "16                    [452, 453, 454, 457, 468, 2071]  \n",
       "17               [1632, 1633, 1634, 1635, 1636, 1637]  \n",
       "18                      [546, 2259, 2003, 2004, 2239]  \n",
       "19                              [669, 426, 533, 1425]  "
      ]
     },
     "execution_count": 9,
     "metadata": {},
     "output_type": "execute_result"
    }
   ],
   "source": [
    "# Show result\n",
    "grouped.head(20)"
   ]
  },
  {
   "cell_type": "code",
   "execution_count": 12,
   "id": "9a68707b-8107-40b9-a504-c04b7fdb221e",
   "metadata": {},
   "outputs": [
    {
     "name": "stdout",
     "output_type": "stream",
     "text": [
      "total LayoutID: 439\n",
      "top 10 LayoutIDs count: 175\n",
      "top 20 LayoutIDs count: 236\n",
      "Coverage top 10 LayoutIDs:  0.399\n",
      "Coverage top 20 LayoutIDs:  0.538\n"
     ]
    }
   ],
   "source": [
    "# Sum the number of occurrences for top 10 and top 20\n",
    "top_10_sum = grouped.head(10)['Occurrence'].sum()\n",
    "top_20_sum = grouped.head(20)['Occurrence'].sum()\n",
    "print(f\"total LayoutID: {df.LayoutID.count()}\")\n",
    "print(f\"top 10 LayoutIDs count: {top_10_sum}\")\n",
    "print(f\"top 20 LayoutIDs count: {top_20_sum}\")\n",
    "\n",
    "print(f\"Coverage top 10 LayoutIDs: {top_10_sum/df.LayoutID.count(): .3f}\")\n",
    "print(f\"Coverage top 20 LayoutIDs: {top_20_sum/df.LayoutID.count(): .3f}\")"
   ]
  },
  {
   "cell_type": "markdown",
   "id": "8f76d9ce-b340-4ad3-8266-c1fa8f1f2e33",
   "metadata": {},
   "source": [
    "# exports"
   ]
  },
  {
   "cell_type": "code",
   "execution_count": 11,
   "id": "5bf97fb1-08af-480c-9cbe-cda207e9db2f",
   "metadata": {},
   "outputs": [],
   "source": [
    "if True:\n",
    "    df.to_csv('Building_ID_VS_LayoutID.csv', index=False)\n",
    "    grouped.to_csv('LayoutID_occurence.csv', index=False)"
   ]
  },
  {
   "cell_type": "code",
   "execution_count": null,
   "id": "7a526bd3-ef40-4f0e-90ca-5cfac1852064",
   "metadata": {},
   "outputs": [],
   "source": []
  }
 ],
 "metadata": {
  "kernelspec": {
   "display_name": "Python 3 (ipykernel)",
   "language": "python",
   "name": "python3"
  },
  "language_info": {
   "codemirror_mode": {
    "name": "ipython",
    "version": 3
   },
   "file_extension": ".py",
   "mimetype": "text/x-python",
   "name": "python",
   "nbconvert_exporter": "python",
   "pygments_lexer": "ipython3",
   "version": "3.12.10"
  }
 },
 "nbformat": 4,
 "nbformat_minor": 5
}
