{
 "cells": [
  {
   "cell_type": "markdown",
   "id": "833bee4b-aba6-410b-9d4d-bd4daf9d316f",
   "metadata": {},
   "source": [
    "# Inits"
   ]
  },
  {
   "cell_type": "code",
   "execution_count": 1,
   "id": "238a99ed-2091-4ef4-a380-6499b3b770b0",
   "metadata": {},
   "outputs": [],
   "source": [
    "from energy_management_client import BackendPythonClient\n",
    "import pandas as pd\n",
    "import json"
   ]
  },
  {
   "cell_type": "code",
   "execution_count": 2,
   "id": "84834a9f-f16c-4c59-92a4-034f15805f05",
   "metadata": {},
   "outputs": [],
   "source": [
    "# select your environment\n",
    "environment=\"prod\" # prod or dev\n",
    "\n",
    "# Selector\n",
    "if environment==\"dev\":\n",
    "    backend_endpoint_path=\"https://dev.green-fusion.de/services/energy-management-backend/v1/api\"\n",
    "    realm_type=\"development\"\n",
    "elif environment==\"prod\":\n",
    "    backend_endpoint_path=\"https://control.green-fusion.de/services/energy-management-backend/v1/api\"\n",
    "    realm_type=\"control\"  \n",
    "else:\n",
    "    backend_endpoint_path=\"\"\n",
    "    realm_type=\"\"\n",
    "    print(\"select either prod or dev for the environment\")\n",
    "\n",
    "#test\n",
    "#backend_endpoint_path, realm_type\n",
    "if True:\n",
    "    # pythpon client auth & login\n",
    "    # init the client   \n",
    "    client = BackendPythonClient(backend_endpoint=backend_endpoint_path,)\n",
    "    \n",
    "    #login\n",
    "    client.login(\n",
    "        auth_endpoint=\"https://auth.green-fusion.de\",\n",
    "        realm=realm_type,\n",
    "        client_id=\"backend_python_client\", # backend_python_client, datascience_development_api\n",
    "        grant_type=\"device_code\", #\"client_credentials\",  # or \"password\", \"device_code\"\n",
    "    )"
   ]
  },
  {
   "cell_type": "markdown",
   "id": "bf5d67f3-9f2f-4104-b058-6c1bba294ff2",
   "metadata": {},
   "source": [
    "# List of Building IDs"
   ]
  },
  {
   "cell_type": "code",
   "execution_count": 3,
   "id": "31c62020-bb58-41b4-9a64-1dce18767ab7",
   "metadata": {},
   "outputs": [],
   "source": [
    "def get_buildings_df(client, customers):\n",
    "    \"\"\"\n",
    "    Loop through all customers, fetch their buildings, and build a DataFrame where each row contains:\n",
    "      - building_id, customerID (from customer object), address, city, atvise_display_name, base,\n",
    "      - heatingType, heatingSurface, access_key, nickname, postal_code, gui_name,\n",
    "      - coordinates, CustomerAlias, gfid,\n",
    "      - LayoutID (extracted from modular_system)\n",
    "\n",
    "    Usage:\n",
    "        customers = client.customers.get_list_of_customers()\n",
    "        df = get_buildings_df(client, customers)\n",
    "        print(df.head())\n",
    "    \"\"\"\n",
    "    try:\n",
    "        data = []\n",
    "        for c in customers:\n",
    "            customer_id = c.id\n",
    "            customer_name = getattr(c, 'name', None)\n",
    "            client.configure(customer_id=customer_id)\n",
    "            \n",
    "            # Get buildings\n",
    "            c_buildings = client.buildings.get_buildings()\n",
    "            building_list = getattr(c_buildings, 'buildings', [])\n",
    "            \n",
    "            for b in building_list:\n",
    "                building_id         = getattr(b, 'building_id', None)\n",
    "                address             = getattr(b, 'address', None)\n",
    "                city                = getattr(b, 'city', None)\n",
    "                postal_code         = getattr(b, 'postal_code', None)\n",
    "                coordinates         = getattr(b, 'coordinates', None)\n",
    "                CustomerAlias       = getattr(b, 'CustomerAlias', None)\n",
    "                gfid                = getattr(b, 'gfid', None)\n",
    "                \n",
    "                # Parse modular_system\n",
    "                modular_system_str = getattr(b, 'modular_system', None)\n",
    "                LayoutID = None\n",
    "                if modular_system_str:\n",
    "                    try:\n",
    "                        modular_system = json.loads(modular_system_str)\n",
    "                        LayoutID = modular_system.get('layoutID', None)\n",
    "                    except json.JSONDecodeError:\n",
    "                        LayoutID = None\n",
    "\n",
    "                data.append({\n",
    "                    \"building_id\": building_id,\n",
    "                    \"customerID\": customer_id,  # <-- corrected here\n",
    "                    \"customer_name\": customer_name,\n",
    "                    \"address\": address,\n",
    "                    \"city\": city,\n",
    "                    \"postal_code\": postal_code,\n",
    "                    \"gfid\": gfid,\n",
    "                })\n",
    "\n",
    "        return pd.DataFrame(data)\n",
    "\n",
    "    except Exception as e:\n",
    "        print(\"API Call Failed:\", e)\n",
    "        return pd.DataFrame()"
   ]
  },
  {
   "cell_type": "code",
   "execution_count": 4,
   "id": "ba93daa1-31d2-4b25-bc4a-d61a3c991204",
   "metadata": {},
   "outputs": [],
   "source": [
    "# Get customers list (list of dicts)\n",
    "customers = client.customers.get_list_of_customers()\n",
    "#build df\n",
    "df_buildings = get_buildings_df(client, customers)"
   ]
  },
  {
   "cell_type": "code",
   "execution_count": 5,
   "id": "f8212537-19c9-4af5-bc60-3b2f8def7e51",
   "metadata": {},
   "outputs": [
    {
     "data": {
      "text/html": [
       "<div>\n",
       "<style scoped>\n",
       "    .dataframe tbody tr th:only-of-type {\n",
       "        vertical-align: middle;\n",
       "    }\n",
       "\n",
       "    .dataframe tbody tr th {\n",
       "        vertical-align: top;\n",
       "    }\n",
       "\n",
       "    .dataframe thead th {\n",
       "        text-align: right;\n",
       "    }\n",
       "</style>\n",
       "<table border=\"1\" class=\"dataframe\">\n",
       "  <thead>\n",
       "    <tr style=\"text-align: right;\">\n",
       "      <th></th>\n",
       "      <th>building_id</th>\n",
       "      <th>customerID</th>\n",
       "      <th>customer_name</th>\n",
       "      <th>address</th>\n",
       "      <th>city</th>\n",
       "      <th>postal_code</th>\n",
       "      <th>gfid</th>\n",
       "    </tr>\n",
       "  </thead>\n",
       "  <tbody>\n",
       "    <tr>\n",
       "      <th>2195</th>\n",
       "      <td>2504</td>\n",
       "      <td>191</td>\n",
       "      <td>Wohnungs-Genossenschaft</td>\n",
       "      <td>Weinsbergstr. 170</td>\n",
       "      <td>Köln</td>\n",
       "      <td>50823</td>\n",
       "      <td>OPS-23523</td>\n",
       "    </tr>\n",
       "    <tr>\n",
       "      <th>2196</th>\n",
       "      <td>2505</td>\n",
       "      <td>191</td>\n",
       "      <td>Wohnungs-Genossenschaft</td>\n",
       "      <td>Odenwaldstr. 274</td>\n",
       "      <td>Köln</td>\n",
       "      <td>50999</td>\n",
       "      <td>OPS-23530</td>\n",
       "    </tr>\n",
       "    <tr>\n",
       "      <th>2197</th>\n",
       "      <td>2531</td>\n",
       "      <td>193</td>\n",
       "      <td>WoBaG Bamberg</td>\n",
       "      <td>Reußstraße 25</td>\n",
       "      <td>Bamberg</td>\n",
       "      <td>96052</td>\n",
       "      <td>OPS-23836</td>\n",
       "    </tr>\n",
       "    <tr>\n",
       "      <th>2198</th>\n",
       "      <td>2532</td>\n",
       "      <td>193</td>\n",
       "      <td>WoBaG Bamberg</td>\n",
       "      <td>Weißenburgstraße 19</td>\n",
       "      <td>Bamberg</td>\n",
       "      <td>96052</td>\n",
       "      <td>OPS-23837</td>\n",
       "    </tr>\n",
       "    <tr>\n",
       "      <th>2199</th>\n",
       "      <td>2533</td>\n",
       "      <td>193</td>\n",
       "      <td>WoBaG Bamberg</td>\n",
       "      <td>Theodor-Heuss-Ring 9</td>\n",
       "      <td>Bamberg</td>\n",
       "      <td>96050</td>\n",
       "      <td>OPS-23838</td>\n",
       "    </tr>\n",
       "  </tbody>\n",
       "</table>\n",
       "</div>"
      ],
      "text/plain": [
       "      building_id  customerID            customer_name               address  \\\n",
       "2195         2504         191  Wohnungs-Genossenschaft     Weinsbergstr. 170   \n",
       "2196         2505         191  Wohnungs-Genossenschaft      Odenwaldstr. 274   \n",
       "2197         2531         193            WoBaG Bamberg         Reußstraße 25   \n",
       "2198         2532         193            WoBaG Bamberg   Weißenburgstraße 19   \n",
       "2199         2533         193            WoBaG Bamberg  Theodor-Heuss-Ring 9   \n",
       "\n",
       "         city postal_code       gfid  \n",
       "2195     Köln       50823  OPS-23523  \n",
       "2196     Köln       50999  OPS-23530  \n",
       "2197  Bamberg       96052  OPS-23836  \n",
       "2198  Bamberg       96052  OPS-23837  \n",
       "2199  Bamberg       96050  OPS-23838  "
      ]
     },
     "execution_count": 5,
     "metadata": {},
     "output_type": "execute_result"
    }
   ],
   "source": [
    "#test\n",
    "df_buildings.tail()"
   ]
  },
  {
   "cell_type": "markdown",
   "id": "0f62affc-ea02-4b8e-94d1-3c801ef65bf8",
   "metadata": {},
   "source": [
    "# Get Device"
   ]
  },
  {
   "cell_type": "code",
   "execution_count": 13,
   "id": "6e74f3ae-aa70-4b91-afa9-662b0212ca5e",
   "metadata": {},
   "outputs": [],
   "source": [
    "def get_devices(client):\n",
    "    \"\"\"\n",
    "    usage:\n",
    "    list_device=get_devices(client)\n",
    "    list(list_device)\n",
    "    \"\"\"\n",
    "    devices_list=client.devices.get_devices()\n",
    "    devices_list=list(devices_list)[0][1]\n",
    "    device_dicts = [device.__dict__ for device in devices_list]\n",
    "    df_device = pd.DataFrame(device_dicts)\n",
    "    return df_device"
   ]
  },
  {
   "cell_type": "code",
   "execution_count": 14,
   "id": "75f14568-c18f-48e1-8de4-c87f43ae99cf",
   "metadata": {},
   "outputs": [],
   "source": [
    "df_devices=get_devices(client)\n",
    "df_devices = df_devices.rename(columns={\"type\": \"device_type\"})"
   ]
  },
  {
   "cell_type": "code",
   "execution_count": 18,
   "id": "075e0766-515a-479a-9687-fa783872cff4",
   "metadata": {},
   "outputs": [],
   "source": [
    "df_buildings = df_buildings.merge(\n",
    "    df_devices[['building_id', 'device_type', 'device_id']],\n",
    "    on='building_id',\n",
    "    how='left'  # ensures all rows from df_buildings are kept\n",
    ")"
   ]
  },
  {
   "cell_type": "markdown",
   "id": "8f5ec757-14f0-4e74-b613-eb6eb57cdbe1",
   "metadata": {},
   "source": [
    "# Get sub components"
   ]
  },
  {
   "cell_type": "code",
   "execution_count": 6,
   "id": "ab026a3e-2c2d-4b84-a7c1-11ff658c8d19",
   "metadata": {},
   "outputs": [],
   "source": [
    "def get_sub_component(building_id):\n",
    "    subsystems = client.buildings.get_sub_systems_by_building_id(building_id)\n",
    "    \n",
    "    subsystems_infos = {\n",
    "        f\"{s.acronym}({s.hydraulic_location_index})\": f\"category : {s.category} type : {s.type} sub_type : {s.sub_type}\"\n",
    "        for s in subsystems\n",
    "    }\n",
    "    return subsystems_infos"
   ]
  },
  {
   "cell_type": "code",
   "execution_count": 7,
   "id": "6d653016-3cf2-4fd6-9ff7-a89848e6587f",
   "metadata": {},
   "outputs": [
    {
     "data": {
      "text/plain": [
       "[BuildingSubSystem(id=220622, acronym='global', hydraulic_location_index=1, building_id=2382, type='GLOBAL', sub_type='NOT_SPECIFIED', category='NOT_SPECIFIED', remote_status='NOT_SPECIFIED', controller_id=None),\n",
       " BuildingSubSystem(id=220623, acronym='dh', hydraulic_location_index=1, building_id=2382, type='DISTRICT_HEATING', sub_type='NOT_SPECIFIED', category='PRODUCER', remote_status='NOT_SPECIFIED', controller_id=None),\n",
       " BuildingSubSystem(id=220624, acronym='hc(n)', hydraulic_location_index=1, building_id=2382, type='HEATING_CIRCUIT', sub_type='FLOOR_HEATING', category='CONSUMER', remote_status='NOT_SPECIFIED', controller_id=None),\n",
       " BuildingSubSystem(id=220625, acronym='hw(n)', hydraulic_location_index=1, building_id=2382, type='WARM_WATER', sub_type='FRESH_WATER_STATION', category='CONSUMER', remote_status='NOT_SPECIFIED', controller_id=None)]"
      ]
     },
     "execution_count": 7,
     "metadata": {},
     "output_type": "execute_result"
    }
   ],
   "source": [
    "client.buildings.get_sub_systems_by_building_id(2382) \n"
   ]
  },
  {
   "cell_type": "code",
   "execution_count": 8,
   "id": "caab7758-a785-4029-ac6a-5074b15bac96",
   "metadata": {},
   "outputs": [
    {
     "data": {
      "text/plain": [
       "{'global(1)': 'category : NOT_SPECIFIED type : GLOBAL sub_type : NOT_SPECIFIED',\n",
       " 'dh(1)': 'category : PRODUCER type : DISTRICT_HEATING sub_type : NOT_SPECIFIED',\n",
       " 'hc(n)(1)': 'category : CONSUMER type : HEATING_CIRCUIT sub_type : FLOOR_HEATING',\n",
       " 'hw(n)(1)': 'category : CONSUMER type : WARM_WATER sub_type : FRESH_WATER_STATION'}"
      ]
     },
     "execution_count": 8,
     "metadata": {},
     "output_type": "execute_result"
    }
   ],
   "source": [
    "get_sub_component(2382)"
   ]
  },
  {
   "cell_type": "code",
   "execution_count": 9,
   "id": "8095d0d5-1bf2-49b1-8aef-23df70c387df",
   "metadata": {},
   "outputs": [],
   "source": [
    "df_buildings['sub_components'] = df_buildings['building_id'].apply(get_sub_component)"
   ]
  },
  {
   "cell_type": "code",
   "execution_count": 10,
   "id": "4c46d56b-7dd3-4a56-b17d-d41e17720b27",
   "metadata": {},
   "outputs": [
    {
     "data": {
      "text/html": [
       "<div>\n",
       "<style scoped>\n",
       "    .dataframe tbody tr th:only-of-type {\n",
       "        vertical-align: middle;\n",
       "    }\n",
       "\n",
       "    .dataframe tbody tr th {\n",
       "        vertical-align: top;\n",
       "    }\n",
       "\n",
       "    .dataframe thead th {\n",
       "        text-align: right;\n",
       "    }\n",
       "</style>\n",
       "<table border=\"1\" class=\"dataframe\">\n",
       "  <thead>\n",
       "    <tr style=\"text-align: right;\">\n",
       "      <th></th>\n",
       "      <th>building_id</th>\n",
       "      <th>customerID</th>\n",
       "      <th>customer_name</th>\n",
       "      <th>address</th>\n",
       "      <th>city</th>\n",
       "      <th>postal_code</th>\n",
       "      <th>gfid</th>\n",
       "      <th>sub_components</th>\n",
       "    </tr>\n",
       "  </thead>\n",
       "  <tbody>\n",
       "    <tr>\n",
       "      <th>2195</th>\n",
       "      <td>2504</td>\n",
       "      <td>191</td>\n",
       "      <td>Wohnungs-Genossenschaft</td>\n",
       "      <td>Weinsbergstr. 170</td>\n",
       "      <td>Köln</td>\n",
       "      <td>50823</td>\n",
       "      <td>OPS-23523</td>\n",
       "      <td>{}</td>\n",
       "    </tr>\n",
       "    <tr>\n",
       "      <th>2196</th>\n",
       "      <td>2505</td>\n",
       "      <td>191</td>\n",
       "      <td>Wohnungs-Genossenschaft</td>\n",
       "      <td>Odenwaldstr. 274</td>\n",
       "      <td>Köln</td>\n",
       "      <td>50999</td>\n",
       "      <td>OPS-23530</td>\n",
       "      <td>{}</td>\n",
       "    </tr>\n",
       "    <tr>\n",
       "      <th>2197</th>\n",
       "      <td>2531</td>\n",
       "      <td>193</td>\n",
       "      <td>WoBaG Bamberg</td>\n",
       "      <td>Reußstraße 25</td>\n",
       "      <td>Bamberg</td>\n",
       "      <td>96052</td>\n",
       "      <td>OPS-23836</td>\n",
       "      <td>{}</td>\n",
       "    </tr>\n",
       "    <tr>\n",
       "      <th>2198</th>\n",
       "      <td>2532</td>\n",
       "      <td>193</td>\n",
       "      <td>WoBaG Bamberg</td>\n",
       "      <td>Weißenburgstraße 19</td>\n",
       "      <td>Bamberg</td>\n",
       "      <td>96052</td>\n",
       "      <td>OPS-23837</td>\n",
       "      <td>{}</td>\n",
       "    </tr>\n",
       "    <tr>\n",
       "      <th>2199</th>\n",
       "      <td>2533</td>\n",
       "      <td>193</td>\n",
       "      <td>WoBaG Bamberg</td>\n",
       "      <td>Theodor-Heuss-Ring 9</td>\n",
       "      <td>Bamberg</td>\n",
       "      <td>96050</td>\n",
       "      <td>OPS-23838</td>\n",
       "      <td>{}</td>\n",
       "    </tr>\n",
       "  </tbody>\n",
       "</table>\n",
       "</div>"
      ],
      "text/plain": [
       "      building_id  customerID            customer_name               address  \\\n",
       "2195         2504         191  Wohnungs-Genossenschaft     Weinsbergstr. 170   \n",
       "2196         2505         191  Wohnungs-Genossenschaft      Odenwaldstr. 274   \n",
       "2197         2531         193            WoBaG Bamberg         Reußstraße 25   \n",
       "2198         2532         193            WoBaG Bamberg   Weißenburgstraße 19   \n",
       "2199         2533         193            WoBaG Bamberg  Theodor-Heuss-Ring 9   \n",
       "\n",
       "         city postal_code       gfid sub_components  \n",
       "2195     Köln       50823  OPS-23523             {}  \n",
       "2196     Köln       50999  OPS-23530             {}  \n",
       "2197  Bamberg       96052  OPS-23836             {}  \n",
       "2198  Bamberg       96052  OPS-23837             {}  \n",
       "2199  Bamberg       96050  OPS-23838             {}  "
      ]
     },
     "execution_count": 10,
     "metadata": {},
     "output_type": "execute_result"
    }
   ],
   "source": [
    "df_buildings.tail()"
   ]
  },
  {
   "cell_type": "markdown",
   "id": "2b544fc4-1f39-4901-b6a2-f5ffc66e050d",
   "metadata": {},
   "source": [
    "# Get building sensors"
   ]
  },
  {
   "cell_type": "code",
   "execution_count": 11,
   "id": "7c86a663-1ab9-421a-ba48-baad2338b5cd",
   "metadata": {},
   "outputs": [
    {
     "data": {
      "text/plain": [
       "[BuildingSensorDto(id=36491, gf_standard_id=460, sub_system_id=220622, hydraulic_location_index=1, factor=1, current_value=None, node_id='YC', acronym='e_g_bldg_y', unit='kWh', long_name='Energie Gebäude Global Jährlich', short_name='E BLDG GL ', source='MANUALLY_ENTERED'),\n",
       " BuildingSensorDto(id=40030, gf_standard_id=88, sub_system_id=220623, hydraulic_location_index=1, factor=0.1, current_value=718, node_id='1', acronym='t_dh_primflow', unit='°C', long_name='Vorlauftemperatur Primär Fernwärme ', short_name='T VLpri FW', source='GREENBOX_MQTT'),\n",
       " BuildingSensorDto(id=40031, gf_standard_id=None, sub_system_id=None, hydraulic_location_index=1, factor=1, current_value=0, node_id='2', acronym=None, unit=None, long_name=None, short_name=None, source='GREENBOX_MQTT'),\n",
       " BuildingSensorDto(id=40032, gf_standard_id=94, sub_system_id=220623, hydraulic_location_index=1, factor=0.1, current_value=700, node_id='3', acronym='t_dh_primreturn', unit='°C', long_name='Rücklauftemperatur Primär Fernwärme', short_name='T RLpri FW', source='GREENBOX_MQTT'),\n",
       " BuildingSensorDto(id=40033, gf_standard_id=None, sub_system_id=None, hydraulic_location_index=1, factor=1, current_value=0, node_id='4', acronym=None, unit=None, long_name=None, short_name=None, source='GREENBOX_MQTT'),\n",
       " BuildingSensorDto(id=40034, gf_standard_id=112, sub_system_id=220624, hydraulic_location_index=1, factor=0.1, current_value=433, node_id='5', acronym='t_hc(n)_flow', unit='°C', long_name='Vorlauftemperatur Heizkreis (n)', short_name='T VL HK (n)', source='GREENBOX_MQTT'),\n",
       " BuildingSensorDto(id=40035, gf_standard_id=None, sub_system_id=None, hydraulic_location_index=1, factor=1, current_value=0, node_id='6', acronym=None, unit=None, long_name=None, short_name=None, source='GREENBOX_MQTT'),\n",
       " BuildingSensorDto(id=40036, gf_standard_id=117, sub_system_id=220624, hydraulic_location_index=1, factor=0.1, current_value=558, node_id='7', acronym='t_hc(n)_return', unit='°C', long_name='Rücklauftemperatur Heizkreis (n)', short_name='T RL HK (n)', source='GREENBOX_MQTT'),\n",
       " BuildingSensorDto(id=40037, gf_standard_id=None, sub_system_id=None, hydraulic_location_index=1, factor=1, current_value=0, node_id='8', acronym=None, unit=None, long_name=None, short_name=None, source='GREENBOX_MQTT'),\n",
       " BuildingSensorDto(id=40038, gf_standard_id=124, sub_system_id=220625, hydraulic_location_index=1, factor=0.1, current_value=683, node_id='9', acronym='t_hw(n)_tank', unit='°C', long_name='Temperatur Trinkwasserspeicher Warmwasser', short_name='T SP WW (n)', source='GREENBOX_MQTT'),\n",
       " BuildingSensorDto(id=40039, gf_standard_id=None, sub_system_id=None, hydraulic_location_index=1, factor=1, current_value=0, node_id='10', acronym=None, unit=None, long_name=None, short_name=None, source='GREENBOX_MQTT'),\n",
       " BuildingSensorDto(id=40040, gf_standard_id=123, sub_system_id=220625, hydraulic_location_index=1, factor=0.1, current_value=676, node_id='11', acronym='t_hw(n)_return', unit='°C', long_name='Rücklauftemperatur Speicherladung Warmwasser (n)', short_name='T RLload WW (n)', source='GREENBOX_MQTT'),\n",
       " BuildingSensorDto(id=40041, gf_standard_id=None, sub_system_id=None, hydraulic_location_index=1, factor=1, current_value=0, node_id='12', acronym=None, unit=None, long_name=None, short_name=None, source='GREENBOX_MQTT'),\n",
       " BuildingSensorDto(id=40042, gf_standard_id=119, sub_system_id=220625, hydraulic_location_index=1, factor=0.1, current_value=684, node_id='13', acronym='t_hw(n)_pwh', unit='°C', long_name='Temperatur warmes Trinkwasser Warmwasser (n)', short_name='T TWwarm WW (n)', source='GREENBOX_MQTT'),\n",
       " BuildingSensorDto(id=40043, gf_standard_id=None, sub_system_id=None, hydraulic_location_index=1, factor=1, current_value=0, node_id='14', acronym=None, unit=None, long_name=None, short_name=None, source='GREENBOX_MQTT'),\n",
       " BuildingSensorDto(id=40044, gf_standard_id=118, sub_system_id=220625, hydraulic_location_index=1, factor=0.1, current_value=628, node_id='15', acronym='t_hw(n)_circ', unit='°C', long_name='Temperatur Zirkulation Warmwasser (n)', short_name='T ZK WW (n)', source='GREENBOX_MQTT'),\n",
       " BuildingSensorDto(id=40045, gf_standard_id=None, sub_system_id=None, hydraulic_location_index=1, factor=1, current_value=0, node_id='16', acronym=None, unit=None, long_name=None, short_name=None, source='GREENBOX_MQTT'),\n",
       " BuildingSensorDto(id=40046, gf_standard_id=434, sub_system_id=None, hydraulic_location_index=None, factor=1, current_value=18.56, node_id='AT', acronym='t_g_out_api', unit='°C', long_name='Außentemperatur Global', short_name='T A GL', source='OPEN_WEATHER_API'),\n",
       " BuildingSensorDto(id=40047, gf_standard_id=None, sub_system_id=None, hydraulic_location_index=None, factor=1, current_value=30583, node_id='17', acronym=None, unit=None, long_name=None, short_name=None, source='GREENBOX_MQTT'),\n",
       " BuildingSensorDto(id=40048, gf_standard_id=None, sub_system_id=None, hydraulic_location_index=None, factor=1, current_value=30583, node_id='18', acronym=None, unit=None, long_name=None, short_name=None, source='GREENBOX_MQTT')]"
      ]
     },
     "execution_count": 11,
     "metadata": {},
     "output_type": "execute_result"
    }
   ],
   "source": [
    "client.buildings.get_list_of_sensors_by_building_id(2382)"
   ]
  },
  {
   "cell_type": "code",
   "execution_count": 17,
   "id": "e633bd79-77c5-4153-9d15-ba55ac5ce9b9",
   "metadata": {},
   "outputs": [
    {
     "data": {
      "text/plain": [
       "Index(['building_id', 'customerID', 'customer_name', 'address', 'city',\n",
       "       'postal_code', 'gfid', 'sub_components', 'device_type', 'device_id'],\n",
       "      dtype='object')"
      ]
     },
     "execution_count": 17,
     "metadata": {},
     "output_type": "execute_result"
    }
   ],
   "source": [
    "df_merged.columns"
   ]
  },
  {
   "cell_type": "code",
   "execution_count": null,
   "id": "89b78991-5dd3-41fb-adba-1d5cb615cb2c",
   "metadata": {},
   "outputs": [],
   "source": []
  }
 ],
 "metadata": {
  "kernelspec": {
   "display_name": "Python 3 (ipykernel)",
   "language": "python",
   "name": "python3"
  },
  "language_info": {
   "codemirror_mode": {
    "name": "ipython",
    "version": 3
   },
   "file_extension": ".py",
   "mimetype": "text/x-python",
   "name": "python",
   "nbconvert_exporter": "python",
   "pygments_lexer": "ipython3",
   "version": "3.12.10"
  }
 },
 "nbformat": 4,
 "nbformat_minor": 5
}
