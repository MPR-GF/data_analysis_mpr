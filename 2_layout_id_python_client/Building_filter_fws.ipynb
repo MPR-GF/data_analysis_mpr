{
 "cells": [
  {
   "cell_type": "markdown",
   "id": "6eda667b-a21f-4b11-b993-98b83d7a625d",
   "metadata": {},
   "source": [
    "# Import data"
   ]
  },
  {
   "cell_type": "code",
   "execution_count": 1,
   "id": "8e9c09b1-6d04-4353-b2a7-a78819af1c44",
   "metadata": {},
   "outputs": [],
   "source": [
    "#imports\n",
    "import os\n",
    "import pandas as pd\n",
    "import json\n",
    "import ast\n",
    "import re\n",
    "from pprint import pprint\n",
    "import numpy as np"
   ]
  },
  {
   "cell_type": "code",
   "execution_count": 2,
   "id": "0bf30229-6b5a-41cf-b334-5f6f2f6146f5",
   "metadata": {},
   "outputs": [],
   "source": [
    "#build df from database exctracted data\n",
    "filename='Buildings_infos_2025-08-01.csv'\n",
    "extraced_date=filename[-14:-4]\n",
    "filepath = os.path.join('INs', filename)\n",
    "df = pd.read_csv(filepath, \n",
    "    converters={\n",
    "        'sub_components': ast.literal_eval,\n",
    "        'sensors': ast.literal_eval,\n",
    "        #'missing_WW_sensors': ast.literal_eval\n",
    "    }\n",
    ")"
   ]
  },
  {
   "cell_type": "code",
   "execution_count": 3,
   "id": "e8f8959a-e698-4481-a57c-fe4d54ecbd6f",
   "metadata": {},
   "outputs": [
    {
     "data": {
      "text/plain": [
       "Index(['building_id', 'customerID', 'customer_name', 'address', 'postal_code',\n",
       "       'city', 'device_type', 'device_id', 'LayoutID', 'sub_components',\n",
       "       'modular_system', 't_sensor_count', 'sensors', 'missing_WW_sensors',\n",
       "       'gfid'],\n",
       "      dtype='object')"
      ]
     },
     "execution_count": 3,
     "metadata": {},
     "output_type": "execute_result"
    }
   ],
   "source": [
    "#inspest column\n",
    "df.columns"
   ]
  },
  {
   "cell_type": "markdown",
   "id": "2b1ce8cb-689d-479f-88df-a44b6ac4ba1d",
   "metadata": {},
   "source": [
    "# DF infos"
   ]
  },
  {
   "cell_type": "code",
   "execution_count": 4,
   "id": "d552ffa3-8ac1-483d-a28c-ff001933ef66",
   "metadata": {},
   "outputs": [],
   "source": [
    "#filter out uncesseray infos\n",
    "df=df[['building_id','customerID','address','device_type','device_id','sensors','t_sensor_count', 'sub_components','missing_WW_sensors','gfid']]"
   ]
  },
  {
   "cell_type": "code",
   "execution_count": 5,
   "id": "47fec5a5-e706-4a1f-9c41-16870dde9a90",
   "metadata": {},
   "outputs": [],
   "source": [
    "#df.head()"
   ]
  },
  {
   "cell_type": "code",
   "execution_count": 6,
   "id": "f4857c61-ca7f-4f1a-9a17-0d37968b50fa",
   "metadata": {},
   "outputs": [
    {
     "data": {
      "text/plain": [
       "building_id           2215\n",
       "customerID            2215\n",
       "address               2215\n",
       "device_type           1132\n",
       "device_id             1132\n",
       "sensors               2215\n",
       "t_sensor_count        2215\n",
       "sub_components        2215\n",
       "missing_WW_sensors     457\n",
       "gfid                  1756\n",
       "dtype: int64"
      ]
     },
     "execution_count": 6,
     "metadata": {},
     "output_type": "execute_result"
    }
   ],
   "source": [
    "df.count()"
   ]
  },
  {
   "cell_type": "markdown",
   "id": "6de83f97-ac62-4b6d-9737-2aac2e852c07",
   "metadata": {},
   "source": [
    "## Display one building Detail"
   ]
  },
  {
   "cell_type": "code",
   "execution_count": 88,
   "id": "4b291659-a017-4a89-90a2-df2a7cacba9c",
   "metadata": {},
   "outputs": [],
   "source": [
    "bid=783 "
   ]
  },
  {
   "cell_type": "code",
   "execution_count": 89,
   "id": "017b252d-ee4a-4bfa-b98e-e157c199239a",
   "metadata": {},
   "outputs": [
    {
     "data": {
      "text/plain": [
       "{'global(1)': 'id : 148820 category : NOT_SPECIFIED type : GLOBAL sub_type : NOT_SPECIFIED',\n",
       " 'b(n)(1)': 'id : 148821 category : PRODUCER type : BOILER sub_type : NOT_SPECIFIED',\n",
       " 'st(n)(1)': 'id : 148822 category : PRODUCER type : SOLAR_THERMAL sub_type : NOT_SPECIFIED',\n",
       " 'hc(n)(1)': 'id : 148823 category : CONSUMER type : HEATING_CIRCUIT sub_type : NOT_SPECIFIED',\n",
       " 'hw(n)(1)': 'id : 148824 category : CONSUMER type : WARM_WATER sub_type : NOT_SPECIFIED',\n",
       " 'buffer(n)(1)': 'id : 148825 category : NOT_SPECIFIED type : BUFFER sub_type : NOT_SPECIFIED'}"
      ]
     },
     "execution_count": 89,
     "metadata": {},
     "output_type": "execute_result"
    }
   ],
   "source": [
    "df.loc[df['building_id'] == bid, 'sub_components'].item()"
   ]
  },
  {
   "cell_type": "code",
   "execution_count": 90,
   "id": "fc407052-f40a-4fda-89cd-7bb8c23cb6f7",
   "metadata": {},
   "outputs": [
    {
     "data": {
      "text/plain": [
       "\"{'missing_gfids': [124], 'ww_subsystem_ids': [148824]}\""
      ]
     },
     "execution_count": 90,
     "metadata": {},
     "output_type": "execute_result"
    }
   ],
   "source": [
    "df.loc[df['building_id'] == bid, 'missing_WW_sensors'].item()"
   ]
  },
  {
   "cell_type": "code",
   "execution_count": 91,
   "id": "96eeff52-2e2c-4308-b15f-0a7796446558",
   "metadata": {},
   "outputs": [
    {
     "data": {
      "text/plain": [
       "{'None(1)': 'id : 28262 gfid : None sub_system_id : None unit : None source : GREENBOX_MQTT',\n",
       " 't_st(n)_return(1)': 'id : 25158 gfid : 444 sub_system_id : 148822 unit : °C source : GREENBOX_MQTT',\n",
       " 'v_b(n)_gm(1)': 'id : 25162 gfid : 128 sub_system_id : 148821 unit : m³ source : GREENBOX_MQTT',\n",
       " 't_b(n)_flow(1)': 'id : 20321 gfid : 71 sub_system_id : 148821 unit : °C source : GREENBOX_MQTT',\n",
       " 't_b(n)_return(1)': 'id : 20323 gfid : 76 sub_system_id : 148821 unit : °C source : GREENBOX_MQTT',\n",
       " 't_st(n)_flow(1)': 'id : 20325 gfid : 446 sub_system_id : 148822 unit : °C source : GREENBOX_MQTT',\n",
       " 't_buffer(n)_tank_1(1)': 'id : 20327 gfid : 77 sub_system_id : 148825 unit : °C source : GREENBOX_MQTT',\n",
       " 't_hw(n)_pwh(1)': 'id : 20329 gfid : 119 sub_system_id : 148824 unit : °C source : GREENBOX_MQTT',\n",
       " 't_hc(n)_flow(1)': 'id : 20333 gfid : 112 sub_system_id : 148823 unit : °C source : GREENBOX_MQTT',\n",
       " 't_hc(n)_return(1)': 'id : 20335 gfid : 117 sub_system_id : 148823 unit : °C source : GREENBOX_MQTT',\n",
       " 't_g_out_api(None)': 'id : 20337 gfid : 434 sub_system_id : None unit : °C source : OPEN_WEATHER_API',\n",
       " 'None(None)': 'id : 20339 gfid : None sub_system_id : None unit : None source : GREENBOX_MQTT',\n",
       " 'e_g_bldg_y(None)': 'id : 19380 gfid : 460 sub_system_id : None unit : kWh source : MANUALLY_ENTERED',\n",
       " 't_hw(n)_circ(1)': 'id : 20331 gfid : 118 sub_system_id : 148824 unit : °C source : GREENBOX_MQTT',\n",
       " 't_hw(n)_return(1)': 'id : 28261 gfid : 123 sub_system_id : 148824 unit : °C source : GREENBOX_MQTT'}"
      ]
     },
     "execution_count": 91,
     "metadata": {},
     "output_type": "execute_result"
    }
   ],
   "source": [
    "df.loc[df['building_id'] == bid, 'sensors'].item()"
   ]
  },
  {
   "cell_type": "code",
   "execution_count": 92,
   "id": "6dd64bc1-8ae2-4019-9b7e-b861d9d85931",
   "metadata": {},
   "outputs": [
    {
     "data": {
      "text/plain": [
       "10"
      ]
     },
     "execution_count": 92,
     "metadata": {},
     "output_type": "execute_result"
    }
   ],
   "source": [
    "df.loc[df['building_id'] == bid, 't_sensor_count'].item()"
   ]
  },
  {
   "cell_type": "code",
   "execution_count": 93,
   "id": "71902207-4ae8-4ac0-9301-e26d3dff4d7e",
   "metadata": {},
   "outputs": [
    {
     "data": {
      "text/html": [
       "<div>\n",
       "<style scoped>\n",
       "    .dataframe tbody tr th:only-of-type {\n",
       "        vertical-align: middle;\n",
       "    }\n",
       "\n",
       "    .dataframe tbody tr th {\n",
       "        vertical-align: top;\n",
       "    }\n",
       "\n",
       "    .dataframe thead th {\n",
       "        text-align: right;\n",
       "    }\n",
       "</style>\n",
       "<table border=\"1\" class=\"dataframe\">\n",
       "  <thead>\n",
       "    <tr style=\"text-align: right;\">\n",
       "      <th></th>\n",
       "      <th>device_id</th>\n",
       "      <th>customerID</th>\n",
       "      <th>address</th>\n",
       "      <th>gfid</th>\n",
       "    </tr>\n",
       "  </thead>\n",
       "  <tbody>\n",
       "    <tr>\n",
       "      <th>25</th>\n",
       "      <td>2420009</td>\n",
       "      <td>66</td>\n",
       "      <td>Jahnstraße 40</td>\n",
       "      <td>GFP-13308</td>\n",
       "    </tr>\n",
       "  </tbody>\n",
       "</table>\n",
       "</div>"
      ],
      "text/plain": [
       "   device_id  customerID        address       gfid\n",
       "25   2420009          66  Jahnstraße 40  GFP-13308"
      ]
     },
     "execution_count": 93,
     "metadata": {},
     "output_type": "execute_result"
    }
   ],
   "source": [
    "df.loc[df['building_id'] == bid, ['device_id','customerID','address','gfid']]"
   ]
  },
  {
   "cell_type": "markdown",
   "id": "c083a50e-bfb7-447f-8506-70af1903e8f0",
   "metadata": {},
   "source": [
    "## Get rid of nan device_type and nan LayoutID (API buildings ???) "
   ]
  },
  {
   "cell_type": "code",
   "execution_count": 28,
   "id": "0d285a10-a963-4ec4-94dc-d796a1bc60d6",
   "metadata": {},
   "outputs": [
    {
     "data": {
      "text/plain": [
       "{'ECR_LW300', 'RUT956', 'RevPiConnectSE', 'RevPiCore32SE', 'WAGOPFC200'}"
      ]
     },
     "execution_count": 28,
     "metadata": {},
     "output_type": "execute_result"
    }
   ],
   "source": [
    "type_of_devices=set()\n",
    "for dev_type in df['device_type']:\n",
    "    type_of_devices.add(dev_type)\n",
    "type_of_devices   "
   ]
  },
  {
   "cell_type": "code",
   "execution_count": 29,
   "id": "42d733d4-d563-406d-96c0-76082ca99caa",
   "metadata": {},
   "outputs": [],
   "source": [
    "df = df.dropna(subset=['device_type'])\n",
    "# get rid of customer_id 35 (GF insternal)\n",
    "df = df.loc[df['customerID'] != 35]"
   ]
  },
  {
   "cell_type": "code",
   "execution_count": 30,
   "id": "cf4c1240-5cc5-469a-b481-8cf06cfeb4ff",
   "metadata": {},
   "outputs": [
    {
     "data": {
      "text/html": [
       "<div>\n",
       "<style scoped>\n",
       "    .dataframe tbody tr th:only-of-type {\n",
       "        vertical-align: middle;\n",
       "    }\n",
       "\n",
       "    .dataframe tbody tr th {\n",
       "        vertical-align: top;\n",
       "    }\n",
       "\n",
       "    .dataframe thead th {\n",
       "        text-align: right;\n",
       "    }\n",
       "</style>\n",
       "<table border=\"1\" class=\"dataframe\">\n",
       "  <thead>\n",
       "    <tr style=\"text-align: right;\">\n",
       "      <th></th>\n",
       "      <th>building_id</th>\n",
       "      <th>customerID</th>\n",
       "      <th>address</th>\n",
       "      <th>device_type</th>\n",
       "      <th>device_id</th>\n",
       "      <th>sensors</th>\n",
       "      <th>t_sensor_count</th>\n",
       "      <th>sub_components</th>\n",
       "      <th>missing_WW_sensors</th>\n",
       "      <th>gfid</th>\n",
       "      <th>fws_ids</th>\n",
       "    </tr>\n",
       "  </thead>\n",
       "  <tbody>\n",
       "  </tbody>\n",
       "</table>\n",
       "</div>"
      ],
      "text/plain": [
       "Empty DataFrame\n",
       "Columns: [building_id, customerID, address, device_type, device_id, sensors, t_sensor_count, sub_components, missing_WW_sensors, gfid, fws_ids]\n",
       "Index: []"
      ]
     },
     "execution_count": 30,
     "metadata": {},
     "output_type": "execute_result"
    }
   ],
   "source": [
    "df.loc[df['device_id'] == 2412011]"
   ]
  },
  {
   "cell_type": "code",
   "execution_count": 31,
   "id": "ba8e0a42-40e0-4507-bfe9-a94e79d2e8fd",
   "metadata": {},
   "outputs": [
    {
     "data": {
      "text/plain": [
       "building_id           1125\n",
       "customerID            1125\n",
       "address               1125\n",
       "device_type           1125\n",
       "device_id             1125\n",
       "sensors               1125\n",
       "t_sensor_count        1125\n",
       "sub_components        1125\n",
       "missing_WW_sensors     105\n",
       "gfid                  1125\n",
       "fws_ids               1125\n",
       "dtype: int64"
      ]
     },
     "execution_count": 31,
     "metadata": {},
     "output_type": "execute_result"
    }
   ],
   "source": [
    "df.count()"
   ]
  },
  {
   "cell_type": "code",
   "execution_count": 32,
   "id": "fe8acf20-d018-41cd-baad-b05649bc864e",
   "metadata": {},
   "outputs": [],
   "source": [
    "#df.loc[df['customerID'] != 35]"
   ]
  },
  {
   "cell_type": "markdown",
   "id": "0653e739-901d-4bc9-b98c-70e8d05d6886",
   "metadata": {},
   "source": [
    "# Find FWS"
   ]
  },
  {
   "cell_type": "code",
   "execution_count": 33,
   "id": "dd573793-5b8d-4ab7-a21f-c861a7da3dea",
   "metadata": {},
   "outputs": [],
   "source": [
    "def find_fws_ids(sub_components_dict):\n",
    "    \"\"\"\n",
    "    Searches a sub_components dictionary for all FRESH_WATER_STATIONs.\n",
    "    \n",
    "    Returns:\n",
    "        A list of all found component IDs. Returns an empty list if none are found.\n",
    "    \"\"\"\n",
    "    # Return an empty list if the input isn't a dictionary\n",
    "    if not isinstance(sub_components_dict, dict):\n",
    "        return []\n",
    "    \n",
    "    found_ids = [] # Initialize an empty list to store IDs\n",
    "    \n",
    "    # Iterate through all component strings\n",
    "    for component_string in sub_components_dict.values():\n",
    "        if 'sub_type : FRESH_WATER_STATION' in component_string:\n",
    "            try:\n",
    "                parts = component_string.split()\n",
    "                id_index = parts.index('id')\n",
    "                component_id = int(parts[id_index + 2])\n",
    "                # Add the found ID to the list instead of returning\n",
    "                found_ids.append(component_id)\n",
    "            except (ValueError, IndexError):\n",
    "                # Malformed string, skip to the next one\n",
    "                continue\n",
    "                \n",
    "    # After checking all components, return the list of found IDs\n",
    "    return found_ids"
   ]
  },
  {
   "cell_type": "code",
   "execution_count": 34,
   "id": "ec876c69-ad00-4345-8852-0b05e0f2d836",
   "metadata": {},
   "outputs": [],
   "source": [
    "# Apply the function to filter the DataFrame\n",
    "df['fws_ids'] = df['sub_components'].apply(find_fws_ids)"
   ]
  },
  {
   "cell_type": "code",
   "execution_count": 35,
   "id": "074ebf61-9300-49dd-9285-b24722d80cce",
   "metadata": {},
   "outputs": [
    {
     "data": {
      "text/plain": [
       "[991]"
      ]
     },
     "execution_count": 35,
     "metadata": {},
     "output_type": "execute_result"
    }
   ],
   "source": [
    "df.loc[df['building_id'] == bid, 'fws_ids'].item()"
   ]
  },
  {
   "cell_type": "code",
   "execution_count": 36,
   "id": "72d0bbd1-27d1-4a9c-ba41-61b1be033858",
   "metadata": {},
   "outputs": [
    {
     "name": "stdout",
     "output_type": "stream",
     "text": [
      "56 [370, 392, 420, 434, 442, 469, 472, 473, 474, 475, 476, 477, 525, 532, 538, 545, 562, 566, 626, 654, 700, 701, 781, 782, 784, 785, 792, 793, 797, 798, 799, 800, 801, 1364, 1401, 1404, 1405, 1457, 1461, 1474, 1475, 1476, 1477, 1478, 1481, 1569, 1605, 1606, 2250, 2382, 2383, 2431, 2453, 2463, 2470, 2483]\n"
     ]
    }
   ],
   "source": [
    "# Show the building_ids\n",
    "buildings_with_fws = df.loc[df['fws_ids'].str.len() > 0, 'building_id'].tolist()\n",
    "buildings_with_fws.sort()\n",
    "print(len(buildings_with_fws),buildings_with_fws)"
   ]
  },
  {
   "cell_type": "code",
   "execution_count": 37,
   "id": "82b3c6b2-58be-43a2-81e2-db23dc10cb06",
   "metadata": {},
   "outputs": [
    {
     "data": {
      "text/html": [
       "<div>\n",
       "<style scoped>\n",
       "    .dataframe tbody tr th:only-of-type {\n",
       "        vertical-align: middle;\n",
       "    }\n",
       "\n",
       "    .dataframe tbody tr th {\n",
       "        vertical-align: top;\n",
       "    }\n",
       "\n",
       "    .dataframe thead th {\n",
       "        text-align: right;\n",
       "    }\n",
       "</style>\n",
       "<table border=\"1\" class=\"dataframe\">\n",
       "  <thead>\n",
       "    <tr style=\"text-align: right;\">\n",
       "      <th></th>\n",
       "      <th>building_id</th>\n",
       "      <th>customerID</th>\n",
       "      <th>address</th>\n",
       "      <th>device_type</th>\n",
       "      <th>device_id</th>\n",
       "      <th>sensors</th>\n",
       "      <th>t_sensor_count</th>\n",
       "      <th>sub_components</th>\n",
       "      <th>missing_WW_sensors</th>\n",
       "      <th>gfid</th>\n",
       "      <th>fws_ids</th>\n",
       "    </tr>\n",
       "  </thead>\n",
       "  <tbody>\n",
       "    <tr>\n",
       "      <th>23</th>\n",
       "      <td>781</td>\n",
       "      <td>66</td>\n",
       "      <td>Jahnstraße 14</td>\n",
       "      <td>RUT956</td>\n",
       "      <td>2420017</td>\n",
       "      <td>{'None(1)': 'id : 28260 gfid : None sub_system...</td>\n",
       "      <td>10</td>\n",
       "      <td>{'global(1)': 'id : 2282 category : NOT_SPECIF...</td>\n",
       "      <td>{'missing_gfids': [124], 'ww_subsystem_ids': [...</td>\n",
       "      <td>GFP-13262</td>\n",
       "      <td>[2286]</td>\n",
       "    </tr>\n",
       "    <tr>\n",
       "      <th>24</th>\n",
       "      <td>782</td>\n",
       "      <td>66</td>\n",
       "      <td>Jahnstraße 30</td>\n",
       "      <td>RUT956</td>\n",
       "      <td>2420014</td>\n",
       "      <td>{'t_b(n)_flow(1)': 'id : 18129 gfid : 71 sub_s...</td>\n",
       "      <td>11</td>\n",
       "      <td>{'global(1)': 'id : 2288 category : NOT_SPECIF...</td>\n",
       "      <td>NaN</td>\n",
       "      <td>GFP-13285</td>\n",
       "      <td>[2292, 2293]</td>\n",
       "    </tr>\n",
       "    <tr>\n",
       "      <th>26</th>\n",
       "      <td>784</td>\n",
       "      <td>66</td>\n",
       "      <td>Jahnstraße 42</td>\n",
       "      <td>RUT956</td>\n",
       "      <td>2402007</td>\n",
       "      <td>{'None(1)': 'id : 18633 gfid : None sub_system...</td>\n",
       "      <td>11</td>\n",
       "      <td>{'global(1)': 'id : 2300 category : NOT_SPECIF...</td>\n",
       "      <td>NaN</td>\n",
       "      <td>GFP-13331</td>\n",
       "      <td>[2304]</td>\n",
       "    </tr>\n",
       "    <tr>\n",
       "      <th>27</th>\n",
       "      <td>785</td>\n",
       "      <td>66</td>\n",
       "      <td>Jahnstraße 46</td>\n",
       "      <td>RUT956</td>\n",
       "      <td>2403013</td>\n",
       "      <td>{'t_hw(n)_pwh(1)': 'id : 18118 gfid : 119 sub_...</td>\n",
       "      <td>11</td>\n",
       "      <td>{'global(1)': 'id : 2306 category : NOT_SPECIF...</td>\n",
       "      <td>NaN</td>\n",
       "      <td>GFP-13354</td>\n",
       "      <td>[2310, 2311]</td>\n",
       "    </tr>\n",
       "    <tr>\n",
       "      <th>34</th>\n",
       "      <td>420</td>\n",
       "      <td>32</td>\n",
       "      <td>Rendsburger Str. 61</td>\n",
       "      <td>ECR_LW300</td>\n",
       "      <td>23321007</td>\n",
       "      <td>{'t_hp(n)_secflow(1)': 'id : 7728 gfid : 369 s...</td>\n",
       "      <td>10</td>\n",
       "      <td>{'global(1)': 'id : 988 category : NOT_SPECIFI...</td>\n",
       "      <td>NaN</td>\n",
       "      <td>GFP-390</td>\n",
       "      <td>[991]</td>\n",
       "    </tr>\n",
       "  </tbody>\n",
       "</table>\n",
       "</div>"
      ],
      "text/plain": [
       "    building_id  customerID              address device_type device_id  \\\n",
       "23          781          66        Jahnstraße 14      RUT956   2420017   \n",
       "24          782          66        Jahnstraße 30      RUT956   2420014   \n",
       "26          784          66        Jahnstraße 42      RUT956   2402007   \n",
       "27          785          66        Jahnstraße 46      RUT956   2403013   \n",
       "34          420          32  Rendsburger Str. 61   ECR_LW300  23321007   \n",
       "\n",
       "                                              sensors  t_sensor_count  \\\n",
       "23  {'None(1)': 'id : 28260 gfid : None sub_system...              10   \n",
       "24  {'t_b(n)_flow(1)': 'id : 18129 gfid : 71 sub_s...              11   \n",
       "26  {'None(1)': 'id : 18633 gfid : None sub_system...              11   \n",
       "27  {'t_hw(n)_pwh(1)': 'id : 18118 gfid : 119 sub_...              11   \n",
       "34  {'t_hp(n)_secflow(1)': 'id : 7728 gfid : 369 s...              10   \n",
       "\n",
       "                                       sub_components  \\\n",
       "23  {'global(1)': 'id : 2282 category : NOT_SPECIF...   \n",
       "24  {'global(1)': 'id : 2288 category : NOT_SPECIF...   \n",
       "26  {'global(1)': 'id : 2300 category : NOT_SPECIF...   \n",
       "27  {'global(1)': 'id : 2306 category : NOT_SPECIF...   \n",
       "34  {'global(1)': 'id : 988 category : NOT_SPECIFI...   \n",
       "\n",
       "                                   missing_WW_sensors       gfid       fws_ids  \n",
       "23  {'missing_gfids': [124], 'ww_subsystem_ids': [...  GFP-13262        [2286]  \n",
       "24                                                NaN  GFP-13285  [2292, 2293]  \n",
       "26                                                NaN  GFP-13331        [2304]  \n",
       "27                                                NaN  GFP-13354  [2310, 2311]  \n",
       "34                                                NaN    GFP-390         [991]  "
      ]
     },
     "execution_count": 37,
     "metadata": {},
     "output_type": "execute_result"
    }
   ],
   "source": [
    "buildings_with_fws=df.loc[df['fws_ids'].str.len() > 0]\n",
    "buildings_with_fws.head()"
   ]
  },
  {
   "cell_type": "markdown",
   "id": "d906233e-5294-4fcd-8677-93d8dc9cc9d5",
   "metadata": {},
   "source": [
    "# get rid of FWS and missing_WW_sensors=Nan"
   ]
  },
  {
   "cell_type": "code",
   "execution_count": 38,
   "id": "838373cc-857e-408a-b524-12bdf0f426ad",
   "metadata": {},
   "outputs": [],
   "source": [
    "buildings_without_fws = df.loc[df['fws_ids'].str.len() == 0]\n",
    "buildings_without_fws=buildings_without_fws.dropna(subset=['missing_WW_sensors'])"
   ]
  },
  {
   "cell_type": "code",
   "execution_count": 39,
   "id": "5a27d10a-7ea1-4420-bf5e-deaacd69097b",
   "metadata": {},
   "outputs": [
    {
     "name": "stdout",
     "output_type": "stream",
     "text": [
      "83 [326, 328, 333, 341, 342, 343, 347, 348, 349, 352, 372, 388, 390, 414, 421, 422, 423, 437, 441, 443, 446, 463, 494, 495, 508, 523, 551, 561, 568, 585, 660, 673, 689, 690, 705, 772, 783, 791, 1343, 1360, 1365, 1406, 1412, 1431, 1433, 1447, 1451, 1458, 1459, 1479, 1489, 1496, 1541, 1601, 1658, 1788, 1789, 1794, 1819, 1838, 1844, 1858, 1865, 1892, 1935, 1939, 1940, 1948, 2001, 2002, 2166, 2167, 2193, 2249, 2261, 2295, 2296, 2299, 2316, 2338, 2384, 2400, 2461]\n"
     ]
    }
   ],
   "source": [
    "list_buildings_without_fws = buildings_without_fws['building_id'].tolist()\n",
    "list_buildings_without_fws.sort()\n",
    "print(len(list_buildings_without_fws),list_buildings_without_fws)"
   ]
  },
  {
   "cell_type": "code",
   "execution_count": 40,
   "id": "537f1c6e-1d65-4baf-99ae-47398e7f0d64",
   "metadata": {},
   "outputs": [
    {
     "name": "stdout",
     "output_type": "stream",
     "text": [
      "None\n"
     ]
    }
   ],
   "source": [
    "print(list_buildings_without_fws[2:5].sort())"
   ]
  },
  {
   "cell_type": "code",
   "execution_count": 41,
   "id": "a128e0ed-ce72-45cd-9f1c-741908618d5c",
   "metadata": {},
   "outputs": [
    {
     "data": {
      "text/html": [
       "<div>\n",
       "<style scoped>\n",
       "    .dataframe tbody tr th:only-of-type {\n",
       "        vertical-align: middle;\n",
       "    }\n",
       "\n",
       "    .dataframe tbody tr th {\n",
       "        vertical-align: top;\n",
       "    }\n",
       "\n",
       "    .dataframe thead th {\n",
       "        text-align: right;\n",
       "    }\n",
       "</style>\n",
       "<table border=\"1\" class=\"dataframe\">\n",
       "  <thead>\n",
       "    <tr style=\"text-align: right;\">\n",
       "      <th></th>\n",
       "      <th>building_id</th>\n",
       "      <th>customerID</th>\n",
       "      <th>address</th>\n",
       "      <th>device_type</th>\n",
       "      <th>device_id</th>\n",
       "      <th>sensors</th>\n",
       "      <th>t_sensor_count</th>\n",
       "      <th>sub_components</th>\n",
       "      <th>missing_WW_sensors</th>\n",
       "      <th>gfid</th>\n",
       "      <th>fws_ids</th>\n",
       "    </tr>\n",
       "  </thead>\n",
       "  <tbody>\n",
       "    <tr>\n",
       "      <th>1991</th>\n",
       "      <td>2338</td>\n",
       "      <td>174</td>\n",
       "      <td>Horstmarer Landweg 74</td>\n",
       "      <td>RUT956</td>\n",
       "      <td>2507049</td>\n",
       "      <td>{'e_g_bldg_y(1)': 'id : 36067 gfid : 460 sub_s...</td>\n",
       "      <td>5</td>\n",
       "      <td>{'global(1)': 'id : 220296 category : NOT_SPEC...</td>\n",
       "      <td>{'missing_gfids': [118, 119, 124], 'ww_subsyst...</td>\n",
       "      <td>OPS-21587</td>\n",
       "      <td>[]</td>\n",
       "    </tr>\n",
       "    <tr>\n",
       "      <th>2017</th>\n",
       "      <td>2384</td>\n",
       "      <td>177</td>\n",
       "      <td>Tivolistr. 106</td>\n",
       "      <td>RUT956</td>\n",
       "      <td>2507035</td>\n",
       "      <td>{'e_g_bldg_y(1)': 'id : 36493 gfid : 460 sub_s...</td>\n",
       "      <td>9</td>\n",
       "      <td>{'global(1)': 'id : 220404 category : NOT_SPEC...</td>\n",
       "      <td>{'missing_gfids': [118], 'ww_subsystem_ids': [...</td>\n",
       "      <td>OPS-21987</td>\n",
       "      <td>[]</td>\n",
       "    </tr>\n",
       "    <tr>\n",
       "      <th>2042</th>\n",
       "      <td>2400</td>\n",
       "      <td>178</td>\n",
       "      <td>Oscar-Kjellberg-Straße 3</td>\n",
       "      <td>RUT956</td>\n",
       "      <td>2505022</td>\n",
       "      <td>{'e_g_bldg_y(1)': 'id : 36519 gfid : 460 sub_s...</td>\n",
       "      <td>10</td>\n",
       "      <td>{'global(1)': 'id : 220711 category : NOT_SPEC...</td>\n",
       "      <td>{'missing_gfids': [123], 'ww_subsystem_ids': [...</td>\n",
       "      <td>OPS-22212</td>\n",
       "      <td>[]</td>\n",
       "    </tr>\n",
       "    <tr>\n",
       "      <th>2171</th>\n",
       "      <td>2461</td>\n",
       "      <td>187</td>\n",
       "      <td>Reichelsweiherstr. 9</td>\n",
       "      <td>RUT956</td>\n",
       "      <td>2505050</td>\n",
       "      <td>{'e_g_bldg_y(1)': 'id : 37616 gfid : 460 sub_s...</td>\n",
       "      <td>6</td>\n",
       "      <td>{'global(1)': 'id : 220835 category : NOT_SPEC...</td>\n",
       "      <td>{'missing_gfids': [123, 124], 'ww_subsystem_id...</td>\n",
       "      <td>OPS-23006</td>\n",
       "      <td>[]</td>\n",
       "    </tr>\n",
       "    <tr>\n",
       "      <th>2201</th>\n",
       "      <td>2299</td>\n",
       "      <td>167</td>\n",
       "      <td>Garmischer Straße 201</td>\n",
       "      <td>RUT956</td>\n",
       "      <td>2508003</td>\n",
       "      <td>{'t_dh_primflow(1)': 'id : 37026 gfid : 88 sub...</td>\n",
       "      <td>8</td>\n",
       "      <td>{'global(1)': 'id : 219997 category : NOT_SPEC...</td>\n",
       "      <td>{'missing_gfids': [118, 119, 123, 124], 'ww_su...</td>\n",
       "      <td>OPS-175</td>\n",
       "      <td>[]</td>\n",
       "    </tr>\n",
       "  </tbody>\n",
       "</table>\n",
       "</div>"
      ],
      "text/plain": [
       "      building_id  customerID                   address device_type device_id  \\\n",
       "1991         2338         174     Horstmarer Landweg 74      RUT956   2507049   \n",
       "2017         2384         177            Tivolistr. 106      RUT956   2507035   \n",
       "2042         2400         178  Oscar-Kjellberg-Straße 3      RUT956   2505022   \n",
       "2171         2461         187      Reichelsweiherstr. 9      RUT956   2505050   \n",
       "2201         2299         167     Garmischer Straße 201      RUT956   2508003   \n",
       "\n",
       "                                                sensors  t_sensor_count  \\\n",
       "1991  {'e_g_bldg_y(1)': 'id : 36067 gfid : 460 sub_s...               5   \n",
       "2017  {'e_g_bldg_y(1)': 'id : 36493 gfid : 460 sub_s...               9   \n",
       "2042  {'e_g_bldg_y(1)': 'id : 36519 gfid : 460 sub_s...              10   \n",
       "2171  {'e_g_bldg_y(1)': 'id : 37616 gfid : 460 sub_s...               6   \n",
       "2201  {'t_dh_primflow(1)': 'id : 37026 gfid : 88 sub...               8   \n",
       "\n",
       "                                         sub_components  \\\n",
       "1991  {'global(1)': 'id : 220296 category : NOT_SPEC...   \n",
       "2017  {'global(1)': 'id : 220404 category : NOT_SPEC...   \n",
       "2042  {'global(1)': 'id : 220711 category : NOT_SPEC...   \n",
       "2171  {'global(1)': 'id : 220835 category : NOT_SPEC...   \n",
       "2201  {'global(1)': 'id : 219997 category : NOT_SPEC...   \n",
       "\n",
       "                                     missing_WW_sensors       gfid fws_ids  \n",
       "1991  {'missing_gfids': [118, 119, 124], 'ww_subsyst...  OPS-21587      []  \n",
       "2017  {'missing_gfids': [118], 'ww_subsystem_ids': [...  OPS-21987      []  \n",
       "2042  {'missing_gfids': [123], 'ww_subsystem_ids': [...  OPS-22212      []  \n",
       "2171  {'missing_gfids': [123, 124], 'ww_subsystem_id...  OPS-23006      []  \n",
       "2201  {'missing_gfids': [118, 119, 123, 124], 'ww_su...    OPS-175      []  "
      ]
     },
     "execution_count": 41,
     "metadata": {},
     "output_type": "execute_result"
    }
   ],
   "source": [
    "buildings_without_fws.tail()"
   ]
  },
  {
   "cell_type": "markdown",
   "id": "f818c97b-607e-40c5-98aa-153bd4236ed6",
   "metadata": {},
   "source": [
    "# Missing sensor analysis"
   ]
  },
  {
   "cell_type": "code",
   "execution_count": 42,
   "id": "6a354191-be2a-4334-8558-a52df0e68a05",
   "metadata": {},
   "outputs": [],
   "source": [
    "df_missing_ww_s=df.dropna(subset=['missing_WW_sensors'])"
   ]
  },
  {
   "cell_type": "code",
   "execution_count": 43,
   "id": "da68b28f-b6e9-4fe9-8c7b-32cbba029018",
   "metadata": {},
   "outputs": [
    {
     "data": {
      "text/html": [
       "<div>\n",
       "<style scoped>\n",
       "    .dataframe tbody tr th:only-of-type {\n",
       "        vertical-align: middle;\n",
       "    }\n",
       "\n",
       "    .dataframe tbody tr th {\n",
       "        vertical-align: top;\n",
       "    }\n",
       "\n",
       "    .dataframe thead th {\n",
       "        text-align: right;\n",
       "    }\n",
       "</style>\n",
       "<table border=\"1\" class=\"dataframe\">\n",
       "  <thead>\n",
       "    <tr style=\"text-align: right;\">\n",
       "      <th></th>\n",
       "      <th>building_id</th>\n",
       "      <th>missing_WW_sensors</th>\n",
       "      <th>fws_ids</th>\n",
       "    </tr>\n",
       "  </thead>\n",
       "  <tbody>\n",
       "    <tr>\n",
       "      <th>14</th>\n",
       "      <td>772</td>\n",
       "      <td>{'missing_gfids': [123], 'ww_subsystem_ids': [...</td>\n",
       "      <td>[]</td>\n",
       "    </tr>\n",
       "    <tr>\n",
       "      <th>23</th>\n",
       "      <td>781</td>\n",
       "      <td>{'missing_gfids': [124], 'ww_subsystem_ids': [...</td>\n",
       "      <td>[2286]</td>\n",
       "    </tr>\n",
       "    <tr>\n",
       "      <th>25</th>\n",
       "      <td>783</td>\n",
       "      <td>{'missing_gfids': [124], 'ww_subsystem_ids': [...</td>\n",
       "      <td>[]</td>\n",
       "    </tr>\n",
       "    <tr>\n",
       "      <th>35</th>\n",
       "      <td>421</td>\n",
       "      <td>{'missing_gfids': [124], 'ww_subsystem_ids': [...</td>\n",
       "      <td>[]</td>\n",
       "    </tr>\n",
       "    <tr>\n",
       "      <th>36</th>\n",
       "      <td>441</td>\n",
       "      <td>{'missing_gfids': [124], 'ww_subsystem_ids': [...</td>\n",
       "      <td>[]</td>\n",
       "    </tr>\n",
       "  </tbody>\n",
       "</table>\n",
       "</div>"
      ],
      "text/plain": [
       "    building_id                                 missing_WW_sensors fws_ids\n",
       "14          772  {'missing_gfids': [123], 'ww_subsystem_ids': [...      []\n",
       "23          781  {'missing_gfids': [124], 'ww_subsystem_ids': [...  [2286]\n",
       "25          783  {'missing_gfids': [124], 'ww_subsystem_ids': [...      []\n",
       "35          421  {'missing_gfids': [124], 'ww_subsystem_ids': [...      []\n",
       "36          441  {'missing_gfids': [124], 'ww_subsystem_ids': [...      []"
      ]
     },
     "execution_count": 43,
     "metadata": {},
     "output_type": "execute_result"
    }
   ],
   "source": [
    "df_missing_ww_s[['building_id','missing_WW_sensors','fws_ids']].head()"
   ]
  },
  {
   "cell_type": "code",
   "execution_count": 83,
   "id": "9bda71f3-976c-4a6c-a081-5a041e4b44e1",
   "metadata": {},
   "outputs": [],
   "source": [
    "# Define the function to check conditions\n",
    "def check_conditions(row):\n",
    "    \"\"\"\n",
    "    Checks if a row meets all the specified conditions.\n",
    "\n",
    "    Conditions:\n",
    "    - 124 is in 'missing_WW_sensors' -> 'missing_gfids' list\n",
    "    - 118 and 119 are NOT in 'missing_WW_sensors' -> 'missing_gfids' list\n",
    "\n",
    "    Returns:\n",
    "        int: 1 if all conditions are met, 0 otherwise.\n",
    "    \"\"\"\n",
    "    try:\n",
    "        missing_sensors_dict = ast.literal_eval(row['missing_WW_sensors'])\n",
    "        missing_gfids = missing_sensors_dict.get('missing_gfids', [])\n",
    "\n",
    "        cond1 = 124 in missing_gfids\n",
    "        cond2 = (118 not in missing_gfids) and (119 not in missing_gfids)\n",
    "        \n",
    "        if cond1 and cond2 :\n",
    "            return 1\n",
    "        else:\n",
    "            return 0\n",
    "    except (ValueError, SyntaxError):\n",
    "        return 0"
   ]
  },
  {
   "cell_type": "code",
   "execution_count": 84,
   "id": "e0be1317-33e7-4c49-9412-de5314a8a974",
   "metadata": {},
   "outputs": [],
   "source": [
    "df['man_rec_sys'] = df.apply(check_conditions, axis=1)"
   ]
  },
  {
   "cell_type": "code",
   "execution_count": 95,
   "id": "5f5cf0ed-4d38-47ff-9162-861835926b64",
   "metadata": {},
   "outputs": [],
   "source": [
    "df_man_rec=df.loc[df['man_rec_sys']== 1]\n",
    "df_man_rec = df_man_rec.loc[df['fws_ids'].str.len() == 0]"
   ]
  },
  {
   "cell_type": "code",
   "execution_count": 96,
   "id": "6b550a6e-5a43-4afa-afa2-757616643dc3",
   "metadata": {},
   "outputs": [
    {
     "data": {
      "text/html": [
       "<div>\n",
       "<style scoped>\n",
       "    .dataframe tbody tr th:only-of-type {\n",
       "        vertical-align: middle;\n",
       "    }\n",
       "\n",
       "    .dataframe tbody tr th {\n",
       "        vertical-align: top;\n",
       "    }\n",
       "\n",
       "    .dataframe thead th {\n",
       "        text-align: right;\n",
       "    }\n",
       "</style>\n",
       "<table border=\"1\" class=\"dataframe\">\n",
       "  <thead>\n",
       "    <tr style=\"text-align: right;\">\n",
       "      <th></th>\n",
       "      <th>building_id</th>\n",
       "      <th>missing_WW_sensors</th>\n",
       "      <th>fws_ids</th>\n",
       "    </tr>\n",
       "  </thead>\n",
       "  <tbody>\n",
       "    <tr>\n",
       "      <th>25</th>\n",
       "      <td>783</td>\n",
       "      <td>{'missing_gfids': [124], 'ww_subsystem_ids': [...</td>\n",
       "      <td>[]</td>\n",
       "    </tr>\n",
       "    <tr>\n",
       "      <th>35</th>\n",
       "      <td>421</td>\n",
       "      <td>{'missing_gfids': [124], 'ww_subsystem_ids': [...</td>\n",
       "      <td>[]</td>\n",
       "    </tr>\n",
       "    <tr>\n",
       "      <th>36</th>\n",
       "      <td>441</td>\n",
       "      <td>{'missing_gfids': [124], 'ww_subsystem_ids': [...</td>\n",
       "      <td>[]</td>\n",
       "    </tr>\n",
       "    <tr>\n",
       "      <th>38</th>\n",
       "      <td>443</td>\n",
       "      <td>{'missing_gfids': [123, 124], 'ww_subsystem_id...</td>\n",
       "      <td>[]</td>\n",
       "    </tr>\n",
       "    <tr>\n",
       "      <th>40</th>\n",
       "      <td>495</td>\n",
       "      <td>{'missing_gfids': [123, 124], 'ww_subsystem_id...</td>\n",
       "      <td>[]</td>\n",
       "    </tr>\n",
       "  </tbody>\n",
       "</table>\n",
       "</div>"
      ],
      "text/plain": [
       "    building_id                                 missing_WW_sensors fws_ids\n",
       "25          783  {'missing_gfids': [124], 'ww_subsystem_ids': [...      []\n",
       "35          421  {'missing_gfids': [124], 'ww_subsystem_ids': [...      []\n",
       "36          441  {'missing_gfids': [124], 'ww_subsystem_ids': [...      []\n",
       "38          443  {'missing_gfids': [123, 124], 'ww_subsystem_id...      []\n",
       "40          495  {'missing_gfids': [123, 124], 'ww_subsystem_id...      []"
      ]
     },
     "execution_count": 96,
     "metadata": {},
     "output_type": "execute_result"
    }
   ],
   "source": [
    "df_man_rec[['building_id','missing_WW_sensors','fws_ids']].head()"
   ]
  },
  {
   "cell_type": "code",
   "execution_count": 100,
   "id": "00b34f29-5704-4ad0-8d6f-2964f7f0edac",
   "metadata": {},
   "outputs": [
    {
     "data": {
      "text/plain": [
       "Index(['building_id', 'customerID', 'address', 'device_type', 'device_id',\n",
       "       'sensors', 't_sensor_count', 'sub_components', 'missing_WW_sensors',\n",
       "       'gfid', 'fws_ids', 'man_rec_sys'],\n",
       "      dtype='object')"
      ]
     },
     "execution_count": 100,
     "metadata": {},
     "output_type": "execute_result"
    }
   ],
   "source": [
    "df_man_rec.columns"
   ]
  },
  {
   "cell_type": "code",
   "execution_count": 103,
   "id": "9805487a-dc23-4349-98a5-95dff866dbf9",
   "metadata": {},
   "outputs": [],
   "source": [
    "df_man_rec[['building_id','customerID', 'address','missing_WW_sensors','sensors','gfid']].to_csv('man_rec.csv', index=False)"
   ]
  },
  {
   "cell_type": "markdown",
   "id": "2421f265-5f32-41e7-bb72-c0daab405740",
   "metadata": {},
   "source": [
    "# Export"
   ]
  },
  {
   "cell_type": "code",
   "execution_count": 34,
   "id": "e908ac3d-1e0c-4d32-8921-ce63e2fda0fc",
   "metadata": {},
   "outputs": [],
   "source": [
    "if True:\n",
    "    filename1='Building_infos_'+extraced_date+'.csv'\n",
    "    filename2='Buildings_with_fws_'+extraced_date+'.csv'\n",
    "    filename3='Buildings_nofws_missing_ww_sensors_'+extraced_date+'.csv'\n",
    "    filepath1 = os.path.join('OUTs', filename1)\n",
    "    filepath2 = os.path.join('OUTs', filename2)\n",
    "    filepath3 = os.path.join('OUTs', filename3)\n",
    "    df.to_csv(filepath1, index=False)\n",
    "    buildings_with_fws.to_csv(filepath2, index=False)\n",
    "    buildings_without_fws.to_csv(filepath3, index=False)\n"
   ]
  },
  {
   "cell_type": "code",
   "execution_count": null,
   "id": "e7b08b06-a70a-4b45-a738-b46ca49ca43e",
   "metadata": {},
   "outputs": [],
   "source": []
  },
  {
   "cell_type": "code",
   "execution_count": null,
   "id": "294bf080-10ab-4954-90b7-aa3fa773207f",
   "metadata": {},
   "outputs": [],
   "source": []
  }
 ],
 "metadata": {
  "kernelspec": {
   "display_name": "Python 3 (ipykernel)",
   "language": "python",
   "name": "python3"
  },
  "language_info": {
   "codemirror_mode": {
    "name": "ipython",
    "version": 3
   },
   "file_extension": ".py",
   "mimetype": "text/x-python",
   "name": "python",
   "nbconvert_exporter": "python",
   "pygments_lexer": "ipython3",
   "version": "3.12.10"
  }
 },
 "nbformat": 4,
 "nbformat_minor": 5
}
