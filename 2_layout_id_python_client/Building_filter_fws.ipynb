{
 "cells": [
  {
   "cell_type": "markdown",
   "id": "6eda667b-a21f-4b11-b993-98b83d7a625d",
   "metadata": {},
   "source": [
    "# Import data"
   ]
  },
  {
   "cell_type": "code",
   "execution_count": 1,
   "id": "8e9c09b1-6d04-4353-b2a7-a78819af1c44",
   "metadata": {},
   "outputs": [],
   "source": [
    "#imports\n",
    "import os\n",
    "import pandas as pd\n",
    "import json\n",
    "import ast\n",
    "import re\n",
    "from pprint import pprint\n",
    "import numpy as np"
   ]
  },
  {
   "cell_type": "code",
   "execution_count": 2,
   "id": "0bf30229-6b5a-41cf-b334-5f6f2f6146f5",
   "metadata": {},
   "outputs": [],
   "source": [
    "#build df from database exctracted data\n",
    "filename='Buildings_infos_2025-07-30.csv'\n",
    "extraced_date=filename[-14:-4]\n",
    "filepath = os.path.join('INs', filename)\n",
    "df = pd.read_csv(filepath, \n",
    "    converters={\n",
    "        'sub_components': ast.literal_eval,\n",
    "        'sensors': ast.literal_eval,\n",
    "        #'missing_WW_sensors': ast.literal_eval\n",
    "    }\n",
    ")"
   ]
  },
  {
   "cell_type": "code",
   "execution_count": 3,
   "id": "e8f8959a-e698-4481-a57c-fe4d54ecbd6f",
   "metadata": {},
   "outputs": [
    {
     "data": {
      "text/plain": [
       "Index(['building_id', 'customerID', 'customer_name', 'address', 'postal_code',\n",
       "       'city', 'device_type', 'device_id', 'LayoutID', 'sub_components',\n",
       "       'modular_system', 't_sensor_count', 'sensors', 'missing_WW_sensors',\n",
       "       'gfid'],\n",
       "      dtype='object')"
      ]
     },
     "execution_count": 3,
     "metadata": {},
     "output_type": "execute_result"
    }
   ],
   "source": [
    "#inspest column\n",
    "df.columns"
   ]
  },
  {
   "cell_type": "markdown",
   "id": "2b1ce8cb-689d-479f-88df-a44b6ac4ba1d",
   "metadata": {},
   "source": [
    "# DF infos"
   ]
  },
  {
   "cell_type": "code",
   "execution_count": 4,
   "id": "d552ffa3-8ac1-483d-a28c-ff001933ef66",
   "metadata": {},
   "outputs": [],
   "source": [
    "#filter out uncesseray infos\n",
    "df=df[['building_id','customerID','address','device_type','device_id','sensors', 'sub_components','missing_WW_sensors','gfid']]"
   ]
  },
  {
   "cell_type": "code",
   "execution_count": 5,
   "id": "47fec5a5-e706-4a1f-9c41-16870dde9a90",
   "metadata": {},
   "outputs": [],
   "source": [
    "#df.head()"
   ]
  },
  {
   "cell_type": "code",
   "execution_count": 6,
   "id": "f4857c61-ca7f-4f1a-9a17-0d37968b50fa",
   "metadata": {},
   "outputs": [
    {
     "data": {
      "text/plain": [
       "building_id           2209\n",
       "customerID            2209\n",
       "address               2209\n",
       "device_type           1120\n",
       "device_id             1120\n",
       "sensors               2209\n",
       "sub_components        2209\n",
       "missing_WW_sensors     457\n",
       "gfid                  1749\n",
       "dtype: int64"
      ]
     },
     "execution_count": 6,
     "metadata": {},
     "output_type": "execute_result"
    }
   ],
   "source": [
    "df.count()"
   ]
  },
  {
   "cell_type": "markdown",
   "id": "6de83f97-ac62-4b6d-9737-2aac2e852c07",
   "metadata": {},
   "source": [
    "## Display one building Detail"
   ]
  },
  {
   "cell_type": "code",
   "execution_count": 18,
   "id": "4b291659-a017-4a89-90a2-df2a7cacba9c",
   "metadata": {},
   "outputs": [],
   "source": [
    "bid=2400 "
   ]
  },
  {
   "cell_type": "code",
   "execution_count": 19,
   "id": "017b252d-ee4a-4bfa-b98e-e157c199239a",
   "metadata": {},
   "outputs": [
    {
     "data": {
      "text/plain": [
       "{'global(1)': 'id : 220711 category : NOT_SPECIFIED type : GLOBAL sub_type : NOT_SPECIFIED',\n",
       " 'b(n)(1)': 'id : 220713 category : PRODUCER type : BOILER sub_type : GAS',\n",
       " 'hp(n)(1)': 'id : 220712 category : PRODUCER type : HEAT_PUMP sub_type : NOT_SPECIFIED',\n",
       " 'hc(n)(1)': 'id : 220714 category : CONSUMER type : HEATING_CIRCUIT sub_type : FLOOR_HEATING',\n",
       " 'hw(n)(1)': 'id : 220715 category : CONSUMER type : WARM_WATER sub_type : STORAGE_TANK'}"
      ]
     },
     "execution_count": 19,
     "metadata": {},
     "output_type": "execute_result"
    }
   ],
   "source": [
    "df.loc[df['building_id'] == bid, 'sub_components'].item()"
   ]
  },
  {
   "cell_type": "code",
   "execution_count": 20,
   "id": "fc407052-f40a-4fda-89cd-7bb8c23cb6f7",
   "metadata": {},
   "outputs": [
    {
     "data": {
      "text/plain": [
       "\"{'missing_gfids': [123], 'ww_subsystem_ids': [220715]}\""
      ]
     },
     "execution_count": 20,
     "metadata": {},
     "output_type": "execute_result"
    }
   ],
   "source": [
    "df.loc[df['building_id'] == bid, 'missing_WW_sensors'].item()"
   ]
  },
  {
   "cell_type": "code",
   "execution_count": 21,
   "id": "96eeff52-2e2c-4308-b15f-0a7796446558",
   "metadata": {},
   "outputs": [
    {
     "data": {
      "text/plain": [
       "{'e_g_bldg_y(1)': 'id : 36519 gfid : 460 sub_system_id : 220711 unit : kWh source : MANUALLY_ENTERED',\n",
       " 'None(1)': 'id : 40551 gfid : None sub_system_id : None unit : None source : GREENBOX_MQTT',\n",
       " 't_hp(n)_secflow(1)': 'id : 40532 gfid : 369 sub_system_id : 220712 unit : °C source : GREENBOX_MQTT',\n",
       " 't_hp(n)_secreturn(1)': 'id : 40534 gfid : 371 sub_system_id : 220712 unit : °C source : GREENBOX_MQTT',\n",
       " 't_hw(n)_tank(1)': 'id : 40536 gfid : 124 sub_system_id : 220715 unit : °C source : GREENBOX_MQTT',\n",
       " 't_hw(n)_pwh(1)': 'id : 40538 gfid : 119 sub_system_id : 220715 unit : °C source : GREENBOX_MQTT',\n",
       " 't_hw(n)_circ(1)': 'id : 40540 gfid : 118 sub_system_id : 220715 unit : °C source : GREENBOX_MQTT',\n",
       " 't_b(n)_flow(1)': 'id : 40542 gfid : 71 sub_system_id : 220713 unit : °C source : GREENBOX_MQTT',\n",
       " 't_g_out_api(None)': 'id : 40552 gfid : 434 sub_system_id : None unit : °C source : OPEN_WEATHER_API',\n",
       " 'None(None)': 'id : 40556 gfid : None sub_system_id : None unit : None source : GREENBOX_MQTT',\n",
       " 't_b(n)_return(1)': 'id : 40544 gfid : 76 sub_system_id : 220713 unit : °C source : GREENBOX_MQTT',\n",
       " 't_buffer(n)_tank_1(1)': 'id : 40546 gfid : 77 sub_system_id : None unit : °C source : GREENBOX_MQTT',\n",
       " 't_hc(n)_flow(1)': 'id : 40548 gfid : 112 sub_system_id : 220714 unit : °C source : GREENBOX_MQTT',\n",
       " 't_hc(n)_return(1)': 'id : 40550 gfid : 117 sub_system_id : 220714 unit : °C source : GREENBOX_MQTT',\n",
       " 'v_b(n)_gm(1)': 'id : 40557 gfid : 128 sub_system_id : 220713 unit : m³ source : GREENBOX_MQTT'}"
      ]
     },
     "execution_count": 21,
     "metadata": {},
     "output_type": "execute_result"
    }
   ],
   "source": [
    "df.loc[df['building_id'] == bid, 'sensors'].item()"
   ]
  },
  {
   "cell_type": "code",
   "execution_count": 22,
   "id": "71902207-4ae8-4ac0-9301-e26d3dff4d7e",
   "metadata": {},
   "outputs": [
    {
     "data": {
      "text/html": [
       "<div>\n",
       "<style scoped>\n",
       "    .dataframe tbody tr th:only-of-type {\n",
       "        vertical-align: middle;\n",
       "    }\n",
       "\n",
       "    .dataframe tbody tr th {\n",
       "        vertical-align: top;\n",
       "    }\n",
       "\n",
       "    .dataframe thead th {\n",
       "        text-align: right;\n",
       "    }\n",
       "</style>\n",
       "<table border=\"1\" class=\"dataframe\">\n",
       "  <thead>\n",
       "    <tr style=\"text-align: right;\">\n",
       "      <th></th>\n",
       "      <th>device_id</th>\n",
       "      <th>customerID</th>\n",
       "      <th>address</th>\n",
       "      <th>gfid</th>\n",
       "    </tr>\n",
       "  </thead>\n",
       "  <tbody>\n",
       "    <tr>\n",
       "      <th>2042</th>\n",
       "      <td>2505022</td>\n",
       "      <td>178</td>\n",
       "      <td>Oscar-Kjellberg-Straße 3</td>\n",
       "      <td>OPS-22212</td>\n",
       "    </tr>\n",
       "  </tbody>\n",
       "</table>\n",
       "</div>"
      ],
      "text/plain": [
       "     device_id  customerID                   address       gfid\n",
       "2042   2505022         178  Oscar-Kjellberg-Straße 3  OPS-22212"
      ]
     },
     "execution_count": 22,
     "metadata": {},
     "output_type": "execute_result"
    }
   ],
   "source": [
    "df.loc[df['building_id'] == bid, ['device_id','customerID','address','gfid']]"
   ]
  },
  {
   "cell_type": "markdown",
   "id": "c083a50e-bfb7-447f-8506-70af1903e8f0",
   "metadata": {},
   "source": [
    "## Get rid of nan device_type and nan LayoutID (API buildings ???) "
   ]
  },
  {
   "cell_type": "code",
   "execution_count": 23,
   "id": "0d285a10-a963-4ec4-94dc-d796a1bc60d6",
   "metadata": {},
   "outputs": [
    {
     "data": {
      "text/plain": [
       "{'ECR_LW300', 'RUT956', 'RevPiConnectSE', 'RevPiCore32SE', 'WAGOPFC200'}"
      ]
     },
     "execution_count": 23,
     "metadata": {},
     "output_type": "execute_result"
    }
   ],
   "source": [
    "type_of_devices=set()\n",
    "for dev_type in df['device_type']:\n",
    "    type_of_devices.add(dev_type)\n",
    "type_of_devices   "
   ]
  },
  {
   "cell_type": "code",
   "execution_count": 37,
   "id": "42d733d4-d563-406d-96c0-76082ca99caa",
   "metadata": {},
   "outputs": [],
   "source": [
    "df = df.dropna(subset=['device_type'])\n",
    "# get rid of customer_id 35 (GF insternal)\n",
    "df = df.loc[df['customerID'] != 35]"
   ]
  },
  {
   "cell_type": "code",
   "execution_count": 38,
   "id": "ba8e0a42-40e0-4507-bfe9-a94e79d2e8fd",
   "metadata": {},
   "outputs": [
    {
     "data": {
      "text/plain": [
       "building_id           1113\n",
       "customerID            1113\n",
       "address               1113\n",
       "device_type           1113\n",
       "device_id             1113\n",
       "sensors               1113\n",
       "sub_components        1113\n",
       "missing_WW_sensors     105\n",
       "gfid                  1113\n",
       "fws_ids               1113\n",
       "dtype: int64"
      ]
     },
     "execution_count": 38,
     "metadata": {},
     "output_type": "execute_result"
    }
   ],
   "source": [
    "df.count()"
   ]
  },
  {
   "cell_type": "code",
   "execution_count": 36,
   "id": "fe8acf20-d018-41cd-baad-b05649bc864e",
   "metadata": {},
   "outputs": [
    {
     "data": {
      "text/html": [
       "<div>\n",
       "<style scoped>\n",
       "    .dataframe tbody tr th:only-of-type {\n",
       "        vertical-align: middle;\n",
       "    }\n",
       "\n",
       "    .dataframe tbody tr th {\n",
       "        vertical-align: top;\n",
       "    }\n",
       "\n",
       "    .dataframe thead th {\n",
       "        text-align: right;\n",
       "    }\n",
       "</style>\n",
       "<table border=\"1\" class=\"dataframe\">\n",
       "  <thead>\n",
       "    <tr style=\"text-align: right;\">\n",
       "      <th></th>\n",
       "      <th>building_id</th>\n",
       "      <th>customerID</th>\n",
       "      <th>address</th>\n",
       "      <th>device_type</th>\n",
       "      <th>device_id</th>\n",
       "      <th>sensors</th>\n",
       "      <th>sub_components</th>\n",
       "      <th>missing_WW_sensors</th>\n",
       "      <th>gfid</th>\n",
       "      <th>fws_ids</th>\n",
       "    </tr>\n",
       "  </thead>\n",
       "  <tbody>\n",
       "    <tr>\n",
       "      <th>0</th>\n",
       "      <td>756</td>\n",
       "      <td>66</td>\n",
       "      <td>Wolzogenstr.28</td>\n",
       "      <td>RUT956</td>\n",
       "      <td>2403001</td>\n",
       "      <td>{'t_b(n)_flow(1)': 'id : 17772 gfid : 71 sub_s...</td>\n",
       "      <td>{'global(1)': 'id : 2204 category : NOT_SPECIF...</td>\n",
       "      <td>NaN</td>\n",
       "      <td>GFP-12505</td>\n",
       "      <td>[]</td>\n",
       "    </tr>\n",
       "    <tr>\n",
       "      <th>1</th>\n",
       "      <td>757</td>\n",
       "      <td>66</td>\n",
       "      <td>Hagelberger Str. 26</td>\n",
       "      <td>RUT956</td>\n",
       "      <td>2406009</td>\n",
       "      <td>{'e_g_bldg_y(None)': 'id : 19378 gfid : 460 su...</td>\n",
       "      <td>{'global(1)': 'id : 2209 category : NOT_SPECIF...</td>\n",
       "      <td>NaN</td>\n",
       "      <td>GFP-13438</td>\n",
       "      <td>[]</td>\n",
       "    </tr>\n",
       "    <tr>\n",
       "      <th>2</th>\n",
       "      <td>758</td>\n",
       "      <td>66</td>\n",
       "      <td>Hochstr. 8</td>\n",
       "      <td>RUT956</td>\n",
       "      <td>2420012</td>\n",
       "      <td>{'t_b(n)_flow(1)': 'id : 17862 gfid : 71 sub_s...</td>\n",
       "      <td>{'global(1)': 'id : 2213 category : NOT_SPECIF...</td>\n",
       "      <td>NaN</td>\n",
       "      <td>GFP-12475</td>\n",
       "      <td>[]</td>\n",
       "    </tr>\n",
       "    <tr>\n",
       "      <th>3</th>\n",
       "      <td>759</td>\n",
       "      <td>66</td>\n",
       "      <td>Planufer 82a</td>\n",
       "      <td>RUT956</td>\n",
       "      <td>2403011</td>\n",
       "      <td>{'t_b(n)_flow(1)': 'id : 17895 gfid : 71 sub_s...</td>\n",
       "      <td>{'global(1)': 'id : 2216 category : NOT_SPECIF...</td>\n",
       "      <td>NaN</td>\n",
       "      <td>GFP-12530</td>\n",
       "      <td>[]</td>\n",
       "    </tr>\n",
       "    <tr>\n",
       "      <th>4</th>\n",
       "      <td>761</td>\n",
       "      <td>66</td>\n",
       "      <td>Gabainstr. 13</td>\n",
       "      <td>RUT956</td>\n",
       "      <td>2440001</td>\n",
       "      <td>{'e_g_bldg_y(None)': 'id : 19747 gfid : 460 su...</td>\n",
       "      <td>{'global(1)': 'id : 2219 category : NOT_SPECIF...</td>\n",
       "      <td>NaN</td>\n",
       "      <td>GFP-12605</td>\n",
       "      <td>[]</td>\n",
       "    </tr>\n",
       "    <tr>\n",
       "      <th>...</th>\n",
       "      <td>...</td>\n",
       "      <td>...</td>\n",
       "      <td>...</td>\n",
       "      <td>...</td>\n",
       "      <td>...</td>\n",
       "      <td>...</td>\n",
       "      <td>...</td>\n",
       "      <td>...</td>\n",
       "      <td>...</td>\n",
       "      <td>...</td>\n",
       "    </tr>\n",
       "    <tr>\n",
       "      <th>2192</th>\n",
       "      <td>2300</td>\n",
       "      <td>167</td>\n",
       "      <td>Tulbeckstr. 11</td>\n",
       "      <td>RUT956</td>\n",
       "      <td>2508002</td>\n",
       "      <td>{'None(1)': 'id : 37021 gfid : None sub_system...</td>\n",
       "      <td>{'global(1)': 'id : 219998 category : NOT_SPEC...</td>\n",
       "      <td>NaN</td>\n",
       "      <td>OPS-176</td>\n",
       "      <td>[]</td>\n",
       "    </tr>\n",
       "    <tr>\n",
       "      <th>2193</th>\n",
       "      <td>2301</td>\n",
       "      <td>167</td>\n",
       "      <td>Sylvensteinstr. 7</td>\n",
       "      <td>RUT956</td>\n",
       "      <td>2508005</td>\n",
       "      <td>{'t_dh_primflow(1)': 'id : 37045 gfid : 88 sub...</td>\n",
       "      <td>{'global(1)': 'id : 219999 category : NOT_SPEC...</td>\n",
       "      <td>NaN</td>\n",
       "      <td>OPS-177</td>\n",
       "      <td>[]</td>\n",
       "    </tr>\n",
       "    <tr>\n",
       "      <th>2194</th>\n",
       "      <td>2302</td>\n",
       "      <td>167</td>\n",
       "      <td>Krüner Str. 2</td>\n",
       "      <td>RUT956</td>\n",
       "      <td>2511049</td>\n",
       "      <td>{'e_g_bldg_y(1)': 'id : 34296 gfid : 460 sub_s...</td>\n",
       "      <td>{'global(1)': 'id : 220000 category : NOT_SPEC...</td>\n",
       "      <td>NaN</td>\n",
       "      <td>OPS-178</td>\n",
       "      <td>[]</td>\n",
       "    </tr>\n",
       "    <tr>\n",
       "      <th>2195</th>\n",
       "      <td>2303</td>\n",
       "      <td>167</td>\n",
       "      <td>Oberländerstraße 5</td>\n",
       "      <td>RUT956</td>\n",
       "      <td>2507005</td>\n",
       "      <td>{'e_g_bldg_y(1)': 'id : 34297 gfid : 460 sub_s...</td>\n",
       "      <td>{'global(1)': 'id : 220001 category : NOT_SPEC...</td>\n",
       "      <td>NaN</td>\n",
       "      <td>OPS-179</td>\n",
       "      <td>[]</td>\n",
       "    </tr>\n",
       "    <tr>\n",
       "      <th>2198</th>\n",
       "      <td>2498</td>\n",
       "      <td>191</td>\n",
       "      <td>Lindenbornstr. 21</td>\n",
       "      <td>RUT956</td>\n",
       "      <td>2505002</td>\n",
       "      <td>{'e_g_bldg_y(1)': 'id : 38731 gfid : 460 sub_s...</td>\n",
       "      <td>{'global(1)': 'id : 220897 category : NOT_SPEC...</td>\n",
       "      <td>NaN</td>\n",
       "      <td>OPS-23504</td>\n",
       "      <td>[]</td>\n",
       "    </tr>\n",
       "  </tbody>\n",
       "</table>\n",
       "<p>1113 rows × 10 columns</p>\n",
       "</div>"
      ],
      "text/plain": [
       "      building_id  customerID              address device_type device_id  \\\n",
       "0             756          66       Wolzogenstr.28      RUT956   2403001   \n",
       "1             757          66  Hagelberger Str. 26      RUT956   2406009   \n",
       "2             758          66           Hochstr. 8      RUT956   2420012   \n",
       "3             759          66         Planufer 82a      RUT956   2403011   \n",
       "4             761          66        Gabainstr. 13      RUT956   2440001   \n",
       "...           ...         ...                  ...         ...       ...   \n",
       "2192         2300         167       Tulbeckstr. 11      RUT956   2508002   \n",
       "2193         2301         167    Sylvensteinstr. 7      RUT956   2508005   \n",
       "2194         2302         167        Krüner Str. 2      RUT956   2511049   \n",
       "2195         2303         167   Oberländerstraße 5      RUT956   2507005   \n",
       "2198         2498         191    Lindenbornstr. 21      RUT956   2505002   \n",
       "\n",
       "                                                sensors  \\\n",
       "0     {'t_b(n)_flow(1)': 'id : 17772 gfid : 71 sub_s...   \n",
       "1     {'e_g_bldg_y(None)': 'id : 19378 gfid : 460 su...   \n",
       "2     {'t_b(n)_flow(1)': 'id : 17862 gfid : 71 sub_s...   \n",
       "3     {'t_b(n)_flow(1)': 'id : 17895 gfid : 71 sub_s...   \n",
       "4     {'e_g_bldg_y(None)': 'id : 19747 gfid : 460 su...   \n",
       "...                                                 ...   \n",
       "2192  {'None(1)': 'id : 37021 gfid : None sub_system...   \n",
       "2193  {'t_dh_primflow(1)': 'id : 37045 gfid : 88 sub...   \n",
       "2194  {'e_g_bldg_y(1)': 'id : 34296 gfid : 460 sub_s...   \n",
       "2195  {'e_g_bldg_y(1)': 'id : 34297 gfid : 460 sub_s...   \n",
       "2198  {'e_g_bldg_y(1)': 'id : 38731 gfid : 460 sub_s...   \n",
       "\n",
       "                                         sub_components missing_WW_sensors  \\\n",
       "0     {'global(1)': 'id : 2204 category : NOT_SPECIF...                NaN   \n",
       "1     {'global(1)': 'id : 2209 category : NOT_SPECIF...                NaN   \n",
       "2     {'global(1)': 'id : 2213 category : NOT_SPECIF...                NaN   \n",
       "3     {'global(1)': 'id : 2216 category : NOT_SPECIF...                NaN   \n",
       "4     {'global(1)': 'id : 2219 category : NOT_SPECIF...                NaN   \n",
       "...                                                 ...                ...   \n",
       "2192  {'global(1)': 'id : 219998 category : NOT_SPEC...                NaN   \n",
       "2193  {'global(1)': 'id : 219999 category : NOT_SPEC...                NaN   \n",
       "2194  {'global(1)': 'id : 220000 category : NOT_SPEC...                NaN   \n",
       "2195  {'global(1)': 'id : 220001 category : NOT_SPEC...                NaN   \n",
       "2198  {'global(1)': 'id : 220897 category : NOT_SPEC...                NaN   \n",
       "\n",
       "           gfid fws_ids  \n",
       "0     GFP-12505      []  \n",
       "1     GFP-13438      []  \n",
       "2     GFP-12475      []  \n",
       "3     GFP-12530      []  \n",
       "4     GFP-12605      []  \n",
       "...         ...     ...  \n",
       "2192    OPS-176      []  \n",
       "2193    OPS-177      []  \n",
       "2194    OPS-178      []  \n",
       "2195    OPS-179      []  \n",
       "2198  OPS-23504      []  \n",
       "\n",
       "[1113 rows x 10 columns]"
      ]
     },
     "execution_count": 36,
     "metadata": {},
     "output_type": "execute_result"
    }
   ],
   "source": [
    "df.loc[df['customerID'] != 35]"
   ]
  },
  {
   "cell_type": "markdown",
   "id": "0653e739-901d-4bc9-b98c-70e8d05d6886",
   "metadata": {},
   "source": [
    "# Find FWS"
   ]
  },
  {
   "cell_type": "code",
   "execution_count": 26,
   "id": "dd573793-5b8d-4ab7-a21f-c861a7da3dea",
   "metadata": {},
   "outputs": [],
   "source": [
    "def find_fws_ids(sub_components_dict):\n",
    "    \"\"\"\n",
    "    Searches a sub_components dictionary for all FRESH_WATER_STATIONs.\n",
    "    \n",
    "    Returns:\n",
    "        A list of all found component IDs. Returns an empty list if none are found.\n",
    "    \"\"\"\n",
    "    # Return an empty list if the input isn't a dictionary\n",
    "    if not isinstance(sub_components_dict, dict):\n",
    "        return []\n",
    "    \n",
    "    found_ids = [] # Initialize an empty list to store IDs\n",
    "    \n",
    "    # Iterate through all component strings\n",
    "    for component_string in sub_components_dict.values():\n",
    "        if 'sub_type : FRESH_WATER_STATION' in component_string:\n",
    "            try:\n",
    "                parts = component_string.split()\n",
    "                id_index = parts.index('id')\n",
    "                component_id = int(parts[id_index + 2])\n",
    "                # Add the found ID to the list instead of returning\n",
    "                found_ids.append(component_id)\n",
    "            except (ValueError, IndexError):\n",
    "                # Malformed string, skip to the next one\n",
    "                continue\n",
    "                \n",
    "    # After checking all components, return the list of found IDs\n",
    "    return found_ids"
   ]
  },
  {
   "cell_type": "code",
   "execution_count": 27,
   "id": "ec876c69-ad00-4345-8852-0b05e0f2d836",
   "metadata": {},
   "outputs": [],
   "source": [
    "# Apply the function to filter the DataFrame\n",
    "df['fws_ids'] = df['sub_components'].apply(find_fws_ids)"
   ]
  },
  {
   "cell_type": "code",
   "execution_count": 28,
   "id": "074ebf61-9300-49dd-9285-b24722d80cce",
   "metadata": {},
   "outputs": [
    {
     "data": {
      "text/plain": [
       "[]"
      ]
     },
     "execution_count": 28,
     "metadata": {},
     "output_type": "execute_result"
    }
   ],
   "source": [
    "df.loc[df['building_id'] == bid, 'fws_ids'].item()"
   ]
  },
  {
   "cell_type": "code",
   "execution_count": 29,
   "id": "72d0bbd1-27d1-4a9c-ba41-61b1be033858",
   "metadata": {},
   "outputs": [
    {
     "name": "stdout",
     "output_type": "stream",
     "text": [
      "56 [781, 782, 784, 785, 420, 442, 538, 562, 566, 434, 545, 1569, 792, 793, 797, 798, 799, 800, 801, 2453, 1474, 1475, 1476, 1477, 1478, 1481, 654, 392, 1401, 1404, 1405, 525, 532, 626, 700, 701, 370, 1605, 1606, 473, 474, 475, 476, 1364, 1457, 1461, 2250, 469, 472, 2431, 2470, 2382, 2383, 477, 2463, 2483]\n"
     ]
    }
   ],
   "source": [
    "# Show the building_ids\n",
    "buildings_with_fws = df.loc[df['fws_ids'].str.len() > 0, 'building_id'].tolist()\n",
    "print(len(buildings_with_fws),buildings_with_fws)"
   ]
  },
  {
   "cell_type": "code",
   "execution_count": 30,
   "id": "82b3c6b2-58be-43a2-81e2-db23dc10cb06",
   "metadata": {},
   "outputs": [
    {
     "data": {
      "text/html": [
       "<div>\n",
       "<style scoped>\n",
       "    .dataframe tbody tr th:only-of-type {\n",
       "        vertical-align: middle;\n",
       "    }\n",
       "\n",
       "    .dataframe tbody tr th {\n",
       "        vertical-align: top;\n",
       "    }\n",
       "\n",
       "    .dataframe thead th {\n",
       "        text-align: right;\n",
       "    }\n",
       "</style>\n",
       "<table border=\"1\" class=\"dataframe\">\n",
       "  <thead>\n",
       "    <tr style=\"text-align: right;\">\n",
       "      <th></th>\n",
       "      <th>building_id</th>\n",
       "      <th>customerID</th>\n",
       "      <th>address</th>\n",
       "      <th>device_type</th>\n",
       "      <th>device_id</th>\n",
       "      <th>sensors</th>\n",
       "      <th>sub_components</th>\n",
       "      <th>missing_WW_sensors</th>\n",
       "      <th>gfid</th>\n",
       "      <th>fws_ids</th>\n",
       "    </tr>\n",
       "  </thead>\n",
       "  <tbody>\n",
       "    <tr>\n",
       "      <th>23</th>\n",
       "      <td>781</td>\n",
       "      <td>66</td>\n",
       "      <td>Jahnstraße 14</td>\n",
       "      <td>RUT956</td>\n",
       "      <td>2420017</td>\n",
       "      <td>{'None(1)': 'id : 28260 gfid : None sub_system...</td>\n",
       "      <td>{'global(1)': 'id : 2282 category : NOT_SPECIF...</td>\n",
       "      <td>{'missing_gfids': [124], 'ww_subsystem_ids': [...</td>\n",
       "      <td>GFP-13262</td>\n",
       "      <td>[2286]</td>\n",
       "    </tr>\n",
       "    <tr>\n",
       "      <th>24</th>\n",
       "      <td>782</td>\n",
       "      <td>66</td>\n",
       "      <td>Jahnstraße 30</td>\n",
       "      <td>RUT956</td>\n",
       "      <td>2420014</td>\n",
       "      <td>{'t_b(n)_flow(1)': 'id : 18129 gfid : 71 sub_s...</td>\n",
       "      <td>{'global(1)': 'id : 2288 category : NOT_SPECIF...</td>\n",
       "      <td>NaN</td>\n",
       "      <td>GFP-13285</td>\n",
       "      <td>[2292, 2293]</td>\n",
       "    </tr>\n",
       "    <tr>\n",
       "      <th>26</th>\n",
       "      <td>784</td>\n",
       "      <td>66</td>\n",
       "      <td>Jahnstraße 42</td>\n",
       "      <td>RUT956</td>\n",
       "      <td>2402007</td>\n",
       "      <td>{'None(1)': 'id : 18633 gfid : None sub_system...</td>\n",
       "      <td>{'global(1)': 'id : 2300 category : NOT_SPECIF...</td>\n",
       "      <td>NaN</td>\n",
       "      <td>GFP-13331</td>\n",
       "      <td>[2304]</td>\n",
       "    </tr>\n",
       "    <tr>\n",
       "      <th>27</th>\n",
       "      <td>785</td>\n",
       "      <td>66</td>\n",
       "      <td>Jahnstraße 46</td>\n",
       "      <td>RUT956</td>\n",
       "      <td>2403013</td>\n",
       "      <td>{'t_hw(n)_pwh(1)': 'id : 18118 gfid : 119 sub_...</td>\n",
       "      <td>{'global(1)': 'id : 2306 category : NOT_SPECIF...</td>\n",
       "      <td>NaN</td>\n",
       "      <td>GFP-13354</td>\n",
       "      <td>[2310, 2311]</td>\n",
       "    </tr>\n",
       "    <tr>\n",
       "      <th>34</th>\n",
       "      <td>420</td>\n",
       "      <td>32</td>\n",
       "      <td>Rendsburger Str. 61</td>\n",
       "      <td>ECR_LW300</td>\n",
       "      <td>23321007</td>\n",
       "      <td>{'t_hp(n)_secflow(1)': 'id : 7728 gfid : 369 s...</td>\n",
       "      <td>{'global(1)': 'id : 988 category : NOT_SPECIFI...</td>\n",
       "      <td>NaN</td>\n",
       "      <td>GFP-390</td>\n",
       "      <td>[991]</td>\n",
       "    </tr>\n",
       "  </tbody>\n",
       "</table>\n",
       "</div>"
      ],
      "text/plain": [
       "    building_id  customerID              address device_type device_id  \\\n",
       "23          781          66        Jahnstraße 14      RUT956   2420017   \n",
       "24          782          66        Jahnstraße 30      RUT956   2420014   \n",
       "26          784          66        Jahnstraße 42      RUT956   2402007   \n",
       "27          785          66        Jahnstraße 46      RUT956   2403013   \n",
       "34          420          32  Rendsburger Str. 61   ECR_LW300  23321007   \n",
       "\n",
       "                                              sensors  \\\n",
       "23  {'None(1)': 'id : 28260 gfid : None sub_system...   \n",
       "24  {'t_b(n)_flow(1)': 'id : 18129 gfid : 71 sub_s...   \n",
       "26  {'None(1)': 'id : 18633 gfid : None sub_system...   \n",
       "27  {'t_hw(n)_pwh(1)': 'id : 18118 gfid : 119 sub_...   \n",
       "34  {'t_hp(n)_secflow(1)': 'id : 7728 gfid : 369 s...   \n",
       "\n",
       "                                       sub_components  \\\n",
       "23  {'global(1)': 'id : 2282 category : NOT_SPECIF...   \n",
       "24  {'global(1)': 'id : 2288 category : NOT_SPECIF...   \n",
       "26  {'global(1)': 'id : 2300 category : NOT_SPECIF...   \n",
       "27  {'global(1)': 'id : 2306 category : NOT_SPECIF...   \n",
       "34  {'global(1)': 'id : 988 category : NOT_SPECIFI...   \n",
       "\n",
       "                                   missing_WW_sensors       gfid       fws_ids  \n",
       "23  {'missing_gfids': [124], 'ww_subsystem_ids': [...  GFP-13262        [2286]  \n",
       "24                                                NaN  GFP-13285  [2292, 2293]  \n",
       "26                                                NaN  GFP-13331        [2304]  \n",
       "27                                                NaN  GFP-13354  [2310, 2311]  \n",
       "34                                                NaN    GFP-390         [991]  "
      ]
     },
     "execution_count": 30,
     "metadata": {},
     "output_type": "execute_result"
    }
   ],
   "source": [
    "buildings_with_fws=df.loc[df['fws_ids'].str.len() > 0]\n",
    "buildings_with_fws.head()"
   ]
  },
  {
   "cell_type": "markdown",
   "id": "d906233e-5294-4fcd-8677-93d8dc9cc9d5",
   "metadata": {},
   "source": [
    "# get rid of FWS and missing_WW_sensors=Nan"
   ]
  },
  {
   "cell_type": "code",
   "execution_count": 31,
   "id": "838373cc-857e-408a-b524-12bdf0f426ad",
   "metadata": {},
   "outputs": [],
   "source": [
    "buildings_without_fws = df.loc[df['fws_ids'].str.len() == 0]\n",
    "buildings_without_fws=buildings_without_fws.dropna(subset=['missing_WW_sensors'])"
   ]
  },
  {
   "cell_type": "code",
   "execution_count": 32,
   "id": "a128e0ed-ce72-45cd-9f1c-741908618d5c",
   "metadata": {},
   "outputs": [
    {
     "data": {
      "text/html": [
       "<div>\n",
       "<style scoped>\n",
       "    .dataframe tbody tr th:only-of-type {\n",
       "        vertical-align: middle;\n",
       "    }\n",
       "\n",
       "    .dataframe tbody tr th {\n",
       "        vertical-align: top;\n",
       "    }\n",
       "\n",
       "    .dataframe thead th {\n",
       "        text-align: right;\n",
       "    }\n",
       "</style>\n",
       "<table border=\"1\" class=\"dataframe\">\n",
       "  <thead>\n",
       "    <tr style=\"text-align: right;\">\n",
       "      <th></th>\n",
       "      <th>building_id</th>\n",
       "      <th>customerID</th>\n",
       "      <th>address</th>\n",
       "      <th>device_type</th>\n",
       "      <th>device_id</th>\n",
       "      <th>sensors</th>\n",
       "      <th>sub_components</th>\n",
       "      <th>missing_WW_sensors</th>\n",
       "      <th>gfid</th>\n",
       "      <th>fws_ids</th>\n",
       "    </tr>\n",
       "  </thead>\n",
       "  <tbody>\n",
       "    <tr>\n",
       "      <th>1991</th>\n",
       "      <td>2338</td>\n",
       "      <td>174</td>\n",
       "      <td>Horstmarer Landweg 74</td>\n",
       "      <td>RUT956</td>\n",
       "      <td>2507049</td>\n",
       "      <td>{'e_g_bldg_y(1)': 'id : 36067 gfid : 460 sub_s...</td>\n",
       "      <td>{'global(1)': 'id : 220296 category : NOT_SPEC...</td>\n",
       "      <td>{'missing_gfids': [118, 119, 124], 'ww_subsyst...</td>\n",
       "      <td>OPS-21587</td>\n",
       "      <td>[]</td>\n",
       "    </tr>\n",
       "    <tr>\n",
       "      <th>2017</th>\n",
       "      <td>2384</td>\n",
       "      <td>177</td>\n",
       "      <td>Tivolistr. 106</td>\n",
       "      <td>RUT956</td>\n",
       "      <td>2507035</td>\n",
       "      <td>{'e_g_bldg_y(1)': 'id : 36493 gfid : 460 sub_s...</td>\n",
       "      <td>{'global(1)': 'id : 220404 category : NOT_SPEC...</td>\n",
       "      <td>{'missing_gfids': [118], 'ww_subsystem_ids': [...</td>\n",
       "      <td>OPS-21987</td>\n",
       "      <td>[]</td>\n",
       "    </tr>\n",
       "    <tr>\n",
       "      <th>2042</th>\n",
       "      <td>2400</td>\n",
       "      <td>178</td>\n",
       "      <td>Oscar-Kjellberg-Straße 3</td>\n",
       "      <td>RUT956</td>\n",
       "      <td>2505022</td>\n",
       "      <td>{'e_g_bldg_y(1)': 'id : 36519 gfid : 460 sub_s...</td>\n",
       "      <td>{'global(1)': 'id : 220711 category : NOT_SPEC...</td>\n",
       "      <td>{'missing_gfids': [123], 'ww_subsystem_ids': [...</td>\n",
       "      <td>OPS-22212</td>\n",
       "      <td>[]</td>\n",
       "    </tr>\n",
       "    <tr>\n",
       "      <th>2171</th>\n",
       "      <td>2461</td>\n",
       "      <td>187</td>\n",
       "      <td>Reichelsweiherstr. 9</td>\n",
       "      <td>RUT956</td>\n",
       "      <td>2505050</td>\n",
       "      <td>{'e_g_bldg_y(1)': 'id : 37616 gfid : 460 sub_s...</td>\n",
       "      <td>{'global(1)': 'id : 220835 category : NOT_SPEC...</td>\n",
       "      <td>{'missing_gfids': [123, 124], 'ww_subsystem_id...</td>\n",
       "      <td>OPS-23006</td>\n",
       "      <td>[]</td>\n",
       "    </tr>\n",
       "    <tr>\n",
       "      <th>2191</th>\n",
       "      <td>2299</td>\n",
       "      <td>167</td>\n",
       "      <td>Garmischer Straße 201</td>\n",
       "      <td>RUT956</td>\n",
       "      <td>2508003</td>\n",
       "      <td>{'t_dh_primflow(1)': 'id : 37026 gfid : 88 sub...</td>\n",
       "      <td>{'global(1)': 'id : 219997 category : NOT_SPEC...</td>\n",
       "      <td>{'missing_gfids': [118, 119, 123, 124], 'ww_su...</td>\n",
       "      <td>OPS-175</td>\n",
       "      <td>[]</td>\n",
       "    </tr>\n",
       "  </tbody>\n",
       "</table>\n",
       "</div>"
      ],
      "text/plain": [
       "      building_id  customerID                   address device_type device_id  \\\n",
       "1991         2338         174     Horstmarer Landweg 74      RUT956   2507049   \n",
       "2017         2384         177            Tivolistr. 106      RUT956   2507035   \n",
       "2042         2400         178  Oscar-Kjellberg-Straße 3      RUT956   2505022   \n",
       "2171         2461         187      Reichelsweiherstr. 9      RUT956   2505050   \n",
       "2191         2299         167     Garmischer Straße 201      RUT956   2508003   \n",
       "\n",
       "                                                sensors  \\\n",
       "1991  {'e_g_bldg_y(1)': 'id : 36067 gfid : 460 sub_s...   \n",
       "2017  {'e_g_bldg_y(1)': 'id : 36493 gfid : 460 sub_s...   \n",
       "2042  {'e_g_bldg_y(1)': 'id : 36519 gfid : 460 sub_s...   \n",
       "2171  {'e_g_bldg_y(1)': 'id : 37616 gfid : 460 sub_s...   \n",
       "2191  {'t_dh_primflow(1)': 'id : 37026 gfid : 88 sub...   \n",
       "\n",
       "                                         sub_components  \\\n",
       "1991  {'global(1)': 'id : 220296 category : NOT_SPEC...   \n",
       "2017  {'global(1)': 'id : 220404 category : NOT_SPEC...   \n",
       "2042  {'global(1)': 'id : 220711 category : NOT_SPEC...   \n",
       "2171  {'global(1)': 'id : 220835 category : NOT_SPEC...   \n",
       "2191  {'global(1)': 'id : 219997 category : NOT_SPEC...   \n",
       "\n",
       "                                     missing_WW_sensors       gfid fws_ids  \n",
       "1991  {'missing_gfids': [118, 119, 124], 'ww_subsyst...  OPS-21587      []  \n",
       "2017  {'missing_gfids': [118], 'ww_subsystem_ids': [...  OPS-21987      []  \n",
       "2042  {'missing_gfids': [123], 'ww_subsystem_ids': [...  OPS-22212      []  \n",
       "2171  {'missing_gfids': [123, 124], 'ww_subsystem_id...  OPS-23006      []  \n",
       "2191  {'missing_gfids': [118, 119, 123, 124], 'ww_su...    OPS-175      []  "
      ]
     },
     "execution_count": 32,
     "metadata": {},
     "output_type": "execute_result"
    }
   ],
   "source": [
    "buildings_without_fws.tail()"
   ]
  },
  {
   "cell_type": "markdown",
   "id": "2421f265-5f32-41e7-bb72-c0daab405740",
   "metadata": {},
   "source": [
    "# Export"
   ]
  },
  {
   "cell_type": "code",
   "execution_count": 33,
   "id": "e908ac3d-1e0c-4d32-8921-ce63e2fda0fc",
   "metadata": {},
   "outputs": [],
   "source": [
    "if True:\n",
    "    filename1='Building_infos_'+extraced_date+'.csv'\n",
    "    filename2='Buildings_with_fws_'+extraced_date+'.csv'\n",
    "    filename3='Buildings_nofws_missing_ww_sensors_'+extraced_date+'.csv'\n",
    "    filepath1 = os.path.join('OUTs', filename1)\n",
    "    filepath2 = os.path.join('OUTs', filename2)\n",
    "    filepath3 = os.path.join('OUTs', filename3)\n",
    "    df.to_csv(filepath1, index=False)\n",
    "    buildings_with_fws.to_csv(filepath2, index=False)\n",
    "    buildings_without_fws.to_csv(filepath3, index=False)\n"
   ]
  },
  {
   "cell_type": "code",
   "execution_count": null,
   "id": "e7b08b06-a70a-4b45-a738-b46ca49ca43e",
   "metadata": {},
   "outputs": [],
   "source": []
  },
  {
   "cell_type": "code",
   "execution_count": null,
   "id": "294bf080-10ab-4954-90b7-aa3fa773207f",
   "metadata": {},
   "outputs": [],
   "source": []
  }
 ],
 "metadata": {
  "kernelspec": {
   "display_name": "Python 3 (ipykernel)",
   "language": "python",
   "name": "python3"
  },
  "language_info": {
   "codemirror_mode": {
    "name": "ipython",
    "version": 3
   },
   "file_extension": ".py",
   "mimetype": "text/x-python",
   "name": "python",
   "nbconvert_exporter": "python",
   "pygments_lexer": "ipython3",
   "version": "3.12.10"
  }
 },
 "nbformat": 4,
 "nbformat_minor": 5
}
