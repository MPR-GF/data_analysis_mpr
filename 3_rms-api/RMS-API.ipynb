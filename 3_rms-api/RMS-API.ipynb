{
 "cells": [
  {
   "cell_type": "markdown",
   "id": "05f09753-b395-445d-b180-56a49230d90f",
   "metadata": {},
   "source": [
    "# RMS - API"
   ]
  },
  {
   "cell_type": "markdown",
   "id": "1735bd3e-faf7-4103-bea8-03416ae4ea6f",
   "metadata": {},
   "source": [
    "## Imports"
   ]
  },
  {
   "cell_type": "code",
   "execution_count": 1,
   "id": "96b00855-b861-4ffd-b84d-adc9b3a4986d",
   "metadata": {},
   "outputs": [],
   "source": [
    "import os\n",
    "import json\n",
    "import requests\n",
    "import pandas as pd\n",
    "from dotenv import load_dotenv\n",
    "from rms_api import RmsApi\n",
    "from rms_status_api import RmsStatusApi\n",
    "from rms_models import Api_Config, Status_Api_Config, Device_Registration_Info, Device_Registration_Root_Model, Device_Monitoring_Info, Device_Monitoring_Root_Model"
   ]
  },
  {
   "cell_type": "code",
   "execution_count": 2,
   "id": "be651574-5092-49f9-8f82-81ae354a7c32",
   "metadata": {},
   "outputs": [],
   "source": [
    "response = requests.get(\"https://api.rms.teltonika-networks.com\", verify=True) "
   ]
  },
  {
   "cell_type": "code",
   "execution_count": 3,
   "id": "8b03feba-8983-46c7-80cf-54bb24ff1b0f",
   "metadata": {},
   "outputs": [
    {
     "name": "stdout",
     "output_type": "stream",
     "text": [
      "200\n"
     ]
    }
   ],
   "source": [
    "print(response.status_code)"
   ]
  },
  {
   "cell_type": "code",
   "execution_count": 4,
   "id": "18e66b57-1c4e-4553-99d7-ca624ba05396",
   "metadata": {},
   "outputs": [
    {
     "name": "stdout",
     "output_type": "stream",
     "text": [
      "{'build': 'v4.11.3 | 1753876155', 'server_time': 1753969977}\n"
     ]
    }
   ],
   "source": [
    "print(response.json())  # or response.json()"
   ]
  },
  {
   "cell_type": "markdown",
   "id": "1d66c688-1622-4740-bc0b-3b8b2284a794",
   "metadata": {},
   "source": [
    "## Connect to API"
   ]
  },
  {
   "cell_type": "code",
   "execution_count": 5,
   "id": "7d54286d-ce6f-4bb3-a703-41eba803cb69",
   "metadata": {},
   "outputs": [],
   "source": [
    "load_dotenv(\".env\") \n",
    "rms_api_personal_access_token = os.getenv(\"RMS_API_PERSONAL_ACCESS_TOKEN\")"
   ]
  },
  {
   "cell_type": "code",
   "execution_count": 6,
   "id": "014a9fd2-6da3-4795-9edf-88c73c0c208a",
   "metadata": {},
   "outputs": [],
   "source": [
    "rms_api = RmsApi(Api_Config(\n",
    "    personal_access_token=rms_api_personal_access_token,\n",
    "    verbose=False\n",
    "    ))"
   ]
  },
  {
   "cell_type": "code",
   "execution_count": 13,
   "id": "71999ad7-c85f-4a23-b405-f2bf22699bc8",
   "metadata": {},
   "outputs": [
    {
     "name": "stdout",
     "output_type": "stream",
     "text": [
      "Fetching 2447013's device_id...\n",
      "Attempt 1 - API call failed with:\n",
      "status code: 500\n",
      "response: {\n",
      "  \"success\": false,\n",
      "  \"errors\": [\n",
      "    {\n",
      "      \"code\": \"INTERNAL_ERROR\",\n",
      "      \"message\": \"Something's wrong.\"\n",
      "    }\n",
      "  ]\n",
      "}\n",
      "\n",
      "Retrying in 1 seconds...\n",
      "Attempt 2 - API call failed with:\n",
      "status code: 500\n",
      "response: {\n",
      "  \"success\": false,\n",
      "  \"errors\": [\n",
      "    {\n",
      "      \"code\": \"INTERNAL_ERROR\",\n",
      "      \"message\": \"Something's wrong.\"\n",
      "    }\n",
      "  ]\n",
      "}\n",
      "\n",
      "Retrying in 2 seconds...\n",
      "Attempt 3 - API call failed with:\n",
      "status code: 500\n",
      "response: {\n",
      "  \"success\": false,\n",
      "  \"errors\": [\n",
      "    {\n",
      "      \"code\": \"INTERNAL_ERROR\",\n",
      "      \"message\": \"Something's wrong.\"\n",
      "    }\n",
      "  ]\n",
      "}\n",
      "\n"
     ]
    },
    {
     "ename": "Exception",
     "evalue": "All retry attempts failed.",
     "output_type": "error",
     "traceback": [
      "\u001b[31m---------------------------------------------------------------------------\u001b[39m",
      "\u001b[31mException\u001b[39m                                 Traceback (most recent call last)",
      "\u001b[36mCell\u001b[39m\u001b[36m \u001b[39m\u001b[32mIn[13]\u001b[39m\u001b[32m, line 1\u001b[39m\n\u001b[32m----> \u001b[39m\u001b[32m1\u001b[39m \u001b[43mrms_api\u001b[49m\u001b[43m.\u001b[49m\u001b[43mget_device_id_by_name\u001b[49m\u001b[43m(\u001b[49m\u001b[32;43m2447013\u001b[39;49m\u001b[43m)\u001b[49m\n",
      "\u001b[36mFile \u001b[39m\u001b[32mG:\\My Drive\\1_jupyter_projects\\3_rms-api\\rms_api.py:129\u001b[39m, in \u001b[36mRmsApi.get_device_id_by_name\u001b[39m\u001b[34m(self, name)\u001b[39m\n\u001b[32m    124\u001b[39m url = \u001b[33mf\u001b[39m\u001b[33m\"\u001b[39m\u001b[38;5;132;01m{\u001b[39;00m\u001b[38;5;28mself\u001b[39m.api_base_url\u001b[38;5;132;01m}\u001b[39;00m\u001b[33m/devices?q=\u001b[39m\u001b[38;5;132;01m{\u001b[39;00mname\u001b[38;5;132;01m}\u001b[39;00m\u001b[33m&fields=id\u001b[39m\u001b[33m\"\u001b[39m\n\u001b[32m    125\u001b[39m headers = {\n\u001b[32m    126\u001b[39m     \u001b[33m\"\u001b[39m\u001b[33mContent-Type\u001b[39m\u001b[33m\"\u001b[39m: \u001b[33m\"\u001b[39m\u001b[33mapplication/json\u001b[39m\u001b[33m\"\u001b[39m,\n\u001b[32m    127\u001b[39m     \u001b[33m\"\u001b[39m\u001b[33mAuthorization\u001b[39m\u001b[33m\"\u001b[39m: \u001b[33mf\u001b[39m\u001b[33m\"\u001b[39m\u001b[33mBearer \u001b[39m\u001b[38;5;132;01m{\u001b[39;00m\u001b[38;5;28mself\u001b[39m.personal_access_token\u001b[38;5;132;01m}\u001b[39;00m\u001b[33m\"\u001b[39m\n\u001b[32m    128\u001b[39m     }\n\u001b[32m--> \u001b[39m\u001b[32m129\u001b[39m response = \u001b[38;5;28;43mself\u001b[39;49m\u001b[43m.\u001b[49m\u001b[43mapi_call\u001b[49m\u001b[43m(\u001b[49m\u001b[43murl\u001b[49m\u001b[43m,\u001b[49m\u001b[43m \u001b[49m\u001b[43mheaders\u001b[49m\u001b[43m,\u001b[49m\u001b[43m \u001b[49m\u001b[43mmethod\u001b[49m\u001b[43m=\u001b[49m\u001b[33;43m\"\u001b[39;49m\u001b[33;43mGET\u001b[39;49m\u001b[33;43m\"\u001b[39;49m\u001b[43m)\u001b[49m\n\u001b[32m    130\u001b[39m \u001b[38;5;28;01mif\u001b[39;00m response:\n\u001b[32m    131\u001b[39m     \u001b[38;5;28mprint\u001b[39m(response.status_code)\n",
      "\u001b[36mFile \u001b[39m\u001b[32mG:\\My Drive\\1_jupyter_projects\\3_rms-api\\rms_api.py:99\u001b[39m, in \u001b[36mRmsApi.api_call\u001b[39m\u001b[34m(self, url, headers, method, payload, max_retries, backoff_factor, timeout)\u001b[39m\n\u001b[32m     96\u001b[39m         \u001b[38;5;28mprint\u001b[39m(\u001b[33mf\u001b[39m\u001b[33m\"\u001b[39m\u001b[33mRetrying in \u001b[39m\u001b[38;5;132;01m{\u001b[39;00mwait_time\u001b[38;5;132;01m}\u001b[39;00m\u001b[33m seconds...\u001b[39m\u001b[33m\"\u001b[39m)\n\u001b[32m     97\u001b[39m         time.sleep(wait_time)\n\u001b[32m---> \u001b[39m\u001b[32m99\u001b[39m \u001b[38;5;28;01mraise\u001b[39;00m \u001b[38;5;167;01mException\u001b[39;00m(\u001b[33m\"\u001b[39m\u001b[33mAll retry attempts failed.\u001b[39m\u001b[33m\"\u001b[39m)\n",
      "\u001b[31mException\u001b[39m: All retry attempts failed."
     ]
    }
   ],
   "source": [
    "rms_api.get_device_id_by_name(2447013)"
   ]
  },
  {
   "cell_type": "markdown",
   "id": "b560a30a-a86f-4488-b85e-6b950549a5a9",
   "metadata": {},
   "source": [
    "## Get offline_device"
   ]
  },
  {
   "cell_type": "code",
   "execution_count": 7,
   "id": "ecea3b82-a2c5-4c2b-94a3-7ceb1847f679",
   "metadata": {},
   "outputs": [
    {
     "name": "stdout",
     "output_type": "stream",
     "text": [
      "Fetching offline devices...\n",
      "Attempt 1 - API call failed with:\n",
      "status code: 500\n",
      "response: {\n",
      "  \"success\": false,\n",
      "  \"errors\": [\n",
      "    {\n",
      "      \"code\": \"INTERNAL_ERROR\",\n",
      "      \"message\": \"Something's wrong.\"\n",
      "    }\n",
      "  ]\n",
      "}\n",
      "\n",
      "Retrying in 1 seconds...\n",
      "Attempt 2 - API call failed with:\n",
      "status code: 500\n",
      "response: {\n",
      "  \"success\": false,\n",
      "  \"errors\": [\n",
      "    {\n",
      "      \"code\": \"INTERNAL_ERROR\",\n",
      "      \"message\": \"Something's wrong.\"\n",
      "    }\n",
      "  ]\n",
      "}\n",
      "\n",
      "Retrying in 2 seconds...\n",
      "Attempt 3 - API call failed with:\n",
      "status code: 500\n",
      "response: {\n",
      "  \"success\": false,\n",
      "  \"errors\": [\n",
      "    {\n",
      "      \"code\": \"INTERNAL_ERROR\",\n",
      "      \"message\": \"Something's wrong.\"\n",
      "    }\n",
      "  ]\n",
      "}\n",
      "\n"
     ]
    },
    {
     "ename": "Exception",
     "evalue": "All retry attempts failed.",
     "output_type": "error",
     "traceback": [
      "\u001b[31m---------------------------------------------------------------------------\u001b[39m",
      "\u001b[31mException\u001b[39m                                 Traceback (most recent call last)",
      "\u001b[36mCell\u001b[39m\u001b[36m \u001b[39m\u001b[32mIn[7]\u001b[39m\u001b[32m, line 2\u001b[39m\n\u001b[32m      1\u001b[39m \u001b[38;5;66;03m## Get offline devices\u001b[39;00m\n\u001b[32m----> \u001b[39m\u001b[32m2\u001b[39m offline_device = \u001b[43mrms_api\u001b[49m\u001b[43m.\u001b[49m\u001b[43mget_offline_devices\u001b[49m\u001b[43m(\u001b[49m\u001b[43m)\u001b[49m\n\u001b[32m      3\u001b[39m \u001b[38;5;66;03m#print(json.dumps(offline_device.response_body[\"data\"], indent=2))\u001b[39;00m\n",
      "\u001b[36mFile \u001b[39m\u001b[32mG:\\My Drive\\1_jupyter_projects\\3_rms-api\\rms_api.py:189\u001b[39m, in \u001b[36mRmsApi.get_offline_devices\u001b[39m\u001b[34m(self)\u001b[39m\n\u001b[32m    184\u001b[39m url = \u001b[33mf\u001b[39m\u001b[33m\"\u001b[39m\u001b[38;5;132;01m{\u001b[39;00m\u001b[38;5;28mself\u001b[39m.api_base_url\u001b[38;5;132;01m}\u001b[39;00m\u001b[33m/devices?status=offline\u001b[39m\u001b[33m\"\u001b[39m\n\u001b[32m    185\u001b[39m headers = {\n\u001b[32m    186\u001b[39m     \u001b[33m\"\u001b[39m\u001b[33mContent-Type\u001b[39m\u001b[33m\"\u001b[39m: \u001b[33m\"\u001b[39m\u001b[33mapplication/json\u001b[39m\u001b[33m\"\u001b[39m,\n\u001b[32m    187\u001b[39m     \u001b[33m\"\u001b[39m\u001b[33mAuthorization\u001b[39m\u001b[33m\"\u001b[39m: \u001b[33mf\u001b[39m\u001b[33m\"\u001b[39m\u001b[33mBearer \u001b[39m\u001b[38;5;132;01m{\u001b[39;00m\u001b[38;5;28mself\u001b[39m.personal_access_token\u001b[38;5;132;01m}\u001b[39;00m\u001b[33m\"\u001b[39m\n\u001b[32m    188\u001b[39m     }\n\u001b[32m--> \u001b[39m\u001b[32m189\u001b[39m response = \u001b[38;5;28;43mself\u001b[39;49m\u001b[43m.\u001b[49m\u001b[43mapi_call\u001b[49m\u001b[43m(\u001b[49m\u001b[43murl\u001b[49m\u001b[43m,\u001b[49m\u001b[43m \u001b[49m\u001b[43mheaders\u001b[49m\u001b[43m,\u001b[49m\u001b[43m \u001b[49m\u001b[43mmethod\u001b[49m\u001b[43m=\u001b[49m\u001b[33;43m\"\u001b[39;49m\u001b[33;43mGET\u001b[39;49m\u001b[33;43m\"\u001b[39;49m\u001b[43m)\u001b[49m\n\u001b[32m    190\u001b[39m \u001b[38;5;28;01mif\u001b[39;00m response:\n\u001b[32m    191\u001b[39m     \u001b[38;5;28mprint\u001b[39m(response.status_code)\n",
      "\u001b[36mFile \u001b[39m\u001b[32mG:\\My Drive\\1_jupyter_projects\\3_rms-api\\rms_api.py:99\u001b[39m, in \u001b[36mRmsApi.api_call\u001b[39m\u001b[34m(self, url, headers, method, payload, max_retries, backoff_factor, timeout)\u001b[39m\n\u001b[32m     96\u001b[39m         \u001b[38;5;28mprint\u001b[39m(\u001b[33mf\u001b[39m\u001b[33m\"\u001b[39m\u001b[33mRetrying in \u001b[39m\u001b[38;5;132;01m{\u001b[39;00mwait_time\u001b[38;5;132;01m}\u001b[39;00m\u001b[33m seconds...\u001b[39m\u001b[33m\"\u001b[39m)\n\u001b[32m     97\u001b[39m         time.sleep(wait_time)\n\u001b[32m---> \u001b[39m\u001b[32m99\u001b[39m \u001b[38;5;28;01mraise\u001b[39;00m \u001b[38;5;167;01mException\u001b[39;00m(\u001b[33m\"\u001b[39m\u001b[33mAll retry attempts failed.\u001b[39m\u001b[33m\"\u001b[39m)\n",
      "\u001b[31mException\u001b[39m: All retry attempts failed."
     ]
    }
   ],
   "source": [
    "## Get offline devices\n",
    "offline_device = rms_api.get_offline_devices()\n",
    "#print(json.dumps(offline_device.response_body[\"data\"], indent=2))"
   ]
  },
  {
   "cell_type": "code",
   "execution_count": 8,
   "id": "07aaa367-51ed-41f2-b8e1-3fdf14d51829",
   "metadata": {},
   "outputs": [
    {
     "ename": "NameError",
     "evalue": "name 'offline_device' is not defined",
     "output_type": "error",
     "traceback": [
      "\u001b[31m---------------------------------------------------------------------------\u001b[39m",
      "\u001b[31mNameError\u001b[39m                                 Traceback (most recent call last)",
      "\u001b[36mCell\u001b[39m\u001b[36m \u001b[39m\u001b[32mIn[8]\u001b[39m\u001b[32m, line 1\u001b[39m\n\u001b[32m----> \u001b[39m\u001b[32m1\u001b[39m data_list = \u001b[43moffline_device\u001b[49m.response_body[\u001b[33m\"\u001b[39m\u001b[33mdata\u001b[39m\u001b[33m\"\u001b[39m]\n\u001b[32m      2\u001b[39m df_offline = pd.DataFrame(data_list)\n",
      "\u001b[31mNameError\u001b[39m: name 'offline_device' is not defined"
     ]
    }
   ],
   "source": [
    "data_list = offline_device.response_body[\"data\"]\n",
    "df_offline = pd.DataFrame(data_list)"
   ]
  },
  {
   "cell_type": "code",
   "execution_count": 9,
   "id": "8aed168b-e913-44b5-b691-40ae552eaece",
   "metadata": {},
   "outputs": [
    {
     "ename": "NameError",
     "evalue": "name 'df_offline' is not defined",
     "output_type": "error",
     "traceback": [
      "\u001b[31m---------------------------------------------------------------------------\u001b[39m",
      "\u001b[31mNameError\u001b[39m                                 Traceback (most recent call last)",
      "\u001b[36mCell\u001b[39m\u001b[36m \u001b[39m\u001b[32mIn[9]\u001b[39m\u001b[32m, line 6\u001b[39m\n\u001b[32m      3\u001b[39m         \u001b[38;5;28;01mreturn\u001b[39;00m tags[\u001b[32m0\u001b[39m].get(\u001b[33m\"\u001b[39m\u001b[33mname\u001b[39m\u001b[33m\"\u001b[39m)\n\u001b[32m      4\u001b[39m     \u001b[38;5;28;01mreturn\u001b[39;00m \u001b[38;5;28;01mNone\u001b[39;00m\n\u001b[32m----> \u001b[39m\u001b[32m6\u001b[39m df_offline[\u001b[33m\"\u001b[39m\u001b[33mtag_name\u001b[39m\u001b[33m\"\u001b[39m] = \u001b[43mdf_offline\u001b[49m[\u001b[33m\"\u001b[39m\u001b[33mtags\u001b[39m\u001b[33m\"\u001b[39m].apply(extract_tag_name)\n\u001b[32m      7\u001b[39m df_offline=df_offline[[\u001b[33m'\u001b[39m\u001b[33mname\u001b[39m\u001b[33m'\u001b[39m,\u001b[33m'\u001b[39m\u001b[33mserial\u001b[39m\u001b[33m'\u001b[39m,\u001b[33m'\u001b[39m\u001b[33mmac\u001b[39m\u001b[33m'\u001b[39m,\u001b[33m'\u001b[39m\u001b[33mmqtt\u001b[39m\u001b[33m'\u001b[39m,\u001b[33m'\u001b[39m\u001b[33mlast_connection_at\u001b[39m\u001b[33m'\u001b[39m,\u001b[33m'\u001b[39m\u001b[33mcreated_at\u001b[39m\u001b[33m'\u001b[39m,\u001b[33m'\u001b[39m\u001b[33mupdated_at\u001b[39m\u001b[33m'\u001b[39m,\u001b[33m'\u001b[39m\u001b[33mlast_update_at\u001b[39m\u001b[33m'\u001b[39m,\u001b[33m'\u001b[39m\u001b[33mstatus\u001b[39m\u001b[33m'\u001b[39m,\u001b[33m'\u001b[39m\u001b[33mfirmware\u001b[39m\u001b[33m'\u001b[39m,\u001b[33m'\u001b[39m\u001b[33mtag_name\u001b[39m\u001b[33m'\u001b[39m]]\n",
      "\u001b[31mNameError\u001b[39m: name 'df_offline' is not defined"
     ]
    }
   ],
   "source": [
    "def extract_tag_name(tags):\n",
    "    if isinstance(tags, list) and tags:\n",
    "        return tags[0].get(\"name\")\n",
    "    return None\n",
    "\n",
    "df_offline[\"tag_name\"] = df_offline[\"tags\"].apply(extract_tag_name)\n",
    "df_offline=df_offline[['name','serial','mac','mqtt','last_connection_at','created_at','updated_at','last_update_at','status','firmware','tag_name']]"
   ]
  },
  {
   "cell_type": "code",
   "execution_count": 10,
   "id": "963565de-4356-463a-b8af-647f8bce9dd0",
   "metadata": {},
   "outputs": [
    {
     "ename": "NameError",
     "evalue": "name 'df_offline' is not defined",
     "output_type": "error",
     "traceback": [
      "\u001b[31m---------------------------------------------------------------------------\u001b[39m",
      "\u001b[31mNameError\u001b[39m                                 Traceback (most recent call last)",
      "\u001b[36mCell\u001b[39m\u001b[36m \u001b[39m\u001b[32mIn[10]\u001b[39m\u001b[32m, line 1\u001b[39m\n\u001b[32m----> \u001b[39m\u001b[32m1\u001b[39m \u001b[43mdf_offline\u001b[49m\n",
      "\u001b[31mNameError\u001b[39m: name 'df_offline' is not defined"
     ]
    }
   ],
   "source": [
    "df_offline"
   ]
  },
  {
   "cell_type": "code",
   "execution_count": 11,
   "id": "7430b543-3f99-435c-a828-8c0559030b26",
   "metadata": {},
   "outputs": [
    {
     "ename": "NameError",
     "evalue": "name 'data_list' is not defined",
     "output_type": "error",
     "traceback": [
      "\u001b[31m---------------------------------------------------------------------------\u001b[39m",
      "\u001b[31mNameError\u001b[39m                                 Traceback (most recent call last)",
      "\u001b[36mCell\u001b[39m\u001b[36m \u001b[39m\u001b[32mIn[11]\u001b[39m\u001b[32m, line 1\u001b[39m\n\u001b[32m----> \u001b[39m\u001b[32m1\u001b[39m \u001b[43mdata_list\u001b[49m\n",
      "\u001b[31mNameError\u001b[39m: name 'data_list' is not defined"
     ]
    }
   ],
   "source": [
    "data_list"
   ]
  },
  {
   "cell_type": "code",
   "execution_count": null,
   "id": "aa9f3467-7bec-4b04-a6f8-f084307c519f",
   "metadata": {},
   "outputs": [],
   "source": []
  }
 ],
 "metadata": {
  "kernelspec": {
   "display_name": "Python 3 (ipykernel)",
   "language": "python",
   "name": "python3"
  },
  "language_info": {
   "codemirror_mode": {
    "name": "ipython",
    "version": 3
   },
   "file_extension": ".py",
   "mimetype": "text/x-python",
   "name": "python",
   "nbconvert_exporter": "python",
   "pygments_lexer": "ipython3",
   "version": "3.12.10"
  }
 },
 "nbformat": 4,
 "nbformat_minor": 5
}
