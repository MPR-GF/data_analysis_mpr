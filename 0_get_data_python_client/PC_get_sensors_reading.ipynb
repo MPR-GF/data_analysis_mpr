{
 "cells": [
  {
   "cell_type": "markdown",
   "id": "2cde8c3b-78b4-4ac9-9b4b-06d01c1b2a73",
   "metadata": {},
   "source": [
    "# Explore data from the python client"
   ]
  },
  {
   "cell_type": "markdown",
   "id": "33c8cb17-e8f9-40da-a6a6-4facfe6d7bc7",
   "metadata": {},
   "source": [
    "## Relevant documents"
   ]
  },
  {
   "cell_type": "markdown",
   "id": "d4b1fbd9-6220-4d26-a9a2-ee428b1187f8",
   "metadata": {},
   "source": [
    "- (Python Client Repo)[https://github.com/Green-Fusion/energy-management-backend/tree/main/python_client]\n",
    "- (Swagger UI)[https://control.green-fusion.de/services/energy-management-backend/v1/api/doc#/]\n"
   ]
  },
  {
   "cell_type": "markdown",
   "id": "6f43af12-eb62-4d19-8a9a-7730f3be834f",
   "metadata": {},
   "source": [
    "## Inits"
   ]
  },
  {
   "cell_type": "code",
   "execution_count": 1,
   "id": "7a18f22c-fe80-4183-a62e-e2d68a0c4f1a",
   "metadata": {},
   "outputs": [],
   "source": [
    "#imports\n",
    "from energy_management_client import BackendPythonClient\n",
    "import pandas as pd\n",
    "import json\n",
    "from datetime import datetime\n",
    "import matplotlib.pyplot as plt"
   ]
  },
  {
   "cell_type": "code",
   "execution_count": 2,
   "id": "123a61cb-760c-4ef4-abb5-6fb2a7c2b454",
   "metadata": {},
   "outputs": [],
   "source": [
    "# select your environment\n",
    "environment=\"prod\" # prod or dev\n",
    "\n",
    "# Selector\n",
    "if environment==\"dev\":\n",
    "    backend_endpoint_path=\"https://dev.green-fusion.de/services/energy-management-backend/v1/api\"\n",
    "    realm_type=\"development\"\n",
    "elif environment==\"prod\":\n",
    "    backend_endpoint_path=\"https://control.green-fusion.de/services/energy-management-backend/v1/api\"\n",
    "    realm_type=\"control\"  \n",
    "else:\n",
    "    backend_endpoint_path=\"\"\n",
    "    realm_type=\"\"\n",
    "    print(\"select either prod or dev for the environment\")\n",
    "\n",
    "#test\n",
    "#backend_endpoint_path, realm_type\n",
    "if True:\n",
    "    # pythpon client auth & login\n",
    "    # init the client   \n",
    "    client = BackendPythonClient(backend_endpoint=backend_endpoint_path,)\n",
    "    \n",
    "    #login\n",
    "    client.login(\n",
    "        auth_endpoint=\"https://auth.green-fusion.de\",\n",
    "        realm=realm_type,\n",
    "        client_id=\"backend_python_client\", # backend_python_client, datascience_development_api\n",
    "        grant_type=\"device_code\", #\"client_credentials\",  # or \"password\", \"device_code\"\n",
    "    )"
   ]
  },
  {
   "cell_type": "markdown",
   "id": "0e4fb75d-9dfb-4574-8c7e-c084277bca8b",
   "metadata": {},
   "source": [
    "## Functions"
   ]
  },
  {
   "cell_type": "markdown",
   "id": "23eef7c6-1d40-46c3-9fca-90c7e2a29435",
   "metadata": {},
   "source": [
    "### Sensors readings"
   ]
  },
  {
   "cell_type": "code",
   "execution_count": 3,
   "id": "6ec08d31-24c9-4508-900e-6f3e8e70d1b2",
   "metadata": {},
   "outputs": [],
   "source": [
    "def get_chart_data_with_building_str(sensor_ids, start_time, end_time, granularity_in_seconds, client):\n",
    "    response = client.charts.data(sensor_ids, start_time, end_time, granularity_in_seconds)\n",
    "    \n",
    "    sensor_value_dfs = []\n",
    "    building_id = None\n",
    "\n",
    "    for sensor_id_str, datapoints in response.sensors.items():\n",
    "        if not datapoints:\n",
    "            continue\n",
    "        \n",
    "        if building_id is None:\n",
    "            building_id = str(datapoints[0].building)  # get building from first datapoint\n",
    "        \n",
    "        times = [dp.time for dp in datapoints]\n",
    "        values = [dp.value for dp in datapoints]\n",
    "\n",
    "        df_values = pd.DataFrame({\n",
    "            \"timestamp\": pd.to_datetime(times),\n",
    "            sensor_id_str: values\n",
    "        }).set_index(\"timestamp\")\n",
    "\n",
    "        sensor_value_dfs.append(df_values)\n",
    "\n",
    "    df_values_combined = pd.concat(sensor_value_dfs, axis=1).sort_index()\n",
    "\n",
    "    return df_values_combined, building_id\n",
    "#client.charts.data(sensor_ids,start_time,end_time,granularityInSeconds)"
   ]
  },
  {
   "cell_type": "markdown",
   "id": "4e65dada-7d93-4f38-963b-64061c89c673",
   "metadata": {},
   "source": [
    "### Sensor infos"
   ]
  },
  {
   "cell_type": "markdown",
   "id": "43c893c2-0e7d-4507-b17a-83b9621dda5b",
   "metadata": {},
   "source": [
    "## get data"
   ]
  },
  {
   "cell_type": "code",
   "execution_count": 4,
   "id": "d256b354-ea64-4b0f-b5ff-f8b44c1f9ada",
   "metadata": {},
   "outputs": [],
   "source": [
    "df, buildings = get_chart_data_with_building_str(\n",
    "    sensor_ids=[11278,11275],\n",
    "    start_time='2025-06-01T00:00:00',\n",
    "    end_time='2025-06-30T23:59:00',\n",
    "    granularity_in_seconds=60,\n",
    "    client=client\n",
    ")"
   ]
  },
  {
   "cell_type": "code",
   "execution_count": 5,
   "id": "c195a184-eca8-4167-bf21-6bd171da14b7",
   "metadata": {},
   "outputs": [
    {
     "data": {
      "text/plain": [
       "'575'"
      ]
     },
     "execution_count": 5,
     "metadata": {},
     "output_type": "execute_result"
    }
   ],
   "source": [
    "buildings"
   ]
  },
  {
   "cell_type": "code",
   "execution_count": 6,
   "id": "028dea8f-55bd-4bdb-bc11-479276fa6145",
   "metadata": {},
   "outputs": [
    {
     "data": {
      "text/html": [
       "<div>\n",
       "<style scoped>\n",
       "    .dataframe tbody tr th:only-of-type {\n",
       "        vertical-align: middle;\n",
       "    }\n",
       "\n",
       "    .dataframe tbody tr th {\n",
       "        vertical-align: top;\n",
       "    }\n",
       "\n",
       "    .dataframe thead th {\n",
       "        text-align: right;\n",
       "    }\n",
       "</style>\n",
       "<table border=\"1\" class=\"dataframe\">\n",
       "  <thead>\n",
       "    <tr style=\"text-align: right;\">\n",
       "      <th></th>\n",
       "      <th>11275</th>\n",
       "      <th>11278</th>\n",
       "    </tr>\n",
       "    <tr>\n",
       "      <th>timestamp</th>\n",
       "      <th></th>\n",
       "      <th></th>\n",
       "    </tr>\n",
       "  </thead>\n",
       "  <tbody>\n",
       "    <tr>\n",
       "      <th>2025-06-01 00:00:00+00:00</th>\n",
       "      <td>25.6</td>\n",
       "      <td>2596161</td>\n",
       "    </tr>\n",
       "    <tr>\n",
       "      <th>2025-06-01 00:05:00+00:00</th>\n",
       "      <td>25.6</td>\n",
       "      <td>2596161</td>\n",
       "    </tr>\n",
       "    <tr>\n",
       "      <th>2025-06-01 00:10:00+00:00</th>\n",
       "      <td>25.6</td>\n",
       "      <td>2596161</td>\n",
       "    </tr>\n",
       "    <tr>\n",
       "      <th>2025-06-01 00:15:00+00:00</th>\n",
       "      <td>25.6</td>\n",
       "      <td>2596161</td>\n",
       "    </tr>\n",
       "    <tr>\n",
       "      <th>2025-06-01 00:20:00+00:00</th>\n",
       "      <td>25.6</td>\n",
       "      <td>2596161</td>\n",
       "    </tr>\n",
       "  </tbody>\n",
       "</table>\n",
       "</div>"
      ],
      "text/plain": [
       "                           11275    11278\n",
       "timestamp                                \n",
       "2025-06-01 00:00:00+00:00   25.6  2596161\n",
       "2025-06-01 00:05:00+00:00   25.6  2596161\n",
       "2025-06-01 00:10:00+00:00   25.6  2596161\n",
       "2025-06-01 00:15:00+00:00   25.6  2596161\n",
       "2025-06-01 00:20:00+00:00   25.6  2596161"
      ]
     },
     "execution_count": 6,
     "metadata": {},
     "output_type": "execute_result"
    }
   ],
   "source": [
    "df.head()"
   ]
  },
  {
   "cell_type": "markdown",
   "id": "b1204ab3-d326-4d93-9ad6-144e197d24ac",
   "metadata": {},
   "source": [
    "## Charts"
   ]
  },
  {
   "cell_type": "code",
   "execution_count": 20,
   "id": "2f5c2fb3-d1c8-413b-b9e6-818b54822755",
   "metadata": {},
   "outputs": [],
   "source": [
    "def plot_sensor_data(df, xlim=None, ylim=None):\n",
    "    sensors = df.columns.tolist()\n",
    "    n = len(sensors)\n",
    "\n",
    "    fig, axes = plt.subplots(n, 1, figsize=(12, 3*n), sharex=True)\n",
    "\n",
    "    if n == 1:\n",
    "        axes = [axes]\n",
    "\n",
    "    for ax, sensor in zip(axes, sensors):\n",
    "        ax.plot(df.index, df[sensor], label=f'Sensor {sensor}', color='tab:blue')\n",
    "        ax.set_ylabel('Value')\n",
    "        ax.set_title(f'Sensor {sensor}', fontsize=10)\n",
    "        ax.grid(True)\n",
    "\n",
    "        # Y-axis limits if provided\n",
    "        if ylim is not None:\n",
    "            ax.set_ylim(ylim)\n",
    "\n",
    "    # X-axis limits if provided\n",
    "    if xlim is not None:\n",
    "        axes[-1].set_xlim(xlim)\n",
    "\n",
    "    # Rotate datetime x-axis ticks\n",
    "    plt.setp(axes[-1].xaxis.get_majorticklabels(), rotation=45)\n",
    "\n",
    "    axes[-1].set_xlabel('Timestamp')\n",
    "    plt.tight_layout()\n",
    "    plt.show()"
   ]
  },
  {
   "cell_type": "code",
   "execution_count": 21,
   "id": "355ac87e-0253-4d96-9c35-830d5f8015cc",
   "metadata": {},
   "outputs": [],
   "source": [
    "#%matplotlib inline"
   ]
  },
  {
   "cell_type": "code",
   "execution_count": 26,
   "id": "79ffcf63-044c-4d31-91dd-5ceea2820c43",
   "metadata": {},
   "outputs": [
    {
     "data": {
      "image/png": "[encoded data removed]",
      "text/plain": [
       "<Figure size 1200x600 with 2 Axes>"
      ]
     },
     "metadata": {},
     "output_type": "display_data"
    }
   ],
   "source": [
    "plot_sensor_data(df,xlim=None, ylim=(2590000,2600000)) "
   ]
  },
  {
   "cell_type": "code",
   "execution_count": 17,
   "id": "c5924d65-8ce8-4924-9203-8fbc303639bb",
   "metadata": {},
   "outputs": [
    {
     "name": "stdout",
     "output_type": "stream",
     "text": [
      "✅ You are in an IPython/Jupyter environment.\n"
     ]
    }
   ],
   "source": [
    "try:\n",
    "    get_ipython()\n",
    "    print(\"✅ You are in an IPython/Jupyter environment.\")\n",
    "except NameError:\n",
    "    print(\"❌ You're not in an IPython environment.\")"
   ]
  },
  {
   "cell_type": "code",
   "execution_count": null,
   "id": "07e0e80e-dc29-465b-9662-c7afdba0a771",
   "metadata": {},
   "outputs": [],
   "source": []
  }
 ],
 "metadata": {
  "kernelspec": {
   "display_name": "Python 3 (ipykernel)",
   "language": "python",
   "name": "python3"
  },
  "language_info": {
   "codemirror_mode": {
    "name": "ipython",
    "version": 3
   },
   "file_extension": ".py",
   "mimetype": "text/x-python",
   "name": "python",
   "nbconvert_exporter": "python",
   "pygments_lexer": "ipython3",
   "version": "3.12.10"
  }
 },
 "nbformat": 4,
 "nbformat_minor": 5
}
