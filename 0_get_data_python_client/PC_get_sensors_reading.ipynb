{
 "cells": [
  {
   "cell_type": "markdown",
   "id": "2cde8c3b-78b4-4ac9-9b4b-06d01c1b2a73",
   "metadata": {},
   "source": [
    "# Get Sensors Reading"
   ]
  },
  {
   "cell_type": "markdown",
   "id": "33c8cb17-e8f9-40da-a6a6-4facfe6d7bc7",
   "metadata": {},
   "source": [
    "## Relevant documents"
   ]
  },
  {
   "cell_type": "markdown",
   "id": "d4b1fbd9-6220-4d26-a9a2-ee428b1187f8",
   "metadata": {},
   "source": [
    "- (Python Client Repo)[https://github.com/Green-Fusion/energy-management-backend/tree/main/python_client]\n",
    "- (Swagger UI)[https://control.green-fusion.de/services/energy-management-backend/v1/api/doc#/]\n"
   ]
  },
  {
   "cell_type": "markdown",
   "id": "6f43af12-eb62-4d19-8a9a-7730f3be834f",
   "metadata": {},
   "source": [
    "## Inits"
   ]
  },
  {
   "cell_type": "code",
   "execution_count": 1,
   "id": "7a18f22c-fe80-4183-a62e-e2d68a0c4f1a",
   "metadata": {},
   "outputs": [],
   "source": [
    "#imports\n",
    "from energy_management_client import BackendPythonClient\n",
    "import pandas as pd\n",
    "import json\n",
    "from datetime import datetime,timedelta\n",
    "import plotly.graph_objects as go\n",
    "from plotly.subplots import make_subplots"
   ]
  },
  {
   "cell_type": "code",
   "execution_count": 2,
   "id": "123a61cb-760c-4ef4-abb5-6fb2a7c2b454",
   "metadata": {},
   "outputs": [],
   "source": [
    "# select your environment\n",
    "environment=\"prod\" # prod or dev\n",
    "\n",
    "# Selector\n",
    "if environment==\"dev\":\n",
    "    backend_endpoint_path=\"https://dev.green-fusion.de/services/energy-management-backend/v1/api\"\n",
    "    realm_type=\"development\"\n",
    "elif environment==\"prod\":\n",
    "    backend_endpoint_path=\"https://control.green-fusion.de/services/energy-management-backend/v1/api\"\n",
    "    realm_type=\"control\"  \n",
    "else:\n",
    "    backend_endpoint_path=\"\"\n",
    "    realm_type=\"\"\n",
    "    print(\"select either prod or dev for the environment\")\n",
    "\n",
    "#test\n",
    "#backend_endpoint_path, realm_type\n",
    "if True:\n",
    "    # pythpon client auth & login\n",
    "    # init the client   \n",
    "    client = BackendPythonClient(backend_endpoint=backend_endpoint_path,)\n",
    "    \n",
    "    #login\n",
    "    client.login(\n",
    "        auth_endpoint=\"https://auth.green-fusion.de\",\n",
    "        realm=realm_type,\n",
    "        client_id=\"backend_python_client\", # backend_python_client, datascience_development_api\n",
    "        grant_type=\"device_code\", #\"client_credentials\",  # or \"password\", \"device_code\"\n",
    "    )"
   ]
  },
  {
   "cell_type": "code",
   "execution_count": 3,
   "id": "d809bdfb-78af-4ac9-9bed-b8ec22945d2f",
   "metadata": {},
   "outputs": [],
   "source": [
    "# select parameters\n",
    "building_id=2270\n",
    "only_temperature=False\n",
    "granularity_in_seconds=60 #granularity\n",
    "\n",
    "x_days = 7  # number of days before now\n",
    "now = datetime.now()\n",
    "start_datetime = now - timedelta(days=x_days)\n",
    "start_time = start_datetime.strftime('%Y-%m-%dT%H:%M:%S')\n",
    "end_time = now.strftime('%Y-%m-%dT%H:%M:%S')\n",
    "#start_time='2025-05-15T00:00:00'\n",
    "#end_time='2025-07-14T23:59:00'"
   ]
  },
  {
   "cell_type": "code",
   "execution_count": 4,
   "id": "5efa8b12-f6c8-423e-aecc-0b2439e669ab",
   "metadata": {},
   "outputs": [
    {
     "data": {
      "text/plain": [
       "str"
      ]
     },
     "execution_count": 4,
     "metadata": {},
     "output_type": "execute_result"
    }
   ],
   "source": [
    "type(start_time)"
   ]
  },
  {
   "cell_type": "markdown",
   "id": "0e4fb75d-9dfb-4574-8c7e-c084277bca8b",
   "metadata": {},
   "source": [
    "## Functions"
   ]
  },
  {
   "cell_type": "markdown",
   "id": "91c586d7-8190-4f9e-9087-de7537a38035",
   "metadata": {
    "jp-MarkdownHeadingCollapsed": true
   },
   "source": [
    "### sensor list for building"
   ]
  },
  {
   "cell_type": "code",
   "execution_count": 5,
   "id": "cb7452aa-f600-4c24-824f-c73491b475bd",
   "metadata": {},
   "outputs": [],
   "source": [
    "def get_sensor_dataframe_by_building_id(building_id, client):\n",
    "    \"\"\"\n",
    "    Fetch sensor data for a given building ID and return it as a pandas DataFrame,\n",
    "    with sensor ID as the index and relevant metadata as columns.\n",
    "    \n",
    "    Parameters:\n",
    "    - building_id (int): The building ID.\n",
    "    - client: The API client with the `buildings` attribute.\n",
    "    \n",
    "    Returns:\n",
    "    - pd.DataFrame: DataFrame with sensor metadata.\n",
    "    \"\"\"\n",
    "    sensors = client.buildings.get_list_of_sensors_by_building_id(building_id)\n",
    "    \n",
    "    data = []\n",
    "    for sensor in sensors:\n",
    "        data.append({\n",
    "            \"sensor_id\": sensor.id,\n",
    "            \"unit\": sensor.unit,\n",
    "            \"factor\": sensor.factor,\n",
    "            \"acronym\": sensor.acronym,\n",
    "            \"hydraulic_location_index\": sensor.hydraulic_location_index,\n",
    "            \"long_name\": sensor.long_name,\n",
    "            \"short_name\": sensor.short_name,\n",
    "            \"source\":sensor.source\n",
    "        })\n",
    "    \n",
    "    df = pd.DataFrame(data).set_index(\"sensor_id\")\n",
    "    # Drop rows where unit, long_name, and short_name are all None\n",
    "    df = df[~(df[\"unit\"].isna() & df[\"long_name\"].isna() & df[\"short_name\"].isna())]\n",
    "    return df"
   ]
  },
  {
   "cell_type": "code",
   "execution_count": 6,
   "id": "9257224e-ccec-4f54-af33-3d927ce4636e",
   "metadata": {},
   "outputs": [],
   "source": [
    "#client.buildings.get_list_of_sensors_by_building_id(2300)"
   ]
  },
  {
   "cell_type": "markdown",
   "id": "23eef7c6-1d40-46c3-9fca-90c7e2a29435",
   "metadata": {
    "jp-MarkdownHeadingCollapsed": true
   },
   "source": [
    "### Sensors readings"
   ]
  },
  {
   "cell_type": "code",
   "execution_count": 7,
   "id": "6ec08d31-24c9-4508-900e-6f3e8e70d1b2",
   "metadata": {},
   "outputs": [],
   "source": [
    "def get_chart_data_with_building_str(sensor_ids, start_time, end_time, granularity_in_seconds, client):\n",
    "    response = client.charts.data(sensor_ids, start_time, end_time, granularity_in_seconds)\n",
    "    \n",
    "    sensor_value_dfs = []\n",
    "    building_id = None\n",
    "\n",
    "    for sensor_id_str, datapoints in response.sensors.items():\n",
    "        if not datapoints:\n",
    "            continue\n",
    "        \n",
    "        if building_id is None:\n",
    "            building_id = str(datapoints[0].building)  # get building from first datapoint\n",
    "        \n",
    "        times = [dp.time for dp in datapoints]\n",
    "        values = [dp.value for dp in datapoints]\n",
    "\n",
    "        df_values = pd.DataFrame({\n",
    "            \"timestamp\": pd.to_datetime(times),\n",
    "            sensor_id_str: values\n",
    "        }).set_index(\"timestamp\")\n",
    "\n",
    "        sensor_value_dfs.append(df_values)\n",
    "\n",
    "    df_values_combined = pd.concat(sensor_value_dfs, axis=1).sort_index()\n",
    "\n",
    "    return df_values_combined\n",
    "#client.charts.data(sensor_ids,start_time,end_time,granularityInSeconds)"
   ]
  },
  {
   "cell_type": "markdown",
   "id": "4e65dada-7d93-4f38-963b-64061c89c673",
   "metadata": {},
   "source": [
    "### Sensor infos"
   ]
  },
  {
   "cell_type": "markdown",
   "id": "43c893c2-0e7d-4507-b17a-83b9621dda5b",
   "metadata": {},
   "source": [
    "## get data"
   ]
  },
  {
   "cell_type": "code",
   "execution_count": 8,
   "id": "bab969fa-0433-4e20-8183-a515d66b0d48",
   "metadata": {},
   "outputs": [],
   "source": [
    "df_sensors_infos = get_sensor_dataframe_by_building_id(building_id, client)\n",
    "df_sensors_infos.index = df_sensors_infos.index.astype(int)"
   ]
  },
  {
   "cell_type": "code",
   "execution_count": 9,
   "id": "a63d0499-83a8-4f34-b5c7-8a1b541b5f4a",
   "metadata": {},
   "outputs": [
    {
     "data": {
      "text/html": [
       "<div>\n",
       "<style scoped>\n",
       "    .dataframe tbody tr th:only-of-type {\n",
       "        vertical-align: middle;\n",
       "    }\n",
       "\n",
       "    .dataframe tbody tr th {\n",
       "        vertical-align: top;\n",
       "    }\n",
       "\n",
       "    .dataframe thead th {\n",
       "        text-align: right;\n",
       "    }\n",
       "</style>\n",
       "<table border=\"1\" class=\"dataframe\">\n",
       "  <thead>\n",
       "    <tr style=\"text-align: right;\">\n",
       "      <th></th>\n",
       "      <th>unit</th>\n",
       "      <th>factor</th>\n",
       "      <th>acronym</th>\n",
       "      <th>hydraulic_location_index</th>\n",
       "      <th>long_name</th>\n",
       "      <th>short_name</th>\n",
       "      <th>source</th>\n",
       "    </tr>\n",
       "    <tr>\n",
       "      <th>sensor_id</th>\n",
       "      <th></th>\n",
       "      <th></th>\n",
       "      <th></th>\n",
       "      <th></th>\n",
       "      <th></th>\n",
       "      <th></th>\n",
       "      <th></th>\n",
       "    </tr>\n",
       "  </thead>\n",
       "  <tbody>\n",
       "    <tr>\n",
       "      <th>35355</th>\n",
       "      <td>°C</td>\n",
       "      <td>0.1</td>\n",
       "      <td>t_b(n)_flow</td>\n",
       "      <td>1.0</td>\n",
       "      <td>Vorlauftemperatur Kessel (n)</td>\n",
       "      <td>T VL K (n)</td>\n",
       "      <td>GREENBOX_MQTT</td>\n",
       "    </tr>\n",
       "    <tr>\n",
       "      <th>32846</th>\n",
       "      <td>kWh</td>\n",
       "      <td>1.0</td>\n",
       "      <td>e_g_bldg_y</td>\n",
       "      <td>1.0</td>\n",
       "      <td>Energie Gebäude Global Jährlich</td>\n",
       "      <td>E BLDG GL</td>\n",
       "      <td>MANUALLY_ENTERED</td>\n",
       "    </tr>\n",
       "    <tr>\n",
       "      <th>35357</th>\n",
       "      <td>°C</td>\n",
       "      <td>0.1</td>\n",
       "      <td>t_b(n)_return</td>\n",
       "      <td>1.0</td>\n",
       "      <td>Rücklauftemperatur Kessel (n)</td>\n",
       "      <td>T RL K (n)</td>\n",
       "      <td>GREENBOX_MQTT</td>\n",
       "    </tr>\n",
       "    <tr>\n",
       "      <th>35359</th>\n",
       "      <td>°C</td>\n",
       "      <td>0.1</td>\n",
       "      <td>t_hc(n)_flow</td>\n",
       "      <td>1.0</td>\n",
       "      <td>Vorlauftemperatur Heizkreis (n)</td>\n",
       "      <td>T VL HK (n)</td>\n",
       "      <td>GREENBOX_MQTT</td>\n",
       "    </tr>\n",
       "    <tr>\n",
       "      <th>35365</th>\n",
       "      <td>°C</td>\n",
       "      <td>1.0</td>\n",
       "      <td>t_g_out_api</td>\n",
       "      <td>NaN</td>\n",
       "      <td>Außentemperatur Global</td>\n",
       "      <td>T A GL</td>\n",
       "      <td>OPEN_WEATHER_API</td>\n",
       "    </tr>\n",
       "    <tr>\n",
       "      <th>35361</th>\n",
       "      <td>°C</td>\n",
       "      <td>0.1</td>\n",
       "      <td>t_hc(n)_return</td>\n",
       "      <td>1.0</td>\n",
       "      <td>Rücklauftemperatur Heizkreis (n)</td>\n",
       "      <td>T RL HK (n)</td>\n",
       "      <td>GREENBOX_MQTT</td>\n",
       "    </tr>\n",
       "    <tr>\n",
       "      <th>35363</th>\n",
       "      <td>°C</td>\n",
       "      <td>0.1</td>\n",
       "      <td>t_buffer(n)_tank_1</td>\n",
       "      <td>1.0</td>\n",
       "      <td>Sensortemperatur 1 Puffer (n)</td>\n",
       "      <td>T 1 BT (n)</td>\n",
       "      <td>GREENBOX_MQTT</td>\n",
       "    </tr>\n",
       "  </tbody>\n",
       "</table>\n",
       "</div>"
      ],
      "text/plain": [
       "          unit  factor             acronym  hydraulic_location_index  \\\n",
       "sensor_id                                                              \n",
       "35355       °C     0.1         t_b(n)_flow                       1.0   \n",
       "32846      kWh     1.0          e_g_bldg_y                       1.0   \n",
       "35357       °C     0.1       t_b(n)_return                       1.0   \n",
       "35359       °C     0.1        t_hc(n)_flow                       1.0   \n",
       "35365       °C     1.0         t_g_out_api                       NaN   \n",
       "35361       °C     0.1      t_hc(n)_return                       1.0   \n",
       "35363       °C     0.1  t_buffer(n)_tank_1                       1.0   \n",
       "\n",
       "                                  long_name   short_name            source  \n",
       "sensor_id                                                                   \n",
       "35355          Vorlauftemperatur Kessel (n)   T VL K (n)     GREENBOX_MQTT  \n",
       "32846       Energie Gebäude Global Jährlich   E BLDG GL   MANUALLY_ENTERED  \n",
       "35357         Rücklauftemperatur Kessel (n)   T RL K (n)     GREENBOX_MQTT  \n",
       "35359       Vorlauftemperatur Heizkreis (n)  T VL HK (n)     GREENBOX_MQTT  \n",
       "35365                Außentemperatur Global       T A GL  OPEN_WEATHER_API  \n",
       "35361      Rücklauftemperatur Heizkreis (n)  T RL HK (n)     GREENBOX_MQTT  \n",
       "35363         Sensortemperatur 1 Puffer (n)   T 1 BT (n)     GREENBOX_MQTT  "
      ]
     },
     "execution_count": 9,
     "metadata": {},
     "output_type": "execute_result"
    }
   ],
   "source": [
    "df_sensors_infos"
   ]
  },
  {
   "cell_type": "code",
   "execution_count": 10,
   "id": "dbfedbb4-09fe-4d44-889d-f8ad5447c022",
   "metadata": {},
   "outputs": [],
   "source": [
    "#exclude manually entered\n",
    "df_sensors_infos = df_sensors_infos[df_sensors_infos['source'] != 'MANUALLY_ENTERED']\n",
    "df_sensors_infos = df_sensors_infos[df_sensors_infos['unit'].notna()]\n",
    "if only_temperature:\n",
    "    df_sensors_infos = df_sensors_infos[df_sensors_infos['unit'] == '°C']\n"
   ]
  },
  {
   "cell_type": "code",
   "execution_count": 11,
   "id": "cfe7bd29-3323-4264-a965-6514c484a68c",
   "metadata": {},
   "outputs": [
    {
     "data": {
      "text/plain": [
       "array(['°C'], dtype=object)"
      ]
     },
     "execution_count": 11,
     "metadata": {},
     "output_type": "execute_result"
    }
   ],
   "source": [
    "df_sensors_infos['unit'].unique()"
   ]
  },
  {
   "cell_type": "code",
   "execution_count": 12,
   "id": "74ba6b88-7faa-4e7b-bf18-2ffaae5918ca",
   "metadata": {},
   "outputs": [],
   "source": [
    "#list(df_sensors.index)"
   ]
  },
  {
   "cell_type": "code",
   "execution_count": 13,
   "id": "d256b354-ea64-4b0f-b5ff-f8b44c1f9ada",
   "metadata": {},
   "outputs": [],
   "source": [
    "df_sensor_data = get_chart_data_with_building_str(\n",
    "    sensor_ids=list(df_sensors_infos.index),\n",
    "    start_time=start_time,\n",
    "    end_time=end_time,\n",
    "    granularity_in_seconds=granularity_in_seconds,\n",
    "    client=client\n",
    ")\n",
    "df_sensor_data.columns = df_sensor_data.columns.astype(int)"
   ]
  },
  {
   "cell_type": "code",
   "execution_count": 14,
   "id": "028dea8f-55bd-4bdb-bc11-479276fa6145",
   "metadata": {},
   "outputs": [
    {
     "data": {
      "text/html": [
       "<div>\n",
       "<style scoped>\n",
       "    .dataframe tbody tr th:only-of-type {\n",
       "        vertical-align: middle;\n",
       "    }\n",
       "\n",
       "    .dataframe tbody tr th {\n",
       "        vertical-align: top;\n",
       "    }\n",
       "\n",
       "    .dataframe thead th {\n",
       "        text-align: right;\n",
       "    }\n",
       "</style>\n",
       "<table border=\"1\" class=\"dataframe\">\n",
       "  <thead>\n",
       "    <tr style=\"text-align: right;\">\n",
       "      <th></th>\n",
       "      <th>35365</th>\n",
       "    </tr>\n",
       "    <tr>\n",
       "      <th>timestamp</th>\n",
       "      <th></th>\n",
       "    </tr>\n",
       "  </thead>\n",
       "  <tbody>\n",
       "    <tr>\n",
       "      <th>2025-07-17 09:35:00+00:00</th>\n",
       "      <td>19.8733</td>\n",
       "    </tr>\n",
       "    <tr>\n",
       "      <th>2025-07-17 09:45:00+00:00</th>\n",
       "      <td>20.1000</td>\n",
       "    </tr>\n",
       "    <tr>\n",
       "      <th>2025-07-17 09:50:00+00:00</th>\n",
       "      <td>20.0900</td>\n",
       "    </tr>\n",
       "    <tr>\n",
       "      <th>2025-07-17 10:00:00+00:00</th>\n",
       "      <td>20.1700</td>\n",
       "    </tr>\n",
       "    <tr>\n",
       "      <th>2025-07-17 10:05:00+00:00</th>\n",
       "      <td>20.3000</td>\n",
       "    </tr>\n",
       "  </tbody>\n",
       "</table>\n",
       "</div>"
      ],
      "text/plain": [
       "                             35365\n",
       "timestamp                         \n",
       "2025-07-17 09:35:00+00:00  19.8733\n",
       "2025-07-17 09:45:00+00:00  20.1000\n",
       "2025-07-17 09:50:00+00:00  20.0900\n",
       "2025-07-17 10:00:00+00:00  20.1700\n",
       "2025-07-17 10:05:00+00:00  20.3000"
      ]
     },
     "execution_count": 14,
     "metadata": {},
     "output_type": "execute_result"
    }
   ],
   "source": [
    "df_sensor_data.head()"
   ]
  },
  {
   "cell_type": "code",
   "execution_count": 15,
   "id": "046df944-3635-4d38-9aa5-9f6141914f9d",
   "metadata": {},
   "outputs": [],
   "source": [
    "#df_sensor_data.tail()"
   ]
  },
  {
   "cell_type": "markdown",
   "id": "b1204ab3-d326-4d93-9ad6-144e197d24ac",
   "metadata": {},
   "source": [
    "## Charts"
   ]
  },
  {
   "cell_type": "code",
   "execution_count": 16,
   "id": "2f5c2fb3-d1c8-413b-b9e6-818b54822755",
   "metadata": {},
   "outputs": [],
   "source": [
    "def plot_sensors(df_sensor_data, df_sensors_infos, html_filename):\n",
    "    # Get unique units\n",
    "    units = df_sensors_infos['unit'].unique()\n",
    "    \n",
    "    # Sort units: °C first, then kWh, then others\n",
    "    def unit_sort_key(u):\n",
    "        if u == '°C':\n",
    "            return 0\n",
    "        elif u.lower() == 'kwh':\n",
    "            return 1\n",
    "        elif u.lower() == 'm³/h':\n",
    "            return 2\t\n",
    "        else:\n",
    "            return 3\n",
    "    sorted_units = sorted(units, key=unit_sort_key)\n",
    "    \n",
    "    n_units = len(sorted_units)\n",
    "    \n",
    "    base_height_per_unit = 400\n",
    "    vertical_spacing = 0.1\n",
    "    \n",
    "    fig_height = int(base_height_per_unit * n_units * 1.3)  # increase height by 30%\n",
    "    fig_width = 1600\n",
    "    \n",
    "    fig = make_subplots(\n",
    "        rows=n_units,\n",
    "        cols=1,\n",
    "        shared_xaxes=True,\n",
    "        vertical_spacing=vertical_spacing,\n",
    "        subplot_titles=[f\"Unit: {unit}\" for unit in sorted_units]\n",
    "    )\n",
    "    # Show x-axis tick labels on all subplots\n",
    "    for i in range(1, n_units + 1):\n",
    "        fig.update_xaxes(showticklabels=True, row=i, col=1)\n",
    "    \n",
    "    # Iterate over units with their subplot row index\n",
    "    for i, unit in enumerate(sorted_units, start=1):\n",
    "        # Get sensor IDs that belong to this unit\n",
    "        sensor_ids = df_sensors_infos[df_sensors_infos['unit'] == unit].index\n",
    "        \n",
    "        for sensor_id in sensor_ids:\n",
    "            if sensor_id not in df_sensor_data.columns:\n",
    "                continue  # no data\n",
    "            \n",
    "            y_data = df_sensor_data[sensor_id].dropna()  # filter here\n",
    "            \n",
    "            if y_data.empty:\n",
    "                continue  # skip if no valid data\n",
    "            \n",
    "            fig.add_trace(\n",
    "                go.Scatter(\n",
    "                    x=y_data.index,    # use filtered index\n",
    "                    y=y_data,          # use filtered data without NaNs\n",
    "                    mode='lines',\n",
    "                    name=f\"{sensor_id} {df_sensors_infos.loc[sensor_id, 'acronym']}\"\n",
    "                ),\n",
    "                row=i,\n",
    "                col=1\n",
    "            )\n",
    "        \n",
    "\n",
    "        fig.update_xaxes(\n",
    "            showticklabels=True,\n",
    "            row=i,\n",
    "            col=1\n",
    "        )\n",
    "    \n",
    "    fig.update_layout(\n",
    "        margin=dict(l=60, r=60, t=80, b=60),\n",
    "    )\n",
    "    \n",
    "    fig.write_html(html_filename)\n",
    "    print(f\"Plot saved as {html_filename}\")\n"
   ]
  },
  {
   "cell_type": "code",
   "execution_count": 17,
   "id": "79ffcf63-044c-4d31-91dd-5ceea2820c43",
   "metadata": {},
   "outputs": [
    {
     "name": "stdout",
     "output_type": "stream",
     "text": [
      "Plot saved as sensors_of_building_2270_2025-07-17_2025-07-24.html\n"
     ]
    }
   ],
   "source": [
    "file_name='sensors_of_building_'+str(building_id)+'_'+start_time[:10]+'_'+end_time[:10]+'.html'\n",
    "plot_sensors(df_sensor_data, df_sensors_infos, file_name)"
   ]
  },
  {
   "cell_type": "code",
   "execution_count": null,
   "id": "fdd07bb8-0276-4e6c-9238-29a34284dace",
   "metadata": {},
   "outputs": [],
   "source": []
  }
 ],
 "metadata": {
  "kernelspec": {
   "display_name": "Python 3 (ipykernel)",
   "language": "python",
   "name": "python3"
  },
  "language_info": {
   "codemirror_mode": {
    "name": "ipython",
    "version": 3
   },
   "file_extension": ".py",
   "mimetype": "text/x-python",
   "name": "python",
   "nbconvert_exporter": "python",
   "pygments_lexer": "ipython3",
   "version": "3.12.10"
  }
 },
 "nbformat": 4,
 "nbformat_minor": 5
}
