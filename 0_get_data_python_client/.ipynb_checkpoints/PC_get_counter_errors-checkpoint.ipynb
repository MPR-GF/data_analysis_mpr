{
 "cells": [
  {
   "cell_type": "markdown",
   "id": "2cde8c3b-78b4-4ac9-9b4b-06d01c1b2a73",
   "metadata": {},
   "source": [
    "# Explore data from the python client"
   ]
  },
  {
   "cell_type": "markdown",
   "id": "33c8cb17-e8f9-40da-a6a6-4facfe6d7bc7",
   "metadata": {},
   "source": [
    "## Relevant documents"
   ]
  },
  {
   "cell_type": "markdown",
   "id": "d4b1fbd9-6220-4d26-a9a2-ee428b1187f8",
   "metadata": {},
   "source": [
    "- (Python Client Repo)[https://github.com/Green-Fusion/energy-management-backend/tree/main/python_client]\n",
    "- (Swagger UI)[https://control.green-fusion.de/services/energy-management-backend/v1/api/doc#/]\n"
   ]
  },
  {
   "cell_type": "markdown",
   "id": "6f43af12-eb62-4d19-8a9a-7730f3be834f",
   "metadata": {},
   "source": [
    "## Inits"
   ]
  },
  {
   "cell_type": "code",
   "execution_count": 1,
   "id": "7a18f22c-fe80-4183-a62e-e2d68a0c4f1a",
   "metadata": {},
   "outputs": [],
   "source": [
    "#imports\n",
    "from energy_management_client import BackendPythonClient\n",
    "import pandas as pd\n",
    "import json\n",
    "from datetime import datetime\n",
    "import pprint  # For pretty-printing"
   ]
  },
  {
   "cell_type": "code",
   "execution_count": 2,
   "id": "123a61cb-760c-4ef4-abb5-6fb2a7c2b454",
   "metadata": {},
   "outputs": [],
   "source": [
    "# select your environment\n",
    "environment=\"prod\" # prod or dev\n",
    "\n",
    "# Selector\n",
    "if environment==\"dev\":\n",
    "    backend_endpoint_path=\"https://dev.green-fusion.de/services/energy-management-backend/v1/api\"\n",
    "    realm_type=\"development\"\n",
    "elif environment==\"prod\":\n",
    "    backend_endpoint_path=\"https://control.green-fusion.de/services/energy-management-backend/v1/api\"\n",
    "    realm_type=\"control\"  \n",
    "else:\n",
    "    backend_endpoint_path=\"\"\n",
    "    realm_type=\"\"\n",
    "    print(\"select either prod or dev for the environment\")\n",
    "\n",
    "#test\n",
    "#backend_endpoint_path, realm_type\n",
    "if True:\n",
    "    # pythpon client auth & login\n",
    "    # init the client   \n",
    "    client = BackendPythonClient(backend_endpoint=backend_endpoint_path,)\n",
    "    \n",
    "    #login\n",
    "    client.login(\n",
    "        auth_endpoint=\"https://auth.green-fusion.de\",\n",
    "        realm=realm_type,\n",
    "        client_id=\"backend_python_client\", # backend_python_client, datascience_development_api\n",
    "        grant_type=\"device_code\", #\"client_credentials\",  # or \"password\", \"device_code\"\n",
    "    )"
   ]
  },
  {
   "cell_type": "markdown",
   "id": "0e4fb75d-9dfb-4574-8c7e-c084277bca8b",
   "metadata": {},
   "source": [
    "## Functions"
   ]
  },
  {
   "cell_type": "markdown",
   "id": "bfe2f431-5d86-4314-8175-4a22047edbc5",
   "metadata": {
    "jp-MarkdownHeadingCollapsed": true
   },
   "source": [
    "### Customers"
   ]
  },
  {
   "cell_type": "code",
   "execution_count": 3,
   "id": "e8c27e1e-2aed-4809-a824-184bde83f5f4",
   "metadata": {},
   "outputs": [],
   "source": [
    "def customers_to_df(customer_list):\n",
    "    \"\"\"\n",
    "    Turn a list of CustomerDto objects into a pandas DataFrame.\n",
    "    usage:\n",
    "        customer_list = client.customers.get_list_of_customers()\n",
    "        df_customers = customers_to_df(customer_list)\n",
    "    \n",
    "    \"\"\"\n",
    "    rows = []\n",
    "\n",
    "    for cust in customer_list:\n",
    "        rows.append({\n",
    "            \"id\":        cust.id,\n",
    "            \"name\":      cust.name,\n",
    "            \"gui_name\":  getattr(cust, \"gui_name\", None),\n",
    "            \"external_id\": getattr(cust, \"external_id\", None),\n",
    "            \"f_dashboard\": cust.f_dashboard,\n",
    "            \"f_meldungen\": cust.f_meldungen,\n",
    "            \"f_meldungen_v2\": cust.f_meldungen_v2,\n",
    "            \"f_optimisation\": cust.f_optimisation,\n",
    "            \"f_technique\": cust.f_technique,\n",
    "            \"notification_email_contacts\": getattr(cust, \"notification_email_contacts\", []),\n",
    "        })\n",
    "\n",
    "    return pd.DataFrame(rows)"
   ]
  },
  {
   "cell_type": "markdown",
   "id": "62a018da-97aa-4d54-b7e1-3117b70dc11d",
   "metadata": {
    "jp-MarkdownHeadingCollapsed": true
   },
   "source": [
    "### buildings"
   ]
  },
  {
   "cell_type": "code",
   "execution_count": 4,
   "id": "64e729b4-6944-409b-850c-d5d3ddfc2605",
   "metadata": {},
   "outputs": [],
   "source": [
    "def get_buildings_df(client, customers):\n",
    "    \"\"\"\n",
    "    Loop through all customers, fetch their buildings, and build a DataFrame where each row contains:\n",
    "      - building_id, customerID (from customer object), address, city, atvise_display_name, base,\n",
    "      - heatingType, heatingSurface, access_key, nickname, postal_code, gui_name,\n",
    "      - coordinates, CustomerAlias, gfid,\n",
    "      - LayoutID (extracted from modular_system)\n",
    "\n",
    "    Usage:\n",
    "        customers = client.customers.get_list_of_customers()\n",
    "        df = get_buildings_df(client, customers)\n",
    "        print(df.head())\n",
    "    \"\"\"\n",
    "    try:\n",
    "        data = []\n",
    "        for c in customers:\n",
    "            customer_id = c.id\n",
    "            customer_name = getattr(c, 'name', None)\n",
    "            client.configure(customer_id=customer_id)\n",
    "            \n",
    "            # Get buildings\n",
    "            c_buildings = client.buildings.get_buildings()\n",
    "            building_list = getattr(c_buildings, 'buildings', [])\n",
    "            \n",
    "            for b in building_list:\n",
    "                building_id         = getattr(b, 'building_id', None)\n",
    "                address             = getattr(b, 'address', None)\n",
    "                city                = getattr(b, 'city', None)\n",
    "                atvise_display_name = getattr(b, 'atvise_display_name', None)\n",
    "                base                = getattr(b, 'base', None)\n",
    "                heatingType         = getattr(b, 'heatingType', None)\n",
    "                heatingSurface      = getattr(b, 'heatingSurface', None)\n",
    "                access_key          = getattr(b, 'access_key', None)\n",
    "                nickname            = getattr(b, 'nickname', None)\n",
    "                postal_code         = getattr(b, 'postal_code', None)\n",
    "                gui_name            = getattr(b, 'gui_name', None)\n",
    "                coordinates         = getattr(b, 'coordinates', None)\n",
    "                CustomerAlias       = getattr(b, 'CustomerAlias', None)\n",
    "                gfid                = getattr(b, 'gfid', None)\n",
    "                \n",
    "                # Parse modular_system\n",
    "                modular_system_str = getattr(b, 'modular_system', None)\n",
    "                LayoutID = None\n",
    "                if modular_system_str:\n",
    "                    try:\n",
    "                        modular_system = json.loads(modular_system_str)\n",
    "                        LayoutID = modular_system.get('layoutID', None)\n",
    "                    except json.JSONDecodeError:\n",
    "                        LayoutID = None\n",
    "\n",
    "                data.append({\n",
    "                    \"building_id\": building_id,\n",
    "                    \"customerID\": customer_id,  # <-- corrected here\n",
    "                    \"customer_name\": customer_name,\n",
    "                    \"address\": address,\n",
    "                    \"city\": city,\n",
    "                    \"atvise_display_name\": atvise_display_name,\n",
    "                    \"base\": base,\n",
    "                    \"heatingType\": heatingType,\n",
    "                    \"heatingSurface\": heatingSurface,\n",
    "                    \"access_key\": access_key,\n",
    "                    \"nickname\": nickname,\n",
    "                    \"postal_code\": postal_code,\n",
    "                    \"gui_name\": gui_name,\n",
    "                    \"coordinates\": coordinates,\n",
    "                    \"CustomerAlias\": CustomerAlias,\n",
    "                    \"gfid\": gfid,\n",
    "                    \"LayoutID\": LayoutID\n",
    "                })\n",
    "\n",
    "        return pd.DataFrame(data)\n",
    "\n",
    "    except Exception as e:\n",
    "        print(\"API Call Failed:\", e)\n",
    "        return pd.DataFrame()"
   ]
  },
  {
   "cell_type": "markdown",
   "id": "23eef7c6-1d40-46c3-9fca-90c7e2a29435",
   "metadata": {
    "jp-MarkdownHeadingCollapsed": true
   },
   "source": [
    "### Sensors (all)"
   ]
  },
  {
   "cell_type": "code",
   "execution_count": 5,
   "id": "ebc46ab7-e33c-4433-a654-d21d0c2f51a4",
   "metadata": {},
   "outputs": [],
   "source": [
    "def get_all_sensors_df(client, building_ids):\n",
    "    \"\"\"\n",
    "    very heavy\n",
    "    For a list of building IDs, fetch sensor data using client.buildings.get_list_of_sensors_by_building_id\n",
    "    and return a DataFrame where each row is a sensor.\n",
    "    \n",
    "    Parameters:\n",
    "        client: The API client object\n",
    "        building_ids: List[int] - list of building IDs to fetch sensors for\n",
    "        \n",
    "    Returns:\n",
    "        pd.DataFrame with one row per sensor, including building_id\n",
    "\n",
    "    Usage:\n",
    "        df_sensors = get_all_sensors_df(client, list_of_building_id)\n",
    "    \"\"\"\n",
    "    all_sensors = []\n",
    "\n",
    "    for b_id in building_ids:\n",
    "        try:\n",
    "            sensors = client.buildings.get_list_of_sensors_by_building_id(b_id)\n",
    "            for s in sensors:\n",
    "                all_sensors.append({\n",
    "                    \"building_id\": b_id,\n",
    "                    \"sensor_id\": s.id,\n",
    "                    \"gf_standard_id\": s.gf_standard_id,\n",
    "                    \"sub_system_id\": s.sub_system_id,\n",
    "                    \"hydraulic_location_index\": s.hydraulic_location_index,\n",
    "                    \"factor\": s.factor,\n",
    "                    \"current_value\": s.current_value,\n",
    "                    \"node_id\": s.node_id,\n",
    "                    \"acronym\": s.acronym,\n",
    "                    \"unit\": s.unit,\n",
    "                    \"long_name\": s.long_name,\n",
    "                    \"short_name\": s.short_name,\n",
    "                    \"source\": s.source,\n",
    "                })\n",
    "        except Exception as e:\n",
    "            print(f\"Error fetching sensors for building_id={b_id}: {e}\")\n",
    "\n",
    "    return pd.DataFrame(all_sensors)"
   ]
  },
  {
   "cell_type": "markdown",
   "id": "18e5b258-38e8-4b3a-9d2e-cfcd78c753b8",
   "metadata": {
    "jp-MarkdownHeadingCollapsed": true
   },
   "source": [
    "### devices"
   ]
  },
  {
   "cell_type": "code",
   "execution_count": 6,
   "id": "638864b3-1df1-493b-bdad-cec0f35cac52",
   "metadata": {},
   "outputs": [],
   "source": [
    "def get_devices(client):\n",
    "    \"\"\"\n",
    "    usage:\n",
    "    list_device=get_devices(client)\n",
    "    list(list_device)\n",
    "    \"\"\"\n",
    "    devices_list=client.devices.get_devices()\n",
    "    devices_list=list(devices_list)[0][1]\n",
    "    device_dicts = [device.__dict__ for device in devices_list]\n",
    "    df_device = pd.DataFrame(device_dicts)\n",
    "    return df_device"
   ]
  },
  {
   "cell_type": "markdown",
   "id": "671f0326-c85f-44c8-b7c8-186fc96238e0",
   "metadata": {},
   "source": [
    "### counters"
   ]
  },
  {
   "cell_type": "code",
   "execution_count": 7,
   "id": "225cb8b6-ad9c-443e-a34c-a92fde66be52",
   "metadata": {},
   "outputs": [],
   "source": [
    "def get_counters(client,ID):\n",
    "    \"\"\"\n",
    "    usage:\n",
    "    counters_list_for_building=get_counters(client,122)\n",
    "    \"\"\"\n",
    "    counters_list=client.buildings.get_counters(ID)\n",
    "    return counters_list\n",
    "\n",
    "def get_counters2(client, ID):\n",
    "    \"\"\"\n",
    "    Fetch counter data and extract error information.\n",
    "\n",
    "    Returns:\n",
    "        has_error (bool): True if any sensor returns an error.\n",
    "        error_info (dict): {sensor_id: {'error': str, 'first_occurrence': datetime, 'last_occurrence': datetime}}\n",
    "    example:\n",
    "        get_counters2(client,122)\n",
    "    \"\"\"\n",
    "    counters_list = client.buildings.get_counters(ID)\n",
    "\n",
    "    error_info = {}\n",
    "\n",
    "    for counter in counters_list:\n",
    "        if counter.error and counter.error.strip().lower() != 'none':\n",
    "            sensor_id = counter.sensor_id\n",
    "            ref_date = counter.reference_date\n",
    "\n",
    "            if sensor_id not in error_info:\n",
    "                error_info[sensor_id] = {\n",
    "                    'error': counter.error,\n",
    "                    'first_occurrence': ref_date,\n",
    "                    'last_occurrence': ref_date,\n",
    "                    'short_name': counter.short_name,\n",
    "                    'long_name': counter.long_name,\n",
    "                    'hydraulic_location_index': counter.hydraulic_location_index\n",
    "                }\n",
    "            else:\n",
    "                if ref_date < error_info[sensor_id]['first_occurrence']:\n",
    "                    error_info[sensor_id]['first_occurrence'] = ref_date\n",
    "                if ref_date > error_info[sensor_id]['last_occurrence']:\n",
    "                    error_info[sensor_id]['last_occurrence'] = ref_date\n",
    "\n",
    "    has_error = len(error_info) > 0\n",
    "    return has_error, error_info"
   ]
  },
  {
   "cell_type": "markdown",
   "id": "d174879c-45ee-421a-9c4e-481ca1cdd820",
   "metadata": {},
   "source": [
    "## Buildings Vs Devices"
   ]
  },
  {
   "cell_type": "markdown",
   "id": "052181df-e547-4a1b-ab42-2eb01e76f03f",
   "metadata": {
    "jp-MarkdownHeadingCollapsed": true
   },
   "source": [
    "### get_customer_df"
   ]
  },
  {
   "cell_type": "code",
   "execution_count": 8,
   "id": "b2ba4e71-4149-4e0c-9cf2-8c869c2e8890",
   "metadata": {},
   "outputs": [],
   "source": [
    "customer_list = client.customers.get_list_of_customers()\n",
    "df_customers = customers_to_df(customer_list)"
   ]
  },
  {
   "cell_type": "code",
   "execution_count": 9,
   "id": "26a2b305-4a40-4773-86b2-911d3a94a7b0",
   "metadata": {},
   "outputs": [],
   "source": [
    "#df_customers.head()"
   ]
  },
  {
   "cell_type": "code",
   "execution_count": 10,
   "id": "f368a359-5e8f-44b1-9484-521c2272e453",
   "metadata": {},
   "outputs": [],
   "source": [
    "#df_customers.count()"
   ]
  },
  {
   "cell_type": "code",
   "execution_count": 11,
   "id": "0ce27ccb-a717-4199-81be-9726901df7eb",
   "metadata": {},
   "outputs": [],
   "source": [
    "list_of_customer_id=df_customers['id']"
   ]
  },
  {
   "cell_type": "markdown",
   "id": "a50e35da-51e2-42b1-a89b-b2ac721ea9ed",
   "metadata": {},
   "source": [
    "### get_buildings_df"
   ]
  },
  {
   "cell_type": "code",
   "execution_count": null,
   "id": "40aeed91-efa6-449b-81f1-0f52a2897222",
   "metadata": {},
   "outputs": [],
   "source": [
    "# Get customers list (list of dicts)\n",
    "customers = client.customers.get_list_of_customers()\n",
    "#build df\n",
    "df_buildings = get_buildings_df(client, customers)\n",
    "#test\n",
    "#df_buildings.head()"
   ]
  },
  {
   "cell_type": "code",
   "execution_count": null,
   "id": "ca8ddbf1-d6f5-425a-b8af-84b8ea496d0a",
   "metadata": {},
   "outputs": [],
   "source": [
    "list_of_building_id=df_buildings['building_id']"
   ]
  },
  {
   "cell_type": "markdown",
   "id": "1451a1a4-e2df-44f8-8122-4f69c65a044f",
   "metadata": {},
   "source": [
    "### get all sensors (not recomended)"
   ]
  },
  {
   "cell_type": "code",
   "execution_count": null,
   "id": "3ff5b32b-af64-44e1-9d40-1f5faf6f1995",
   "metadata": {},
   "outputs": [],
   "source": [
    "df_sensors = get_all_sensors_df(client, list_of_building_id)"
   ]
  },
  {
   "cell_type": "code",
   "execution_count": null,
   "id": "32534512-ca61-40e1-9328-4e0bd2722988",
   "metadata": {},
   "outputs": [],
   "source": [
    "len(df_sensors)"
   ]
  },
  {
   "cell_type": "code",
   "execution_count": null,
   "id": "4fca79d9-6202-4761-bf36-52e28569e4a3",
   "metadata": {},
   "outputs": [],
   "source": [
    "df_sensors.tail()"
   ]
  },
  {
   "cell_type": "code",
   "execution_count": null,
   "id": "2a7f592d-62cb-4166-9fd3-ab141f1c4452",
   "metadata": {},
   "outputs": [],
   "source": [
    "df_sensors['unit'].value_counts(dropna=False) "
   ]
  },
  {
   "cell_type": "code",
   "execution_count": null,
   "id": "63876982-cb52-4392-b672-7d8e0446751b",
   "metadata": {},
   "outputs": [],
   "source": [
    "# Merge the two DataFrames on building_id\n",
    "df_merged = df_buildings.merge(\n",
    "    df_devices[['building_id', 'device_type', 'device_id']],\n",
    "    on='building_id',\n",
    "    how='left'  # ensures all rows from df_buildings are kept\n",
    ")"
   ]
  },
  {
   "cell_type": "code",
   "execution_count": null,
   "id": "2da8aa9e-b315-4f27-8b68-b6c1733c1fde",
   "metadata": {},
   "outputs": [],
   "source": [
    "#df_merged.head(2)"
   ]
  },
  {
   "cell_type": "code",
   "execution_count": null,
   "id": "a09015bd-f987-4b23-a9e8-9322580ec06d",
   "metadata": {},
   "outputs": [],
   "source": [
    "#df_merged.count()"
   ]
  },
  {
   "cell_type": "code",
   "execution_count": null,
   "id": "57f5bfbf-46d1-4143-85c1-e207e58b214b",
   "metadata": {},
   "outputs": [],
   "source": [
    "#df_merged.columns"
   ]
  },
  {
   "cell_type": "markdown",
   "id": "f36b6610-305d-4725-80db-0cc154efc272",
   "metadata": {},
   "source": [
    "## Get counter errors"
   ]
  },
  {
   "cell_type": "markdown",
   "id": "0a7978be-04f4-4abb-b910-21bb84671171",
   "metadata": {},
   "source": [
    "### exctrac data from db"
   ]
  },
  {
   "cell_type": "code",
   "execution_count": null,
   "id": "569005ef-14d5-48c5-a922-43631f81cac6",
   "metadata": {},
   "outputs": [],
   "source": [
    "#get_counters(client,122)"
   ]
  },
  {
   "cell_type": "code",
   "execution_count": null,
   "id": "25c8f78e-415a-4190-94f5-bc5d977dde9e",
   "metadata": {},
   "outputs": [],
   "source": [
    "def extract_counters_with_errors(client, building_ids):\n",
    "    all_entries = []\n",
    "\n",
    "    for building_id in building_ids:\n",
    "        try:\n",
    "            counters = get_counters(client, building_id)\n",
    "        except Exception as e:\n",
    "            print(f\"Failed to get counters for building {building_id}: {e}\")\n",
    "            continue\n",
    "\n",
    "        for counter in counters:\n",
    "            if counter.error:  # non-empty string = error exists\n",
    "                all_entries.append({\n",
    "                    \"id\": counter.id,\n",
    "                    \"sensor_id\": counter.sensor_id,\n",
    "                    \"reference_date\": counter.reference_date,\n",
    "                    \"unit\": counter.unit,\n",
    "                    \"error\": counter.error,\n",
    "                    \"short_name\": counter.short_name,\n",
    "                    \"long_name\": counter.long_name,\n",
    "                    \"hydraulic_location_index\": counter.hydraulic_location_index\n",
    "                })\n",
    "\n",
    "    df = pd.DataFrame(all_entries)\n",
    "    return df"
   ]
  },
  {
   "cell_type": "code",
   "execution_count": null,
   "id": "dd605fb5-25ed-4ed3-972e-15df32755f55",
   "metadata": {},
   "outputs": [],
   "source": [
    "df_errors = extract_counters_with_errors(client, list_of_building_id)"
   ]
  },
  {
   "cell_type": "code",
   "execution_count": null,
   "id": "db666f06-8bec-4b6d-ad07-d2ac9334b51d",
   "metadata": {},
   "outputs": [],
   "source": [
    "df_errors.tail()"
   ]
  },
  {
   "cell_type": "markdown",
   "id": "5ff12734-813e-44ff-97f0-e68400cbf261",
   "metadata": {},
   "source": [
    "### work with errors"
   ]
  },
  {
   "cell_type": "code",
   "execution_count": null,
   "id": "b184a81a-80ff-4421-91d6-a228032f858c",
   "metadata": {},
   "outputs": [],
   "source": [
    "df_errors['reference_date'] = pd.to_datetime(df_errors['reference_date'])"
   ]
  },
  {
   "cell_type": "code",
   "execution_count": null,
   "id": "6395976a-7744-4c23-b100-ca6b7b95c859",
   "metadata": {},
   "outputs": [],
   "source": [
    "df_latest_errors = df_errors.loc[df_errors.groupby('sensor_id')['reference_date'].idxmax()].reset_index(drop=True)\n",
    "df_earliest_errors = df_errors.loc[df_errors.groupby('sensor_id')['reference_date'].idxmin()].reset_index(drop=True)"
   ]
  },
  {
   "cell_type": "code",
   "execution_count": null,
   "id": "1c514086-17fd-4d89-a4ef-4024ee928a6d",
   "metadata": {},
   "outputs": [],
   "source": [
    "df_latest_errors.tail()"
   ]
  },
  {
   "cell_type": "code",
   "execution_count": null,
   "id": "766b14c9-ef14-47ce-850e-22910d24be6f",
   "metadata": {},
   "outputs": [],
   "source": [
    "# Merge the error dataframe with the sensor dataframe to get the source\n",
    "df_errors_with_source = df_latest_errors.merge(\n",
    "    df_sensors[['sensor_id', 'source','building_id','gf_standard_id','acronym']], \n",
    "    on='sensor_id', \n",
    "    how='left'\n",
    ")\n",
    "df_errors_drops=df_errors_with_source.drop(['short_name','long_name'], axis=1)"
   ]
  },
  {
   "cell_type": "code",
   "execution_count": null,
   "id": "063af983-56db-496a-bdb2-73b93b23b7b8",
   "metadata": {},
   "outputs": [],
   "source": [
    "df_errors_drops"
   ]
  },
  {
   "cell_type": "code",
   "execution_count": null,
   "id": "7756fb7e-1bd6-456a-a842-ca8e481af0ea",
   "metadata": {},
   "outputs": [],
   "source": []
  }
 ],
 "metadata": {
  "kernelspec": {
   "display_name": "Python 3 (ipykernel)",
   "language": "python",
   "name": "python3"
  },
  "language_info": {
   "codemirror_mode": {
    "name": "ipython",
    "version": 3
   },
   "file_extension": ".py",
   "mimetype": "text/x-python",
   "name": "python",
   "nbconvert_exporter": "python",
   "pygments_lexer": "ipython3",
   "version": "3.12.10"
  }
 },
 "nbformat": 4,
 "nbformat_minor": 5
}
