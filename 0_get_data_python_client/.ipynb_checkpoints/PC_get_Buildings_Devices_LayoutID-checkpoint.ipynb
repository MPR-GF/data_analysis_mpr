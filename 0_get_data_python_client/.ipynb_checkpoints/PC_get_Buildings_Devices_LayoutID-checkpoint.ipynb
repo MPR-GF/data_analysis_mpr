{
 "cells": [
  {
   "cell_type": "markdown",
   "id": "2cde8c3b-78b4-4ac9-9b4b-06d01c1b2a73",
   "metadata": {},
   "source": [
    "# Get data from the python client"
   ]
  },
  {
   "cell_type": "markdown",
   "id": "33c8cb17-e8f9-40da-a6a6-4facfe6d7bc7",
   "metadata": {},
   "source": [
    "## Relevant documents"
   ]
  },
  {
   "cell_type": "markdown",
   "id": "d4b1fbd9-6220-4d26-a9a2-ee428b1187f8",
   "metadata": {},
   "source": [
    "- (Python Client Repo)[https://github.com/Green-Fusion/energy-management-backend/tree/main/python_client]\n",
    "- (Swagger UI)[https://control.green-fusion.de/services/energy-management-backend/v1/api/doc#/]\n"
   ]
  },
  {
   "cell_type": "markdown",
   "id": "6f43af12-eb62-4d19-8a9a-7730f3be834f",
   "metadata": {},
   "source": [
    "## Inits"
   ]
  },
  {
   "cell_type": "code",
   "execution_count": 1,
   "id": "7a18f22c-fe80-4183-a62e-e2d68a0c4f1a",
   "metadata": {},
   "outputs": [],
   "source": [
    "#imports\n",
    "from energy_management_client import BackendPythonClient\n",
    "import pandas as pd\n",
    "import json\n",
    "from datetime import datetime\n",
    "import pprint  # For pretty-printing\n",
    "import ast  \n",
    "import os\n",
    "import re\n",
    "import numpy as np # Often used for NaN handling"
   ]
  },
  {
   "cell_type": "code",
   "execution_count": 2,
   "id": "123a61cb-760c-4ef4-abb5-6fb2a7c2b454",
   "metadata": {},
   "outputs": [],
   "source": [
    "# select your environment\n",
    "environment=\"prod\" # prod or dev\n",
    "\n",
    "# Selector\n",
    "if environment==\"dev\":\n",
    "    backend_endpoint_path=\"https://dev.green-fusion.de/services/energy-management-backend/v1/api\"\n",
    "    realm_type=\"development\"\n",
    "elif environment==\"prod\":\n",
    "    backend_endpoint_path=\"https://control.green-fusion.de/services/energy-management-backend/v1/api\"\n",
    "    realm_type=\"control\"  \n",
    "else:\n",
    "    backend_endpoint_path=\"\"\n",
    "    realm_type=\"\"\n",
    "    print(\"select either prod or dev for the environment\")\n",
    "\n",
    "#test\n",
    "#backend_endpoint_path, realm_type\n",
    "if True:\n",
    "    # pythpon client auth & login\n",
    "    # init the client   \n",
    "    client = BackendPythonClient(backend_endpoint=backend_endpoint_path,)\n",
    "    \n",
    "    #login\n",
    "    client.login(\n",
    "        auth_endpoint=\"https://auth.green-fusion.de\",\n",
    "        realm=realm_type,\n",
    "        client_id=\"backend_python_client\", # backend_python_client, datascience_development_api\n",
    "        grant_type=\"device_code\", #\"client_credentials\",  # or \"password\", \"device_code\"\n",
    "    )"
   ]
  },
  {
   "cell_type": "markdown",
   "id": "0e4fb75d-9dfb-4574-8c7e-c084277bca8b",
   "metadata": {},
   "source": [
    "## Functions"
   ]
  },
  {
   "cell_type": "markdown",
   "id": "62a018da-97aa-4d54-b7e1-3117b70dc11d",
   "metadata": {},
   "source": [
    "### buildings"
   ]
  },
  {
   "cell_type": "code",
   "execution_count": 3,
   "id": "64e729b4-6944-409b-850c-d5d3ddfc2605",
   "metadata": {},
   "outputs": [],
   "source": [
    "def get_buildings_df(client, customers):\n",
    "    \"\"\"\n",
    "    Loop through all customers, fetch their buildings, and build a DataFrame where each row contains:\n",
    "      - building_id, customerID (from customer object), address, city, atvise_display_name, base,\n",
    "      - heatingType, heatingSurface, access_key, nickname, postal_code, gui_name,\n",
    "      - coordinates, CustomerAlias, gfid,\n",
    "      - LayoutID (extracted from modular_system)\n",
    "\n",
    "    Usage:\n",
    "        customers = client.customers.get_list_of_customers()\n",
    "        df = get_buildings_df(client, customers)\n",
    "        print(df.head())\n",
    "    \"\"\"\n",
    "    try:\n",
    "        data = []\n",
    "        for c in customers:\n",
    "            customer_id = c.id\n",
    "            customer_name = getattr(c, 'name', None)\n",
    "            client.configure(customer_id=customer_id)\n",
    "            \n",
    "            # Get buildings\n",
    "            c_buildings = client.buildings.get_buildings()\n",
    "            building_list = getattr(c_buildings, 'buildings', [])\n",
    "            \n",
    "            for b in building_list:\n",
    "                building_id         = getattr(b, 'building_id', None)\n",
    "                address             = getattr(b, 'address', None)\n",
    "                city                = getattr(b, 'city', None)\n",
    "                atvise_display_name = getattr(b, 'atvise_display_name', None)\n",
    "                base                = getattr(b, 'base', None)\n",
    "                heatingType         = getattr(b, 'heatingType', None)\n",
    "                heatingSurface      = getattr(b, 'heatingSurface', None)\n",
    "                access_key          = getattr(b, 'access_key', None)\n",
    "                nickname            = getattr(b, 'nickname', None)\n",
    "                postal_code         = getattr(b, 'postal_code', None)\n",
    "                gui_name            = getattr(b, 'gui_name', None)\n",
    "                coordinates         = getattr(b, 'coordinates', None)\n",
    "                CustomerAlias       = getattr(b, 'CustomerAlias', None)\n",
    "                gfid                = getattr(b, 'gfid', None)\n",
    "                \n",
    "                # Parse modular_system\n",
    "                modular_system_str = getattr(b, 'modular_system', None)\n",
    "                LayoutID = None\n",
    "                if modular_system_str:\n",
    "                    try:\n",
    "                        modular_system = json.loads(modular_system_str)\n",
    "                        LayoutID = modular_system.get('layoutID', None)\n",
    "                    except json.JSONDecodeError:\n",
    "                        LayoutID = None\n",
    "\n",
    "                data.append({\n",
    "                    \"building_id\": building_id,\n",
    "                    \"customerID\": customer_id,  # <-- corrected here\n",
    "                    \"customer_name\": customer_name,\n",
    "                    \"address\": address,\n",
    "                    \"city\": city,\n",
    "                    #\"atvise_display_name\": atvise_display_name,\n",
    "                    #\"base\": base,\n",
    "                    #\"heatingType\": heatingType,\n",
    "                    #\"heatingSurface\": heatingSurface,\n",
    "                    #\"access_key\": access_key,\n",
    "                    #\"nickname\": nickname,\n",
    "                    \"postal_code\": postal_code,\n",
    "                    #\"gui_name\": gui_name,\n",
    "                    \"coordinates\": coordinates,\n",
    "                    #\"CustomerAlias\": CustomerAlias,\n",
    "                    \"gfid\": gfid,\n",
    "                    \"modular_system\": modular_system,  \n",
    "                    \"LayoutID\": LayoutID\n",
    "                })\n",
    "\n",
    "        return pd.DataFrame(data)\n",
    "\n",
    "    except Exception as e:\n",
    "        print(\"API Call Failed:\", e)\n",
    "        return pd.DataFrame()"
   ]
  },
  {
   "cell_type": "markdown",
   "id": "18e5b258-38e8-4b3a-9d2e-cfcd78c753b8",
   "metadata": {},
   "source": [
    "### devices"
   ]
  },
  {
   "cell_type": "code",
   "execution_count": 4,
   "id": "638864b3-1df1-493b-bdad-cec0f35cac52",
   "metadata": {},
   "outputs": [],
   "source": [
    "def get_devices(client):\n",
    "    \"\"\"\n",
    "    usage:\n",
    "    list_device=get_devices(client)\n",
    "    list(list_device)\n",
    "    \"\"\"\n",
    "    devices_list=client.devices.get_devices()\n",
    "    devices_list=list(devices_list)[0][1]\n",
    "    device_dicts = [device.__dict__ for device in devices_list]\n",
    "    df_device = pd.DataFrame(device_dicts)\n",
    "    return df_device"
   ]
  },
  {
   "cell_type": "markdown",
   "id": "e08a72be-07c0-44fd-87d3-f3e1d8f607d4",
   "metadata": {},
   "source": [
    "### Sensors  "
   ]
  },
  {
   "cell_type": "code",
   "execution_count": 5,
   "id": "30053a2e-cab5-4b18-95bc-68667e0359b6",
   "metadata": {},
   "outputs": [],
   "source": [
    "def get_sensors(building_id):\n",
    "    sensors = client.buildings.get_list_of_sensors_by_building_id(building_id)\n",
    "    \n",
    "    sensors_infos = {\n",
    "        f\"{s.acronym}({s.hydraulic_location_index})\": f\"id : {s.id} gfid : {s.gf_standard_id} sub_system_id : {s.sub_system_id} unit : {s.unit} source : {s.source}\"\n",
    "        for s in sensors\n",
    "    }\n",
    "    return sensors_infos"
   ]
  },
  {
   "cell_type": "code",
   "execution_count": 6,
   "id": "18cc8982-b582-4556-863c-3d037237066a",
   "metadata": {},
   "outputs": [],
   "source": [
    "#get_sensors(2382)"
   ]
  },
  {
   "cell_type": "markdown",
   "id": "4f39a83e-01b9-48ff-b10e-7bca9fe19afe",
   "metadata": {},
   "source": [
    "#### count"
   ]
  },
  {
   "cell_type": "code",
   "execution_count": 7,
   "id": "02f27f0f-afab-4cd0-975b-6748c765bcf9",
   "metadata": {},
   "outputs": [],
   "source": [
    "def get_t_sensor_count(building_id):\n",
    "    try:\n",
    "        sensors = client.buildings.get_list_of_sensors_by_building_id(building_id)\n",
    "        count = sum(\n",
    "            1 for s in sensors\n",
    "            if s.unit == '°C'\n",
    "            and s.source == 'GREENBOX_MQTT'\n",
    "            and (s.long_name is None or 'Wärmemengenzähler' not in s.long_name)\n",
    "        )\n",
    "        return count\n",
    "    except Exception as e:\n",
    "        # Optionally log the error\n",
    "        return None\n"
   ]
  },
  {
   "cell_type": "code",
   "execution_count": 8,
   "id": "232805a1-51cf-4ce6-b4ba-46a5fb9fb689",
   "metadata": {},
   "outputs": [],
   "source": [
    "#get_t_sensor_count(1750)"
   ]
  },
  {
   "cell_type": "code",
   "execution_count": 9,
   "id": "2d969c32-3539-4529-9efa-24670584e2f6",
   "metadata": {},
   "outputs": [],
   "source": [
    "#client.buildings.get_list_of_sensors_by_building_id(2382)"
   ]
  },
  {
   "cell_type": "markdown",
   "id": "8f464b44-a654-41b5-a991-93a9a76aa9ec",
   "metadata": {},
   "source": [
    "#### missing sensors ww"
   ]
  },
  {
   "cell_type": "code",
   "execution_count": 59,
   "id": "3fa02634-977f-4a5d-be5f-9afdb585633e",
   "metadata": {},
   "outputs": [],
   "source": [
    "#def find_missing_sensors_by_gfid(row):\n",
    "def find_missing_sensors_by_gfid(row):\n",
    "    \"\"\"\n",
    "    Finds missing warm water sensors and includes all relevant subcomponent IDs in the result.\n",
    "\n",
    "    Args:\n",
    "        row (pd.Series): A single row from the DataFrame.\n",
    "\n",
    "    Returns:\n",
    "        dict: A dictionary with missing GFIDs and the IDs of the warm water subsystems checked.\n",
    "              Returns None if no sensors are missing or no warm water systems exist.\n",
    "    \"\"\"\n",
    "    REQUIRED_WW_SENSORS_gfid = {118, 119, 123, 124}\n",
    "    sub_components = row['sub_components']\n",
    "    sensors_data = row['sensors']\n",
    "\n",
    "    if not isinstance(sub_components, dict) or not isinstance(sensors_data, dict):\n",
    "        return None\n",
    "\n",
    "    # 1. Find all subsystem_ids for 'WARM_WATER'\n",
    "    ww_subsystem_ids = {\n",
    "        int(match.group(1))\n",
    "        for comp_details in sub_components.values()\n",
    "        if \"type : WARM_WATER\" in comp_details and (match := re.search(r\"id : (\\d+)\", comp_details))\n",
    "    }\n",
    "\n",
    "    if not ww_subsystem_ids:\n",
    "        return None\n",
    "\n",
    "    # 2. Find GFIDs of sensors belonging to ANY of the warm water subsystems\n",
    "    existing_sensors_gfids = {\n",
    "        int(gfid_match.group(1))\n",
    "        for sensor_details in sensors_data.values()\n",
    "        if (sub_id_match := re.search(r\"sub_system_id : (\\d+)\", sensor_details))\n",
    "        and int(sub_id_match.group(1)) in ww_subsystem_ids\n",
    "        and (gfid_match := re.search(r\"gfid : (\\d+)\", sensor_details))\n",
    "    }\n",
    "\n",
    "    # 3. Compare the set of existing GFIDs with the required set\n",
    "    missing_gfids = sorted(list(REQUIRED_WW_SENSORS_gfid - existing_sensors_gfids))\n",
    "\n",
    "    if not missing_gfids:\n",
    "        return None\n",
    "\n",
    "    # Return a dictionary containing both the missing GFIDs and the list of WW subsystem IDs\n",
    "    return {\n",
    "        'missing_gfids': missing_gfids,\n",
    "        'ww_subsystem_ids': sorted(list(ww_subsystem_ids))\n",
    "    }"
   ]
  },
  {
   "cell_type": "markdown",
   "id": "713aaf60-42c0-4df3-8c57-64dc5aa8c823",
   "metadata": {},
   "source": [
    "### sub component"
   ]
  },
  {
   "cell_type": "code",
   "execution_count": 11,
   "id": "4cf6f012-dba5-4d80-9086-3bee20d9f931",
   "metadata": {},
   "outputs": [],
   "source": [
    "def get_sub_component(building_id):\n",
    "    subsystems = client.buildings.get_sub_systems_by_building_id(building_id)\n",
    "    \n",
    "    subsystems_infos = {\n",
    "        f\"{s.acronym}({s.hydraulic_location_index})\": f\"id : {s.id} category : {s.category} type : {s.type} sub_type : {s.sub_type}\"\n",
    "        for s in subsystems\n",
    "    }\n",
    "    return subsystems_infos"
   ]
  },
  {
   "cell_type": "code",
   "execution_count": 12,
   "id": "e7dfa8d4-e5a3-4023-b69b-4899d3527350",
   "metadata": {},
   "outputs": [
    {
     "data": {
      "text/plain": [
       "[BuildingSubSystem(id=220622, acronym='global', hydraulic_location_index=1, building_id=2382, type='GLOBAL', sub_type='NOT_SPECIFIED', category='NOT_SPECIFIED', remote_status='NOT_SPECIFIED', controller_id=None),\n",
       " BuildingSubSystem(id=220623, acronym='dh', hydraulic_location_index=1, building_id=2382, type='DISTRICT_HEATING', sub_type='NOT_SPECIFIED', category='PRODUCER', remote_status='NOT_SPECIFIED', controller_id=None),\n",
       " BuildingSubSystem(id=220624, acronym='hc(n)', hydraulic_location_index=1, building_id=2382, type='HEATING_CIRCUIT', sub_type='FLOOR_HEATING', category='CONSUMER', remote_status='NOT_SPECIFIED', controller_id=None),\n",
       " BuildingSubSystem(id=220625, acronym='hw(n)', hydraulic_location_index=1, building_id=2382, type='WARM_WATER', sub_type='FRESH_WATER_STATION', category='CONSUMER', remote_status='NOT_SPECIFIED', controller_id=None)]"
      ]
     },
     "execution_count": 12,
     "metadata": {},
     "output_type": "execute_result"
    }
   ],
   "source": [
    "#client.buildings.get_sub_systems_by_building_id(2382) \n"
   ]
  },
  {
   "cell_type": "code",
   "execution_count": 13,
   "id": "1470d7d1-198c-4eb4-bffa-d6519f288173",
   "metadata": {},
   "outputs": [
    {
     "data": {
      "text/plain": [
       "{'global(1)': 'id : 220622 category : NOT_SPECIFIED type : GLOBAL sub_type : NOT_SPECIFIED',\n",
       " 'dh(1)': 'id : 220623 category : PRODUCER type : DISTRICT_HEATING sub_type : NOT_SPECIFIED',\n",
       " 'hc(n)(1)': 'id : 220624 category : CONSUMER type : HEATING_CIRCUIT sub_type : FLOOR_HEATING',\n",
       " 'hw(n)(1)': 'id : 220625 category : CONSUMER type : WARM_WATER sub_type : FRESH_WATER_STATION'}"
      ]
     },
     "execution_count": 13,
     "metadata": {},
     "output_type": "execute_result"
    }
   ],
   "source": [
    "#get_sub_component(2382)"
   ]
  },
  {
   "cell_type": "markdown",
   "id": "a50e35da-51e2-42b1-a89b-b2ac721ea9ed",
   "metadata": {},
   "source": [
    "## get_buildings_df"
   ]
  },
  {
   "cell_type": "code",
   "execution_count": 14,
   "id": "40aeed91-efa6-449b-81f1-0f52a2897222",
   "metadata": {},
   "outputs": [
    {
     "data": {
      "text/html": [
       "<div>\n",
       "<style scoped>\n",
       "    .dataframe tbody tr th:only-of-type {\n",
       "        vertical-align: middle;\n",
       "    }\n",
       "\n",
       "    .dataframe tbody tr th {\n",
       "        vertical-align: top;\n",
       "    }\n",
       "\n",
       "    .dataframe thead th {\n",
       "        text-align: right;\n",
       "    }\n",
       "</style>\n",
       "<table border=\"1\" class=\"dataframe\">\n",
       "  <thead>\n",
       "    <tr style=\"text-align: right;\">\n",
       "      <th></th>\n",
       "      <th>building_id</th>\n",
       "      <th>customerID</th>\n",
       "      <th>customer_name</th>\n",
       "      <th>address</th>\n",
       "      <th>city</th>\n",
       "      <th>postal_code</th>\n",
       "      <th>coordinates</th>\n",
       "      <th>gfid</th>\n",
       "      <th>modular_system</th>\n",
       "      <th>LayoutID</th>\n",
       "    </tr>\n",
       "  </thead>\n",
       "  <tbody>\n",
       "    <tr>\n",
       "      <th>0</th>\n",
       "      <td>756</td>\n",
       "      <td>66</td>\n",
       "      <td>HwS</td>\n",
       "      <td>Wolzogenstr.28</td>\n",
       "      <td>Berlin</td>\n",
       "      <td>14163</td>\n",
       "      <td>[52.432631, 13.234862]</td>\n",
       "      <td>GFP-12505</td>\n",
       "      <td>{'name': 'modular-system-entry', 'id': 'modula...</td>\n",
       "      <td>gas:1--gas:2--heating-circuit:1--heating-circu...</td>\n",
       "    </tr>\n",
       "    <tr>\n",
       "      <th>1</th>\n",
       "      <td>757</td>\n",
       "      <td>66</td>\n",
       "      <td>HwS</td>\n",
       "      <td>Hagelberger Str. 26</td>\n",
       "      <td>Berlin</td>\n",
       "      <td>10965</td>\n",
       "      <td>[52.491932, 13.379842]</td>\n",
       "      <td>GFP-13438</td>\n",
       "      <td>{'name': 'modular-system-entry', 'id': 'modula...</td>\n",
       "      <td>gas:1--gas:2--heating-circuit:1</td>\n",
       "    </tr>\n",
       "    <tr>\n",
       "      <th>2</th>\n",
       "      <td>758</td>\n",
       "      <td>66</td>\n",
       "      <td>HwS</td>\n",
       "      <td>Hochstr. 8</td>\n",
       "      <td>Berlin</td>\n",
       "      <td>13357</td>\n",
       "      <td>[52.54765, 13.381522]</td>\n",
       "      <td>GFP-12475</td>\n",
       "      <td>{'name': 'modular-system-entry', 'id': 'modula...</td>\n",
       "      <td>gas:1--heating-circuit:1</td>\n",
       "    </tr>\n",
       "    <tr>\n",
       "      <th>3</th>\n",
       "      <td>759</td>\n",
       "      <td>66</td>\n",
       "      <td>HwS</td>\n",
       "      <td>Planufer 82a</td>\n",
       "      <td>Berlin</td>\n",
       "      <td>10967</td>\n",
       "      <td>[52.494745, 13.413277]</td>\n",
       "      <td>GFP-12530</td>\n",
       "      <td>{'name': 'modular-system-entry', 'id': 'modula...</td>\n",
       "      <td>gas:1--heating-circuit:1</td>\n",
       "    </tr>\n",
       "    <tr>\n",
       "      <th>4</th>\n",
       "      <td>761</td>\n",
       "      <td>66</td>\n",
       "      <td>HwS</td>\n",
       "      <td>Gabainstr. 13</td>\n",
       "      <td>Berlin</td>\n",
       "      <td>12247</td>\n",
       "      <td>[52.436169, 13.360646]</td>\n",
       "      <td>GFP-12605</td>\n",
       "      <td>{'name': 'modular-system-entry', 'id': 'modula...</td>\n",
       "      <td>gas:1--gas:2--global-separation-circuit:1--hea...</td>\n",
       "    </tr>\n",
       "  </tbody>\n",
       "</table>\n",
       "</div>"
      ],
      "text/plain": [
       "   building_id  customerID customer_name              address    city  \\\n",
       "0          756          66           HwS       Wolzogenstr.28  Berlin   \n",
       "1          757          66           HwS  Hagelberger Str. 26  Berlin   \n",
       "2          758          66           HwS           Hochstr. 8  Berlin   \n",
       "3          759          66           HwS         Planufer 82a  Berlin   \n",
       "4          761          66           HwS        Gabainstr. 13  Berlin   \n",
       "\n",
       "  postal_code             coordinates       gfid  \\\n",
       "0       14163  [52.432631, 13.234862]  GFP-12505   \n",
       "1       10965  [52.491932, 13.379842]  GFP-13438   \n",
       "2       13357   [52.54765, 13.381522]  GFP-12475   \n",
       "3       10967  [52.494745, 13.413277]  GFP-12530   \n",
       "4       12247  [52.436169, 13.360646]  GFP-12605   \n",
       "\n",
       "                                      modular_system  \\\n",
       "0  {'name': 'modular-system-entry', 'id': 'modula...   \n",
       "1  {'name': 'modular-system-entry', 'id': 'modula...   \n",
       "2  {'name': 'modular-system-entry', 'id': 'modula...   \n",
       "3  {'name': 'modular-system-entry', 'id': 'modula...   \n",
       "4  {'name': 'modular-system-entry', 'id': 'modula...   \n",
       "\n",
       "                                            LayoutID  \n",
       "0  gas:1--gas:2--heating-circuit:1--heating-circu...  \n",
       "1                    gas:1--gas:2--heating-circuit:1  \n",
       "2                           gas:1--heating-circuit:1  \n",
       "3                           gas:1--heating-circuit:1  \n",
       "4  gas:1--gas:2--global-separation-circuit:1--hea...  "
      ]
     },
     "execution_count": 14,
     "metadata": {},
     "output_type": "execute_result"
    }
   ],
   "source": [
    "# Get customers list (list of dicts)\n",
    "customers = client.customers.get_list_of_customers()\n",
    "#build df\n",
    "df_buildings = get_buildings_df(client, customers)\n",
    "#test\n",
    "#df_buildings.head()"
   ]
  },
  {
   "cell_type": "markdown",
   "id": "0242dbc7-6f34-4d96-9db1-76e3a0ba7005",
   "metadata": {},
   "source": [
    "## get sub component "
   ]
  },
  {
   "cell_type": "code",
   "execution_count": 15,
   "id": "2216cbac-0393-4ede-bca3-66985568e6ec",
   "metadata": {},
   "outputs": [],
   "source": [
    "df_buildings['sub_components'] = df_buildings['building_id'].apply(get_sub_component)"
   ]
  },
  {
   "cell_type": "code",
   "execution_count": 16,
   "id": "2ef99784-006a-4551-9f63-2dd222f68764",
   "metadata": {},
   "outputs": [],
   "source": [
    "#df_buildings[['building_id','LayoutID','sub_components']].head()"
   ]
  },
  {
   "cell_type": "code",
   "execution_count": 17,
   "id": "ffd485e2-1f7e-4aad-a771-0bd9dbddaf4c",
   "metadata": {
    "scrolled": true
   },
   "outputs": [],
   "source": [
    "#df_buildings.loc[df_buildings['building_id'] == 765, 'sub_components']"
   ]
  },
  {
   "cell_type": "markdown",
   "id": "1d8f7d32-c1b9-464c-a047-ec990163f389",
   "metadata": {},
   "source": [
    "## get sub sensors "
   ]
  },
  {
   "cell_type": "code",
   "execution_count": 18,
   "id": "61b62b58-f487-4bfe-93c6-f736c8932eb1",
   "metadata": {},
   "outputs": [],
   "source": [
    "df_buildings['sensors'] = df_buildings['building_id'].apply(get_sensors)"
   ]
  },
  {
   "cell_type": "markdown",
   "id": "0b42d79a-2565-4ab0-a34e-da45eafa70f7",
   "metadata": {},
   "source": [
    "## get sensor count"
   ]
  },
  {
   "cell_type": "code",
   "execution_count": 19,
   "id": "8aa38d74-979b-4c8d-a9f8-04efeef66d6c",
   "metadata": {},
   "outputs": [],
   "source": [
    "df_buildings['t_sensor_count']=0\n",
    "#df_buildings['t_sensor_count'] = df_buildings['building_id'].apply(get_t_sensor_count)"
   ]
  },
  {
   "cell_type": "code",
   "execution_count": 20,
   "id": "12268c50-dde6-4ec8-97f8-86ffa077c92e",
   "metadata": {},
   "outputs": [],
   "source": [
    "#df_buildings.count()"
   ]
  },
  {
   "cell_type": "markdown",
   "id": "9ec6d2c6-4fff-4b88-abbd-69ae7ed83167",
   "metadata": {},
   "source": [
    "## get devices"
   ]
  },
  {
   "cell_type": "code",
   "execution_count": 21,
   "id": "a704d5c4-3c0d-4d25-83b5-d1e9fcba844d",
   "metadata": {},
   "outputs": [],
   "source": [
    "df_devices=get_devices(client)\n",
    "df_devices = df_devices.rename(columns={\"type\": \"device_type\"})"
   ]
  },
  {
   "cell_type": "code",
   "execution_count": 22,
   "id": "18f48363-e005-4c0e-83aa-74c22092cfb1",
   "metadata": {},
   "outputs": [],
   "source": [
    "#df_devices.head()"
   ]
  },
  {
   "cell_type": "code",
   "execution_count": 23,
   "id": "53bd4271-3acd-412f-b0d3-e9bd1c60a150",
   "metadata": {},
   "outputs": [],
   "source": [
    "#df_devices.count()"
   ]
  },
  {
   "cell_type": "code",
   "execution_count": 24,
   "id": "923fea8c-8304-460e-b821-b5969a41f680",
   "metadata": {},
   "outputs": [
    {
     "data": {
      "text/html": [
       "<div>\n",
       "<style scoped>\n",
       "    .dataframe tbody tr th:only-of-type {\n",
       "        vertical-align: middle;\n",
       "    }\n",
       "\n",
       "    .dataframe tbody tr th {\n",
       "        vertical-align: top;\n",
       "    }\n",
       "\n",
       "    .dataframe thead th {\n",
       "        text-align: right;\n",
       "    }\n",
       "</style>\n",
       "<table border=\"1\" class=\"dataframe\">\n",
       "  <thead>\n",
       "    <tr style=\"text-align: right;\">\n",
       "      <th></th>\n",
       "      <th>building_id</th>\n",
       "    </tr>\n",
       "    <tr>\n",
       "      <th>device_type</th>\n",
       "      <th></th>\n",
       "    </tr>\n",
       "  </thead>\n",
       "  <tbody>\n",
       "    <tr>\n",
       "      <th>ECR_LW300</th>\n",
       "      <td>129</td>\n",
       "    </tr>\n",
       "    <tr>\n",
       "      <th>RUT956</th>\n",
       "      <td>987</td>\n",
       "    </tr>\n",
       "    <tr>\n",
       "      <th>RevPiConnectSE</th>\n",
       "      <td>1</td>\n",
       "    </tr>\n",
       "    <tr>\n",
       "      <th>RevPiCore32SE</th>\n",
       "      <td>3</td>\n",
       "    </tr>\n",
       "    <tr>\n",
       "      <th>WAGOPFC200</th>\n",
       "      <td>1</td>\n",
       "    </tr>\n",
       "  </tbody>\n",
       "</table>\n",
       "</div>"
      ],
      "text/plain": [
       "                building_id\n",
       "device_type                \n",
       "ECR_LW300               129\n",
       "RUT956                  987\n",
       "RevPiConnectSE            1\n",
       "RevPiCore32SE             3\n",
       "WAGOPFC200                1"
      ]
     },
     "execution_count": 24,
     "metadata": {},
     "output_type": "execute_result"
    }
   ],
   "source": [
    "df_devices[['device_type','building_id']].groupby('device_type').count()"
   ]
  },
  {
   "cell_type": "markdown",
   "id": "400426f6-96f3-480d-9ac0-43bc89299ba5",
   "metadata": {},
   "source": [
    "## Merge Dfs"
   ]
  },
  {
   "cell_type": "code",
   "execution_count": 25,
   "id": "63876982-cb52-4392-b672-7d8e0446751b",
   "metadata": {},
   "outputs": [],
   "source": [
    "# Merge the two DataFrames on building_id\n",
    "df_buildings = df_buildings.merge(\n",
    "    df_devices[['building_id', 'device_type', 'device_id']],\n",
    "    on='building_id',\n",
    "    how='left'  # ensures all rows from df_buildings are kept\n",
    ")"
   ]
  },
  {
   "cell_type": "code",
   "execution_count": 26,
   "id": "c7790790-2837-414c-ac99-be99407dd5bf",
   "metadata": {},
   "outputs": [],
   "source": [
    "#df_buildings.head()"
   ]
  },
  {
   "cell_type": "code",
   "execution_count": 27,
   "id": "8e64b580-8528-4aa3-9aa9-e8bdc4d29e43",
   "metadata": {},
   "outputs": [],
   "source": [
    "#df_buildings.count()"
   ]
  },
  {
   "cell_type": "markdown",
   "id": "a2d53d24-5ea6-4e08-be83-e8caa43d1f00",
   "metadata": {},
   "source": [
    "### get missing_sensors"
   ]
  },
  {
   "cell_type": "code",
   "execution_count": 60,
   "id": "15b3032a-1e58-4e8e-b2cd-b29369ff3fed",
   "metadata": {},
   "outputs": [],
   "source": [
    "df_buildings['missing_WW_sensors'] = df_buildings.apply(find_missing_sensors_by_gfid, axis=1)"
   ]
  },
  {
   "cell_type": "code",
   "execution_count": 61,
   "id": "935c5d8a-5ff6-41f5-8a0c-d13fc5d48e86",
   "metadata": {},
   "outputs": [],
   "source": [
    "df_missing_WW_sensors=df_buildings[df_buildings['missing_WW_sensors'].notna()]"
   ]
  },
  {
   "cell_type": "markdown",
   "id": "9524dc75-5af9-4567-973c-f5e45b98e40d",
   "metadata": {},
   "source": [
    "### test"
   ]
  },
  {
   "cell_type": "code",
   "execution_count": 62,
   "id": "f86075be-9bb2-45ff-a339-dcd7037265c1",
   "metadata": {},
   "outputs": [],
   "source": [
    "bid=2461"
   ]
  },
  {
   "cell_type": "code",
   "execution_count": 63,
   "id": "2222a748-2fcc-4c10-9f62-19c29c55c794",
   "metadata": {},
   "outputs": [
    {
     "data": {
      "text/plain": [
       "{'e_g_bldg_y(1)': 'id : 37616 gfid : 460 sub_system_id : 220835 unit : kWh source : MANUALLY_ENTERED',\n",
       " 'v_g_gm(1)': 'id : 41134 gfid : 133 sub_system_id : 220835 unit : m³ source : GREENBOX_MQTT',\n",
       " 't_b(n)_flow(1)': 'id : 41099 gfid : 71 sub_system_id : 220836 unit : °C source : GREENBOX_MQTT',\n",
       " 'None(1)': 'id : 41110 gfid : None sub_system_id : None unit : None source : GREENBOX_MQTT',\n",
       " 't_b(n)_return(1)': 'id : 41101 gfid : 76 sub_system_id : 220836 unit : °C source : GREENBOX_MQTT',\n",
       " 't_hc(n)_flow(1)': 'id : 41103 gfid : 112 sub_system_id : 220837 unit : °C source : GREENBOX_MQTT',\n",
       " 't_hc(n)_return(1)': 'id : 41105 gfid : 117 sub_system_id : 220837 unit : °C source : GREENBOX_MQTT',\n",
       " 't_hw(n)_pwh(1)': 'id : 41107 gfid : 119 sub_system_id : 220838 unit : °C source : GREENBOX_MQTT',\n",
       " 't_hw(n)_circ(1)': 'id : 41109 gfid : 118 sub_system_id : 220838 unit : °C source : GREENBOX_MQTT',\n",
       " 't_g_out_api(None)': 'id : 41111 gfid : 434 sub_system_id : None unit : °C source : OPEN_WEATHER_API',\n",
       " 'None(None)': 'id : 41113 gfid : None sub_system_id : None unit : None source : GREENBOX_MQTT'}"
      ]
     },
     "execution_count": 63,
     "metadata": {},
     "output_type": "execute_result"
    }
   ],
   "source": [
    "df_buildings.loc[df_buildings['building_id'] == bid, 'sensors'].item()"
   ]
  },
  {
   "cell_type": "code",
   "execution_count": 64,
   "id": "9bb016ca-2668-4901-b413-824937c44a48",
   "metadata": {},
   "outputs": [
    {
     "data": {
      "text/plain": [
       "{'missing_gfids': [123, 124], 'ww_subsystem_ids': [220838]}"
      ]
     },
     "execution_count": 64,
     "metadata": {},
     "output_type": "execute_result"
    }
   ],
   "source": [
    "df_buildings.loc[df_buildings['building_id'] == bid, 'missing_WW_sensors'].item()"
   ]
  },
  {
   "cell_type": "code",
   "execution_count": 65,
   "id": "9ebfe6a5-7be1-44b0-a028-e0aa183cdda1",
   "metadata": {},
   "outputs": [
    {
     "data": {
      "text/plain": [
       "{'global(1)': 'id : 220835 category : NOT_SPECIFIED type : GLOBAL sub_type : NOT_SPECIFIED',\n",
       " 'b(n)(1)': 'id : 220836 category : PRODUCER type : BOILER sub_type : GAS',\n",
       " 'hc(n)(1)': 'id : 220837 category : CONSUMER type : HEATING_CIRCUIT sub_type : NOT_SPECIFIED',\n",
       " 'hw(n)(1)': 'id : 220838 category : CONSUMER type : WARM_WATER sub_type : STORAGE_TANK'}"
      ]
     },
     "execution_count": 65,
     "metadata": {},
     "output_type": "execute_result"
    }
   ],
   "source": [
    "df_buildings.loc[df_buildings['building_id'] == bid, 'sub_components'].item()"
   ]
  },
  {
   "cell_type": "code",
   "execution_count": 66,
   "id": "6dd5b79b-ab19-46d9-8765-1f231d421b70",
   "metadata": {},
   "outputs": [
    {
     "data": {
      "text/plain": [
       "'RUT956'"
      ]
     },
     "execution_count": 66,
     "metadata": {},
     "output_type": "execute_result"
    }
   ],
   "source": [
    "df_buildings.loc[df_buildings['building_id'] == bid, 'device_type'].item()"
   ]
  },
  {
   "cell_type": "markdown",
   "id": "e41c8906-9a6f-4bec-902c-9d1fda52937a",
   "metadata": {
    "scrolled": true
   },
   "source": [
    "## Exports df to csv"
   ]
  },
  {
   "cell_type": "code",
   "execution_count": 67,
   "id": "d5931114-43df-4e95-b629-f69ef665835c",
   "metadata": {},
   "outputs": [],
   "source": [
    "# get_buildings_df\n",
    "if True:\n",
    "    today_str = datetime.today().strftime('%Y-%m-%d')\n",
    "    filename = f\"Building_device_Layout_sensors_{today_str}.csv\"\n",
    "    filename2 = f\"Building_missing_ww_sensors{today_str}.csv\"\n",
    "    filepath = os.path.join('OUTs', filename)\n",
    "    filepath2 = os.path.join('OUTs', filename2)\n",
    "    df_buildings[['building_id',\n",
    "               'customerID',\n",
    "               'customer_name',\n",
    "               'address',\n",
    "               'postal_code',\n",
    "               'city',\n",
    "               'device_type',\n",
    "               'device_id',\n",
    "               'LayoutID',\n",
    "               'sub_components',\n",
    "               'modular_system',\n",
    "               't_sensor_count',\n",
    "               'sensors',\n",
    "               #'missing_WW_sensors',\n",
    "               'gfid']].to_csv(filepath, index=False)\n",
    "    df_missing_WW_sensors[['building_id',\n",
    "               'customerID',\n",
    "               'customer_name',\n",
    "               'address',\n",
    "               'postal_code',\n",
    "               'city',\n",
    "               'device_type',\n",
    "               'device_id',\n",
    "               'sub_components',\n",
    "               'sensors',\n",
    "               'missing_WW_sensors',\n",
    "               'gfid']].to_csv(filepath2, index=False)"
   ]
  },
  {
   "cell_type": "code",
   "execution_count": null,
   "id": "bfb5d6ce-2595-4667-b160-8969a8ef59e8",
   "metadata": {},
   "outputs": [],
   "source": []
  }
 ],
 "metadata": {
  "kernelspec": {
   "display_name": "Python 3 (ipykernel)",
   "language": "python",
   "name": "python3"
  },
  "language_info": {
   "codemirror_mode": {
    "name": "ipython",
    "version": 3
   },
   "file_extension": ".py",
   "mimetype": "text/x-python",
   "name": "python",
   "nbconvert_exporter": "python",
   "pygments_lexer": "ipython3",
   "version": "3.12.10"
  }
 },
 "nbformat": 4,
 "nbformat_minor": 5
}
