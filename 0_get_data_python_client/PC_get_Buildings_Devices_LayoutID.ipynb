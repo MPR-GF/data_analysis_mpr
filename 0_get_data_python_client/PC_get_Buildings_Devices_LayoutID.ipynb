{
 "cells": [
  {
   "cell_type": "markdown",
   "id": "2cde8c3b-78b4-4ac9-9b4b-06d01c1b2a73",
   "metadata": {},
   "source": [
    "# Get data from the python client"
   ]
  },
  {
   "cell_type": "markdown",
   "id": "33c8cb17-e8f9-40da-a6a6-4facfe6d7bc7",
   "metadata": {},
   "source": [
    "## Relevant documents"
   ]
  },
  {
   "cell_type": "markdown",
   "id": "d4b1fbd9-6220-4d26-a9a2-ee428b1187f8",
   "metadata": {},
   "source": [
    "- (Python Client Repo)[https://github.com/Green-Fusion/energy-management-backend/tree/main/python_client]\n",
    "- (Swagger UI)[https://control.green-fusion.de/services/energy-management-backend/v1/api/doc#/]\n"
   ]
  },
  {
   "cell_type": "markdown",
   "id": "6f43af12-eb62-4d19-8a9a-7730f3be834f",
   "metadata": {},
   "source": [
    "## Inits"
   ]
  },
  {
   "cell_type": "code",
   "execution_count": 1,
   "id": "7a18f22c-fe80-4183-a62e-e2d68a0c4f1a",
   "metadata": {},
   "outputs": [],
   "source": [
    "#imports\n",
    "from energy_management_client import BackendPythonClient\n",
    "import pandas as pd\n",
    "import json\n",
    "from datetime import datetime\n",
    "import pprint  # For pretty-printing\n",
    "import ast  \n",
    "import os"
   ]
  },
  {
   "cell_type": "code",
   "execution_count": 2,
   "id": "123a61cb-760c-4ef4-abb5-6fb2a7c2b454",
   "metadata": {},
   "outputs": [],
   "source": [
    "# select your environment\n",
    "environment=\"prod\" # prod or dev\n",
    "\n",
    "# Selector\n",
    "if environment==\"dev\":\n",
    "    backend_endpoint_path=\"https://dev.green-fusion.de/services/energy-management-backend/v1/api\"\n",
    "    realm_type=\"development\"\n",
    "elif environment==\"prod\":\n",
    "    backend_endpoint_path=\"https://control.green-fusion.de/services/energy-management-backend/v1/api\"\n",
    "    realm_type=\"control\"  \n",
    "else:\n",
    "    backend_endpoint_path=\"\"\n",
    "    realm_type=\"\"\n",
    "    print(\"select either prod or dev for the environment\")\n",
    "\n",
    "#test\n",
    "#backend_endpoint_path, realm_type\n",
    "if True:\n",
    "    # pythpon client auth & login\n",
    "    # init the client   \n",
    "    client = BackendPythonClient(backend_endpoint=backend_endpoint_path,)\n",
    "    \n",
    "    #login\n",
    "    client.login(\n",
    "        auth_endpoint=\"https://auth.green-fusion.de\",\n",
    "        realm=realm_type,\n",
    "        client_id=\"backend_python_client\", # backend_python_client, datascience_development_api\n",
    "        grant_type=\"device_code\", #\"client_credentials\",  # or \"password\", \"device_code\"\n",
    "    )"
   ]
  },
  {
   "cell_type": "markdown",
   "id": "0e4fb75d-9dfb-4574-8c7e-c084277bca8b",
   "metadata": {},
   "source": [
    "## Functions"
   ]
  },
  {
   "cell_type": "markdown",
   "id": "62a018da-97aa-4d54-b7e1-3117b70dc11d",
   "metadata": {
    "jp-MarkdownHeadingCollapsed": true
   },
   "source": [
    "### buildings"
   ]
  },
  {
   "cell_type": "code",
   "execution_count": 3,
   "id": "64e729b4-6944-409b-850c-d5d3ddfc2605",
   "metadata": {},
   "outputs": [],
   "source": [
    "def get_buildings_df(client, customers):\n",
    "    \"\"\"\n",
    "    Loop through all customers, fetch their buildings, and build a DataFrame where each row contains:\n",
    "      - building_id, customerID (from customer object), address, city, atvise_display_name, base,\n",
    "      - heatingType, heatingSurface, access_key, nickname, postal_code, gui_name,\n",
    "      - coordinates, CustomerAlias, gfid,\n",
    "      - LayoutID (extracted from modular_system)\n",
    "\n",
    "    Usage:\n",
    "        customers = client.customers.get_list_of_customers()\n",
    "        df = get_buildings_df(client, customers)\n",
    "        print(df.head())\n",
    "    \"\"\"\n",
    "    try:\n",
    "        data = []\n",
    "        for c in customers:\n",
    "            customer_id = c.id\n",
    "            customer_name = getattr(c, 'name', None)\n",
    "            client.configure(customer_id=customer_id)\n",
    "            \n",
    "            # Get buildings\n",
    "            c_buildings = client.buildings.get_buildings()\n",
    "            building_list = getattr(c_buildings, 'buildings', [])\n",
    "            \n",
    "            for b in building_list:\n",
    "                building_id         = getattr(b, 'building_id', None)\n",
    "                address             = getattr(b, 'address', None)\n",
    "                city                = getattr(b, 'city', None)\n",
    "                atvise_display_name = getattr(b, 'atvise_display_name', None)\n",
    "                base                = getattr(b, 'base', None)\n",
    "                heatingType         = getattr(b, 'heatingType', None)\n",
    "                heatingSurface      = getattr(b, 'heatingSurface', None)\n",
    "                access_key          = getattr(b, 'access_key', None)\n",
    "                nickname            = getattr(b, 'nickname', None)\n",
    "                postal_code         = getattr(b, 'postal_code', None)\n",
    "                gui_name            = getattr(b, 'gui_name', None)\n",
    "                coordinates         = getattr(b, 'coordinates', None)\n",
    "                CustomerAlias       = getattr(b, 'CustomerAlias', None)\n",
    "                gfid                = getattr(b, 'gfid', None)\n",
    "                \n",
    "                # Parse modular_system\n",
    "                modular_system_str = getattr(b, 'modular_system', None)\n",
    "                LayoutID = None\n",
    "                if modular_system_str:\n",
    "                    try:\n",
    "                        modular_system = json.loads(modular_system_str)\n",
    "                        LayoutID = modular_system.get('layoutID', None)\n",
    "                    except json.JSONDecodeError:\n",
    "                        LayoutID = None\n",
    "\n",
    "                data.append({\n",
    "                    \"building_id\": building_id,\n",
    "                    \"customerID\": customer_id,  # <-- corrected here\n",
    "                    \"customer_name\": customer_name,\n",
    "                    \"address\": address,\n",
    "                    \"city\": city,\n",
    "                    \"atvise_display_name\": atvise_display_name,\n",
    "                    \"base\": base,\n",
    "                    \"heatingType\": heatingType,\n",
    "                    \"heatingSurface\": heatingSurface,\n",
    "                    \"access_key\": access_key,\n",
    "                    \"nickname\": nickname,\n",
    "                    \"postal_code\": postal_code,\n",
    "                    \"gui_name\": gui_name,\n",
    "                    \"coordinates\": coordinates,\n",
    "                    \"CustomerAlias\": CustomerAlias,\n",
    "                    \"gfid\": gfid,\n",
    "                    \"modular_system\": modular_system,  \n",
    "                    \"LayoutID\": LayoutID\n",
    "                })\n",
    "\n",
    "        return pd.DataFrame(data)\n",
    "\n",
    "    except Exception as e:\n",
    "        print(\"API Call Failed:\", e)\n",
    "        return pd.DataFrame()"
   ]
  },
  {
   "cell_type": "markdown",
   "id": "18e5b258-38e8-4b3a-9d2e-cfcd78c753b8",
   "metadata": {
    "jp-MarkdownHeadingCollapsed": true
   },
   "source": [
    "### devices"
   ]
  },
  {
   "cell_type": "code",
   "execution_count": 4,
   "id": "638864b3-1df1-493b-bdad-cec0f35cac52",
   "metadata": {},
   "outputs": [],
   "source": [
    "def get_devices(client):\n",
    "    \"\"\"\n",
    "    usage:\n",
    "    list_device=get_devices(client)\n",
    "    list(list_device)\n",
    "    \"\"\"\n",
    "    devices_list=client.devices.get_devices()\n",
    "    devices_list=list(devices_list)[0][1]\n",
    "    device_dicts = [device.__dict__ for device in devices_list]\n",
    "    df_device = pd.DataFrame(device_dicts)\n",
    "    return df_device"
   ]
  },
  {
   "cell_type": "markdown",
   "id": "e08a72be-07c0-44fd-87d3-f3e1d8f607d4",
   "metadata": {
    "jp-MarkdownHeadingCollapsed": true
   },
   "source": [
    "### T sensor count "
   ]
  },
  {
   "cell_type": "code",
   "execution_count": 5,
   "id": "02f27f0f-afab-4cd0-975b-6748c765bcf9",
   "metadata": {},
   "outputs": [],
   "source": [
    "def get_t_sensor_count(building_id):\n",
    "    try:\n",
    "        sensors = client.buildings.get_list_of_sensors_by_building_id(building_id)\n",
    "        count = sum(\n",
    "            1 for s in sensors\n",
    "            if s.unit == '°C'\n",
    "            and s.source == 'GREENBOX_MQTT'\n",
    "            and (s.long_name is None or 'Wärmemengenzähler' not in s.long_name)\n",
    "        )\n",
    "        return count\n",
    "    except Exception as e:\n",
    "        # Optionally log the error\n",
    "        return None\n"
   ]
  },
  {
   "cell_type": "code",
   "execution_count": 6,
   "id": "232805a1-51cf-4ce6-b4ba-46a5fb9fb689",
   "metadata": {},
   "outputs": [],
   "source": [
    "#get_t_sensor_count(1750)"
   ]
  },
  {
   "cell_type": "code",
   "execution_count": 7,
   "id": "2d969c32-3539-4529-9efa-24670584e2f6",
   "metadata": {},
   "outputs": [],
   "source": [
    "#client.buildings.get_list_of_sensors_by_building_id(2382)"
   ]
  },
  {
   "cell_type": "markdown",
   "id": "713aaf60-42c0-4df3-8c57-64dc5aa8c823",
   "metadata": {
    "jp-MarkdownHeadingCollapsed": true
   },
   "source": [
    "### sub component"
   ]
  },
  {
   "cell_type": "code",
   "execution_count": 8,
   "id": "4cf6f012-dba5-4d80-9086-3bee20d9f931",
   "metadata": {},
   "outputs": [],
   "source": [
    "def get_sub_component(building_id):\n",
    "    #print(f\"Fetching subsystems for building_id: {building_id}\")  # Debug\n",
    "    subsystems = client.buildings.get_sub_systems_by_building_id(building_id)\n",
    "    \n",
    "    subsystems_infos = {\n",
    "        s.acronym: f\"type : {s.type} sub_type : {s.sub_type}\"\n",
    "        for s in subsystems\n",
    "    }\n",
    "    return subsystems_infos"
   ]
  },
  {
   "cell_type": "code",
   "execution_count": 9,
   "id": "e7dfa8d4-e5a3-4023-b69b-4899d3527350",
   "metadata": {},
   "outputs": [
    {
     "data": {
      "text/plain": [
       "{'global': 'type : GLOBAL sub_type : NOT_SPECIFIED',\n",
       " 'dh': 'type : DISTRICT_HEATING sub_type : NOT_SPECIFIED',\n",
       " 'hc(n)': 'type : HEATING_CIRCUIT sub_type : NOT_SPECIFIED',\n",
       " 'hw(n)': 'type : WARM_WATER sub_type : STORAGE_TANK'}"
      ]
     },
     "execution_count": 9,
     "metadata": {},
     "output_type": "execute_result"
    }
   ],
   "source": [
    "#client.buildings.get_sub_systems_by_building_id(2382) \n",
    "get_sub_component(765)"
   ]
  },
  {
   "cell_type": "markdown",
   "id": "a50e35da-51e2-42b1-a89b-b2ac721ea9ed",
   "metadata": {
    "jp-MarkdownHeadingCollapsed": true
   },
   "source": [
    "## get_buildings_df"
   ]
  },
  {
   "cell_type": "code",
   "execution_count": 10,
   "id": "40aeed91-efa6-449b-81f1-0f52a2897222",
   "metadata": {},
   "outputs": [
    {
     "data": {
      "text/html": [
       "<div>\n",
       "<style scoped>\n",
       "    .dataframe tbody tr th:only-of-type {\n",
       "        vertical-align: middle;\n",
       "    }\n",
       "\n",
       "    .dataframe tbody tr th {\n",
       "        vertical-align: top;\n",
       "    }\n",
       "\n",
       "    .dataframe thead th {\n",
       "        text-align: right;\n",
       "    }\n",
       "</style>\n",
       "<table border=\"1\" class=\"dataframe\">\n",
       "  <thead>\n",
       "    <tr style=\"text-align: right;\">\n",
       "      <th></th>\n",
       "      <th>building_id</th>\n",
       "      <th>customerID</th>\n",
       "      <th>customer_name</th>\n",
       "      <th>address</th>\n",
       "      <th>city</th>\n",
       "      <th>atvise_display_name</th>\n",
       "      <th>base</th>\n",
       "      <th>heatingType</th>\n",
       "      <th>heatingSurface</th>\n",
       "      <th>access_key</th>\n",
       "      <th>nickname</th>\n",
       "      <th>postal_code</th>\n",
       "      <th>gui_name</th>\n",
       "      <th>coordinates</th>\n",
       "      <th>CustomerAlias</th>\n",
       "      <th>gfid</th>\n",
       "      <th>modular_system</th>\n",
       "      <th>LayoutID</th>\n",
       "    </tr>\n",
       "  </thead>\n",
       "  <tbody>\n",
       "    <tr>\n",
       "      <th>0</th>\n",
       "      <td>756</td>\n",
       "      <td>66</td>\n",
       "      <td>HwS</td>\n",
       "      <td>Wolzogenstr.28</td>\n",
       "      <td>Berlin</td>\n",
       "      <td>None</td>\n",
       "      <td>None</td>\n",
       "      <td>None</td>\n",
       "      <td>None</td>\n",
       "      <td>&amp;atvise_key=91e70eae-b284-4fd4-b124-72b76d4f71...</td>\n",
       "      <td>None</td>\n",
       "      <td>14163</td>\n",
       "      <td>Hilfswerk-Siedlung GmbH</td>\n",
       "      <td>[52.432631, 13.234862]</td>\n",
       "      <td>None</td>\n",
       "      <td>GFP-12505</td>\n",
       "      <td>{'name': 'modular-system-entry', 'id': 'modula...</td>\n",
       "      <td>gas:1--gas:2--heating-circuit:1--heating-circu...</td>\n",
       "    </tr>\n",
       "    <tr>\n",
       "      <th>1</th>\n",
       "      <td>757</td>\n",
       "      <td>66</td>\n",
       "      <td>HwS</td>\n",
       "      <td>Hagelberger Str. 26</td>\n",
       "      <td>Berlin</td>\n",
       "      <td>None</td>\n",
       "      <td>None</td>\n",
       "      <td>None</td>\n",
       "      <td>None</td>\n",
       "      <td>&amp;atvise_key=91e70eae-b284-4fd4-b124-72b76d4f71...</td>\n",
       "      <td>None</td>\n",
       "      <td>10965</td>\n",
       "      <td>Hilfswerk-Siedlung GmbH</td>\n",
       "      <td>[52.491932, 13.379842]</td>\n",
       "      <td>None</td>\n",
       "      <td>GFP-13438</td>\n",
       "      <td>{'name': 'modular-system-entry', 'id': 'modula...</td>\n",
       "      <td>gas:1--gas:2--heating-circuit:1</td>\n",
       "    </tr>\n",
       "    <tr>\n",
       "      <th>2</th>\n",
       "      <td>758</td>\n",
       "      <td>66</td>\n",
       "      <td>HwS</td>\n",
       "      <td>Hochstr. 8</td>\n",
       "      <td>Berlin</td>\n",
       "      <td>None</td>\n",
       "      <td>None</td>\n",
       "      <td>None</td>\n",
       "      <td>None</td>\n",
       "      <td>&amp;atvise_key=91e70eae-b284-4fd4-b124-72b76d4f71...</td>\n",
       "      <td>None</td>\n",
       "      <td>13357</td>\n",
       "      <td>Hilfswerk-Siedlung GmbH</td>\n",
       "      <td>[52.54765, 13.381522]</td>\n",
       "      <td>None</td>\n",
       "      <td>GFP-12475</td>\n",
       "      <td>{'name': 'modular-system-entry', 'id': 'modula...</td>\n",
       "      <td>gas:1--heating-circuit:1</td>\n",
       "    </tr>\n",
       "    <tr>\n",
       "      <th>3</th>\n",
       "      <td>759</td>\n",
       "      <td>66</td>\n",
       "      <td>HwS</td>\n",
       "      <td>Planufer 82a</td>\n",
       "      <td>Berlin</td>\n",
       "      <td>None</td>\n",
       "      <td>None</td>\n",
       "      <td>None</td>\n",
       "      <td>None</td>\n",
       "      <td>&amp;atvise_key=91e70eae-b284-4fd4-b124-72b76d4f71...</td>\n",
       "      <td>None</td>\n",
       "      <td>10967</td>\n",
       "      <td>Hilfswerk-Siedlung GmbH</td>\n",
       "      <td>[52.494745, 13.413277]</td>\n",
       "      <td>None</td>\n",
       "      <td>GFP-12530</td>\n",
       "      <td>{'name': 'modular-system-entry', 'id': 'modula...</td>\n",
       "      <td>gas:1--heating-circuit:1</td>\n",
       "    </tr>\n",
       "    <tr>\n",
       "      <th>4</th>\n",
       "      <td>761</td>\n",
       "      <td>66</td>\n",
       "      <td>HwS</td>\n",
       "      <td>Gabainstr. 13</td>\n",
       "      <td>Berlin</td>\n",
       "      <td>None</td>\n",
       "      <td>None</td>\n",
       "      <td>None</td>\n",
       "      <td>None</td>\n",
       "      <td>&amp;atvise_key=91e70eae-b284-4fd4-b124-72b76d4f71...</td>\n",
       "      <td>None</td>\n",
       "      <td>12247</td>\n",
       "      <td>Hilfswerk-Siedlung GmbH</td>\n",
       "      <td>[52.436169, 13.360646]</td>\n",
       "      <td>None</td>\n",
       "      <td>GFP-12605</td>\n",
       "      <td>{'name': 'modular-system-entry', 'id': 'modula...</td>\n",
       "      <td>gas:1--gas:2--global-separation-circuit:1--hea...</td>\n",
       "    </tr>\n",
       "  </tbody>\n",
       "</table>\n",
       "</div>"
      ],
      "text/plain": [
       "   building_id  customerID customer_name              address    city  \\\n",
       "0          756          66           HwS       Wolzogenstr.28  Berlin   \n",
       "1          757          66           HwS  Hagelberger Str. 26  Berlin   \n",
       "2          758          66           HwS           Hochstr. 8  Berlin   \n",
       "3          759          66           HwS         Planufer 82a  Berlin   \n",
       "4          761          66           HwS        Gabainstr. 13  Berlin   \n",
       "\n",
       "  atvise_display_name  base heatingType heatingSurface  \\\n",
       "0                None  None        None           None   \n",
       "1                None  None        None           None   \n",
       "2                None  None        None           None   \n",
       "3                None  None        None           None   \n",
       "4                None  None        None           None   \n",
       "\n",
       "                                          access_key nickname postal_code  \\\n",
       "0  &atvise_key=91e70eae-b284-4fd4-b124-72b76d4f71...     None       14163   \n",
       "1  &atvise_key=91e70eae-b284-4fd4-b124-72b76d4f71...     None       10965   \n",
       "2  &atvise_key=91e70eae-b284-4fd4-b124-72b76d4f71...     None       13357   \n",
       "3  &atvise_key=91e70eae-b284-4fd4-b124-72b76d4f71...     None       10967   \n",
       "4  &atvise_key=91e70eae-b284-4fd4-b124-72b76d4f71...     None       12247   \n",
       "\n",
       "                  gui_name             coordinates CustomerAlias       gfid  \\\n",
       "0  Hilfswerk-Siedlung GmbH  [52.432631, 13.234862]          None  GFP-12505   \n",
       "1  Hilfswerk-Siedlung GmbH  [52.491932, 13.379842]          None  GFP-13438   \n",
       "2  Hilfswerk-Siedlung GmbH   [52.54765, 13.381522]          None  GFP-12475   \n",
       "3  Hilfswerk-Siedlung GmbH  [52.494745, 13.413277]          None  GFP-12530   \n",
       "4  Hilfswerk-Siedlung GmbH  [52.436169, 13.360646]          None  GFP-12605   \n",
       "\n",
       "                                      modular_system  \\\n",
       "0  {'name': 'modular-system-entry', 'id': 'modula...   \n",
       "1  {'name': 'modular-system-entry', 'id': 'modula...   \n",
       "2  {'name': 'modular-system-entry', 'id': 'modula...   \n",
       "3  {'name': 'modular-system-entry', 'id': 'modula...   \n",
       "4  {'name': 'modular-system-entry', 'id': 'modula...   \n",
       "\n",
       "                                            LayoutID  \n",
       "0  gas:1--gas:2--heating-circuit:1--heating-circu...  \n",
       "1                    gas:1--gas:2--heating-circuit:1  \n",
       "2                           gas:1--heating-circuit:1  \n",
       "3                           gas:1--heating-circuit:1  \n",
       "4  gas:1--gas:2--global-separation-circuit:1--hea...  "
      ]
     },
     "execution_count": 10,
     "metadata": {},
     "output_type": "execute_result"
    }
   ],
   "source": [
    "# Get customers list (list of dicts)\n",
    "customers = client.customers.get_list_of_customers()\n",
    "#build df\n",
    "df_buildings = get_buildings_df(client, customers)\n",
    "#test\n",
    "df_buildings.head()"
   ]
  },
  {
   "cell_type": "markdown",
   "id": "0242dbc7-6f34-4d96-9db1-76e3a0ba7005",
   "metadata": {},
   "source": [
    "## get sub component "
   ]
  },
  {
   "cell_type": "code",
   "execution_count": 11,
   "id": "2216cbac-0393-4ede-bca3-66985568e6ec",
   "metadata": {},
   "outputs": [],
   "source": [
    "df_buildings['sub_components'] = df_buildings['building_id'].apply(get_sub_component)"
   ]
  },
  {
   "cell_type": "code",
   "execution_count": 31,
   "id": "2ef99784-006a-4551-9f63-2dd222f68764",
   "metadata": {},
   "outputs": [],
   "source": [
    "#df_buildings[['building_id','LayoutID','sub_components']].head()"
   ]
  },
  {
   "cell_type": "markdown",
   "id": "0b42d79a-2565-4ab0-a34e-da45eafa70f7",
   "metadata": {},
   "source": [
    "## get sensor count"
   ]
  },
  {
   "cell_type": "code",
   "execution_count": 14,
   "id": "8aa38d74-979b-4c8d-a9f8-04efeef66d6c",
   "metadata": {},
   "outputs": [],
   "source": [
    "df_buildings['t_sensor_count'] = df_buildings['building_id'].apply(get_t_sensor_count)"
   ]
  },
  {
   "cell_type": "code",
   "execution_count": 15,
   "id": "12268c50-dde6-4ec8-97f8-86ffa077c92e",
   "metadata": {},
   "outputs": [],
   "source": [
    "#df_buildings.count()"
   ]
  },
  {
   "cell_type": "code",
   "execution_count": 16,
   "id": "ea60f62e-ca52-4aaf-9650-5893422bf546",
   "metadata": {},
   "outputs": [
    {
     "name": "stdout",
     "output_type": "stream",
     "text": [
      "b(n): type : BOILER sub_type : GAS\n",
      "b(n): type : BOILER sub_type : NOT_SPECIFIED\n",
      "b(n): type : BOILER sub_type : OIL\n",
      "b(n): type : BOILER sub_type : PELLET\n",
      "buffer(n): type : BUFFER sub_type : NOT_SPECIFIED\n",
      "chp(n): type : CHP sub_type : NOT_SPECIFIED\n",
      "dh: type : DISTRICT_HEATING sub_type : NOT_SPECIFIED\n",
      "global: type : GLOBAL sub_type : NOT_SPECIFIED\n",
      "hc(n): type : HEATING_CIRCUIT sub_type : FLOOR_HEATING\n",
      "hc(n): type : HEATING_CIRCUIT sub_type : NOT_SPECIFIED\n",
      "hc(n): type : HEATING_CIRCUIT sub_type : RADIATOR_HEATING\n",
      "hp(n): type : HEAT_PUMP sub_type : AIR\n",
      "hp(n): type : HEAT_PUMP sub_type : EXHAUST_AIR\n",
      "hp(n): type : HEAT_PUMP sub_type : NOT_SPECIFIED\n",
      "hw(n): type : WARM_WATER sub_type : FRESH_WATER_STATION\n",
      "hw(n): type : WARM_WATER sub_type : NOT_SPECIFIED\n",
      "hw(n): type : WARM_WATER sub_type : STORAGE_TANK\n",
      "lh: type : LOCAL_HEATING_STATION sub_type : NOT_SPECIFIED\n",
      "pv(n): type : PHOTOVOLTAIC sub_type : NOT_SPECIFIED\n",
      "st(n): type : SOLAR_THERMAL sub_type : NOT_SPECIFIED\n"
     ]
    }
   ],
   "source": [
    "# Initialize a set to collect unique key-value variations\n",
    "unique_subcomponents = set()\n",
    "\n",
    "# Loop through each dictionary in the column\n",
    "for comp_dict in df_buildings['sub_components']:\n",
    "    for k, v in comp_dict.items():\n",
    "        variation = f\"{k}: {v}\"\n",
    "        unique_subcomponents.add(variation)\n",
    "\n",
    "# Display all unique variations\n",
    "for variation in sorted(unique_subcomponents):\n",
    "    print(variation)"
   ]
  },
  {
   "cell_type": "markdown",
   "id": "9ec6d2c6-4fff-4b88-abbd-69ae7ed83167",
   "metadata": {},
   "source": [
    "## get devices"
   ]
  },
  {
   "cell_type": "code",
   "execution_count": 17,
   "id": "a704d5c4-3c0d-4d25-83b5-d1e9fcba844d",
   "metadata": {},
   "outputs": [],
   "source": [
    "df_devices=get_devices(client)\n",
    "df_devices = df_devices.rename(columns={\"type\": \"device_type\"})"
   ]
  },
  {
   "cell_type": "code",
   "execution_count": 32,
   "id": "18f48363-e005-4c0e-83aa-74c22092cfb1",
   "metadata": {},
   "outputs": [],
   "source": [
    "#df_devices.head()"
   ]
  },
  {
   "cell_type": "code",
   "execution_count": 33,
   "id": "53bd4271-3acd-412f-b0d3-e9bd1c60a150",
   "metadata": {},
   "outputs": [],
   "source": [
    "#df_devices.count()"
   ]
  },
  {
   "cell_type": "code",
   "execution_count": 20,
   "id": "923fea8c-8304-460e-b821-b5969a41f680",
   "metadata": {},
   "outputs": [
    {
     "data": {
      "text/html": [
       "<div>\n",
       "<style scoped>\n",
       "    .dataframe tbody tr th:only-of-type {\n",
       "        vertical-align: middle;\n",
       "    }\n",
       "\n",
       "    .dataframe tbody tr th {\n",
       "        vertical-align: top;\n",
       "    }\n",
       "\n",
       "    .dataframe thead th {\n",
       "        text-align: right;\n",
       "    }\n",
       "</style>\n",
       "<table border=\"1\" class=\"dataframe\">\n",
       "  <thead>\n",
       "    <tr style=\"text-align: right;\">\n",
       "      <th></th>\n",
       "      <th>building_id</th>\n",
       "    </tr>\n",
       "    <tr>\n",
       "      <th>device_type</th>\n",
       "      <th></th>\n",
       "    </tr>\n",
       "  </thead>\n",
       "  <tbody>\n",
       "    <tr>\n",
       "      <th>ECR_LW300</th>\n",
       "      <td>129</td>\n",
       "    </tr>\n",
       "    <tr>\n",
       "      <th>RUT956</th>\n",
       "      <td>970</td>\n",
       "    </tr>\n",
       "    <tr>\n",
       "      <th>RevPiConnectSE</th>\n",
       "      <td>1</td>\n",
       "    </tr>\n",
       "    <tr>\n",
       "      <th>RevPiCore32SE</th>\n",
       "      <td>3</td>\n",
       "    </tr>\n",
       "    <tr>\n",
       "      <th>WAGOPFC200</th>\n",
       "      <td>1</td>\n",
       "    </tr>\n",
       "  </tbody>\n",
       "</table>\n",
       "</div>"
      ],
      "text/plain": [
       "                building_id\n",
       "device_type                \n",
       "ECR_LW300               129\n",
       "RUT956                  970\n",
       "RevPiConnectSE            1\n",
       "RevPiCore32SE             3\n",
       "WAGOPFC200                1"
      ]
     },
     "execution_count": 20,
     "metadata": {},
     "output_type": "execute_result"
    }
   ],
   "source": [
    "df_devices[['device_type','building_id']].groupby('device_type').count()"
   ]
  },
  {
   "cell_type": "markdown",
   "id": "400426f6-96f3-480d-9ac0-43bc89299ba5",
   "metadata": {},
   "source": [
    "## Merge Dfs"
   ]
  },
  {
   "cell_type": "code",
   "execution_count": 21,
   "id": "63876982-cb52-4392-b672-7d8e0446751b",
   "metadata": {},
   "outputs": [],
   "source": [
    "# Merge the two DataFrames on building_id\n",
    "df_merged = df_buildings.merge(\n",
    "    df_devices[['building_id', 'device_type', 'device_id']],\n",
    "    on='building_id',\n",
    "    how='left'  # ensures all rows from df_buildings are kept\n",
    ")"
   ]
  },
  {
   "cell_type": "code",
   "execution_count": 34,
   "id": "c7790790-2837-414c-ac99-be99407dd5bf",
   "metadata": {},
   "outputs": [],
   "source": [
    "#df_merged.head()"
   ]
  },
  {
   "cell_type": "code",
   "execution_count": 35,
   "id": "8e64b580-8528-4aa3-9aa9-e8bdc4d29e43",
   "metadata": {},
   "outputs": [],
   "source": [
    "#df_merged.count()"
   ]
  },
  {
   "cell_type": "code",
   "execution_count": 36,
   "id": "57f5bfbf-46d1-4143-85c1-e207e58b214b",
   "metadata": {},
   "outputs": [
    {
     "data": {
      "text/plain": [
       "Index(['building_id', 'customerID', 'customer_name', 'address', 'city',\n",
       "       'atvise_display_name', 'base', 'heatingType', 'heatingSurface',\n",
       "       'access_key', 'nickname', 'postal_code', 'gui_name', 'coordinates',\n",
       "       'CustomerAlias', 'gfid', 'modular_system', 'LayoutID', 'sub_components',\n",
       "       't_sensor_count', 'device_type', 'device_id'],\n",
       "      dtype='object')"
      ]
     },
     "execution_count": 36,
     "metadata": {},
     "output_type": "execute_result"
    }
   ],
   "source": [
    "df_merged.columns"
   ]
  },
  {
   "cell_type": "markdown",
   "id": "e41c8906-9a6f-4bec-902c-9d1fda52937a",
   "metadata": {
    "scrolled": true
   },
   "source": [
    "## Exports df to csv"
   ]
  },
  {
   "cell_type": "code",
   "execution_count": 29,
   "id": "d5931114-43df-4e95-b629-f69ef665835c",
   "metadata": {},
   "outputs": [],
   "source": [
    "# get_buildings_df\n",
    "if True:\n",
    "    today_str = datetime.today().strftime('%Y-%m-%d')\n",
    "    filename = f\"Building_device_Layout_{today_str}.csv\"\n",
    "    filepath = os.path.join('OUTs', filename)\n",
    "    df_merged[['building_id',\n",
    "               'customerID',\n",
    "               'customer_name',\n",
    "               'address',\n",
    "               'postal_code',\n",
    "               'city',\n",
    "               'device_type',\n",
    "               'device_id',\n",
    "               'LayoutID',\n",
    "               'sub_components',\n",
    "               'modular_system',\n",
    "               't_sensor_count',\n",
    "               #'atvise_display_name',\n",
    "               #'base',\n",
    "               #'coordinates',\n",
    "               'gfid']].to_csv(filepath, index=False)"
   ]
  },
  {
   "cell_type": "code",
   "execution_count": null,
   "id": "80aea573-31ea-4271-a62b-d38d1ec8e9e0",
   "metadata": {},
   "outputs": [],
   "source": []
  },
  {
   "cell_type": "code",
   "execution_count": null,
   "id": "5fd1939c-24e6-4702-a806-3baab808b517",
   "metadata": {},
   "outputs": [],
   "source": []
  }
 ],
 "metadata": {
  "kernelspec": {
   "display_name": "Python 3 (ipykernel)",
   "language": "python",
   "name": "python3"
  },
  "language_info": {
   "codemirror_mode": {
    "name": "ipython",
    "version": 3
   },
   "file_extension": ".py",
   "mimetype": "text/x-python",
   "name": "python",
   "nbconvert_exporter": "python",
   "pygments_lexer": "ipython3",
   "version": "3.12.10"
  }
 },
 "nbformat": 4,
 "nbformat_minor": 5
}
