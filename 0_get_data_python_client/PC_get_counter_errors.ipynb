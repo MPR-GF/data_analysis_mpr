{
 "cells": [
  {
   "cell_type": "markdown",
   "id": "2cde8c3b-78b4-4ac9-9b4b-06d01c1b2a73",
   "metadata": {},
   "source": [
    "# Explore data from the python client"
   ]
  },
  {
   "cell_type": "markdown",
   "id": "33c8cb17-e8f9-40da-a6a6-4facfe6d7bc7",
   "metadata": {},
   "source": [
    "## Relevant documents"
   ]
  },
  {
   "cell_type": "markdown",
   "id": "d4b1fbd9-6220-4d26-a9a2-ee428b1187f8",
   "metadata": {},
   "source": [
    "- (Python Client Repo)[https://github.com/Green-Fusion/energy-management-backend/tree/main/python_client]\n",
    "- (Swagger UI)[https://control.green-fusion.de/services/energy-management-backend/v1/api/doc#/]\n"
   ]
  },
  {
   "cell_type": "markdown",
   "id": "6f43af12-eb62-4d19-8a9a-7730f3be834f",
   "metadata": {
    "jp-MarkdownHeadingCollapsed": true
   },
   "source": [
    "## Inits"
   ]
  },
  {
   "cell_type": "code",
   "execution_count": 1,
   "id": "7a18f22c-fe80-4183-a62e-e2d68a0c4f1a",
   "metadata": {},
   "outputs": [],
   "source": [
    "#imports\n",
    "from energy_management_client import BackendPythonClient\n",
    "import pandas as pd\n",
    "import json\n",
    "from datetime import datetime\n",
    "import pprint  # For pretty-printing"
   ]
  },
  {
   "cell_type": "code",
   "execution_count": 3,
   "id": "123a61cb-760c-4ef4-abb5-6fb2a7c2b454",
   "metadata": {},
   "outputs": [],
   "source": [
    "# select your environment\n",
    "environment=\"prod\" # prod or dev\n",
    "\n",
    "# Selector\n",
    "if environment==\"dev\":\n",
    "    backend_endpoint_path=\"https://dev.green-fusion.de/services/energy-management-backend/v1/api\"\n",
    "    realm_type=\"development\"\n",
    "elif environment==\"prod\":\n",
    "    backend_endpoint_path=\"https://control.green-fusion.de/services/energy-management-backend/v1/api\"\n",
    "    realm_type=\"control\"  \n",
    "else:\n",
    "    backend_endpoint_path=\"\"\n",
    "    realm_type=\"\"\n",
    "    print(\"select either prod or dev for the environment\")\n",
    "\n",
    "#test\n",
    "#backend_endpoint_path, realm_type\n",
    "if True:\n",
    "    # pythpon client auth & login\n",
    "    # init the client   \n",
    "    client = BackendPythonClient(backend_endpoint=backend_endpoint_path,)\n",
    "    \n",
    "    #login\n",
    "    client.login(\n",
    "        auth_endpoint=\"https://auth.green-fusion.de\",\n",
    "        realm=realm_type,\n",
    "        client_id=\"backend_python_client\", # backend_python_client, datascience_development_api\n",
    "        grant_type=\"device_code\", #\"client_credentials\",  # or \"password\", \"device_code\"\n",
    "    )"
   ]
  },
  {
   "cell_type": "markdown",
   "id": "0e4fb75d-9dfb-4574-8c7e-c084277bca8b",
   "metadata": {},
   "source": [
    "## Functions"
   ]
  },
  {
   "cell_type": "markdown",
   "id": "bfe2f431-5d86-4314-8175-4a22047edbc5",
   "metadata": {
    "jp-MarkdownHeadingCollapsed": true
   },
   "source": [
    "### Customers"
   ]
  },
  {
   "cell_type": "code",
   "execution_count": 4,
   "id": "e8c27e1e-2aed-4809-a824-184bde83f5f4",
   "metadata": {},
   "outputs": [],
   "source": [
    "def customers_to_df(customer_list):\n",
    "    \"\"\"\n",
    "    Turn a list of CustomerDto objects into a pandas DataFrame.\n",
    "    usage:\n",
    "        customer_list = client.customers.get_list_of_customers()\n",
    "        df_customers = customers_to_df(customer_list)\n",
    "    \n",
    "    \"\"\"\n",
    "    rows = []\n",
    "\n",
    "    for cust in customer_list:\n",
    "        rows.append({\n",
    "            \"id\":        cust.id,\n",
    "            \"name\":      cust.name,\n",
    "            \"gui_name\":  getattr(cust, \"gui_name\", None),\n",
    "            \"external_id\": getattr(cust, \"external_id\", None),\n",
    "            \"f_dashboard\": cust.f_dashboard,\n",
    "            \"f_meldungen\": cust.f_meldungen,\n",
    "            \"f_meldungen_v2\": cust.f_meldungen_v2,\n",
    "            \"f_optimisation\": cust.f_optimisation,\n",
    "            \"f_technique\": cust.f_technique,\n",
    "            \"notification_email_contacts\": getattr(cust, \"notification_email_contacts\", []),\n",
    "        })\n",
    "\n",
    "    return pd.DataFrame(rows)"
   ]
  },
  {
   "cell_type": "markdown",
   "id": "62a018da-97aa-4d54-b7e1-3117b70dc11d",
   "metadata": {
    "jp-MarkdownHeadingCollapsed": true
   },
   "source": [
    "### buildings"
   ]
  },
  {
   "cell_type": "code",
   "execution_count": 5,
   "id": "64e729b4-6944-409b-850c-d5d3ddfc2605",
   "metadata": {},
   "outputs": [],
   "source": [
    "def get_buildings_df(client, customers):\n",
    "    \"\"\"\n",
    "    Loop through all customers, fetch their buildings, and build a DataFrame where each row contains:\n",
    "      - building_id, customerID (from customer object), address, city, atvise_display_name, base,\n",
    "      - heatingType, heatingSurface, access_key, nickname, postal_code, gui_name,\n",
    "      - coordinates, CustomerAlias, gfid,\n",
    "      - LayoutID (extracted from modular_system)\n",
    "\n",
    "    Usage:\n",
    "        customers = client.customers.get_list_of_customers()\n",
    "        df = get_buildings_df(client, customers)\n",
    "        print(df.head())\n",
    "    \"\"\"\n",
    "    try:\n",
    "        data = []\n",
    "        for c in customers:\n",
    "            customer_id = c.id\n",
    "            customer_name = getattr(c, 'name', None)\n",
    "            client.configure(customer_id=customer_id)\n",
    "            \n",
    "            # Get buildings\n",
    "            c_buildings = client.buildings.get_buildings()\n",
    "            building_list = getattr(c_buildings, 'buildings', [])\n",
    "            \n",
    "            for b in building_list:\n",
    "                building_id         = getattr(b, 'building_id', None)\n",
    "                address             = getattr(b, 'address', None)\n",
    "                city                = getattr(b, 'city', None)\n",
    "                atvise_display_name = getattr(b, 'atvise_display_name', None)\n",
    "                base                = getattr(b, 'base', None)\n",
    "                heatingType         = getattr(b, 'heatingType', None)\n",
    "                heatingSurface      = getattr(b, 'heatingSurface', None)\n",
    "                access_key          = getattr(b, 'access_key', None)\n",
    "                nickname            = getattr(b, 'nickname', None)\n",
    "                postal_code         = getattr(b, 'postal_code', None)\n",
    "                gui_name            = getattr(b, 'gui_name', None)\n",
    "                coordinates         = getattr(b, 'coordinates', None)\n",
    "                CustomerAlias       = getattr(b, 'CustomerAlias', None)\n",
    "                gfid                = getattr(b, 'gfid', None)\n",
    "                \n",
    "                # Parse modular_system\n",
    "                modular_system_str = getattr(b, 'modular_system', None)\n",
    "                LayoutID = None\n",
    "                if modular_system_str:\n",
    "                    try:\n",
    "                        modular_system = json.loads(modular_system_str)\n",
    "                        LayoutID = modular_system.get('layoutID', None)\n",
    "                    except json.JSONDecodeError:\n",
    "                        LayoutID = None\n",
    "\n",
    "                data.append({\n",
    "                    \"building_id\": building_id,\n",
    "                    \"customerID\": customer_id,  # <-- corrected here\n",
    "                    \"customer_name\": customer_name,\n",
    "                    \"address\": address,\n",
    "                    \"city\": city,\n",
    "                    \"atvise_display_name\": atvise_display_name,\n",
    "                    \"base\": base,\n",
    "                    \"heatingType\": heatingType,\n",
    "                    \"heatingSurface\": heatingSurface,\n",
    "                    \"access_key\": access_key,\n",
    "                    \"nickname\": nickname,\n",
    "                    \"postal_code\": postal_code,\n",
    "                    \"gui_name\": gui_name,\n",
    "                    \"coordinates\": coordinates,\n",
    "                    \"CustomerAlias\": CustomerAlias,\n",
    "                    \"gfid\": gfid,\n",
    "                    \"LayoutID\": LayoutID\n",
    "                })\n",
    "\n",
    "        return pd.DataFrame(data)\n",
    "\n",
    "    except Exception as e:\n",
    "        print(\"API Call Failed:\", e)\n",
    "        return pd.DataFrame()"
   ]
  },
  {
   "cell_type": "markdown",
   "id": "23eef7c6-1d40-46c3-9fca-90c7e2a29435",
   "metadata": {
    "jp-MarkdownHeadingCollapsed": true
   },
   "source": [
    "### Sensors (all)"
   ]
  },
  {
   "cell_type": "code",
   "execution_count": 6,
   "id": "ebc46ab7-e33c-4433-a654-d21d0c2f51a4",
   "metadata": {},
   "outputs": [],
   "source": [
    "def get_all_sensors_df(client, building_ids):\n",
    "    \"\"\"\n",
    "    very heavy\n",
    "    For a list of building IDs, fetch sensor data using client.buildings.get_list_of_sensors_by_building_id\n",
    "    and return a DataFrame where each row is a sensor.\n",
    "    \n",
    "    Parameters:\n",
    "        client: The API client object\n",
    "        building_ids: List[int] - list of building IDs to fetch sensors for\n",
    "        \n",
    "    Returns:\n",
    "        pd.DataFrame with one row per sensor, including building_id\n",
    "\n",
    "    Usage:\n",
    "        df_sensors = get_all_sensors_df(client, list_of_building_id)\n",
    "    \"\"\"\n",
    "    all_sensors = []\n",
    "\n",
    "    for b_id in building_ids:\n",
    "        try:\n",
    "            sensors = client.buildings.get_list_of_sensors_by_building_id(b_id)\n",
    "            for s in sensors:\n",
    "                all_sensors.append({\n",
    "                    \"building_id\": b_id,\n",
    "                    \"sensor_id\": s.id,\n",
    "                    \"gf_standard_id\": s.gf_standard_id,\n",
    "                    \"sub_system_id\": s.sub_system_id,\n",
    "                    \"hydraulic_location_index\": s.hydraulic_location_index,\n",
    "                    \"factor\": s.factor,\n",
    "                    \"current_value\": s.current_value,\n",
    "                    \"node_id\": s.node_id,\n",
    "                    \"acronym\": s.acronym,\n",
    "                    \"unit\": s.unit,\n",
    "                    \"long_name\": s.long_name,\n",
    "                    \"short_name\": s.short_name,\n",
    "                    \"source\": s.source,\n",
    "                })\n",
    "        except Exception as e:\n",
    "            print(f\"Error fetching sensors for building_id={b_id}: {e}\")\n",
    "\n",
    "    return pd.DataFrame(all_sensors)"
   ]
  },
  {
   "cell_type": "markdown",
   "id": "18e5b258-38e8-4b3a-9d2e-cfcd78c753b8",
   "metadata": {
    "jp-MarkdownHeadingCollapsed": true
   },
   "source": [
    "### devices"
   ]
  },
  {
   "cell_type": "code",
   "execution_count": 7,
   "id": "638864b3-1df1-493b-bdad-cec0f35cac52",
   "metadata": {},
   "outputs": [],
   "source": [
    "def get_devices(client):\n",
    "    \"\"\"\n",
    "    usage:\n",
    "    list_device=get_devices(client)\n",
    "    list(list_device)\n",
    "    \"\"\"\n",
    "    devices_list=client.devices.get_devices()\n",
    "    devices_list=list(devices_list)[0][1]\n",
    "    device_dicts = [device.__dict__ for device in devices_list]\n",
    "    df_device = pd.DataFrame(device_dicts)\n",
    "    return df_device"
   ]
  },
  {
   "cell_type": "markdown",
   "id": "671f0326-c85f-44c8-b7c8-186fc96238e0",
   "metadata": {
    "jp-MarkdownHeadingCollapsed": true
   },
   "source": [
    "### counters"
   ]
  },
  {
   "cell_type": "code",
   "execution_count": 21,
   "id": "225cb8b6-ad9c-443e-a34c-a92fde66be52",
   "metadata": {},
   "outputs": [],
   "source": [
    "def get_counters(client,ID):\n",
    "    \"\"\"\n",
    "    usage:\n",
    "    counters_list_for_building=get_counters(client,122)\n",
    "    \"\"\"\n",
    "    counters_list=client.buildings.get_counters(ID)\n",
    "    return counters_list\n",
    "\n",
    "def extract_counters_with_errors(client, building_ids):\n",
    "    all_entries = []\n",
    "\n",
    "    for building_id in building_ids:\n",
    "        try:\n",
    "            counters = get_counters(client, building_id)\n",
    "        except Exception as e:\n",
    "            print(f\"Failed to get counters for building {building_id}: {e}\")\n",
    "            continue\n",
    "\n",
    "        for counter in counters:\n",
    "            if counter.error:  # non-empty string = error exists\n",
    "                all_entries.append({\n",
    "                    \"id\": counter.id,\n",
    "                    \"sensor_id\": counter.sensor_id,\n",
    "                    \"reference_date\": counter.reference_date,\n",
    "                    \"unit\": counter.unit,\n",
    "                    \"error\": counter.error,\n",
    "                    \"short_name\": counter.short_name,\n",
    "                    \"long_name\": counter.long_name,\n",
    "                    \"hydraulic_location_index\": counter.hydraulic_location_index\n",
    "                })\n",
    "\n",
    "    df = pd.DataFrame(all_entries)\n",
    "    return df"
   ]
  },
  {
   "cell_type": "markdown",
   "id": "d174879c-45ee-421a-9c4e-481ca1cdd820",
   "metadata": {},
   "source": [
    "## Get data"
   ]
  },
  {
   "cell_type": "markdown",
   "id": "052181df-e547-4a1b-ab42-2eb01e76f03f",
   "metadata": {
    "jp-MarkdownHeadingCollapsed": true
   },
   "source": [
    "### get_customer_df"
   ]
  },
  {
   "cell_type": "code",
   "execution_count": 9,
   "id": "b2ba4e71-4149-4e0c-9cf2-8c869c2e8890",
   "metadata": {},
   "outputs": [],
   "source": [
    "customer_list = client.customers.get_list_of_customers()\n",
    "df_customers = customers_to_df(customer_list)"
   ]
  },
  {
   "cell_type": "code",
   "execution_count": 10,
   "id": "26a2b305-4a40-4773-86b2-911d3a94a7b0",
   "metadata": {},
   "outputs": [],
   "source": [
    "#df_customers.head()"
   ]
  },
  {
   "cell_type": "code",
   "execution_count": 11,
   "id": "f368a359-5e8f-44b1-9484-521c2272e453",
   "metadata": {},
   "outputs": [],
   "source": [
    "#df_customers.count()"
   ]
  },
  {
   "cell_type": "code",
   "execution_count": 12,
   "id": "0ce27ccb-a717-4199-81be-9726901df7eb",
   "metadata": {},
   "outputs": [],
   "source": [
    "list_of_customer_id=df_customers['id']"
   ]
  },
  {
   "cell_type": "markdown",
   "id": "a50e35da-51e2-42b1-a89b-b2ac721ea9ed",
   "metadata": {
    "jp-MarkdownHeadingCollapsed": true
   },
   "source": [
    "### get_buildings_df"
   ]
  },
  {
   "cell_type": "code",
   "execution_count": 13,
   "id": "40aeed91-efa6-449b-81f1-0f52a2897222",
   "metadata": {},
   "outputs": [],
   "source": [
    "# Get customers list (list of dicts)\n",
    "customers = client.customers.get_list_of_customers()\n",
    "#build df\n",
    "df_buildings = get_buildings_df(client, customers)\n",
    "#test\n",
    "#df_buildings.head()"
   ]
  },
  {
   "cell_type": "code",
   "execution_count": 14,
   "id": "ca8ddbf1-d6f5-425a-b8af-84b8ea496d0a",
   "metadata": {},
   "outputs": [],
   "source": [
    "list_of_building_id=df_buildings['building_id']"
   ]
  },
  {
   "cell_type": "markdown",
   "id": "87c7caa5-8baf-43d7-a20c-9f792fcb4422",
   "metadata": {
    "jp-MarkdownHeadingCollapsed": true
   },
   "source": [
    "### get devices"
   ]
  },
  {
   "cell_type": "code",
   "execution_count": 19,
   "id": "0c107c72-e868-4603-9f5f-c0777557148f",
   "metadata": {},
   "outputs": [],
   "source": [
    "df_devices=get_devices(client)\n",
    "df_devices = df_devices.rename(columns={\"type\": \"device_type\"})"
   ]
  },
  {
   "cell_type": "markdown",
   "id": "5714ac14-d1d6-4bdc-b5ba-afe102910ae5",
   "metadata": {
    "jp-MarkdownHeadingCollapsed": true
   },
   "source": [
    "### Merge Buildings <- devices"
   ]
  },
  {
   "cell_type": "code",
   "execution_count": 20,
   "id": "f48a02a5-1ae5-4403-bc4a-18530ba1afc0",
   "metadata": {},
   "outputs": [],
   "source": [
    "# Merge the two DataFrames on building_id\n",
    "df_merged = df_buildings.merge(\n",
    "    df_devices[['building_id', 'device_type', 'device_id']],\n",
    "    on='building_id',\n",
    "    how='left'  # ensures all rows from df_buildings are kept\n",
    ")"
   ]
  },
  {
   "cell_type": "markdown",
   "id": "1451a1a4-e2df-44f8-8122-4f69c65a044f",
   "metadata": {
    "jp-MarkdownHeadingCollapsed": true
   },
   "source": [
    "### get all sensors (heavy)"
   ]
  },
  {
   "cell_type": "code",
   "execution_count": 15,
   "id": "3ff5b32b-af64-44e1-9d40-1f5faf6f1995",
   "metadata": {},
   "outputs": [],
   "source": [
    "df_sensors = get_all_sensors_df(client, list_of_building_id)"
   ]
  },
  {
   "cell_type": "code",
   "execution_count": 16,
   "id": "32534512-ca61-40e1-9328-4e0bd2722988",
   "metadata": {},
   "outputs": [
    {
     "data": {
      "text/plain": [
       "33842"
      ]
     },
     "execution_count": 16,
     "metadata": {},
     "output_type": "execute_result"
    }
   ],
   "source": [
    "len(df_sensors)"
   ]
  },
  {
   "cell_type": "code",
   "execution_count": 17,
   "id": "4fca79d9-6202-4761-bf36-52e28569e4a3",
   "metadata": {},
   "outputs": [
    {
     "data": {
      "text/html": [
       "<div>\n",
       "<style scoped>\n",
       "    .dataframe tbody tr th:only-of-type {\n",
       "        vertical-align: middle;\n",
       "    }\n",
       "\n",
       "    .dataframe tbody tr th {\n",
       "        vertical-align: top;\n",
       "    }\n",
       "\n",
       "    .dataframe thead th {\n",
       "        text-align: right;\n",
       "    }\n",
       "</style>\n",
       "<table border=\"1\" class=\"dataframe\">\n",
       "  <thead>\n",
       "    <tr style=\"text-align: right;\">\n",
       "      <th></th>\n",
       "      <th>building_id</th>\n",
       "      <th>sensor_id</th>\n",
       "      <th>gf_standard_id</th>\n",
       "      <th>sub_system_id</th>\n",
       "      <th>hydraulic_location_index</th>\n",
       "      <th>factor</th>\n",
       "      <th>current_value</th>\n",
       "      <th>node_id</th>\n",
       "      <th>acronym</th>\n",
       "      <th>unit</th>\n",
       "      <th>long_name</th>\n",
       "      <th>short_name</th>\n",
       "      <th>source</th>\n",
       "    </tr>\n",
       "  </thead>\n",
       "  <tbody>\n",
       "    <tr>\n",
       "      <th>33837</th>\n",
       "      <td>448</td>\n",
       "      <td>35164</td>\n",
       "      <td>77.0</td>\n",
       "      <td>219798.0</td>\n",
       "      <td>1.0</td>\n",
       "      <td>0.1</td>\n",
       "      <td>284.000000</td>\n",
       "      <td>3</td>\n",
       "      <td>t_buffer(n)_tank_1</td>\n",
       "      <td>°C</td>\n",
       "      <td>Sensortemperatur 1 Puffer (n)</td>\n",
       "      <td>T 1 BT (n)</td>\n",
       "      <td>GREENBOX_MQTT</td>\n",
       "    </tr>\n",
       "    <tr>\n",
       "      <th>33838</th>\n",
       "      <td>448</td>\n",
       "      <td>35184</td>\n",
       "      <td>403.0</td>\n",
       "      <td>219803.0</td>\n",
       "      <td>1.0</td>\n",
       "      <td>0.1</td>\n",
       "      <td>268.000000</td>\n",
       "      <td>23</td>\n",
       "      <td>t_hp(n)_primflow</td>\n",
       "      <td>°C</td>\n",
       "      <td>Vorlauftemperatur primär Wärmepumpe (n)</td>\n",
       "      <td>T VLprim WP (n)</td>\n",
       "      <td>GREENBOX_MQTT</td>\n",
       "    </tr>\n",
       "    <tr>\n",
       "      <th>33839</th>\n",
       "      <td>755</td>\n",
       "      <td>18516</td>\n",
       "      <td>434.0</td>\n",
       "      <td>NaN</td>\n",
       "      <td>NaN</td>\n",
       "      <td>1.0</td>\n",
       "      <td>15.540000</td>\n",
       "      <td>AT</td>\n",
       "      <td>t_g_out_api</td>\n",
       "      <td>°C</td>\n",
       "      <td>Außentemperatur Global</td>\n",
       "      <td>T A GL</td>\n",
       "      <td>OPEN_WEATHER_API</td>\n",
       "    </tr>\n",
       "    <tr>\n",
       "      <th>33840</th>\n",
       "      <td>755</td>\n",
       "      <td>19649</td>\n",
       "      <td>460.0</td>\n",
       "      <td>NaN</td>\n",
       "      <td>NaN</td>\n",
       "      <td>1.0</td>\n",
       "      <td>NaN</td>\n",
       "      <td>YC</td>\n",
       "      <td>e_g_bldg_y</td>\n",
       "      <td>kWh</td>\n",
       "      <td>Energie Gebäude Global Jährlich</td>\n",
       "      <td>E BLDG GL</td>\n",
       "      <td>MANUALLY_ENTERED</td>\n",
       "    </tr>\n",
       "    <tr>\n",
       "      <th>33841</th>\n",
       "      <td>755</td>\n",
       "      <td>9498</td>\n",
       "      <td>NaN</td>\n",
       "      <td>NaN</td>\n",
       "      <td>1.0</td>\n",
       "      <td>1.0</td>\n",
       "      <td>679.563049</td>\n",
       "      <td>ZW_ZZ1_rEnergy</td>\n",
       "      <td>None</td>\n",
       "      <td>MWh</td>\n",
       "      <td>None</td>\n",
       "      <td>None</td>\n",
       "      <td>GETEC_MQTT</td>\n",
       "    </tr>\n",
       "  </tbody>\n",
       "</table>\n",
       "</div>"
      ],
      "text/plain": [
       "       building_id  sensor_id  gf_standard_id  sub_system_id  \\\n",
       "33837          448      35164            77.0       219798.0   \n",
       "33838          448      35184           403.0       219803.0   \n",
       "33839          755      18516           434.0            NaN   \n",
       "33840          755      19649           460.0            NaN   \n",
       "33841          755       9498             NaN            NaN   \n",
       "\n",
       "       hydraulic_location_index  factor  current_value         node_id  \\\n",
       "33837                       1.0     0.1     284.000000               3   \n",
       "33838                       1.0     0.1     268.000000              23   \n",
       "33839                       NaN     1.0      15.540000              AT   \n",
       "33840                       NaN     1.0            NaN              YC   \n",
       "33841                       1.0     1.0     679.563049  ZW_ZZ1_rEnergy   \n",
       "\n",
       "                  acronym unit                                long_name  \\\n",
       "33837  t_buffer(n)_tank_1   °C            Sensortemperatur 1 Puffer (n)   \n",
       "33838    t_hp(n)_primflow   °C  Vorlauftemperatur primär Wärmepumpe (n)   \n",
       "33839         t_g_out_api   °C                   Außentemperatur Global   \n",
       "33840          e_g_bldg_y  kWh          Energie Gebäude Global Jährlich   \n",
       "33841                None  MWh                                     None   \n",
       "\n",
       "            short_name            source  \n",
       "33837       T 1 BT (n)     GREENBOX_MQTT  \n",
       "33838  T VLprim WP (n)     GREENBOX_MQTT  \n",
       "33839           T A GL  OPEN_WEATHER_API  \n",
       "33840       E BLDG GL   MANUALLY_ENTERED  \n",
       "33841             None        GETEC_MQTT  "
      ]
     },
     "execution_count": 17,
     "metadata": {},
     "output_type": "execute_result"
    }
   ],
   "source": [
    "df_sensors.tail()"
   ]
  },
  {
   "cell_type": "code",
   "execution_count": 18,
   "id": "2a7f592d-62cb-4166-9fd3-ab141f1c4452",
   "metadata": {},
   "outputs": [
    {
     "data": {
      "text/plain": [
       "unit\n",
       "°C       15985\n",
       "None     12715\n",
       "kWh       2970\n",
       "m³         801\n",
       "kW         641\n",
       "m³/h       565\n",
       "%           66\n",
       "h           19\n",
       "MWh         16\n",
       "-           15\n",
       "W           10\n",
       "bool        10\n",
       " m³/h       10\n",
       "bar          5\n",
       "m3/h         4\n",
       "m°C          3\n",
       "mbar         3\n",
       "m3           1\n",
       "V            1\n",
       "l/h          1\n",
       "#            1\n",
       "Name: count, dtype: int64"
      ]
     },
     "execution_count": 18,
     "metadata": {},
     "output_type": "execute_result"
    }
   ],
   "source": [
    "df_sensors['unit'].value_counts(dropna=False) "
   ]
  },
  {
   "cell_type": "markdown",
   "id": "f36b6610-305d-4725-80db-0cc154efc272",
   "metadata": {
    "jp-MarkdownHeadingCollapsed": true
   },
   "source": [
    "### Get counter errors"
   ]
  },
  {
   "cell_type": "code",
   "execution_count": 19,
   "id": "569005ef-14d5-48c5-a922-43631f81cac6",
   "metadata": {},
   "outputs": [],
   "source": [
    "#get_counters(client,122)"
   ]
  },
  {
   "cell_type": "code",
   "execution_count": 22,
   "id": "dd605fb5-25ed-4ed3-972e-15df32755f55",
   "metadata": {},
   "outputs": [],
   "source": [
    "df_errors = extract_counters_with_errors(client, list_of_building_id)"
   ]
  },
  {
   "cell_type": "markdown",
   "id": "00ba9392-cb75-4b2e-bc8c-e645f6d39cc6",
   "metadata": {
    "jp-MarkdownHeadingCollapsed": true
   },
   "source": [
    "### merge counters <- Sensors"
   ]
  },
  {
   "cell_type": "code",
   "execution_count": 98,
   "id": "29dc53cf-a934-4740-ad6a-bbbd31d04f4c",
   "metadata": {},
   "outputs": [],
   "source": [
    "# Merge the error dataframe with the sensor dataframe to get the source\n",
    "df_merged_counters = df_errors.merge(\n",
    "    df_sensors[['sensor_id', 'source','building_id','gf_standard_id','acronym','factor']], \n",
    "    on='sensor_id', \n",
    "    how='left'\n",
    ")\n",
    "#df_merged_counters=df_merged_counters.drop(['short_name','long_name'], axis=1)"
   ]
  },
  {
   "cell_type": "code",
   "execution_count": 99,
   "id": "2c380312-32bd-4ae0-bac3-062e821fae80",
   "metadata": {},
   "outputs": [],
   "source": [
    "#reorganize\n",
    "df_merged_counters['reference_date'] = pd.to_datetime(df_merged_counters['reference_date'])\n",
    "df_merged_counters=df_merged_counters[[ 'building_id','sensor_id','acronym', 'error',\n",
    "                                        'reference_date', 'source', 'unit', 'factor',\n",
    "                                        'hydraulic_location_index',  'gf_standard_id',\n",
    "                                        'id','short_name','long_name']]"
   ]
  },
  {
   "cell_type": "code",
   "execution_count": 101,
   "id": "db666f06-8bec-4b6d-ad07-d2ac9334b51d",
   "metadata": {},
   "outputs": [
    {
     "data": {
      "text/html": [
       "<div>\n",
       "<style scoped>\n",
       "    .dataframe tbody tr th:only-of-type {\n",
       "        vertical-align: middle;\n",
       "    }\n",
       "\n",
       "    .dataframe tbody tr th {\n",
       "        vertical-align: top;\n",
       "    }\n",
       "\n",
       "    .dataframe thead th {\n",
       "        text-align: right;\n",
       "    }\n",
       "</style>\n",
       "<table border=\"1\" class=\"dataframe\">\n",
       "  <thead>\n",
       "    <tr style=\"text-align: right;\">\n",
       "      <th></th>\n",
       "      <th>building_id</th>\n",
       "      <th>sensor_id</th>\n",
       "      <th>acronym</th>\n",
       "      <th>error</th>\n",
       "      <th>reference_date</th>\n",
       "      <th>source</th>\n",
       "      <th>unit</th>\n",
       "      <th>factor</th>\n",
       "      <th>hydraulic_location_index</th>\n",
       "      <th>gf_standard_id</th>\n",
       "      <th>id</th>\n",
       "      <th>short_name</th>\n",
       "      <th>long_name</th>\n",
       "    </tr>\n",
       "  </thead>\n",
       "  <tbody>\n",
       "    <tr>\n",
       "      <th>5344</th>\n",
       "      <td>436</td>\n",
       "      <td>7789</td>\n",
       "      <td>e_hc(n)_hm</td>\n",
       "      <td>Data is empty.</td>\n",
       "      <td>2025-03-31 23:59:59+00:00</td>\n",
       "      <td>GETEC_MQTT</td>\n",
       "      <td>kWh</td>\n",
       "      <td>1.0</td>\n",
       "      <td>2.0</td>\n",
       "      <td>5.0</td>\n",
       "      <td>155850</td>\n",
       "      <td>E WMZ HK (n)</td>\n",
       "      <td>Wärme Wärmemengenzähler Heizkreis (n)</td>\n",
       "    </tr>\n",
       "    <tr>\n",
       "      <th>5345</th>\n",
       "      <td>436</td>\n",
       "      <td>7789</td>\n",
       "      <td>e_hc(n)_hm</td>\n",
       "      <td>Data is empty.</td>\n",
       "      <td>2023-12-31 23:59:59+00:00</td>\n",
       "      <td>GETEC_MQTT</td>\n",
       "      <td>kWh</td>\n",
       "      <td>1.0</td>\n",
       "      <td>2.0</td>\n",
       "      <td>5.0</td>\n",
       "      <td>155835</td>\n",
       "      <td>E WMZ HK (n)</td>\n",
       "      <td>Wärme Wärmemengenzähler Heizkreis (n)</td>\n",
       "    </tr>\n",
       "    <tr>\n",
       "      <th>5346</th>\n",
       "      <td>436</td>\n",
       "      <td>7789</td>\n",
       "      <td>e_hc(n)_hm</td>\n",
       "      <td>Data is empty.</td>\n",
       "      <td>2024-03-31 23:59:59+00:00</td>\n",
       "      <td>GETEC_MQTT</td>\n",
       "      <td>kWh</td>\n",
       "      <td>1.0</td>\n",
       "      <td>2.0</td>\n",
       "      <td>5.0</td>\n",
       "      <td>155838</td>\n",
       "      <td>E WMZ HK (n)</td>\n",
       "      <td>Wärme Wärmemengenzähler Heizkreis (n)</td>\n",
       "    </tr>\n",
       "    <tr>\n",
       "      <th>5347</th>\n",
       "      <td>436</td>\n",
       "      <td>7789</td>\n",
       "      <td>e_hc(n)_hm</td>\n",
       "      <td>Data is empty.</td>\n",
       "      <td>2024-02-29 23:59:59+00:00</td>\n",
       "      <td>GETEC_MQTT</td>\n",
       "      <td>kWh</td>\n",
       "      <td>1.0</td>\n",
       "      <td>2.0</td>\n",
       "      <td>5.0</td>\n",
       "      <td>155837</td>\n",
       "      <td>E WMZ HK (n)</td>\n",
       "      <td>Wärme Wärmemengenzähler Heizkreis (n)</td>\n",
       "    </tr>\n",
       "    <tr>\n",
       "      <th>5348</th>\n",
       "      <td>436</td>\n",
       "      <td>7789</td>\n",
       "      <td>e_hc(n)_hm</td>\n",
       "      <td>Data is empty.</td>\n",
       "      <td>2024-01-31 23:59:59+00:00</td>\n",
       "      <td>GETEC_MQTT</td>\n",
       "      <td>kWh</td>\n",
       "      <td>1.0</td>\n",
       "      <td>2.0</td>\n",
       "      <td>5.0</td>\n",
       "      <td>155836</td>\n",
       "      <td>E WMZ HK (n)</td>\n",
       "      <td>Wärme Wärmemengenzähler Heizkreis (n)</td>\n",
       "    </tr>\n",
       "  </tbody>\n",
       "</table>\n",
       "</div>"
      ],
      "text/plain": [
       "      building_id  sensor_id     acronym           error  \\\n",
       "5344          436       7789  e_hc(n)_hm  Data is empty.   \n",
       "5345          436       7789  e_hc(n)_hm  Data is empty.   \n",
       "5346          436       7789  e_hc(n)_hm  Data is empty.   \n",
       "5347          436       7789  e_hc(n)_hm  Data is empty.   \n",
       "5348          436       7789  e_hc(n)_hm  Data is empty.   \n",
       "\n",
       "                reference_date      source unit  factor  \\\n",
       "5344 2025-03-31 23:59:59+00:00  GETEC_MQTT  kWh     1.0   \n",
       "5345 2023-12-31 23:59:59+00:00  GETEC_MQTT  kWh     1.0   \n",
       "5346 2024-03-31 23:59:59+00:00  GETEC_MQTT  kWh     1.0   \n",
       "5347 2024-02-29 23:59:59+00:00  GETEC_MQTT  kWh     1.0   \n",
       "5348 2024-01-31 23:59:59+00:00  GETEC_MQTT  kWh     1.0   \n",
       "\n",
       "      hydraulic_location_index  gf_standard_id      id    short_name  \\\n",
       "5344                       2.0             5.0  155850  E WMZ HK (n)   \n",
       "5345                       2.0             5.0  155835  E WMZ HK (n)   \n",
       "5346                       2.0             5.0  155838  E WMZ HK (n)   \n",
       "5347                       2.0             5.0  155837  E WMZ HK (n)   \n",
       "5348                       2.0             5.0  155836  E WMZ HK (n)   \n",
       "\n",
       "                                  long_name  \n",
       "5344  Wärme Wärmemengenzähler Heizkreis (n)  \n",
       "5345  Wärme Wärmemengenzähler Heizkreis (n)  \n",
       "5346  Wärme Wärmemengenzähler Heizkreis (n)  \n",
       "5347  Wärme Wärmemengenzähler Heizkreis (n)  \n",
       "5348  Wärme Wärmemengenzähler Heizkreis (n)  "
      ]
     },
     "execution_count": 101,
     "metadata": {},
     "output_type": "execute_result"
    }
   ],
   "source": [
    "df_merged_counters.tail()"
   ]
  },
  {
   "cell_type": "markdown",
   "id": "5ff12734-813e-44ff-97f0-e68400cbf261",
   "metadata": {
    "jp-MarkdownHeadingCollapsed": true
   },
   "source": [
    "## Work with errors"
   ]
  },
  {
   "cell_type": "code",
   "execution_count": 102,
   "id": "6395976a-7744-4c23-b100-ca6b7b95c859",
   "metadata": {},
   "outputs": [],
   "source": [
    "df_latest_errors = df_merged_counters.loc[df_merged_counters.groupby('sensor_id')['reference_date'].idxmax()].reset_index(drop=True)\n",
    "df_earliest_errors = df_merged_counters.loc[df_merged_counters.groupby('sensor_id')['reference_date'].idxmin()].reset_index(drop=True)"
   ]
  },
  {
   "cell_type": "code",
   "execution_count": 103,
   "id": "1c514086-17fd-4d89-a4ef-4024ee928a6d",
   "metadata": {},
   "outputs": [
    {
     "data": {
      "text/html": [
       "<div>\n",
       "<style scoped>\n",
       "    .dataframe tbody tr th:only-of-type {\n",
       "        vertical-align: middle;\n",
       "    }\n",
       "\n",
       "    .dataframe tbody tr th {\n",
       "        vertical-align: top;\n",
       "    }\n",
       "\n",
       "    .dataframe thead th {\n",
       "        text-align: right;\n",
       "    }\n",
       "</style>\n",
       "<table border=\"1\" class=\"dataframe\">\n",
       "  <thead>\n",
       "    <tr style=\"text-align: right;\">\n",
       "      <th></th>\n",
       "      <th>building_id</th>\n",
       "      <th>sensor_id</th>\n",
       "      <th>acronym</th>\n",
       "      <th>error</th>\n",
       "      <th>reference_date</th>\n",
       "      <th>source</th>\n",
       "      <th>unit</th>\n",
       "      <th>factor</th>\n",
       "      <th>hydraulic_location_index</th>\n",
       "      <th>gf_standard_id</th>\n",
       "      <th>id</th>\n",
       "      <th>short_name</th>\n",
       "      <th>long_name</th>\n",
       "    </tr>\n",
       "  </thead>\n",
       "  <tbody>\n",
       "    <tr>\n",
       "      <th>444</th>\n",
       "      <td>1850</td>\n",
       "      <td>34151</td>\n",
       "      <td>eel_hp(n)_em_supply_act</td>\n",
       "      <td>No complete data.</td>\n",
       "      <td>2025-05-31 23:59:59+00:00</td>\n",
       "      <td>GREENBOX_MQTT</td>\n",
       "      <td>kWh</td>\n",
       "      <td>0.01</td>\n",
       "      <td>2.0</td>\n",
       "      <td>400.0</td>\n",
       "      <td>163315</td>\n",
       "      <td>Eel supply act SZ WP (n)</td>\n",
       "      <td>verbrauchte el. Wirkenergie Stromzähler Wärmep...</td>\n",
       "    </tr>\n",
       "    <tr>\n",
       "      <th>445</th>\n",
       "      <td>1698</td>\n",
       "      <td>34446</td>\n",
       "      <td>e_lh(n)_hmsubs</td>\n",
       "      <td>No values greater than 0.</td>\n",
       "      <td>2025-05-31 23:59:59+00:00</td>\n",
       "      <td>GREENBOX_MQTT</td>\n",
       "      <td>kWh</td>\n",
       "      <td>1.00</td>\n",
       "      <td>1.0</td>\n",
       "      <td>465.0</td>\n",
       "      <td>163321</td>\n",
       "      <td>E WMZ SUBS NW (n)</td>\n",
       "      <td>Wärme Wärmemengenzähler Unterstation Nahwärmen...</td>\n",
       "    </tr>\n",
       "    <tr>\n",
       "      <th>446</th>\n",
       "      <td>1850</td>\n",
       "      <td>34451</td>\n",
       "      <td>eel_hp(n)_em_supply_act</td>\n",
       "      <td>No complete data.</td>\n",
       "      <td>2025-05-31 23:59:59+00:00</td>\n",
       "      <td>GREENBOX_MQTT</td>\n",
       "      <td>kWh</td>\n",
       "      <td>0.01</td>\n",
       "      <td>1.0</td>\n",
       "      <td>400.0</td>\n",
       "      <td>163322</td>\n",
       "      <td>Eel supply act SZ WP (n)</td>\n",
       "      <td>verbrauchte el. Wirkenergie Stromzähler Wärmep...</td>\n",
       "    </tr>\n",
       "    <tr>\n",
       "      <th>447</th>\n",
       "      <td>2001</td>\n",
       "      <td>34835</td>\n",
       "      <td>eel_hp(n)_em_supply_act</td>\n",
       "      <td>No complete data.</td>\n",
       "      <td>2025-05-31 23:59:59+00:00</td>\n",
       "      <td>GREENBOX_MQTT</td>\n",
       "      <td>kWh</td>\n",
       "      <td>1.00</td>\n",
       "      <td>1.0</td>\n",
       "      <td>400.0</td>\n",
       "      <td>163330</td>\n",
       "      <td>Eel supply act SZ WP (n)</td>\n",
       "      <td>verbrauchte el. Wirkenergie Stromzähler Wärmep...</td>\n",
       "    </tr>\n",
       "    <tr>\n",
       "      <th>448</th>\n",
       "      <td>2002</td>\n",
       "      <td>34992</td>\n",
       "      <td>eel_hp(n)_em_supply_act</td>\n",
       "      <td>No complete data.</td>\n",
       "      <td>2025-05-31 23:59:59+00:00</td>\n",
       "      <td>GREENBOX_MQTT</td>\n",
       "      <td>kWh</td>\n",
       "      <td>1.00</td>\n",
       "      <td>1.0</td>\n",
       "      <td>400.0</td>\n",
       "      <td>163333</td>\n",
       "      <td>Eel supply act SZ WP (n)</td>\n",
       "      <td>verbrauchte el. Wirkenergie Stromzähler Wärmep...</td>\n",
       "    </tr>\n",
       "  </tbody>\n",
       "</table>\n",
       "</div>"
      ],
      "text/plain": [
       "     building_id  sensor_id                  acronym  \\\n",
       "444         1850      34151  eel_hp(n)_em_supply_act   \n",
       "445         1698      34446           e_lh(n)_hmsubs   \n",
       "446         1850      34451  eel_hp(n)_em_supply_act   \n",
       "447         2001      34835  eel_hp(n)_em_supply_act   \n",
       "448         2002      34992  eel_hp(n)_em_supply_act   \n",
       "\n",
       "                         error            reference_date         source unit  \\\n",
       "444         No complete data.  2025-05-31 23:59:59+00:00  GREENBOX_MQTT  kWh   \n",
       "445  No values greater than 0. 2025-05-31 23:59:59+00:00  GREENBOX_MQTT  kWh   \n",
       "446         No complete data.  2025-05-31 23:59:59+00:00  GREENBOX_MQTT  kWh   \n",
       "447         No complete data.  2025-05-31 23:59:59+00:00  GREENBOX_MQTT  kWh   \n",
       "448         No complete data.  2025-05-31 23:59:59+00:00  GREENBOX_MQTT  kWh   \n",
       "\n",
       "     factor  hydraulic_location_index  gf_standard_id      id  \\\n",
       "444    0.01                       2.0           400.0  163315   \n",
       "445    1.00                       1.0           465.0  163321   \n",
       "446    0.01                       1.0           400.0  163322   \n",
       "447    1.00                       1.0           400.0  163330   \n",
       "448    1.00                       1.0           400.0  163333   \n",
       "\n",
       "                   short_name  \\\n",
       "444  Eel supply act SZ WP (n)   \n",
       "445         E WMZ SUBS NW (n)   \n",
       "446  Eel supply act SZ WP (n)   \n",
       "447  Eel supply act SZ WP (n)   \n",
       "448  Eel supply act SZ WP (n)   \n",
       "\n",
       "                                             long_name  \n",
       "444  verbrauchte el. Wirkenergie Stromzähler Wärmep...  \n",
       "445  Wärme Wärmemengenzähler Unterstation Nahwärmen...  \n",
       "446  verbrauchte el. Wirkenergie Stromzähler Wärmep...  \n",
       "447  verbrauchte el. Wirkenergie Stromzähler Wärmep...  \n",
       "448  verbrauchte el. Wirkenergie Stromzähler Wärmep...  "
      ]
     },
     "execution_count": 103,
     "metadata": {},
     "output_type": "execute_result"
    }
   ],
   "source": [
    "df_latest_errors.tail()"
   ]
  },
  {
   "cell_type": "code",
   "execution_count": 104,
   "id": "fe8bba96-3d13-4955-99d4-949b0b70812a",
   "metadata": {},
   "outputs": [
    {
     "data": {
      "text/html": [
       "<div>\n",
       "<style scoped>\n",
       "    .dataframe tbody tr th:only-of-type {\n",
       "        vertical-align: middle;\n",
       "    }\n",
       "\n",
       "    .dataframe tbody tr th {\n",
       "        vertical-align: top;\n",
       "    }\n",
       "\n",
       "    .dataframe thead th {\n",
       "        text-align: right;\n",
       "    }\n",
       "</style>\n",
       "<table border=\"1\" class=\"dataframe\">\n",
       "  <thead>\n",
       "    <tr style=\"text-align: right;\">\n",
       "      <th></th>\n",
       "      <th>building_id</th>\n",
       "      <th>sensor_id</th>\n",
       "      <th>acronym</th>\n",
       "      <th>error</th>\n",
       "      <th>reference_date</th>\n",
       "      <th>source</th>\n",
       "      <th>unit</th>\n",
       "      <th>factor</th>\n",
       "      <th>hydraulic_location_index</th>\n",
       "      <th>gf_standard_id</th>\n",
       "      <th>id</th>\n",
       "      <th>short_name</th>\n",
       "      <th>long_name</th>\n",
       "    </tr>\n",
       "  </thead>\n",
       "  <tbody>\n",
       "    <tr>\n",
       "      <th>444</th>\n",
       "      <td>1850</td>\n",
       "      <td>34151</td>\n",
       "      <td>eel_hp(n)_em_supply_act</td>\n",
       "      <td>No complete data.</td>\n",
       "      <td>2025-05-31 23:59:59+00:00</td>\n",
       "      <td>GREENBOX_MQTT</td>\n",
       "      <td>kWh</td>\n",
       "      <td>0.01</td>\n",
       "      <td>2.0</td>\n",
       "      <td>400.0</td>\n",
       "      <td>163315</td>\n",
       "      <td>Eel supply act SZ WP (n)</td>\n",
       "      <td>verbrauchte el. Wirkenergie Stromzähler Wärmep...</td>\n",
       "    </tr>\n",
       "    <tr>\n",
       "      <th>445</th>\n",
       "      <td>1698</td>\n",
       "      <td>34446</td>\n",
       "      <td>e_lh(n)_hmsubs</td>\n",
       "      <td>No values greater than 0.</td>\n",
       "      <td>2025-05-31 23:59:59+00:00</td>\n",
       "      <td>GREENBOX_MQTT</td>\n",
       "      <td>kWh</td>\n",
       "      <td>1.00</td>\n",
       "      <td>1.0</td>\n",
       "      <td>465.0</td>\n",
       "      <td>163321</td>\n",
       "      <td>E WMZ SUBS NW (n)</td>\n",
       "      <td>Wärme Wärmemengenzähler Unterstation Nahwärmen...</td>\n",
       "    </tr>\n",
       "    <tr>\n",
       "      <th>446</th>\n",
       "      <td>1850</td>\n",
       "      <td>34451</td>\n",
       "      <td>eel_hp(n)_em_supply_act</td>\n",
       "      <td>No complete data.</td>\n",
       "      <td>2025-05-31 23:59:59+00:00</td>\n",
       "      <td>GREENBOX_MQTT</td>\n",
       "      <td>kWh</td>\n",
       "      <td>0.01</td>\n",
       "      <td>1.0</td>\n",
       "      <td>400.0</td>\n",
       "      <td>163322</td>\n",
       "      <td>Eel supply act SZ WP (n)</td>\n",
       "      <td>verbrauchte el. Wirkenergie Stromzähler Wärmep...</td>\n",
       "    </tr>\n",
       "    <tr>\n",
       "      <th>447</th>\n",
       "      <td>2001</td>\n",
       "      <td>34835</td>\n",
       "      <td>eel_hp(n)_em_supply_act</td>\n",
       "      <td>No complete data.</td>\n",
       "      <td>2025-05-31 23:59:59+00:00</td>\n",
       "      <td>GREENBOX_MQTT</td>\n",
       "      <td>kWh</td>\n",
       "      <td>1.00</td>\n",
       "      <td>1.0</td>\n",
       "      <td>400.0</td>\n",
       "      <td>163330</td>\n",
       "      <td>Eel supply act SZ WP (n)</td>\n",
       "      <td>verbrauchte el. Wirkenergie Stromzähler Wärmep...</td>\n",
       "    </tr>\n",
       "    <tr>\n",
       "      <th>448</th>\n",
       "      <td>2002</td>\n",
       "      <td>34992</td>\n",
       "      <td>eel_hp(n)_em_supply_act</td>\n",
       "      <td>No complete data.</td>\n",
       "      <td>2025-05-31 23:59:59+00:00</td>\n",
       "      <td>GREENBOX_MQTT</td>\n",
       "      <td>kWh</td>\n",
       "      <td>1.00</td>\n",
       "      <td>1.0</td>\n",
       "      <td>400.0</td>\n",
       "      <td>163333</td>\n",
       "      <td>Eel supply act SZ WP (n)</td>\n",
       "      <td>verbrauchte el. Wirkenergie Stromzähler Wärmep...</td>\n",
       "    </tr>\n",
       "  </tbody>\n",
       "</table>\n",
       "</div>"
      ],
      "text/plain": [
       "     building_id  sensor_id                  acronym  \\\n",
       "444         1850      34151  eel_hp(n)_em_supply_act   \n",
       "445         1698      34446           e_lh(n)_hmsubs   \n",
       "446         1850      34451  eel_hp(n)_em_supply_act   \n",
       "447         2001      34835  eel_hp(n)_em_supply_act   \n",
       "448         2002      34992  eel_hp(n)_em_supply_act   \n",
       "\n",
       "                         error            reference_date         source unit  \\\n",
       "444         No complete data.  2025-05-31 23:59:59+00:00  GREENBOX_MQTT  kWh   \n",
       "445  No values greater than 0. 2025-05-31 23:59:59+00:00  GREENBOX_MQTT  kWh   \n",
       "446         No complete data.  2025-05-31 23:59:59+00:00  GREENBOX_MQTT  kWh   \n",
       "447         No complete data.  2025-05-31 23:59:59+00:00  GREENBOX_MQTT  kWh   \n",
       "448         No complete data.  2025-05-31 23:59:59+00:00  GREENBOX_MQTT  kWh   \n",
       "\n",
       "     factor  hydraulic_location_index  gf_standard_id      id  \\\n",
       "444    0.01                       2.0           400.0  163315   \n",
       "445    1.00                       1.0           465.0  163321   \n",
       "446    0.01                       1.0           400.0  163322   \n",
       "447    1.00                       1.0           400.0  163330   \n",
       "448    1.00                       1.0           400.0  163333   \n",
       "\n",
       "                   short_name  \\\n",
       "444  Eel supply act SZ WP (n)   \n",
       "445         E WMZ SUBS NW (n)   \n",
       "446  Eel supply act SZ WP (n)   \n",
       "447  Eel supply act SZ WP (n)   \n",
       "448  Eel supply act SZ WP (n)   \n",
       "\n",
       "                                             long_name  \n",
       "444  verbrauchte el. Wirkenergie Stromzähler Wärmep...  \n",
       "445  Wärme Wärmemengenzähler Unterstation Nahwärmen...  \n",
       "446  verbrauchte el. Wirkenergie Stromzähler Wärmep...  \n",
       "447  verbrauchte el. Wirkenergie Stromzähler Wärmep...  \n",
       "448  verbrauchte el. Wirkenergie Stromzähler Wärmep...  "
      ]
     },
     "execution_count": 104,
     "metadata": {},
     "output_type": "execute_result"
    }
   ],
   "source": [
    "df_earliest_errors.tail()"
   ]
  },
  {
   "cell_type": "markdown",
   "id": "84658f5f-9f41-4b56-b495-930e67453668",
   "metadata": {
    "jp-MarkdownHeadingCollapsed": true
   },
   "source": [
    "## Exports"
   ]
  },
  {
   "cell_type": "code",
   "execution_count": 105,
   "id": "7756fb7e-1bd6-456a-a842-ca8e481af0ea",
   "metadata": {},
   "outputs": [],
   "source": [
    "#export\n",
    "if True:\n",
    "    today_str = datetime.today().strftime('%Y-%m-%d')\n",
    "    filename = f\"df_all_errors_{today_str}.csv\"\n",
    "    filename2 = f\"df_earliest_errors_{today_str}.csv\"\n",
    "    filename3 = f\"df_latest_errors_{today_str}.csv\"\n",
    "    df_merged_counters.to_csv(filename, index=False)\n",
    "    df_latest_errors.to_csv(filename2, index=False)\n",
    "    df_earliest_errors.to_csv(filename3, index=False)\n",
    "    "
   ]
  },
  {
   "cell_type": "markdown",
   "id": "2417e3fe-5de6-4432-b621-1fb53dd332ac",
   "metadata": {},
   "source": [
    "## Explore"
   ]
  },
  {
   "cell_type": "markdown",
   "id": "685a3b5a-cb7b-4c5f-91d5-5deec993d5c6",
   "metadata": {},
   "source": [
    "### Explore get counters"
   ]
  },
  {
   "cell_type": "code",
   "execution_count": 78,
   "id": "d2f9a8d7-918c-41c7-a910-bc1f5b9461fe",
   "metadata": {},
   "outputs": [],
   "source": [
    "#get_counters(client,122)"
   ]
  },
  {
   "cell_type": "markdown",
   "id": "8f1b7a14-9168-4e00-9113-6c92a4278910",
   "metadata": {},
   "source": [
    "### Explore Building status"
   ]
  },
  {
   "cell_type": "code",
   "execution_count": 79,
   "id": "4fb03b07-c53d-49e3-8f3d-132443ccf23b",
   "metadata": {},
   "outputs": [
    {
     "name": "stdout",
     "output_type": "stream",
     "text": [
      "[BuildingStatusDto(building_id=2251, sensor_count=10, is_online=True, verbindung=True, yearly_consumption_is_missing=True)]\n",
      "[BuildingStatusDto(building_id=2252, sensor_count=46, is_online=True, verbindung=True, yearly_consumption_is_missing=True)]\n",
      "[BuildingStatusDto(building_id=351, sensor_count=9, is_online=True, verbindung=True, yearly_consumption_is_missing=True)]\n",
      "[BuildingStatusDto(building_id=352, sensor_count=9, is_online=True, verbindung=True, yearly_consumption_is_missing=True)]\n",
      "[BuildingStatusDto(building_id=576, sensor_count=22, is_online=True, verbindung=True, yearly_consumption_is_missing=False)]\n",
      "[BuildingStatusDto(building_id=577, sensor_count=26, is_online=True, verbindung=True, yearly_consumption_is_missing=True)]\n",
      "[BuildingStatusDto(building_id=392, sensor_count=53, is_online=True, verbindung=True, yearly_consumption_is_missing=True)]\n",
      "[BuildingStatusDto(building_id=1398, sensor_count=38, is_online=True, verbindung=True, yearly_consumption_is_missing=False)]\n",
      "[BuildingStatusDto(building_id=1399, sensor_count=40, is_online=True, verbindung=True, yearly_consumption_is_missing=False)]\n",
      "[BuildingStatusDto(building_id=1400, sensor_count=21, is_online=True, verbindung=True, yearly_consumption_is_missing=False)]\n",
      "[BuildingStatusDto(building_id=1401, sensor_count=21, is_online=True, verbindung=True, yearly_consumption_is_missing=False)]\n",
      "[BuildingStatusDto(building_id=1402, sensor_count=25, is_online=True, verbindung=True, yearly_consumption_is_missing=False)]\n",
      "[BuildingStatusDto(building_id=1403, sensor_count=21, is_online=True, verbindung=True, yearly_consumption_is_missing=False)]\n",
      "[BuildingStatusDto(building_id=1404, sensor_count=31, is_online=True, verbindung=True, yearly_consumption_is_missing=False)]\n",
      "[BuildingStatusDto(building_id=1405, sensor_count=33, is_online=True, verbindung=True, yearly_consumption_is_missing=False)]\n",
      "[BuildingStatusDto(building_id=1406, sensor_count=28, is_online=True, verbindung=True, yearly_consumption_is_missing=False)]\n",
      "[BuildingStatusDto(building_id=1407, sensor_count=19, is_online=True, verbindung=True, yearly_consumption_is_missing=False)]\n",
      "[BuildingStatusDto(building_id=709, sensor_count=29, is_online=True, verbindung=True, yearly_consumption_is_missing=False)]\n",
      "[BuildingStatusDto(building_id=710, sensor_count=14, is_online=True, verbindung=True, yearly_consumption_is_missing=False)]\n",
      "[BuildingStatusDto(building_id=711, sensor_count=28, is_online=True, verbindung=True, yearly_consumption_is_missing=True)]\n"
     ]
    }
   ],
   "source": [
    "building_ids = [str(bid) for bid in list_of_building_id[890:910]]\n",
    "for build in building_ids:\n",
    "    print(client.buildings.get_status([build]))"
   ]
  },
  {
   "cell_type": "code",
   "execution_count": 92,
   "id": "31c2081a-0396-4d4e-9899-eb61ff830025",
   "metadata": {},
   "outputs": [
    {
     "data": {
      "text/plain": [
       "True"
      ]
     },
     "execution_count": 92,
     "metadata": {},
     "output_type": "execute_result"
    }
   ],
   "source": [
    "client.buildings.get_status(['711'])[0].is_online"
   ]
  },
  {
   "cell_type": "code",
   "execution_count": null,
   "id": "1e6a26ca-ece0-4034-b9bb-14db142c4f78",
   "metadata": {},
   "outputs": [],
   "source": []
  }
 ],
 "metadata": {
  "kernelspec": {
   "display_name": "Python 3 (ipykernel)",
   "language": "python",
   "name": "python3"
  },
  "language_info": {
   "codemirror_mode": {
    "name": "ipython",
    "version": 3
   },
   "file_extension": ".py",
   "mimetype": "text/x-python",
   "name": "python",
   "nbconvert_exporter": "python",
   "pygments_lexer": "ipython3",
   "version": "3.12.10"
  }
 },
 "nbformat": 4,
 "nbformat_minor": 5
}
