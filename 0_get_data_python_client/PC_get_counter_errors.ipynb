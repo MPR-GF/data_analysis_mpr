{
 "cells": [
  {
   "cell_type": "markdown",
   "id": "2cde8c3b-78b4-4ac9-9b4b-06d01c1b2a73",
   "metadata": {},
   "source": [
    "# Explore data from the python client"
   ]
  },
  {
   "cell_type": "markdown",
   "id": "33c8cb17-e8f9-40da-a6a6-4facfe6d7bc7",
   "metadata": {},
   "source": [
    "## Relevant documents"
   ]
  },
  {
   "cell_type": "markdown",
   "id": "d4b1fbd9-6220-4d26-a9a2-ee428b1187f8",
   "metadata": {},
   "source": [
    "- (Python Client Repo)[https://github.com/Green-Fusion/energy-management-backend/tree/main/python_client]\n",
    "- (Swagger UI)[https://control.green-fusion.de/services/energy-management-backend/v1/api/doc#/]\n"
   ]
  },
  {
   "cell_type": "markdown",
   "id": "6f43af12-eb62-4d19-8a9a-7730f3be834f",
   "metadata": {
    "jp-MarkdownHeadingCollapsed": true
   },
   "source": [
    "## Inits"
   ]
  },
  {
   "cell_type": "code",
   "execution_count": 1,
   "id": "7a18f22c-fe80-4183-a62e-e2d68a0c4f1a",
   "metadata": {},
   "outputs": [],
   "source": [
    "#imports\n",
    "from energy_management_client import BackendPythonClient\n",
    "import pandas as pd\n",
    "import json\n",
    "from datetime import datetime\n",
    "import pprint  # For pretty-printing"
   ]
  },
  {
   "cell_type": "code",
   "execution_count": 2,
   "id": "123a61cb-760c-4ef4-abb5-6fb2a7c2b454",
   "metadata": {},
   "outputs": [],
   "source": [
    "# select your environment\n",
    "environment=\"prod\" # prod or dev\n",
    "\n",
    "# Selector\n",
    "if environment==\"dev\":\n",
    "    backend_endpoint_path=\"https://dev.green-fusion.de/services/energy-management-backend/v1/api\"\n",
    "    realm_type=\"development\"\n",
    "elif environment==\"prod\":\n",
    "    backend_endpoint_path=\"https://control.green-fusion.de/services/energy-management-backend/v1/api\"\n",
    "    realm_type=\"control\"  \n",
    "else:\n",
    "    backend_endpoint_path=\"\"\n",
    "    realm_type=\"\"\n",
    "    print(\"select either prod or dev for the environment\")\n",
    "\n",
    "#test\n",
    "#backend_endpoint_path, realm_type\n",
    "if True:\n",
    "    # pythpon client auth & login\n",
    "    # init the client   \n",
    "    client = BackendPythonClient(backend_endpoint=backend_endpoint_path,)\n",
    "    \n",
    "    #login\n",
    "    client.login(\n",
    "        auth_endpoint=\"https://auth.green-fusion.de\",\n",
    "        realm=realm_type,\n",
    "        client_id=\"backend_python_client\", # backend_python_client, datascience_development_api\n",
    "        grant_type=\"device_code\", #\"client_credentials\",  # or \"password\", \"device_code\"\n",
    "    )"
   ]
  },
  {
   "cell_type": "markdown",
   "id": "0e4fb75d-9dfb-4574-8c7e-c084277bca8b",
   "metadata": {},
   "source": [
    "## Functions"
   ]
  },
  {
   "cell_type": "markdown",
   "id": "62a018da-97aa-4d54-b7e1-3117b70dc11d",
   "metadata": {
    "jp-MarkdownHeadingCollapsed": true
   },
   "source": [
    "### buildings"
   ]
  },
  {
   "cell_type": "code",
   "execution_count": 3,
   "id": "64e729b4-6944-409b-850c-d5d3ddfc2605",
   "metadata": {},
   "outputs": [],
   "source": [
    "def get_buildings_df(client, customers):\n",
    "    \"\"\"\n",
    "    Loop through all customers, fetch their buildings, and build a DataFrame where each row contains:\n",
    "      - building_id, customerID (from customer object), address, city, atvise_display_name, base,\n",
    "      - heatingType, heatingSurface, access_key, nickname, postal_code, gui_name,\n",
    "      - coordinates, CustomerAlias, gfid,\n",
    "      - LayoutID (extracted from modular_system)\n",
    "\n",
    "    Usage:\n",
    "        customers = client.customers.get_list_of_customers()\n",
    "        df = get_buildings_df(client, customers)\n",
    "        print(df.head())\n",
    "    \"\"\"\n",
    "    try:\n",
    "        data = []\n",
    "        for c in customers:\n",
    "            customer_id = c.id\n",
    "            customer_name = getattr(c, 'name', None)\n",
    "            client.configure(customer_id=customer_id)\n",
    "            \n",
    "            # Get buildings\n",
    "            c_buildings = client.buildings.get_buildings()\n",
    "            building_list = getattr(c_buildings, 'buildings', [])\n",
    "            \n",
    "            for b in building_list:\n",
    "                building_id         = getattr(b, 'building_id', None)\n",
    "                address             = getattr(b, 'address', None)\n",
    "                city                = getattr(b, 'city', None)\n",
    "                atvise_display_name = getattr(b, 'atvise_display_name', None)\n",
    "                base                = getattr(b, 'base', None)\n",
    "                heatingType         = getattr(b, 'heatingType', None)\n",
    "                heatingSurface      = getattr(b, 'heatingSurface', None)\n",
    "                access_key          = getattr(b, 'access_key', None)\n",
    "                nickname            = getattr(b, 'nickname', None)\n",
    "                postal_code         = getattr(b, 'postal_code', None)\n",
    "                gui_name            = getattr(b, 'gui_name', None)\n",
    "                coordinates         = getattr(b, 'coordinates', None)\n",
    "                CustomerAlias       = getattr(b, 'CustomerAlias', None)\n",
    "                gfid                = getattr(b, 'gfid', None)\n",
    "                \n",
    "                # Parse modular_system\n",
    "                modular_system_str = getattr(b, 'modular_system', None)\n",
    "                LayoutID = None\n",
    "                if modular_system_str:\n",
    "                    try:\n",
    "                        modular_system = json.loads(modular_system_str)\n",
    "                        LayoutID = modular_system.get('layoutID', None)\n",
    "                    except json.JSONDecodeError:\n",
    "                        LayoutID = None\n",
    "\n",
    "                data.append({\n",
    "                    \"building_id\": building_id,\n",
    "                    \"customerID\": customer_id,  # <-- corrected here\n",
    "                    \"customer_name\": customer_name,\n",
    "                    \"address\": address,\n",
    "                    \"city\": city,\n",
    "                    \"atvise_display_name\": atvise_display_name,\n",
    "                    \"base\": base,\n",
    "                    \"heatingType\": heatingType,\n",
    "                    \"heatingSurface\": heatingSurface,\n",
    "                    \"access_key\": access_key,\n",
    "                    \"nickname\": nickname,\n",
    "                    \"postal_code\": postal_code,\n",
    "                    \"gui_name\": gui_name,\n",
    "                    \"coordinates\": coordinates,\n",
    "                    \"CustomerAlias\": CustomerAlias,\n",
    "                    \"gfid\": gfid,\n",
    "                    \"LayoutID\": LayoutID\n",
    "                })\n",
    "\n",
    "        return pd.DataFrame(data)\n",
    "\n",
    "    except Exception as e:\n",
    "        print(\"API Call Failed:\", e)\n",
    "        return pd.DataFrame()"
   ]
  },
  {
   "cell_type": "markdown",
   "id": "18e5b258-38e8-4b3a-9d2e-cfcd78c753b8",
   "metadata": {
    "jp-MarkdownHeadingCollapsed": true
   },
   "source": [
    "### devices"
   ]
  },
  {
   "cell_type": "code",
   "execution_count": 4,
   "id": "638864b3-1df1-493b-bdad-cec0f35cac52",
   "metadata": {},
   "outputs": [],
   "source": [
    "def get_devices(client):\n",
    "    \"\"\"\n",
    "    usage:\n",
    "    list_device=get_devices(client)\n",
    "    list(list_device)\n",
    "    \"\"\"\n",
    "    devices_list=client.devices.get_devices()\n",
    "    devices_list=list(devices_list)[0][1]\n",
    "    device_dicts = [device.__dict__ for device in devices_list]\n",
    "    df_device = pd.DataFrame(device_dicts)\n",
    "    return df_device"
   ]
  },
  {
   "cell_type": "markdown",
   "id": "671f0326-c85f-44c8-b7c8-186fc96238e0",
   "metadata": {},
   "source": [
    "### counters"
   ]
  },
  {
   "cell_type": "code",
   "execution_count": 5,
   "id": "225cb8b6-ad9c-443e-a34c-a92fde66be52",
   "metadata": {},
   "outputs": [],
   "source": [
    "def get_counters(client,ID):\n",
    "    \"\"\"\n",
    "    usage:\n",
    "    counters_list_for_building=get_counters(client,122)\n",
    "    \"\"\"\n",
    "    counters_list=client.buildings.get_counters(ID)\n",
    "    return counters_list\n",
    "\n",
    "def get_counters2(client, ID):\n",
    "    \"\"\"\n",
    "    Fetch counter data and extract error information.\n",
    "\n",
    "    Returns:\n",
    "        has_error (bool): True if any sensor returns an error.\n",
    "        error_info (dict): {sensor_id: {'error': str, 'first_occurrence': datetime, 'last_occurrence': datetime}}\n",
    "    example:\n",
    "        get_counters2(client,122)\n",
    "    \"\"\"\n",
    "    counters_list = client.buildings.get_counters(ID)\n",
    "\n",
    "    error_info = {}\n",
    "\n",
    "    for counter in counters_list:\n",
    "        if counter.error and counter.error.strip().lower() != 'none':\n",
    "            sensor_id = counter.sensor_id\n",
    "            ref_date = counter.reference_date\n",
    "\n",
    "            if sensor_id not in error_info:\n",
    "                error_info[sensor_id] = {\n",
    "                    'error': counter.error,\n",
    "                    'first_occurrence': ref_date,\n",
    "                    'last_occurrence': ref_date,\n",
    "                    'short_name': counter.short_name,\n",
    "                    'long_name': counter.long_name,\n",
    "                    'hydraulic_location_index': counter.hydraulic_location_index\n",
    "                }\n",
    "            else:\n",
    "                if ref_date < error_info[sensor_id]['first_occurrence']:\n",
    "                    error_info[sensor_id]['first_occurrence'] = ref_date\n",
    "                if ref_date > error_info[sensor_id]['last_occurrence']:\n",
    "                    error_info[sensor_id]['last_occurrence'] = ref_date\n",
    "\n",
    "    has_error = len(error_info) > 0\n",
    "    return has_error, error_info"
   ]
  },
  {
   "cell_type": "markdown",
   "id": "d174879c-45ee-421a-9c4e-481ca1cdd820",
   "metadata": {
    "jp-MarkdownHeadingCollapsed": true
   },
   "source": [
    "## Buildings Vs Devices"
   ]
  },
  {
   "cell_type": "markdown",
   "id": "a50e35da-51e2-42b1-a89b-b2ac721ea9ed",
   "metadata": {
    "jp-MarkdownHeadingCollapsed": true
   },
   "source": [
    "### get_buildings_df"
   ]
  },
  {
   "cell_type": "code",
   "execution_count": null,
   "id": "40aeed91-efa6-449b-81f1-0f52a2897222",
   "metadata": {},
   "outputs": [],
   "source": [
    "# Get customers list (list of dicts)\n",
    "customers = client.customers.get_list_of_customers()\n",
    "#build df\n",
    "df_buildings = get_buildings_df(client, customers)\n",
    "#test\n",
    "#df_buildings.head()"
   ]
  },
  {
   "cell_type": "markdown",
   "id": "9ec6d2c6-4fff-4b88-abbd-69ae7ed83167",
   "metadata": {
    "jp-MarkdownHeadingCollapsed": true
   },
   "source": [
    "### get devices"
   ]
  },
  {
   "cell_type": "code",
   "execution_count": null,
   "id": "a704d5c4-3c0d-4d25-83b5-d1e9fcba844d",
   "metadata": {},
   "outputs": [],
   "source": [
    "df_devices=get_devices(client)\n",
    "df_devices = df_devices.rename(columns={\"type\": \"device_type\"})"
   ]
  },
  {
   "cell_type": "code",
   "execution_count": null,
   "id": "18f48363-e005-4c0e-83aa-74c22092cfb1",
   "metadata": {},
   "outputs": [],
   "source": [
    "#df_devices.head()"
   ]
  },
  {
   "cell_type": "markdown",
   "id": "400426f6-96f3-480d-9ac0-43bc89299ba5",
   "metadata": {
    "jp-MarkdownHeadingCollapsed": true
   },
   "source": [
    "### Merge Dfs"
   ]
  },
  {
   "cell_type": "code",
   "execution_count": null,
   "id": "63876982-cb52-4392-b672-7d8e0446751b",
   "metadata": {},
   "outputs": [],
   "source": [
    "# Merge the two DataFrames on building_id\n",
    "df_merged = df_buildings.merge(\n",
    "    df_devices[['building_id', 'device_type', 'device_id']],\n",
    "    on='building_id',\n",
    "    how='left'  # ensures all rows from df_buildings are kept\n",
    ")"
   ]
  },
  {
   "cell_type": "code",
   "execution_count": null,
   "id": "2da8aa9e-b315-4f27-8b68-b6c1733c1fde",
   "metadata": {},
   "outputs": [],
   "source": [
    "#df_merged.head(2)"
   ]
  },
  {
   "cell_type": "code",
   "execution_count": null,
   "id": "a09015bd-f987-4b23-a9e8-9322580ec06d",
   "metadata": {},
   "outputs": [],
   "source": [
    "#df_merged.count()"
   ]
  },
  {
   "cell_type": "code",
   "execution_count": null,
   "id": "57f5bfbf-46d1-4143-85c1-e207e58b214b",
   "metadata": {},
   "outputs": [],
   "source": [
    "#df_merged.columns"
   ]
  },
  {
   "cell_type": "markdown",
   "id": "f36b6610-305d-4725-80db-0cc154efc272",
   "metadata": {},
   "source": [
    "## Get counter errors"
   ]
  },
  {
   "cell_type": "code",
   "execution_count": null,
   "id": "3a9c44c0-3e87-4c15-8ed6-32adffa96dd4",
   "metadata": {},
   "outputs": [],
   "source": [
    "counters_list_for_building=get_counters(client,122)"
   ]
  },
  {
   "cell_type": "code",
   "execution_count": null,
   "id": "48b9c75c-0b5f-4699-b353-d12352562e4b",
   "metadata": {},
   "outputs": [],
   "source": []
  }
 ],
 "metadata": {
  "kernelspec": {
   "display_name": "Python 3 (ipykernel)",
   "language": "python",
   "name": "python3"
  },
  "language_info": {
   "codemirror_mode": {
    "name": "ipython",
    "version": 3
   },
   "file_extension": ".py",
   "mimetype": "text/x-python",
   "name": "python",
   "nbconvert_exporter": "python",
   "pygments_lexer": "ipython3",
   "version": "3.12.10"
  }
 },
 "nbformat": 4,
 "nbformat_minor": 5
}
