{
 "cells": [
  {
   "cell_type": "markdown",
   "id": "2cde8c3b-78b4-4ac9-9b4b-06d01c1b2a73",
   "metadata": {},
   "source": [
    "# Get data from the python client"
   ]
  },
  {
   "cell_type": "markdown",
   "id": "33c8cb17-e8f9-40da-a6a6-4facfe6d7bc7",
   "metadata": {},
   "source": [
    "## Relevant documents"
   ]
  },
  {
   "cell_type": "markdown",
   "id": "d4b1fbd9-6220-4d26-a9a2-ee428b1187f8",
   "metadata": {},
   "source": [
    "- (Python Client Repo)[https://github.com/Green-Fusion/energy-management-backend/tree/main/python_client]\n",
    "- (Swagger UI)[https://control.green-fusion.de/services/energy-management-backend/v1/api/doc#/]\n"
   ]
  },
  {
   "cell_type": "markdown",
   "id": "6f43af12-eb62-4d19-8a9a-7730f3be834f",
   "metadata": {},
   "source": [
    "## Inits"
   ]
  },
  {
   "cell_type": "code",
   "execution_count": 1,
   "id": "7a18f22c-fe80-4183-a62e-e2d68a0c4f1a",
   "metadata": {},
   "outputs": [],
   "source": [
    "#imports\n",
    "from energy_management_client import BackendPythonClient\n",
    "import pandas as pd\n",
    "import json"
   ]
  },
  {
   "cell_type": "code",
   "execution_count": 2,
   "id": "123a61cb-760c-4ef4-abb5-6fb2a7c2b454",
   "metadata": {},
   "outputs": [],
   "source": [
    "# select your environment\n",
    "environment=\"dev\" # prod or dev\n",
    "\n",
    "# Selector\n",
    "if environment==\"dev\":\n",
    "    backend_endpoint_path=\"https://dev.green-fusion.de/services/energy-management-backend/v1/api\"\n",
    "    realm_type=\"development\"\n",
    "elif environment==\"prod\":\n",
    "    backend_endpoint_path=\"https://control.green-fusion.de/services/energy-management-backend/v1/api\"\n",
    "    realm_type=\"control\"  \n",
    "else:\n",
    "    backend_endpoint_path=\"\"\n",
    "    realm_type=\"\"\n",
    "    print(\"select either prod or dev for the environment\")\n",
    "\n",
    "#test\n",
    "#backend_endpoint_path, realm_type\n",
    "if True:\n",
    "    # pythpon client auth & login\n",
    "    # init the client   \n",
    "    client = BackendPythonClient(backend_endpoint=backend_endpoint_path,)\n",
    "    \n",
    "    #login\n",
    "    client.login(\n",
    "        auth_endpoint=\"https://auth.green-fusion.de\",\n",
    "        realm=realm_type,\n",
    "        client_id=\"backend_python_client\", # backend_python_client, datascience_development_api\n",
    "        grant_type=\"device_code\", #\"client_credentials\",  # or \"password\", \"device_code\"\n",
    "    )"
   ]
  },
  {
   "cell_type": "code",
   "execution_count": 3,
   "id": "77d42218-f9bc-4732-a9bb-184ee7b2b8b6",
   "metadata": {},
   "outputs": [],
   "source": [
    "if False:\n",
    "    # pythpon client auth & login\n",
    "    # init the client   \n",
    "    client = BackendPythonClient(backend_endpoint=\"https://control.green-fusion.de/services/energy-management-backend/v1/api\", )\n",
    "    \n",
    "    #login\n",
    "    client.login(\n",
    "        auth_endpoint=\"https://auth.green-fusion.de\",\n",
    "        realm=\"control\",\n",
    "        client_id=\"backend_python_client\", # backend_python_client, datascience_development_api\n",
    "        grant_type=\"device_code\", #\"client_credentials\",  # or \"password\", \"device_code\"\n",
    "    )"
   ]
  },
  {
   "cell_type": "code",
   "execution_count": null,
   "id": "87dc4c34-92cb-43f0-9a70-2c821180871c",
   "metadata": {},
   "outputs": [],
   "source": []
  },
  {
   "cell_type": "markdown",
   "id": "0e4fb75d-9dfb-4574-8c7e-c084277bca8b",
   "metadata": {},
   "source": [
    "# Functions"
   ]
  },
  {
   "cell_type": "code",
   "execution_count": 4,
   "id": "bb118e22-71b5-4df4-9002-94bbadf3d056",
   "metadata": {},
   "outputs": [],
   "source": [
    "def get_buildings_df(client, customers):\n",
    "    \"\"\"\n",
    "    Loop through all customers, fetch their buildings, and build a DataFrame where each row contains:\n",
    "      - building_id, customerID, address, city, atvise_display_name, base,\n",
    "      - heatingType, heatingSurface, access_key, nickname, postal_code, gui_name,\n",
    "      - coordinates, CustomerAlias gfid,\n",
    "      - LayoutID (extracted from modular_system)\n",
    "    \"\"\"\n",
    "    try:\n",
    "        data = []\n",
    "        for c in customers:\n",
    "            # Configure the client for this customer\n",
    "            customer_id = c.id\n",
    "            client.configure(customer_id=customer_id)\n",
    "            \n",
    "            # Get the buildings for this customer (returns a BuildingsResponseDto)\n",
    "            c_buildings = client.buildings.get_buildings()\n",
    "            building_list = getattr(c_buildings, 'buildings', [])\n",
    "            \n",
    "            for b in building_list:\n",
    "                # Extract building fields (using attribute access)\n",
    "                building_id        = getattr(b, 'building_id', None)\n",
    "                customerID         = getattr(b, 'customerID', None)\n",
    "                address            = getattr(b, 'address', None)\n",
    "                city               = getattr(b, 'city', None)\n",
    "                atvise_display_name= getattr(b, 'atvise_display_name', None)\n",
    "                base               = getattr(b, 'base', None)\n",
    "                heatingType        = getattr(b, 'heatingType', None)\n",
    "                heatingSurface     = getattr(b, 'heatingSurface', None)\n",
    "                access_key         = getattr(b, 'access_key', None)\n",
    "                nickname           = getattr(b, 'nickname', None)\n",
    "                postal_code        = getattr(b, 'postal_code', None)\n",
    "                gui_name           = getattr(b, 'gui_name', None)\n",
    "                coordinates        = getattr(b, 'coordinates', None)\n",
    "                CustomerAlias      = getattr(b, 'CustomerAlias', None)\n",
    "                gfid               = getattr(b, 'gfid', None)\n",
    "                \n",
    "                # Parse the modular_system JSON and extract layoutID\n",
    "                modular_system_str = getattr(b, 'modular_system', None)\n",
    "                LayoutID = None\n",
    "                if modular_system_str:\n",
    "                    try:\n",
    "                        modular_system = json.loads(modular_system_str)\n",
    "                        LayoutID = modular_system.get('layoutID', None)\n",
    "                    except json.JSONDecodeError:\n",
    "                        LayoutID = None\n",
    "\n",
    "                data.append({\n",
    "                    \"building_id\": building_id,\n",
    "                    \"customerID\": customerID,\n",
    "                    \"address\": address,\n",
    "                    \"city\": city,\n",
    "                    \"atvise_display_name\": atvise_display_name,\n",
    "                    \"base\": base,\n",
    "                    \"heatingType\": heatingType,\n",
    "                    \"heatingSurface\": heatingSurface,\n",
    "                    \"access_key\": access_key,\n",
    "                    \"nickname\": nickname,\n",
    "                    \"postal_code\": postal_code,\n",
    "                    \"gui_name\": gui_name,\n",
    "                    \"coordinates\": coordinates,\n",
    "                    \"CustomerAlias\": CustomerAlias,\n",
    "                    \"gfid\": gfid,\n",
    "                    \"LayoutID\": LayoutID\n",
    "                })\n",
    "\n",
    "        return pd.DataFrame(data)\n",
    "    \n",
    "    except Exception as e:\n",
    "        print(\"API Call Failed:\", e)\n",
    "        return pd.DataFrame()\n",
    "\n",
    "# Usage:\n",
    "# customers = client.customers.get_list_of_customers()\n",
    "# df = get_buildings_df(client, customers)\n",
    "# print(df.head())"
   ]
  },
  {
   "cell_type": "markdown",
   "id": "a50e35da-51e2-42b1-a89b-b2ac721ea9ed",
   "metadata": {},
   "source": [
    "# usage get_buildings_df"
   ]
  },
  {
   "cell_type": "code",
   "execution_count": 5,
   "id": "40aeed91-efa6-449b-81f1-0f52a2897222",
   "metadata": {},
   "outputs": [],
   "source": [
    "# usage get_buildings_df\n",
    "if True:\n",
    "    # Get customers list (list of dicts)\n",
    "    customers = client.customers.get_list_of_customers()\n",
    "    #build df\n",
    "    df = get_buildings_df(client, customers)\n",
    "    #test\n",
    "    df.head()"
   ]
  },
  {
   "cell_type": "code",
   "execution_count": 6,
   "id": "98593227-398d-4acd-956b-3425ebc10d58",
   "metadata": {},
   "outputs": [
    {
     "data": {
      "text/html": [
       "<div>\n",
       "<style scoped>\n",
       "    .dataframe tbody tr th:only-of-type {\n",
       "        vertical-align: middle;\n",
       "    }\n",
       "\n",
       "    .dataframe tbody tr th {\n",
       "        vertical-align: top;\n",
       "    }\n",
       "\n",
       "    .dataframe thead th {\n",
       "        text-align: right;\n",
       "    }\n",
       "</style>\n",
       "<table border=\"1\" class=\"dataframe\">\n",
       "  <thead>\n",
       "    <tr style=\"text-align: right;\">\n",
       "      <th></th>\n",
       "      <th>building_id</th>\n",
       "      <th>customerID</th>\n",
       "      <th>gfid</th>\n",
       "      <th>LayoutID</th>\n",
       "    </tr>\n",
       "  </thead>\n",
       "  <tbody>\n",
       "    <tr>\n",
       "      <th>0</th>\n",
       "      <td>571</td>\n",
       "      <td>None</td>\n",
       "      <td>GFP-7066</td>\n",
       "      <td>gas:1--gas:2--global-separation-circuit:1--hea...</td>\n",
       "    </tr>\n",
       "    <tr>\n",
       "      <th>1</th>\n",
       "      <td>574</td>\n",
       "      <td>None</td>\n",
       "      <td>GFP-7141</td>\n",
       "      <td>gas:1--gas:2--global-separation-circuit:1--hea...</td>\n",
       "    </tr>\n",
       "    <tr>\n",
       "      <th>2</th>\n",
       "      <td>575</td>\n",
       "      <td>None</td>\n",
       "      <td>GFP-7166</td>\n",
       "      <td>gas:1--gas:2--global-separation-circuit:1--hea...</td>\n",
       "    </tr>\n",
       "    <tr>\n",
       "      <th>3</th>\n",
       "      <td>738</td>\n",
       "      <td>None</td>\n",
       "      <td>GFP-12968</td>\n",
       "      <td>gas:1--gas:2--chp:1--buffer-tank:1--global-sep...</td>\n",
       "    </tr>\n",
       "    <tr>\n",
       "      <th>4</th>\n",
       "      <td>739</td>\n",
       "      <td>None</td>\n",
       "      <td>GFP-12991</td>\n",
       "      <td>gas:1--gas:2--chp:1--buffer-tank:1--global-sep...</td>\n",
       "    </tr>\n",
       "  </tbody>\n",
       "</table>\n",
       "</div>"
      ],
      "text/plain": [
       "   building_id customerID       gfid  \\\n",
       "0          571       None   GFP-7066   \n",
       "1          574       None   GFP-7141   \n",
       "2          575       None   GFP-7166   \n",
       "3          738       None  GFP-12968   \n",
       "4          739       None  GFP-12991   \n",
       "\n",
       "                                            LayoutID  \n",
       "0  gas:1--gas:2--global-separation-circuit:1--hea...  \n",
       "1  gas:1--gas:2--global-separation-circuit:1--hea...  \n",
       "2  gas:1--gas:2--global-separation-circuit:1--hea...  \n",
       "3  gas:1--gas:2--chp:1--buffer-tank:1--global-sep...  \n",
       "4  gas:1--gas:2--chp:1--buffer-tank:1--global-sep...  "
      ]
     },
     "execution_count": 6,
     "metadata": {},
     "output_type": "execute_result"
    }
   ],
   "source": [
    "df[['building_id', 'customerID','gfid','LayoutID']].head()"
   ]
  },
  {
   "cell_type": "markdown",
   "id": "e41c8906-9a6f-4bec-902c-9d1fda52937a",
   "metadata": {
    "scrolled": true
   },
   "source": [
    "# Exports"
   ]
  },
  {
   "cell_type": "code",
   "execution_count": 7,
   "id": "27af5593-74d2-4bb0-937d-6ca7681beba2",
   "metadata": {},
   "outputs": [
    {
     "data": {
      "text/plain": [
       "Index(['building_id', 'customerID', 'address', 'city', 'atvise_display_name',\n",
       "       'base', 'heatingType', 'heatingSurface', 'access_key', 'nickname',\n",
       "       'postal_code', 'gui_name', 'coordinates', 'CustomerAlias', 'gfid',\n",
       "       'LayoutID'],\n",
       "      dtype='object')"
      ]
     },
     "execution_count": 7,
     "metadata": {},
     "output_type": "execute_result"
    }
   ],
   "source": [
    "df.columns"
   ]
  },
  {
   "cell_type": "code",
   "execution_count": 8,
   "id": "d5931114-43df-4e95-b629-f69ef665835c",
   "metadata": {},
   "outputs": [],
   "source": [
    "# get_buildings_df\n",
    "if True:\n",
    "    df[['building_id','customerID', 'address', 'postal_code', 'city', 'atvise_display_name',\n",
    "       'base', 'heatingType', 'heatingSurface', 'nickname', 'gui_name', 'coordinates', 'CustomerAlias', 'gfid',\n",
    "       'LayoutID']].to_csv('data_from_db.csv', index=False)"
   ]
  },
  {
   "cell_type": "code",
   "execution_count": null,
   "id": "befc52e8-e3fb-4720-a632-36afd2fd4ebf",
   "metadata": {},
   "outputs": [],
   "source": []
  },
  {
   "cell_type": "code",
   "execution_count": null,
   "id": "a66598d3-4af5-4a38-9255-6cc95498e274",
   "metadata": {},
   "outputs": [],
   "source": []
  }
 ],
 "metadata": {
  "kernelspec": {
   "display_name": "Python 3 (ipykernel)",
   "language": "python",
   "name": "python3"
  },
  "language_info": {
   "codemirror_mode": {
    "name": "ipython",
    "version": 3
   },
   "file_extension": ".py",
   "mimetype": "text/x-python",
   "name": "python",
   "nbconvert_exporter": "python",
   "pygments_lexer": "ipython3",
   "version": "3.12.10"
  }
 },
 "nbformat": 4,
 "nbformat_minor": 5
}
