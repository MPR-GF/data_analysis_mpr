{
 "cells": [
  {
   "cell_type": "markdown",
   "id": "2cde8c3b-78b4-4ac9-9b4b-06d01c1b2a73",
   "metadata": {},
   "source": [
    "# Get data from the python client"
   ]
  },
  {
   "cell_type": "markdown",
   "id": "33c8cb17-e8f9-40da-a6a6-4facfe6d7bc7",
   "metadata": {},
   "source": [
    "## Relevant documents"
   ]
  },
  {
   "cell_type": "markdown",
   "id": "d4b1fbd9-6220-4d26-a9a2-ee428b1187f8",
   "metadata": {},
   "source": [
    "- (Python Client Repo)[https://github.com/Green-Fusion/energy-management-backend/tree/main/python_client]\n",
    "- (Swagger UI)[https://control.green-fusion.de/services/energy-management-backend/v1/api/doc#/]\n"
   ]
  },
  {
   "cell_type": "markdown",
   "id": "6f43af12-eb62-4d19-8a9a-7730f3be834f",
   "metadata": {},
   "source": [
    "## Inits"
   ]
  },
  {
   "cell_type": "code",
   "execution_count": 1,
   "id": "7a18f22c-fe80-4183-a62e-e2d68a0c4f1a",
   "metadata": {},
   "outputs": [],
   "source": [
    "#imports\n",
    "from energy_management_client import BackendPythonClient\n",
    "import pandas as pd\n",
    "import json\n",
    "from datetime import datetime"
   ]
  },
  {
   "cell_type": "code",
   "execution_count": 3,
   "id": "123a61cb-760c-4ef4-abb5-6fb2a7c2b454",
   "metadata": {},
   "outputs": [],
   "source": [
    "# select your environment\n",
    "environment=\"prod\" # prod or dev\n",
    "\n",
    "# Selector\n",
    "if environment==\"dev\":\n",
    "    backend_endpoint_path=\"https://dev.green-fusion.de/services/energy-management-backend/v1/api\"\n",
    "    realm_type=\"development\"\n",
    "elif environment==\"prod\":\n",
    "    backend_endpoint_path=\"https://control.green-fusion.de/services/energy-management-backend/v1/api\"\n",
    "    realm_type=\"control\"  \n",
    "else:\n",
    "    backend_endpoint_path=\"\"\n",
    "    realm_type=\"\"\n",
    "    print(\"select either prod or dev for the environment\")\n",
    "\n",
    "#test\n",
    "#backend_endpoint_path, realm_type\n",
    "if True:\n",
    "    # pythpon client auth & login\n",
    "    # init the client   \n",
    "    client = BackendPythonClient(backend_endpoint=backend_endpoint_path,)\n",
    "    \n",
    "    #login\n",
    "    client.login(\n",
    "        auth_endpoint=\"https://auth.green-fusion.de\",\n",
    "        realm=realm_type,\n",
    "        client_id=\"backend_python_client\", # backend_python_client, datascience_development_api\n",
    "        grant_type=\"device_code\", #\"client_credentials\",  # or \"password\", \"device_code\"\n",
    "    )"
   ]
  },
  {
   "cell_type": "markdown",
   "id": "0e4fb75d-9dfb-4574-8c7e-c084277bca8b",
   "metadata": {},
   "source": [
    "## Functions"
   ]
  },
  {
   "cell_type": "markdown",
   "id": "62a018da-97aa-4d54-b7e1-3117b70dc11d",
   "metadata": {},
   "source": [
    "### buildings"
   ]
  },
  {
   "cell_type": "code",
   "execution_count": 4,
   "id": "64e729b4-6944-409b-850c-d5d3ddfc2605",
   "metadata": {},
   "outputs": [],
   "source": [
    "def get_buildings_df(client, customers):\n",
    "    \"\"\"\n",
    "    Loop through all customers, fetch their buildings, and build a DataFrame where each row contains:\n",
    "      - building_id, customerID, address, city, atvise_display_name, base,\n",
    "      - heatingType, heatingSurface, access_key, nickname, postal_code, gui_name,\n",
    "      - coordinates, CustomerAlias gfid,\n",
    "      - LayoutID (extracted from modular_system)\n",
    "\n",
    "    # Usage:\n",
    "    # customers = client.customers.get_list_of_customers()\n",
    "    # df = get_buildings_df(client, customers)\n",
    "    # print(df.head())\n",
    "    \"\"\"\n",
    "    try:\n",
    "        data = []\n",
    "        for c in customers:\n",
    "            # Configure the client for this customer\n",
    "            customer_id = c.id\n",
    "            customer_name = getattr(c, 'name', None)  # <-- Extract customer name\n",
    "            client.configure(customer_id=customer_id)\n",
    "            \n",
    "            # Get the buildings for this customer (returns a BuildingsResponseDto)\n",
    "            c_buildings = client.buildings.get_buildings()\n",
    "            building_list = getattr(c_buildings, 'buildings', [])\n",
    "            \n",
    "            for b in building_list:\n",
    "                # Extract building fields (using attribute access)\n",
    "                building_id        = getattr(b, 'building_id', None)\n",
    "                customerID         = getattr(b, 'customerID', None)\n",
    "                address            = getattr(b, 'address', None)\n",
    "                city               = getattr(b, 'city', None)\n",
    "                atvise_display_name= getattr(b, 'atvise_display_name', None)\n",
    "                base               = getattr(b, 'base', None)\n",
    "                heatingType        = getattr(b, 'heatingType', None)\n",
    "                heatingSurface     = getattr(b, 'heatingSurface', None)\n",
    "                access_key         = getattr(b, 'access_key', None)\n",
    "                nickname           = getattr(b, 'nickname', None)\n",
    "                postal_code        = getattr(b, 'postal_code', None)\n",
    "                gui_name           = getattr(b, 'gui_name', None)\n",
    "                coordinates        = getattr(b, 'coordinates', None)\n",
    "                CustomerAlias      = getattr(b, 'CustomerAlias', None)\n",
    "                gfid               = getattr(b, 'gfid', None)\n",
    "                \n",
    "                # Parse the modular_system JSON and extract layoutID\n",
    "                modular_system_str = getattr(b, 'modular_system', None)\n",
    "                LayoutID = None\n",
    "                if modular_system_str:\n",
    "                    try:\n",
    "                        modular_system = json.loads(modular_system_str)\n",
    "                        LayoutID = modular_system.get('layoutID', None)\n",
    "                    except json.JSONDecodeError:\n",
    "                        LayoutID = None\n",
    "\n",
    "                data.append({\n",
    "                    \"building_id\": building_id,\n",
    "                    \"customer_name\": customer_name,  # <-- Add here\n",
    "                    \"customerID\": customerID,\n",
    "                    \"address\": address,\n",
    "                    \"city\": city,\n",
    "                    \"atvise_display_name\": atvise_display_name,\n",
    "                    \"base\": base,\n",
    "                    \"heatingType\": heatingType,\n",
    "                    \"heatingSurface\": heatingSurface,\n",
    "                    \"access_key\": access_key,\n",
    "                    \"nickname\": nickname,\n",
    "                    \"postal_code\": postal_code,\n",
    "                    \"gui_name\": gui_name,\n",
    "                    \"coordinates\": coordinates,\n",
    "                    \"CustomerAlias\": CustomerAlias,\n",
    "                    \"gfid\": gfid,\n",
    "                    \"LayoutID\": LayoutID\n",
    "                })\n",
    "\n",
    "        return pd.DataFrame(data)\n",
    "    \n",
    "    except Exception as e:\n",
    "        print(\"API Call Failed:\", e)\n",
    "        return pd.DataFrame()"
   ]
  },
  {
   "cell_type": "markdown",
   "id": "18e5b258-38e8-4b3a-9d2e-cfcd78c753b8",
   "metadata": {},
   "source": [
    "### devices"
   ]
  },
  {
   "cell_type": "code",
   "execution_count": 5,
   "id": "638864b3-1df1-493b-bdad-cec0f35cac52",
   "metadata": {},
   "outputs": [],
   "source": [
    "def get_devices(client):\n",
    "    \"\"\"\n",
    "    usage:\n",
    "    list_device=get_devices(client)\n",
    "    list(list_device)\n",
    "    \"\"\"\n",
    "    devices_list=client.devices.get_devices()\n",
    "    devices_list=list(devices_list)[0][1]\n",
    "    device_dicts = [device.__dict__ for device in devices_list]\n",
    "    df_device = pd.DataFrame(device_dicts)\n",
    "    return df_device"
   ]
  },
  {
   "cell_type": "markdown",
   "id": "671f0326-c85f-44c8-b7c8-186fc96238e0",
   "metadata": {},
   "source": [
    "### counters"
   ]
  },
  {
   "cell_type": "code",
   "execution_count": 6,
   "id": "225cb8b6-ad9c-443e-a34c-a92fde66be52",
   "metadata": {},
   "outputs": [],
   "source": [
    "def get_counters(client,ID):\n",
    "    \"\"\"\n",
    "    usage:\n",
    "    counters_list_for_building=get_counters(client,122)\n",
    "    \"\"\"\n",
    "    counters_list=client.buildings.get_counters(ID)\n",
    "    return counters_list\n",
    "\n",
    "def get_counters2(client, ID):\n",
    "    \"\"\"\n",
    "    Fetch counter data and extract error information.\n",
    "\n",
    "    Returns:\n",
    "        has_error (bool): True if any sensor returns an error.\n",
    "        error_info (dict): {sensor_id: {'error': str, 'first_occurrence': datetime, 'last_occurrence': datetime}}\n",
    "    example:\n",
    "        get_counters2(client,122)\n",
    "    \"\"\"\n",
    "    counters_list = client.buildings.get_counters(ID)\n",
    "\n",
    "    error_info = {}\n",
    "\n",
    "    for counter in counters_list:\n",
    "        if counter.error and counter.error.strip().lower() != 'none':\n",
    "            sensor_id = counter.sensor_id\n",
    "            ref_date = counter.reference_date\n",
    "\n",
    "            if sensor_id not in error_info:\n",
    "                error_info[sensor_id] = {\n",
    "                    'error': counter.error,\n",
    "                    'first_occurrence': ref_date,\n",
    "                    'last_occurrence': ref_date,\n",
    "                    'short_name': counter.short_name,\n",
    "                    'long_name': counter.long_name,\n",
    "                    'hydraulic_location_index': counter.hydraulic_location_index\n",
    "                }\n",
    "            else:\n",
    "                if ref_date < error_info[sensor_id]['first_occurrence']:\n",
    "                    error_info[sensor_id]['first_occurrence'] = ref_date\n",
    "                if ref_date > error_info[sensor_id]['last_occurrence']:\n",
    "                    error_info[sensor_id]['last_occurrence'] = ref_date\n",
    "\n",
    "    has_error = len(error_info) > 0\n",
    "    return has_error, error_info"
   ]
  },
  {
   "cell_type": "code",
   "execution_count": 7,
   "id": "e37abe2b-41c8-45a8-b772-a7e8a46aa5e3",
   "metadata": {},
   "outputs": [],
   "source": [
    "#get_counters2(client,122)"
   ]
  },
  {
   "cell_type": "markdown",
   "id": "a50e35da-51e2-42b1-a89b-b2ac721ea9ed",
   "metadata": {},
   "source": [
    "## get_buildings_df"
   ]
  },
  {
   "cell_type": "code",
   "execution_count": 8,
   "id": "40aeed91-efa6-449b-81f1-0f52a2897222",
   "metadata": {},
   "outputs": [
    {
     "data": {
      "text/html": [
       "<div>\n",
       "<style scoped>\n",
       "    .dataframe tbody tr th:only-of-type {\n",
       "        vertical-align: middle;\n",
       "    }\n",
       "\n",
       "    .dataframe tbody tr th {\n",
       "        vertical-align: top;\n",
       "    }\n",
       "\n",
       "    .dataframe thead th {\n",
       "        text-align: right;\n",
       "    }\n",
       "</style>\n",
       "<table border=\"1\" class=\"dataframe\">\n",
       "  <thead>\n",
       "    <tr style=\"text-align: right;\">\n",
       "      <th></th>\n",
       "      <th>building_id</th>\n",
       "      <th>customer_name</th>\n",
       "      <th>customerID</th>\n",
       "      <th>address</th>\n",
       "      <th>city</th>\n",
       "      <th>atvise_display_name</th>\n",
       "      <th>base</th>\n",
       "      <th>heatingType</th>\n",
       "      <th>heatingSurface</th>\n",
       "      <th>access_key</th>\n",
       "      <th>nickname</th>\n",
       "      <th>postal_code</th>\n",
       "      <th>gui_name</th>\n",
       "      <th>coordinates</th>\n",
       "      <th>CustomerAlias</th>\n",
       "      <th>gfid</th>\n",
       "      <th>LayoutID</th>\n",
       "    </tr>\n",
       "  </thead>\n",
       "  <tbody>\n",
       "    <tr>\n",
       "      <th>0</th>\n",
       "      <td>756</td>\n",
       "      <td>HwS</td>\n",
       "      <td>None</td>\n",
       "      <td>Wolzogenstr.28</td>\n",
       "      <td>Berlin</td>\n",
       "      <td>None</td>\n",
       "      <td>None</td>\n",
       "      <td>None</td>\n",
       "      <td>None</td>\n",
       "      <td>&amp;atvise_key=91e70eae-b284-4fd4-b124-72b76d4f71...</td>\n",
       "      <td>None</td>\n",
       "      <td>14163</td>\n",
       "      <td>Hilfswerk-Siedlung GmbH</td>\n",
       "      <td>[52.432631, 13.234862]</td>\n",
       "      <td>None</td>\n",
       "      <td>GFP-12505</td>\n",
       "      <td>gas:1--gas:2--heating-circuit:1--heating-circu...</td>\n",
       "    </tr>\n",
       "    <tr>\n",
       "      <th>1</th>\n",
       "      <td>757</td>\n",
       "      <td>HwS</td>\n",
       "      <td>None</td>\n",
       "      <td>Hagelberger Str. 26</td>\n",
       "      <td>Berlin</td>\n",
       "      <td>None</td>\n",
       "      <td>None</td>\n",
       "      <td>None</td>\n",
       "      <td>None</td>\n",
       "      <td>&amp;atvise_key=91e70eae-b284-4fd4-b124-72b76d4f71...</td>\n",
       "      <td>None</td>\n",
       "      <td>10965</td>\n",
       "      <td>Hilfswerk-Siedlung GmbH</td>\n",
       "      <td>[52.491932, 13.379842]</td>\n",
       "      <td>None</td>\n",
       "      <td>GFP-13438</td>\n",
       "      <td>gas:1--gas:2--heating-circuit:1</td>\n",
       "    </tr>\n",
       "    <tr>\n",
       "      <th>2</th>\n",
       "      <td>758</td>\n",
       "      <td>HwS</td>\n",
       "      <td>None</td>\n",
       "      <td>Hochstr. 8</td>\n",
       "      <td>Berlin</td>\n",
       "      <td>None</td>\n",
       "      <td>None</td>\n",
       "      <td>None</td>\n",
       "      <td>None</td>\n",
       "      <td>&amp;atvise_key=91e70eae-b284-4fd4-b124-72b76d4f71...</td>\n",
       "      <td>None</td>\n",
       "      <td>13357</td>\n",
       "      <td>Hilfswerk-Siedlung GmbH</td>\n",
       "      <td>[52.54765, 13.381522]</td>\n",
       "      <td>None</td>\n",
       "      <td>GFP-12475</td>\n",
       "      <td>gas:1--heating-circuit:1</td>\n",
       "    </tr>\n",
       "    <tr>\n",
       "      <th>3</th>\n",
       "      <td>759</td>\n",
       "      <td>HwS</td>\n",
       "      <td>None</td>\n",
       "      <td>Planufer 82a</td>\n",
       "      <td>Berlin</td>\n",
       "      <td>None</td>\n",
       "      <td>None</td>\n",
       "      <td>None</td>\n",
       "      <td>None</td>\n",
       "      <td>&amp;atvise_key=91e70eae-b284-4fd4-b124-72b76d4f71...</td>\n",
       "      <td>None</td>\n",
       "      <td>10967</td>\n",
       "      <td>Hilfswerk-Siedlung GmbH</td>\n",
       "      <td>[52.494745, 13.413277]</td>\n",
       "      <td>None</td>\n",
       "      <td>GFP-12530</td>\n",
       "      <td>gas:1--heating-circuit:1</td>\n",
       "    </tr>\n",
       "    <tr>\n",
       "      <th>4</th>\n",
       "      <td>761</td>\n",
       "      <td>HwS</td>\n",
       "      <td>None</td>\n",
       "      <td>Gabainstr. 13</td>\n",
       "      <td>Berlin</td>\n",
       "      <td>None</td>\n",
       "      <td>None</td>\n",
       "      <td>None</td>\n",
       "      <td>None</td>\n",
       "      <td>&amp;atvise_key=91e70eae-b284-4fd4-b124-72b76d4f71...</td>\n",
       "      <td>None</td>\n",
       "      <td>12247</td>\n",
       "      <td>Hilfswerk-Siedlung GmbH</td>\n",
       "      <td>[52.436169, 13.360646]</td>\n",
       "      <td>None</td>\n",
       "      <td>GFP-12605</td>\n",
       "      <td>gas:1--gas:2--global-separation-circuit:1--hea...</td>\n",
       "    </tr>\n",
       "  </tbody>\n",
       "</table>\n",
       "</div>"
      ],
      "text/plain": [
       "   building_id customer_name customerID              address    city  \\\n",
       "0          756           HwS       None       Wolzogenstr.28  Berlin   \n",
       "1          757           HwS       None  Hagelberger Str. 26  Berlin   \n",
       "2          758           HwS       None           Hochstr. 8  Berlin   \n",
       "3          759           HwS       None         Planufer 82a  Berlin   \n",
       "4          761           HwS       None        Gabainstr. 13  Berlin   \n",
       "\n",
       "  atvise_display_name  base heatingType heatingSurface  \\\n",
       "0                None  None        None           None   \n",
       "1                None  None        None           None   \n",
       "2                None  None        None           None   \n",
       "3                None  None        None           None   \n",
       "4                None  None        None           None   \n",
       "\n",
       "                                          access_key nickname postal_code  \\\n",
       "0  &atvise_key=91e70eae-b284-4fd4-b124-72b76d4f71...     None       14163   \n",
       "1  &atvise_key=91e70eae-b284-4fd4-b124-72b76d4f71...     None       10965   \n",
       "2  &atvise_key=91e70eae-b284-4fd4-b124-72b76d4f71...     None       13357   \n",
       "3  &atvise_key=91e70eae-b284-4fd4-b124-72b76d4f71...     None       10967   \n",
       "4  &atvise_key=91e70eae-b284-4fd4-b124-72b76d4f71...     None       12247   \n",
       "\n",
       "                  gui_name             coordinates CustomerAlias       gfid  \\\n",
       "0  Hilfswerk-Siedlung GmbH  [52.432631, 13.234862]          None  GFP-12505   \n",
       "1  Hilfswerk-Siedlung GmbH  [52.491932, 13.379842]          None  GFP-13438   \n",
       "2  Hilfswerk-Siedlung GmbH   [52.54765, 13.381522]          None  GFP-12475   \n",
       "3  Hilfswerk-Siedlung GmbH  [52.494745, 13.413277]          None  GFP-12530   \n",
       "4  Hilfswerk-Siedlung GmbH  [52.436169, 13.360646]          None  GFP-12605   \n",
       "\n",
       "                                            LayoutID  \n",
       "0  gas:1--gas:2--heating-circuit:1--heating-circu...  \n",
       "1                    gas:1--gas:2--heating-circuit:1  \n",
       "2                           gas:1--heating-circuit:1  \n",
       "3                           gas:1--heating-circuit:1  \n",
       "4  gas:1--gas:2--global-separation-circuit:1--hea...  "
      ]
     },
     "execution_count": 8,
     "metadata": {},
     "output_type": "execute_result"
    }
   ],
   "source": [
    "# Get customers list (list of dicts)\n",
    "customers = client.customers.get_list_of_customers()\n",
    "#build df\n",
    "df_buildings = get_buildings_df(client, customers)\n",
    "#test\n",
    "df_buildings.head()"
   ]
  },
  {
   "cell_type": "code",
   "execution_count": 9,
   "id": "98593227-398d-4acd-956b-3425ebc10d58",
   "metadata": {},
   "outputs": [
    {
     "data": {
      "text/html": [
       "<div>\n",
       "<style scoped>\n",
       "    .dataframe tbody tr th:only-of-type {\n",
       "        vertical-align: middle;\n",
       "    }\n",
       "\n",
       "    .dataframe tbody tr th {\n",
       "        vertical-align: top;\n",
       "    }\n",
       "\n",
       "    .dataframe thead th {\n",
       "        text-align: right;\n",
       "    }\n",
       "</style>\n",
       "<table border=\"1\" class=\"dataframe\">\n",
       "  <thead>\n",
       "    <tr style=\"text-align: right;\">\n",
       "      <th></th>\n",
       "      <th>building_id</th>\n",
       "      <th>customerID</th>\n",
       "      <th>gfid</th>\n",
       "      <th>LayoutID</th>\n",
       "    </tr>\n",
       "  </thead>\n",
       "  <tbody>\n",
       "    <tr>\n",
       "      <th>0</th>\n",
       "      <td>756</td>\n",
       "      <td>None</td>\n",
       "      <td>GFP-12505</td>\n",
       "      <td>gas:1--gas:2--heating-circuit:1--heating-circu...</td>\n",
       "    </tr>\n",
       "    <tr>\n",
       "      <th>1</th>\n",
       "      <td>757</td>\n",
       "      <td>None</td>\n",
       "      <td>GFP-13438</td>\n",
       "      <td>gas:1--gas:2--heating-circuit:1</td>\n",
       "    </tr>\n",
       "    <tr>\n",
       "      <th>2</th>\n",
       "      <td>758</td>\n",
       "      <td>None</td>\n",
       "      <td>GFP-12475</td>\n",
       "      <td>gas:1--heating-circuit:1</td>\n",
       "    </tr>\n",
       "    <tr>\n",
       "      <th>3</th>\n",
       "      <td>759</td>\n",
       "      <td>None</td>\n",
       "      <td>GFP-12530</td>\n",
       "      <td>gas:1--heating-circuit:1</td>\n",
       "    </tr>\n",
       "    <tr>\n",
       "      <th>4</th>\n",
       "      <td>761</td>\n",
       "      <td>None</td>\n",
       "      <td>GFP-12605</td>\n",
       "      <td>gas:1--gas:2--global-separation-circuit:1--hea...</td>\n",
       "    </tr>\n",
       "  </tbody>\n",
       "</table>\n",
       "</div>"
      ],
      "text/plain": [
       "   building_id customerID       gfid  \\\n",
       "0          756       None  GFP-12505   \n",
       "1          757       None  GFP-13438   \n",
       "2          758       None  GFP-12475   \n",
       "3          759       None  GFP-12530   \n",
       "4          761       None  GFP-12605   \n",
       "\n",
       "                                            LayoutID  \n",
       "0  gas:1--gas:2--heating-circuit:1--heating-circu...  \n",
       "1                    gas:1--gas:2--heating-circuit:1  \n",
       "2                           gas:1--heating-circuit:1  \n",
       "3                           gas:1--heating-circuit:1  \n",
       "4  gas:1--gas:2--global-separation-circuit:1--hea...  "
      ]
     },
     "execution_count": 9,
     "metadata": {},
     "output_type": "execute_result"
    }
   ],
   "source": [
    "df_buildings[['building_id', 'customerID','gfid','LayoutID']].head()"
   ]
  },
  {
   "cell_type": "code",
   "execution_count": 10,
   "id": "12268c50-dde6-4ec8-97f8-86ffa077c92e",
   "metadata": {},
   "outputs": [
    {
     "data": {
      "text/plain": [
       "building_id            1938\n",
       "customer_name          1938\n",
       "customerID                0\n",
       "address                1938\n",
       "city                   1923\n",
       "atvise_display_name      13\n",
       "base                     13\n",
       "heatingType               0\n",
       "heatingSurface            0\n",
       "access_key             1938\n",
       "nickname                216\n",
       "postal_code            1923\n",
       "gui_name               1938\n",
       "coordinates            1938\n",
       "CustomerAlias             0\n",
       "gfid                   1478\n",
       "LayoutID               1098\n",
       "dtype: int64"
      ]
     },
     "execution_count": 10,
     "metadata": {},
     "output_type": "execute_result"
    }
   ],
   "source": [
    "df_buildings.count()"
   ]
  },
  {
   "cell_type": "markdown",
   "id": "9ec6d2c6-4fff-4b88-abbd-69ae7ed83167",
   "metadata": {},
   "source": [
    "## get devices"
   ]
  },
  {
   "cell_type": "code",
   "execution_count": 11,
   "id": "a704d5c4-3c0d-4d25-83b5-d1e9fcba844d",
   "metadata": {},
   "outputs": [],
   "source": [
    "df_devices=get_devices(client)\n",
    "df_devices = df_devices.rename(columns={\"type\": \"device_type\"})"
   ]
  },
  {
   "cell_type": "code",
   "execution_count": 12,
   "id": "18f48363-e005-4c0e-83aa-74c22092cfb1",
   "metadata": {
    "scrolled": true
   },
   "outputs": [
    {
     "data": {
      "text/html": [
       "<div>\n",
       "<style scoped>\n",
       "    .dataframe tbody tr th:only-of-type {\n",
       "        vertical-align: middle;\n",
       "    }\n",
       "\n",
       "    .dataframe tbody tr th {\n",
       "        vertical-align: top;\n",
       "    }\n",
       "\n",
       "    .dataframe thead th {\n",
       "        text-align: right;\n",
       "    }\n",
       "</style>\n",
       "<table border=\"1\" class=\"dataframe\">\n",
       "  <thead>\n",
       "    <tr style=\"text-align: right;\">\n",
       "      <th></th>\n",
       "      <th>device_type</th>\n",
       "      <th>building_id</th>\n",
       "      <th>device_id</th>\n",
       "    </tr>\n",
       "  </thead>\n",
       "  <tbody>\n",
       "    <tr>\n",
       "      <th>0</th>\n",
       "      <td>RUT956</td>\n",
       "      <td>393</td>\n",
       "      <td>23515803</td>\n",
       "    </tr>\n",
       "    <tr>\n",
       "      <th>1</th>\n",
       "      <td>RUT956</td>\n",
       "      <td>444</td>\n",
       "      <td>bbulentze107</td>\n",
       "    </tr>\n",
       "    <tr>\n",
       "      <th>2</th>\n",
       "      <td>RUT956</td>\n",
       "      <td>627</td>\n",
       "      <td>2351004</td>\n",
       "    </tr>\n",
       "    <tr>\n",
       "      <th>3</th>\n",
       "      <td>RUT956</td>\n",
       "      <td>563</td>\n",
       "      <td>2351007</td>\n",
       "    </tr>\n",
       "    <tr>\n",
       "      <th>4</th>\n",
       "      <td>RUT956</td>\n",
       "      <td>533</td>\n",
       "      <td>2346008</td>\n",
       "    </tr>\n",
       "  </tbody>\n",
       "</table>\n",
       "</div>"
      ],
      "text/plain": [
       "  device_type  building_id     device_id\n",
       "0      RUT956          393      23515803\n",
       "1      RUT956          444  bbulentze107\n",
       "2      RUT956          627       2351004\n",
       "3      RUT956          563       2351007\n",
       "4      RUT956          533       2346008"
      ]
     },
     "execution_count": 12,
     "metadata": {},
     "output_type": "execute_result"
    }
   ],
   "source": [
    "df_devices.head()"
   ]
  },
  {
   "cell_type": "code",
   "execution_count": 13,
   "id": "53bd4271-3acd-412f-b0d3-e9bd1c60a150",
   "metadata": {},
   "outputs": [
    {
     "data": {
      "text/plain": [
       "device_type    1066\n",
       "building_id    1066\n",
       "device_id      1066\n",
       "dtype: int64"
      ]
     },
     "execution_count": 13,
     "metadata": {},
     "output_type": "execute_result"
    }
   ],
   "source": [
    "df_devices.count()"
   ]
  },
  {
   "cell_type": "markdown",
   "id": "400426f6-96f3-480d-9ac0-43bc89299ba5",
   "metadata": {},
   "source": [
    "## Merge Dfs"
   ]
  },
  {
   "cell_type": "code",
   "execution_count": 14,
   "id": "63876982-cb52-4392-b672-7d8e0446751b",
   "metadata": {},
   "outputs": [],
   "source": [
    "# Merge the two DataFrames on building_id\n",
    "df_merged = df_buildings.merge(\n",
    "    df_devices[['building_id', 'device_type', 'device_id']],\n",
    "    on='building_id',\n",
    "    how='left'  # ensures all rows from df_buildings are kept\n",
    ")"
   ]
  },
  {
   "cell_type": "code",
   "execution_count": 15,
   "id": "57f5bfbf-46d1-4143-85c1-e207e58b214b",
   "metadata": {},
   "outputs": [
    {
     "data": {
      "text/plain": [
       "Index(['building_id', 'customer_name', 'customerID', 'address', 'city',\n",
       "       'atvise_display_name', 'base', 'heatingType', 'heatingSurface',\n",
       "       'access_key', 'nickname', 'postal_code', 'gui_name', 'coordinates',\n",
       "       'CustomerAlias', 'gfid', 'LayoutID', 'device_type', 'device_id'],\n",
       "      dtype='object')"
      ]
     },
     "execution_count": 15,
     "metadata": {},
     "output_type": "execute_result"
    }
   ],
   "source": [
    "df_merged.columns"
   ]
  },
  {
   "cell_type": "markdown",
   "id": "e41c8906-9a6f-4bec-902c-9d1fda52937a",
   "metadata": {
    "scrolled": true
   },
   "source": [
    "## Exports df to csv"
   ]
  },
  {
   "cell_type": "code",
   "execution_count": 16,
   "id": "27af5593-74d2-4bb0-937d-6ca7681beba2",
   "metadata": {},
   "outputs": [
    {
     "name": "stdout",
     "output_type": "stream",
     "text": [
      "['building_id', 'customer_name', 'customerID', 'address', 'city', 'atvise_display_name', 'base', 'heatingType', 'heatingSurface', 'access_key', 'nickname', 'postal_code', 'gui_name', 'coordinates', 'CustomerAlias', 'gfid', 'LayoutID', 'device_type', 'device_id']\n"
     ]
    }
   ],
   "source": [
    "if True:\n",
    "    print(list(df_merged.columns))"
   ]
  },
  {
   "cell_type": "code",
   "execution_count": 17,
   "id": "d5931114-43df-4e95-b629-f69ef665835c",
   "metadata": {},
   "outputs": [],
   "source": [
    "# get_buildings_df\n",
    "if True:\n",
    "    today_str = datetime.today().strftime('%Y-%m-%d')\n",
    "    filename = f\"data_from_db_{today_str}.csv\"\n",
    "    df_merged[['building_id',\n",
    "               'customer_name',\n",
    "               'address',\n",
    "               'postal_code',\n",
    "               'city',\n",
    "               'heatingType',\n",
    "               'heatingSurface',\n",
    "               'coordinates',\n",
    "               'gfid',\n",
    "               'LayoutID',\n",
    "               'device_type',\n",
    "               'device_id']].to_csv(filename, index=False)"
   ]
  }
 ],
 "metadata": {
  "kernelspec": {
   "display_name": "Python 3 (ipykernel)",
   "language": "python",
   "name": "python3"
  },
  "language_info": {
   "codemirror_mode": {
    "name": "ipython",
    "version": 3
   },
   "file_extension": ".py",
   "mimetype": "text/x-python",
   "name": "python",
   "nbconvert_exporter": "python",
   "pygments_lexer": "ipython3",
   "version": "3.12.10"
  }
 },
 "nbformat": 4,
 "nbformat_minor": 5
}
